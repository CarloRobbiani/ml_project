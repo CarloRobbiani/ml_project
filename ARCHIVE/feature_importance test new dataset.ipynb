{
 "cells": [
  {
   "cell_type": "markdown",
   "metadata": {},
   "source": [
    "In this notebook we use the randomforest to predict feature importance using various implementations of feature importance."
   ]
  },
  {
   "cell_type": "code",
   "execution_count": 23,
   "metadata": {},
   "outputs": [
    {
     "data": {
      "text/html": [
       "<div>\n",
       "<style scoped>\n",
       "    .dataframe tbody tr th:only-of-type {\n",
       "        vertical-align: middle;\n",
       "    }\n",
       "\n",
       "    .dataframe tbody tr th {\n",
       "        vertical-align: top;\n",
       "    }\n",
       "\n",
       "    .dataframe thead th {\n",
       "        text-align: right;\n",
       "    }\n",
       "</style>\n",
       "<table border=\"1\" class=\"dataframe\">\n",
       "  <thead>\n",
       "    <tr style=\"text-align: right;\">\n",
       "      <th></th>\n",
       "      <th>Age</th>\n",
       "      <th>Gender</th>\n",
       "      <th>Education Level</th>\n",
       "      <th>Job Title</th>\n",
       "      <th>Years of Experience</th>\n",
       "      <th>Salary</th>\n",
       "    </tr>\n",
       "  </thead>\n",
       "  <tbody>\n",
       "    <tr>\n",
       "      <th>0</th>\n",
       "      <td>32.0</td>\n",
       "      <td>Male</td>\n",
       "      <td>Bachelor's</td>\n",
       "      <td>Software Engineer</td>\n",
       "      <td>5.0</td>\n",
       "      <td>90000.0</td>\n",
       "    </tr>\n",
       "    <tr>\n",
       "      <th>1</th>\n",
       "      <td>28.0</td>\n",
       "      <td>Female</td>\n",
       "      <td>Master's</td>\n",
       "      <td>Data Analyst</td>\n",
       "      <td>3.0</td>\n",
       "      <td>65000.0</td>\n",
       "    </tr>\n",
       "    <tr>\n",
       "      <th>2</th>\n",
       "      <td>45.0</td>\n",
       "      <td>Male</td>\n",
       "      <td>PhD</td>\n",
       "      <td>Senior Manager</td>\n",
       "      <td>15.0</td>\n",
       "      <td>150000.0</td>\n",
       "    </tr>\n",
       "    <tr>\n",
       "      <th>3</th>\n",
       "      <td>36.0</td>\n",
       "      <td>Female</td>\n",
       "      <td>Bachelor's</td>\n",
       "      <td>Sales Associate</td>\n",
       "      <td>7.0</td>\n",
       "      <td>60000.0</td>\n",
       "    </tr>\n",
       "    <tr>\n",
       "      <th>4</th>\n",
       "      <td>52.0</td>\n",
       "      <td>Male</td>\n",
       "      <td>Master's</td>\n",
       "      <td>Director</td>\n",
       "      <td>20.0</td>\n",
       "      <td>200000.0</td>\n",
       "    </tr>\n",
       "  </tbody>\n",
       "</table>\n",
       "</div>"
      ],
      "text/plain": [
       "    Age  Gender Education Level          Job Title  Years of Experience  \\\n",
       "0  32.0    Male      Bachelor's  Software Engineer                  5.0   \n",
       "1  28.0  Female        Master's       Data Analyst                  3.0   \n",
       "2  45.0    Male             PhD     Senior Manager                 15.0   \n",
       "3  36.0  Female      Bachelor's    Sales Associate                  7.0   \n",
       "4  52.0    Male        Master's           Director                 20.0   \n",
       "\n",
       "     Salary  \n",
       "0   90000.0  \n",
       "1   65000.0  \n",
       "2  150000.0  \n",
       "3   60000.0  \n",
       "4  200000.0  "
      ]
     },
     "execution_count": 23,
     "metadata": {},
     "output_type": "execute_result"
    }
   ],
   "source": [
    "import pandas as pd\n",
    "import os\n",
    "import numpy as np\n",
    "import matplotlib.pyplot as plt\n",
    "\n",
    "path = 'Salary_Data.csv'\n",
    "\n",
    "df = pd.read_csv(path)\n",
    "df.head()"
   ]
  },
  {
   "cell_type": "code",
   "execution_count": 24,
   "metadata": {},
   "outputs": [
    {
     "name": "stderr",
     "output_type": "stream",
     "text": [
      "C:\\Users\\carlo\\AppData\\Local\\Temp\\ipykernel_12308\\2656127810.py:9: FutureWarning: The default of observed=False is deprecated and will be changed to True in a future version of pandas. Pass observed=False to retain current behavior or observed=True to adopt the future default and silence this warning.\n",
      "  df.groupby('Education Level')['Salary'].mean().plot(kind='bar')\n"
     ]
    },
    {
     "data": {
      "text/plain": [
       "<Axes: xlabel='Education Level'>"
      ]
     },
     "execution_count": 24,
     "metadata": {},
     "output_type": "execute_result"
    },
    {
     "data": {
      "image/png": "[encoded data removed]",
      "text/plain": [
       "<Figure size 640x480 with 1 Axes>"
      ]
     },
     "metadata": {},
     "output_type": "display_data"
    }
   ],
   "source": [
    "# Combining the education level Bachelor's degree and Bachelor's\n",
    "df['Education Level'] = df['Education Level'].replace(\"Bachelor's Degree\", \"Bachelor's\")\n",
    "df['Education Level'] = df['Education Level'].replace(\"phD\", \"PhD\")\n",
    "df['Education Level'] = df['Education Level'].replace(\"Master's Degree\", \"Master's\")\n",
    "\n",
    "df['Education Level'].value_counts()\n",
    "df['Education Level'] = pd.Categorical(df['Education Level'], categories=['High School', 'Bachelor\\'s', 'Master\\'s', 'PhD'], ordered=True)\n",
    "\n",
    "df.groupby('Education Level')['Salary'].mean().plot(kind='bar')"
   ]
  },
  {
   "cell_type": "code",
   "execution_count": 25,
   "metadata": {},
   "outputs": [
    {
     "data": {
      "text/plain": [
       "['salary_scaler_rf']"
      ]
     },
     "execution_count": 25,
     "metadata": {},
     "output_type": "execute_result"
    }
   ],
   "source": [
    "import torch\n",
    "import torch.nn as nn\n",
    "import matplotlib.pyplot as plt\n",
    "from sklearn.preprocessing import StandardScaler, LabelEncoder\n",
    "from sklearn.model_selection import train_test_split\n",
    "import joblib\n",
    "\n",
    "job = 'Software Engineer'\n",
    "#df_job = df[df['Job Title'] == job]\n",
    "df_job = df.copy()\n",
    "df_job = df_job.dropna(subset=['Salary', 'Years of Experience', 'Education Level', 'Gender', 'Age', \"Job Title\"])\n",
    "\n",
    "# Encode 'Education Level' for simplicity\n",
    "education_mapping = {'High School': 0, 'Bachelor\\'s': 1, 'Master\\'s': 2, 'PhD': 3}\n",
    "df_job['Education Level'] = df_job['Education Level'].map(education_mapping)\n",
    "\n",
    "# Encode 'Gender'\n",
    "gender_mapping = {'Male': 0, 'Female': 1}\n",
    "df_job['Gender'] = df_job['Gender'].map(gender_mapping)\n",
    "\n",
    "# Split the data\n",
    "train, test = train_test_split(df_job, test_size=0.3, random_state=42)\n",
    "train, val = train_test_split(train, test_size=0.11, random_state=42)\n",
    "\n",
    "# Create a scaler for features (excluding 'Salary')\n",
    "feature_scaler = StandardScaler()\n",
    "\n",
    "# Scale features: 'Years of Experience', 'Age'\n",
    "train[['Years of Experience', 'Age']] = feature_scaler.fit_transform(train[['Years of Experience', 'Age']])\n",
    "val[['Years of Experience', 'Age']] = feature_scaler.transform(val[['Years of Experience', 'Age']])\n",
    "test[['Years of Experience', 'Age']] = feature_scaler.transform(test[['Years of Experience', 'Age']])\n",
    "\n",
    "# Scale target variable 'Salary' separately\n",
    "salary_scaler = StandardScaler()\n",
    "train['Salary'] = salary_scaler.fit_transform(train[['Salary']])\n",
    "val['Salary'] = salary_scaler.transform(val[['Salary']])\n",
    "test['Salary'] = salary_scaler.transform(test[['Salary']])"
   ]
  },
  {
   "cell_type": "code",
   "execution_count": 26,
   "metadata": {},
   "outputs": [
    {
     "data": {
      "text/html": [
       "<div>\n",
       "<style scoped>\n",
       "    .dataframe tbody tr th:only-of-type {\n",
       "        vertical-align: middle;\n",
       "    }\n",
       "\n",
       "    .dataframe tbody tr th {\n",
       "        vertical-align: top;\n",
       "    }\n",
       "\n",
       "    .dataframe thead th {\n",
       "        text-align: right;\n",
       "    }\n",
       "</style>\n",
       "<table border=\"1\" class=\"dataframe\">\n",
       "  <thead>\n",
       "    <tr style=\"text-align: right;\">\n",
       "      <th></th>\n",
       "      <th>Age</th>\n",
       "      <th>Gender</th>\n",
       "      <th>Education Level</th>\n",
       "      <th>Job Title</th>\n",
       "      <th>Years of Experience</th>\n",
       "      <th>Salary</th>\n",
       "    </tr>\n",
       "  </thead>\n",
       "  <tbody>\n",
       "    <tr>\n",
       "      <th>5107</th>\n",
       "      <td>-0.871098</td>\n",
       "      <td>1.0</td>\n",
       "      <td>2</td>\n",
       "      <td>Content Marketing Manager</td>\n",
       "      <td>-0.678455</td>\n",
       "      <td>-0.673554</td>\n",
       "    </tr>\n",
       "    <tr>\n",
       "      <th>6590</th>\n",
       "      <td>1.364455</td>\n",
       "      <td>0.0</td>\n",
       "      <td>1</td>\n",
       "      <td>Content Marketing Manager</td>\n",
       "      <td>1.148915</td>\n",
       "      <td>0.655858</td>\n",
       "    </tr>\n",
       "    <tr>\n",
       "      <th>4799</th>\n",
       "      <td>0.706940</td>\n",
       "      <td>1.0</td>\n",
       "      <td>3</td>\n",
       "      <td>Senior Research Scientist</td>\n",
       "      <td>0.816666</td>\n",
       "      <td>0.560900</td>\n",
       "    </tr>\n",
       "    <tr>\n",
       "      <th>2166</th>\n",
       "      <td>0.706940</td>\n",
       "      <td>1.0</td>\n",
       "      <td>2</td>\n",
       "      <td>Software Engineer Manager</td>\n",
       "      <td>0.650542</td>\n",
       "      <td>0.845774</td>\n",
       "    </tr>\n",
       "    <tr>\n",
       "      <th>1961</th>\n",
       "      <td>-0.871098</td>\n",
       "      <td>0.0</td>\n",
       "      <td>1</td>\n",
       "      <td>Back end Developer</td>\n",
       "      <td>-0.844579</td>\n",
       "      <td>-0.673554</td>\n",
       "    </tr>\n",
       "    <tr>\n",
       "      <th>...</th>\n",
       "      <td>...</td>\n",
       "      <td>...</td>\n",
       "      <td>...</td>\n",
       "      <td>...</td>\n",
       "      <td>...</td>\n",
       "      <td>...</td>\n",
       "    </tr>\n",
       "    <tr>\n",
       "      <th>1149</th>\n",
       "      <td>-0.476589</td>\n",
       "      <td>1.0</td>\n",
       "      <td>1</td>\n",
       "      <td>Software Engineer</td>\n",
       "      <td>-0.013957</td>\n",
       "      <td>1.225606</td>\n",
       "    </tr>\n",
       "    <tr>\n",
       "      <th>4579</th>\n",
       "      <td>0.049424</td>\n",
       "      <td>1.0</td>\n",
       "      <td>2</td>\n",
       "      <td>Director of HR</td>\n",
       "      <td>0.152168</td>\n",
       "      <td>-0.388680</td>\n",
       "    </tr>\n",
       "    <tr>\n",
       "      <th>2740</th>\n",
       "      <td>1.101449</td>\n",
       "      <td>0.0</td>\n",
       "      <td>2</td>\n",
       "      <td>Product Manager</td>\n",
       "      <td>0.982791</td>\n",
       "      <td>1.225606</td>\n",
       "    </tr>\n",
       "    <tr>\n",
       "      <th>3125</th>\n",
       "      <td>-0.739595</td>\n",
       "      <td>1.0</td>\n",
       "      <td>2</td>\n",
       "      <td>Full Stack Engineer</td>\n",
       "      <td>-0.678455</td>\n",
       "      <td>-0.622334</td>\n",
       "    </tr>\n",
       "    <tr>\n",
       "      <th>617</th>\n",
       "      <td>-0.476589</td>\n",
       "      <td>1.0</td>\n",
       "      <td>3</td>\n",
       "      <td>Data Scientist</td>\n",
       "      <td>-0.180081</td>\n",
       "      <td>1.320564</td>\n",
       "    </tr>\n",
       "  </tbody>\n",
       "</table>\n",
       "<p>4172 rows × 6 columns</p>\n",
       "</div>"
      ],
      "text/plain": [
       "           Age  Gender Education Level                  Job Title  \\\n",
       "5107 -0.871098     1.0               2  Content Marketing Manager   \n",
       "6590  1.364455     0.0               1  Content Marketing Manager   \n",
       "4799  0.706940     1.0               3  Senior Research Scientist   \n",
       "2166  0.706940     1.0               2  Software Engineer Manager   \n",
       "1961 -0.871098     0.0               1         Back end Developer   \n",
       "...        ...     ...             ...                        ...   \n",
       "1149 -0.476589     1.0               1          Software Engineer   \n",
       "4579  0.049424     1.0               2             Director of HR   \n",
       "2740  1.101449     0.0               2            Product Manager   \n",
       "3125 -0.739595     1.0               2        Full Stack Engineer   \n",
       "617  -0.476589     1.0               3             Data Scientist   \n",
       "\n",
       "      Years of Experience    Salary  \n",
       "5107            -0.678455 -0.673554  \n",
       "6590             1.148915  0.655858  \n",
       "4799             0.816666  0.560900  \n",
       "2166             0.650542  0.845774  \n",
       "1961            -0.844579 -0.673554  \n",
       "...                   ...       ...  \n",
       "1149            -0.013957  1.225606  \n",
       "4579             0.152168 -0.388680  \n",
       "2740             0.982791  1.225606  \n",
       "3125            -0.678455 -0.622334  \n",
       "617             -0.180081  1.320564  \n",
       "\n",
       "[4172 rows x 6 columns]"
      ]
     },
     "execution_count": 26,
     "metadata": {},
     "output_type": "execute_result"
    }
   ],
   "source": [
    "train"
   ]
  },
  {
   "cell_type": "code",
   "execution_count": 27,
   "metadata": {},
   "outputs": [],
   "source": [
    "# Prepare data for PyTorch\n",
    "# Prepare data for PyTorch\n",
    "X_train = (train[[\"Age\", \"Gender\", \"Education Level\", \"Years of Experience\"]])\n",
    "y_train = (train['Salary'])\n",
    "X_val = (val[[\"Age\", \"Gender\", \"Education Level\", \"Years of Experience\"]])\n",
    "y_val = (val['Salary'])\n",
    "X_test = (test[[\"Age\", \"Gender\", \"Education Level\",  \"Years of Experience\"]])\n",
    "y_test = (test['Salary'])"
   ]
  },
  {
   "cell_type": "code",
   "execution_count": 28,
   "metadata": {},
   "outputs": [
    {
     "data": {
      "text/plain": [
       "5107   -0.673554\n",
       "6590    0.655858\n",
       "4799    0.560900\n",
       "2166    0.845774\n",
       "1961   -0.673554\n",
       "          ...   \n",
       "1149    1.225606\n",
       "4579   -0.388680\n",
       "2740    1.225606\n",
       "3125   -0.622334\n",
       "617     1.320564\n",
       "Name: Salary, Length: 4172, dtype: float64"
      ]
     },
     "execution_count": 28,
     "metadata": {},
     "output_type": "execute_result"
    }
   ],
   "source": [
    "y_train"
   ]
  },
  {
   "cell_type": "code",
   "execution_count": 29,
   "metadata": {},
   "outputs": [
    {
     "name": "stdout",
     "output_type": "stream",
     "text": [
      "[141636.36363636  88900.90189394  59032.98245614 ... 160000.\n",
      " 100607.05128205 100886.69340463]\n",
      "Model Performance:\n",
      "Test R2: 0.9021979557050694\n",
      "Test MAE: 9451.518623131344\n",
      "Test RMSE: 16662.662855849965\n"
     ]
    },
    {
     "data": {
      "image/png": "[encoded data removed]",
      "text/plain": [
       "<Figure size 1000x600 with 1 Axes>"
      ]
     },
     "metadata": {},
     "output_type": "display_data"
    }
   ],
   "source": [
    "from sklearn.ensemble import RandomForestRegressor\n",
    "from sklearn.metrics import r2_score, mean_absolute_error, mean_squared_error\n",
    "import joblib\n",
    "rf_model = RandomForestRegressor(n_estimators=5, random_state=42)\n",
    "rf_model.fit(X_train, y_train)\n",
    "\n",
    "\n",
    "\n",
    "y_pred = rf_model.predict(X_test)\n",
    "\n",
    "predicted_salaries_unscaled = salary_scaler.inverse_transform(y_pred.reshape(-1, 1)).flatten()\n",
    "print(predicted_salaries_unscaled)\n",
    "y_test_unscaled = salary_scaler.inverse_transform(y_test.values.reshape(-1,1)).flatten()\n",
    "\n",
    "# Calculate accuracy metrics\n",
    "r2 = r2_score(y_test, y_pred)\n",
    "mae = mean_absolute_error(y_test, y_pred)\n",
    "rmse = np.sqrt(mean_squared_error(y_test, y_pred))\n",
    "\n",
    "print(f\"Model Performance:\")\n",
    "print(\"Test R2:\", r2_score(y_test_unscaled, predicted_salaries_unscaled))\n",
    "print(\"Test MAE:\", mean_absolute_error(y_test_unscaled, predicted_salaries_unscaled))\n",
    "print(\"Test RMSE:\", np.sqrt(mean_squared_error(y_test_unscaled, predicted_salaries_unscaled)))\n",
    "\n",
    "# 1. Built-in Feature Importance\n",
    "importances = rf_model.feature_importances_\n",
    "feature_names = X_train.columns\n",
    "feature_importance = pd.DataFrame({'feature': feature_names, 'importance': importances})\n",
    "feature_importance = feature_importance.sort_values('importance', ascending=False)\n",
    "\n",
    "plt.figure(figsize=(10, 6))\n",
    "plt.bar(feature_importance['feature'], feature_importance['importance'])\n",
    "plt.title('Feature Importance (Built-in)')\n",
    "plt.xlabel('Features')\n",
    "plt.ylabel('Importance')\n",
    "plt.xticks(rotation=45)\n",
    "plt.tight_layout()\n",
    "plt.show()"
   ]
  },
  {
   "cell_type": "code",
   "execution_count": 30,
   "metadata": {},
   "outputs": [
    {
     "name": "stdout",
     "output_type": "stream",
     "text": [
      "        Age  Gender  Education Level  Years of Experience\n",
      "0 -0.871098       0                0             0.152168\n",
      "1 -0.871098       0                1            -0.346206\n",
      "2 -0.871098       0                2            -0.678455\n",
      "3 -0.871098       0                3            -1.010704\n",
      "4 -0.739595       1                1            -0.844579\n",
      "[ 1.22437745  0.25897031 -0.43925486 -0.00884842 -0.97781934]\n"
     ]
    }
   ],
   "source": [
    "#predict on fake data\n",
    "import joblib\n",
    "df_fake = pd.DataFrame([\n",
    "    [27, \"Male\", \"High School\", \"Software Engineer\", 9, 1],\n",
    "    [27, \"Male\", \"Bachelor's\", \"Software Engineer\",6 , 1],\n",
    "    [27, \"Male\", \"Master's\", \"Software Engineer\", 4, 1],\n",
    "    [27, \"Male\", \"PhD\", \"Software Engineer\", 2, 1],\n",
    "    [28,\"Female\",\"Bachelor's\",\"Software Engineer\",3,125000]\n",
    "], columns=[\"Age\", \"Gender\", \"Education Level\", \"Job Title\", \"Years of Experience\", \"Salary\"])\n",
    "\n",
    "education_mapping = {'High School': 0, 'Bachelor\\'s': 1, 'Master\\'s': 2, 'PhD': 3}\n",
    "df_fake['Education Level'] = df_fake['Education Level'].map(education_mapping).copy()\n",
    "\n",
    "# Encode 'Gender'\n",
    "gender_mapping = {'Male': 0, 'Female': 1}\n",
    "df_fake['Gender'] = df_fake['Gender'].map(gender_mapping).copy()\n",
    "\n",
    "\n",
    "# Scale 'Years of Experience', 'Age', and 'Salary' for stability\n",
    "scaler = joblib.load(\"C:\\Master\\ML_theory\\Github\\ml_project\\Salary new dataset\\scaler_rf\")\n",
    "df_fake[['Years of Experience', 'Age']] = feature_scaler.transform(df_fake[['Years of Experience', 'Age']])\n",
    "\n",
    "df_fake = df_fake.drop(columns=[\"Salary\", \"Job Title\"])\n",
    "print(df_fake.head())\n",
    "\n",
    "preds = rf_model.predict(df_fake)\n",
    "\n",
    "print(preds)"
   ]
  },
  {
   "cell_type": "code",
   "execution_count": 31,
   "metadata": {},
   "outputs": [
    {
     "name": "stdout",
     "output_type": "stream",
     "text": [
      "        Age  Gender  Education Level  Years of Experience  \\\n",
      "0 -0.871098       0                0             0.152168   \n",
      "1 -0.871098       0                1            -0.346206   \n",
      "2 -0.871098       0                2            -0.678455   \n",
      "3 -0.871098       0                3            -1.010704   \n",
      "4 -0.739595       1                1            -0.844579   \n",
      "\n",
      "   Predicted Salary (Unscaled)  \n",
      "0                179935.335429  \n",
      "1                129101.957895  \n",
      "2                 92337.009524  \n",
      "3                115000.000000  \n",
      "4                 63978.972418  \n"
     ]
    }
   ],
   "source": [
    "predicted_salaries_unscaled = salary_scaler.inverse_transform(preds.reshape(-1, 1)).flatten()\n",
    "\n",
    "# Add unscaled predicted salaries to the dataframe\n",
    "df_fake['Predicted Salary (Unscaled)'] = predicted_salaries_unscaled\n",
    "\n",
    "# Display the updated dataframe\n",
    "print(df_fake)\n"
   ]
  },
  {
   "cell_type": "code",
   "execution_count": 32,
   "metadata": {},
   "outputs": [
    {
     "data": {
      "image/png": "[encoded data removed]",
      "text/plain": [
       "<Figure size 1000x600 with 1 Axes>"
      ]
     },
     "metadata": {},
     "output_type": "display_data"
    }
   ],
   "source": [
    "from sklearn.inspection import permutation_importance\n",
    "# 2. Permutation Importance\n",
    "perm_importance = permutation_importance(rf_model, X_test, y_test, n_repeats=10, random_state=42)\n",
    "perm_importance_df = pd.DataFrame({\n",
    "    'feature': feature_names,\n",
    "    'importance': perm_importance.importances_mean\n",
    "})\n",
    "perm_importance_df = perm_importance_df.sort_values('importance', ascending=False)\n",
    "\n",
    "plt.figure(figsize=(10, 6))\n",
    "plt.bar(perm_importance_df['feature'], perm_importance_df['importance'])\n",
    "plt.title('Permutation Importance')\n",
    "plt.xlabel('Features')\n",
    "plt.ylabel('Importance')\n",
    "plt.xticks(rotation=45)\n",
    "plt.tight_layout()\n",
    "plt.show()"
   ]
  },
  {
   "cell_type": "code",
   "execution_count": 33,
   "metadata": {},
   "outputs": [],
   "source": [
    "def own_permutation_importance(model, X, y, n_repeats=10):\n",
    "    baseline_mse = mean_squared_error(y, model(X).detach().numpy())\n",
    "    importances = []\n",
    "    \n",
    "    for col in range(X.shape[1]):\n",
    "        feature_importances = []\n",
    "        for _ in range(n_repeats):\n",
    "            X_permuted = X.clone()\n",
    "            X_permuted[:, col] = torch.randperm(X.shape[0])\n",
    "            permuted_mse = mean_squared_error(y, model(X_permuted).detach().numpy())\n",
    "            importance = permuted_mse - baseline_mse\n",
    "            feature_importances.append(importance)\n",
    "        importances.append(np.mean(feature_importances))\n",
    "    \n",
    "    return np.array(importances)"
   ]
  }
 ],
 "metadata": {
  "kernelspec": {
   "display_name": "Python 3",
   "language": "python",
   "name": "python3"
  },
  "language_info": {
   "codemirror_mode": {
    "name": "ipython",
    "version": 3
   },
   "file_extension": ".py",
   "mimetype": "text/x-python",
   "name": "python",
   "nbconvert_exporter": "python",
   "pygments_lexer": "ipython3",
   "version": "3.11.9"
  }
 },
 "nbformat": 4,
 "nbformat_minor": 2
}
