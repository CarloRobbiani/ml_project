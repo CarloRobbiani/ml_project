{
 "cells": [
  {
   "cell_type": "code",
   "id": "initial_id",
   "metadata": {
    "collapsed": true,
    "ExecuteTime": {
     "end_time": "2024-11-06T09:41:52.748988Z",
     "start_time": "2024-11-06T09:41:52.736149Z"
    }
   },
   "source": [
    "import pandas as pd\n",
    "import os\n",
    "import numpy as np\n",
    "import matplotlib.pyplot as plt\n",
    "\n",
    "path = 'Salary_Data.csv'\n",
    "\n",
    "df = pd.read_csv(path)\n",
    "df.head()"
   ],
   "outputs": [
    {
     "data": {
      "text/plain": [
       "    Age  Gender Education Level          Job Title  Years of Experience  \\\n",
       "0  32.0    Male      Bachelor's  Software Engineer                  5.0   \n",
       "1  28.0  Female        Master's       Data Analyst                  3.0   \n",
       "2  45.0    Male             PhD     Senior Manager                 15.0   \n",
       "3  36.0  Female      Bachelor's    Sales Associate                  7.0   \n",
       "4  52.0    Male        Master's           Director                 20.0   \n",
       "\n",
       "     Salary  \n",
       "0   90000.0  \n",
       "1   65000.0  \n",
       "2  150000.0  \n",
       "3   60000.0  \n",
       "4  200000.0  "
      ],
      "text/html": [
       "<div>\n",
       "<style scoped>\n",
       "    .dataframe tbody tr th:only-of-type {\n",
       "        vertical-align: middle;\n",
       "    }\n",
       "\n",
       "    .dataframe tbody tr th {\n",
       "        vertical-align: top;\n",
       "    }\n",
       "\n",
       "    .dataframe thead th {\n",
       "        text-align: right;\n",
       "    }\n",
       "</style>\n",
       "<table border=\"1\" class=\"dataframe\">\n",
       "  <thead>\n",
       "    <tr style=\"text-align: right;\">\n",
       "      <th></th>\n",
       "      <th>Age</th>\n",
       "      <th>Gender</th>\n",
       "      <th>Education Level</th>\n",
       "      <th>Job Title</th>\n",
       "      <th>Years of Experience</th>\n",
       "      <th>Salary</th>\n",
       "    </tr>\n",
       "  </thead>\n",
       "  <tbody>\n",
       "    <tr>\n",
       "      <th>0</th>\n",
       "      <td>32.0</td>\n",
       "      <td>Male</td>\n",
       "      <td>Bachelor's</td>\n",
       "      <td>Software Engineer</td>\n",
       "      <td>5.0</td>\n",
       "      <td>90000.0</td>\n",
       "    </tr>\n",
       "    <tr>\n",
       "      <th>1</th>\n",
       "      <td>28.0</td>\n",
       "      <td>Female</td>\n",
       "      <td>Master's</td>\n",
       "      <td>Data Analyst</td>\n",
       "      <td>3.0</td>\n",
       "      <td>65000.0</td>\n",
       "    </tr>\n",
       "    <tr>\n",
       "      <th>2</th>\n",
       "      <td>45.0</td>\n",
       "      <td>Male</td>\n",
       "      <td>PhD</td>\n",
       "      <td>Senior Manager</td>\n",
       "      <td>15.0</td>\n",
       "      <td>150000.0</td>\n",
       "    </tr>\n",
       "    <tr>\n",
       "      <th>3</th>\n",
       "      <td>36.0</td>\n",
       "      <td>Female</td>\n",
       "      <td>Bachelor's</td>\n",
       "      <td>Sales Associate</td>\n",
       "      <td>7.0</td>\n",
       "      <td>60000.0</td>\n",
       "    </tr>\n",
       "    <tr>\n",
       "      <th>4</th>\n",
       "      <td>52.0</td>\n",
       "      <td>Male</td>\n",
       "      <td>Master's</td>\n",
       "      <td>Director</td>\n",
       "      <td>20.0</td>\n",
       "      <td>200000.0</td>\n",
       "    </tr>\n",
       "  </tbody>\n",
       "</table>\n",
       "</div>"
      ]
     },
     "execution_count": 30,
     "metadata": {},
     "output_type": "execute_result"
    }
   ],
   "execution_count": 30
  },
  {
   "metadata": {},
   "cell_type": "markdown",
   "source": "# Data Cleaning",
   "id": "f80b76410248ec02"
  },
  {
   "metadata": {
    "ExecuteTime": {
     "end_time": "2024-11-06T09:41:53.481235Z",
     "start_time": "2024-11-06T09:41:53.477903Z"
    }
   },
   "cell_type": "code",
   "source": "df['Education Level'].value_counts()",
   "id": "3c0a0fc9cb233f41",
   "outputs": [
    {
     "data": {
      "text/plain": [
       "Education Level\n",
       "Bachelor's Degree    2267\n",
       "Master's Degree      1573\n",
       "PhD                  1368\n",
       "Bachelor's            756\n",
       "High School           448\n",
       "Master's              288\n",
       "phD                     1\n",
       "Name: count, dtype: int64"
      ]
     },
     "execution_count": 31,
     "metadata": {},
     "output_type": "execute_result"
    }
   ],
   "execution_count": 31
  },
  {
   "metadata": {
    "ExecuteTime": {
     "end_time": "2024-11-06T09:41:53.779587Z",
     "start_time": "2024-11-06T09:41:53.777423Z"
    }
   },
   "cell_type": "code",
   "source": [
    "print(df.columns)\n",
    "print(type(df.Salary[0]))\n",
    "print(type(df['Years of Experience'][0]))"
   ],
   "id": "41cbf51218714a9a",
   "outputs": [
    {
     "name": "stdout",
     "output_type": "stream",
     "text": [
      "Index(['Age', 'Gender', 'Education Level', 'Job Title', 'Years of Experience',\n",
      "       'Salary'],\n",
      "      dtype='object')\n",
      "<class 'numpy.float64'>\n",
      "<class 'numpy.float64'>\n"
     ]
    }
   ],
   "execution_count": 32
  },
  {
   "metadata": {
    "ExecuteTime": {
     "end_time": "2024-11-06T09:41:54.313061Z",
     "start_time": "2024-11-06T09:41:54.307317Z"
    }
   },
   "cell_type": "code",
   "source": [
    "# Combining the education level Bachelor's degree and Bachelor's\n",
    "df['Education Level'] = df['Education Level'].replace(\"Bachelor's Degree\", \"Bachelor's\")\n",
    "df['Education Level'] = df['Education Level'].replace(\"phD\", \"PhD\")\n",
    "df['Education Level'] = df['Education Level'].replace(\"Master's Degree\", \"Master's\")\n",
    "\n",
    "df['Education Level'].value_counts()"
   ],
   "id": "60ce7d500718aaca",
   "outputs": [
    {
     "data": {
      "text/plain": [
       "Education Level\n",
       "Bachelor's     3023\n",
       "Master's       1861\n",
       "PhD            1369\n",
       "High School     448\n",
       "Name: count, dtype: int64"
      ]
     },
     "execution_count": 33,
     "metadata": {},
     "output_type": "execute_result"
    }
   ],
   "execution_count": 33
  },
  {
   "metadata": {
    "ExecuteTime": {
     "end_time": "2024-11-06T09:41:54.789303Z",
     "start_time": "2024-11-06T09:41:54.730792Z"
    }
   },
   "cell_type": "code",
   "source": [
    "plt.scatter(df['Years of Experience'], df['Salary'])\n",
    "plt.xlabel('Years of Experience')\n",
    "plt.ylabel('Salary')"
   ],
   "id": "701d3c325987af11",
   "outputs": [
    {
     "data": {
      "text/plain": [
       "Text(0, 0.5, 'Salary')"
      ]
     },
     "execution_count": 34,
     "metadata": {},
     "output_type": "execute_result"
    },
    {
     "data": {
      "text/plain": [
       "<Figure size 640x480 with 1 Axes>"
      ],
      "image/png": "[encoded data removed]"
     },
     "metadata": {},
     "output_type": "display_data"
    }
   ],
   "execution_count": 34
  },
  {
   "metadata": {
    "ExecuteTime": {
     "end_time": "2024-11-06T09:41:55.427394Z",
     "start_time": "2024-11-06T09:41:55.367180Z"
    }
   },
   "cell_type": "code",
   "source": [
    "df['Education Level'] = pd.Categorical(df['Education Level'], categories=['High School', 'Bachelor\\'s', 'Master\\'s', 'PhD'], ordered=True)\n",
    "\n",
    "df.groupby('Education Level')['Salary'].mean().plot(kind='bar')"
   ],
   "id": "de4f45023ef2276b",
   "outputs": [
    {
     "name": "stderr",
     "output_type": "stream",
     "text": [
      "/var/folders/v9/n514v4yd4hn8vqwrpj4cdt8c0000gn/T/ipykernel_91246/551786710.py:3: FutureWarning: The default of observed=False is deprecated and will be changed to True in a future version of pandas. Pass observed=False to retain current behavior or observed=True to adopt the future default and silence this warning.\n",
      "  df.groupby('Education Level')['Salary'].mean().plot(kind='bar')\n"
     ]
    },
    {
     "data": {
      "text/plain": [
       "<Axes: xlabel='Education Level'>"
      ]
     },
     "execution_count": 35,
     "metadata": {},
     "output_type": "execute_result"
    },
    {
     "data": {
      "text/plain": [
       "<Figure size 640x480 with 1 Axes>"
      ],
      "image/png": "[encoded data removed]"
     },
     "metadata": {},
     "output_type": "display_data"
    }
   ],
   "execution_count": 35
  },
  {
   "metadata": {
    "ExecuteTime": {
     "end_time": "2024-11-06T09:41:56.431835Z",
     "start_time": "2024-11-06T09:41:56.426964Z"
    }
   },
   "cell_type": "code",
   "source": [
    "# Job Title with the most data\n",
    "df['Job Title'].value_counts()"
   ],
   "id": "92e263d7eaaf3347",
   "outputs": [
    {
     "data": {
      "text/plain": [
       "Job Title\n",
       "Software Engineer             518\n",
       "Data Scientist                453\n",
       "Software Engineer Manager     376\n",
       "Data Analyst                  363\n",
       "Senior Project Engineer       318\n",
       "                             ... \n",
       "Account Manager                 1\n",
       "Help Desk Analyst               1\n",
       "Senior Training Specialist      1\n",
       "Junior Web Designer             1\n",
       "Supply Chain Analyst            1\n",
       "Name: count, Length: 193, dtype: int64"
      ]
     },
     "execution_count": 36,
     "metadata": {},
     "output_type": "execute_result"
    }
   ],
   "execution_count": 36
  },
  {
   "metadata": {},
   "cell_type": "markdown",
   "source": "# Define Model",
   "id": "dd2660f746251aa6"
  },
  {
   "metadata": {
    "ExecuteTime": {
     "end_time": "2024-11-06T09:43:12.778233Z",
     "start_time": "2024-11-06T09:43:12.774601Z"
    }
   },
   "cell_type": "code",
   "source": [
    "import torch.nn as nn\n",
    "class RegressionModel(nn.Module):\n",
    "    def __init__(self, input_dim, hidden_dim, output_dim):\n",
    "        super(RegressionModel, self).__init__()\n",
    "        self.layer1 = nn.Linear(input_dim, hidden_dim)\n",
    "        self.activation1 = nn.ReLU()\n",
    "        self.layer2 = nn.Linear(hidden_dim, output_dim)\n",
    "        # self.activation2 = nn.ReLU()\n",
    "        # self.layer3 = nn.Linear(hidden_dim, output_dim)\n",
    "        \n",
    "    def forward(self, x):\n",
    "        x = self.layer1(x)\n",
    "        x = self.activation1(x)\n",
    "        x = self.layer2(x)\n",
    "        # x = self.activation2(x)\n",
    "        # return self.layer3(x)\n",
    "        return x"
   ],
   "id": "f4afc18607fe7674",
   "outputs": [],
   "execution_count": 39
  },
  {
   "metadata": {},
   "cell_type": "markdown",
   "source": "# Training",
   "id": "9279a93b50e3f837"
  },
  {
   "metadata": {
    "ExecuteTime": {
     "end_time": "2024-11-06T10:29:19.312136Z",
     "start_time": "2024-11-06T10:29:17.320599Z"
    }
   },
   "cell_type": "code",
   "source": [
    "import torch\n",
    "import torch.nn as nn\n",
    "import matplotlib.pyplot as plt\n",
    "from sklearn.preprocessing import StandardScaler, LabelEncoder\n",
    "from sklearn.model_selection import train_test_split\n",
    "\n",
    "# Filter data for a specific job title\n",
    "job = 'Software Engineer'\n",
    "df_job = df[df['Job Title'] == job]\n",
    "df_job = df_job.dropna(subset=['Salary', 'Years of Experience', 'Education Level'])\n",
    "\n",
    "# Encode 'Education Level' for simplicity\n",
    "education_mapping = {'High School': 0, 'Bachelor\\'s': 1, 'Master\\'s': 2, 'PhD': 3}\n",
    "df_job['Education Level'] = df_job['Education Level'].map(education_mapping)\n",
    "\n",
    "# Split the data\n",
    "train, test = train_test_split(df_job, test_size=0.3, random_state=42)\n",
    "train, val = train_test_split(train, test_size=0.11, random_state=42)\n",
    "\n",
    "# Scale 'Years of Experience' and 'Salary' for stability\n",
    "scaler = StandardScaler()\n",
    "train[['Years of Experience', 'Salary']] = scaler.fit_transform(train[['Years of Experience', 'Salary']])\n",
    "val[['Years of Experience', 'Salary']] = scaler.transform(val[['Years of Experience', 'Salary']])\n",
    "test[['Years of Experience', 'Salary']] = scaler.transform(test[['Years of Experience', 'Salary']])\n",
    "\n",
    "# Define the model\n",
    "class RegressionModel(nn.Module):\n",
    "    def __init__(self, input_dim, hidden_dim, output_dim):\n",
    "        super(RegressionModel, self).__init__()\n",
    "        self.layer1 = nn.Linear(input_dim, hidden_dim)\n",
    "        self.activation1 = nn.ReLU()\n",
    "        self.layer2 = nn.Linear(hidden_dim, output_dim)\n",
    "        \n",
    "    def forward(self, x):\n",
    "        x = self.layer1(x)\n",
    "        x = self.activation1(x)\n",
    "        x = self.layer2(x)\n",
    "        return x\n",
    "\n",
    "# Set up model parameters\n",
    "input_dim = 2  # Years of Experience, Education Level\n",
    "hidden_dim = 64\n",
    "output_dim = 1\n",
    "model = RegressionModel(input_dim, hidden_dim, output_dim)\n",
    "\n",
    "criterion = nn.MSELoss()\n",
    "optimizer = torch.optim.Adam(model.parameters(), lr=0.001, weight_decay=1e-4)  # Add weight decay for L2 regularization\n",
    "\n",
    "# Prepare data for PyTorch\n",
    "X_train = torch.tensor(train[['Years of Experience', 'Education Level']].values, dtype=torch.float32)\n",
    "y_train = torch.tensor(train['Salary'].values, dtype=torch.float32).view(-1, 1)\n",
    "X_val = torch.tensor(val[['Years of Experience', 'Education Level']].values, dtype=torch.float32)\n",
    "y_val = torch.tensor(val['Salary'].values, dtype=torch.float32).view(-1, 1)\n",
    "X_test = torch.tensor(test[['Years of Experience', 'Education Level']].values, dtype=torch.float32)\n",
    "y_test = torch.tensor(test['Salary'].values, dtype=torch.float32).view(-1, 1)\n",
    "\n",
    "# Training loop\n",
    "train_losses, val_losses = [], []\n",
    "for epoch in range(10000):\n",
    "    model.train()\n",
    "    optimizer.zero_grad()\n",
    "    y_pred = model(X_train)\n",
    "    train_loss = criterion(y_pred, y_train)\n",
    "    train_loss.backward()\n",
    "    optimizer.step()\n",
    "    train_losses.append(train_loss.item())\n",
    "    \n",
    "    # Validation loss\n",
    "    model.eval()\n",
    "    with torch.no_grad():\n",
    "        y_val_pred = model(X_val)\n",
    "        val_loss = criterion(y_val_pred, y_val)\n",
    "        val_losses.append(val_loss.item())\n",
    "        \n",
    "    # Print progress every 100 epochs\n",
    "    if epoch % 100 == 0:\n",
    "        print(f'Epoch {epoch} - Train Loss: {train_loss.item()} | Validation Loss: {val_loss.item()}')\n",
    "\n",
    "# Plot training and validation losses\n",
    "plt.plot(train_losses, label='Training Loss')\n",
    "plt.plot(val_losses, label='Validation Loss')\n",
    "plt.xlabel('Epochs')\n",
    "plt.ylabel('Loss')\n",
    "plt.legend()\n",
    "plt.show()\n",
    "\n",
    "# Evaluate on test set\n",
    "model.eval()\n",
    "with torch.no_grad():\n",
    "    y_test_pred = model(X_test)\n",
    "    test_loss = criterion(y_test_pred, y_test)\n",
    "    print(f'Test Loss: {test_loss.item()}')\n",
    "\n",
    "# Inverse transform predictions back to original salary scale\n",
    "y_test_pred_unscaled = scaler.inverse_transform(\n",
    "    torch.cat((X_test[:, 0].unsqueeze(1), y_test_pred), dim=1))[:, 1]"
   ],
   "id": "e98aaa0c13a97acb",
   "outputs": [
    {
     "name": "stdout",
     "output_type": "stream",
     "text": [
      "Epoch 0 - Train Loss: 1.0834200382232666 | Validation Loss: 1.080260157585144\n",
      "Epoch 100 - Train Loss: 0.3484154939651489 | Validation Loss: 0.33996695280075073\n",
      "Epoch 200 - Train Loss: 0.3325379490852356 | Validation Loss: 0.31605517864227295\n",
      "Epoch 300 - Train Loss: 0.32549506425857544 | Validation Loss: 0.3105822503566742\n",
      "Epoch 400 - Train Loss: 0.3193557560443878 | Validation Loss: 0.3079572319984436\n",
      "Epoch 500 - Train Loss: 0.31411609053611755 | Validation Loss: 0.30629292130470276\n",
      "Epoch 600 - Train Loss: 0.3103318214416504 | Validation Loss: 0.3050941824913025\n",
      "Epoch 700 - Train Loss: 0.3076654374599457 | Validation Loss: 0.30450424551963806\n",
      "Epoch 800 - Train Loss: 0.30586373805999756 | Validation Loss: 0.3044825792312622\n",
      "Epoch 900 - Train Loss: 0.30444809794425964 | Validation Loss: 0.30450159311294556\n",
      "Epoch 1000 - Train Loss: 0.3032788634300232 | Validation Loss: 0.3039547801017761\n",
      "Epoch 1100 - Train Loss: 0.3023795485496521 | Validation Loss: 0.3034268319606781\n",
      "Epoch 1200 - Train Loss: 0.3016868829727173 | Validation Loss: 0.30297333002090454\n",
      "Epoch 1300 - Train Loss: 0.3011455535888672 | Validation Loss: 0.30261361598968506\n",
      "Epoch 1400 - Train Loss: 0.300739586353302 | Validation Loss: 0.3023681938648224\n",
      "Epoch 1500 - Train Loss: 0.3004443049430847 | Validation Loss: 0.3022018074989319\n",
      "Epoch 1600 - Train Loss: 0.300230473279953 | Validation Loss: 0.30215850472450256\n",
      "Epoch 1700 - Train Loss: 0.3000718951225281 | Validation Loss: 0.30208224058151245\n",
      "Epoch 1800 - Train Loss: 0.29994329810142517 | Validation Loss: 0.3019440770149231\n",
      "Epoch 1900 - Train Loss: 0.29982614517211914 | Validation Loss: 0.30176544189453125\n",
      "Epoch 2000 - Train Loss: 0.2997305393218994 | Validation Loss: 0.30168771743774414\n",
      "Epoch 2100 - Train Loss: 0.29965630173683167 | Validation Loss: 0.30161112546920776\n",
      "Epoch 2200 - Train Loss: 0.29959186911582947 | Validation Loss: 0.30155450105667114\n",
      "Epoch 2300 - Train Loss: 0.2995351552963257 | Validation Loss: 0.30149513483047485\n",
      "Epoch 2400 - Train Loss: 0.29948779940605164 | Validation Loss: 0.30142369866371155\n",
      "Epoch 2500 - Train Loss: 0.2994472086429596 | Validation Loss: 0.3014048933982849\n",
      "Epoch 2600 - Train Loss: 0.29941147565841675 | Validation Loss: 0.30135899782180786\n",
      "Epoch 2700 - Train Loss: 0.2993788421154022 | Validation Loss: 0.30136340856552124\n",
      "Epoch 2800 - Train Loss: 0.299349308013916 | Validation Loss: 0.3013453483581543\n",
      "Epoch 2900 - Train Loss: 0.2993244528770447 | Validation Loss: 0.3013152480125427\n",
      "Epoch 3000 - Train Loss: 0.2993040382862091 | Validation Loss: 0.30130958557128906\n",
      "Epoch 3100 - Train Loss: 0.2992866337299347 | Validation Loss: 0.3013133108615875\n",
      "Epoch 3200 - Train Loss: 0.29927173256874084 | Validation Loss: 0.3012959063053131\n",
      "Epoch 3300 - Train Loss: 0.29925909638404846 | Validation Loss: 0.3013250231742859\n",
      "Epoch 3400 - Train Loss: 0.29924920201301575 | Validation Loss: 0.30132564902305603\n",
      "Epoch 3500 - Train Loss: 0.2992410659790039 | Validation Loss: 0.30130815505981445\n",
      "Epoch 3600 - Train Loss: 0.2992342412471771 | Validation Loss: 0.3013053834438324\n",
      "Epoch 3700 - Train Loss: 0.29922837018966675 | Validation Loss: 0.30130675435066223\n",
      "Epoch 3800 - Train Loss: 0.29922324419021606 | Validation Loss: 0.30130118131637573\n",
      "Epoch 3900 - Train Loss: 0.2992193400859833 | Validation Loss: 0.30131304264068604\n",
      "Epoch 4000 - Train Loss: 0.29921653866767883 | Validation Loss: 0.30130037665367126\n",
      "Epoch 4100 - Train Loss: 0.2992142140865326 | Validation Loss: 0.30131685733795166\n",
      "Epoch 4200 - Train Loss: 0.29921242594718933 | Validation Loss: 0.30132004618644714\n",
      "Epoch 4300 - Train Loss: 0.2992105782032013 | Validation Loss: 0.3012992739677429\n",
      "Epoch 4400 - Train Loss: 0.2992088794708252 | Validation Loss: 0.30132779479026794\n",
      "Epoch 4500 - Train Loss: 0.2992078363895416 | Validation Loss: 0.30135077238082886\n",
      "Epoch 4600 - Train Loss: 0.2992068827152252 | Validation Loss: 0.30132991075515747\n",
      "Epoch 4700 - Train Loss: 0.299206018447876 | Validation Loss: 0.3013351857662201\n",
      "Epoch 4800 - Train Loss: 0.2992050349712372 | Validation Loss: 0.30134522914886475\n",
      "Epoch 4900 - Train Loss: 0.2992042601108551 | Validation Loss: 0.3013838231563568\n",
      "Epoch 5000 - Train Loss: 0.29920387268066406 | Validation Loss: 0.3013785481452942\n",
      "Epoch 5100 - Train Loss: 0.2992035150527954 | Validation Loss: 0.30136924982070923\n",
      "Epoch 5200 - Train Loss: 0.2992032766342163 | Validation Loss: 0.30134135484695435\n",
      "Epoch 5300 - Train Loss: 0.29920312762260437 | Validation Loss: 0.30136817693710327\n",
      "Epoch 5400 - Train Loss: 0.2992027997970581 | Validation Loss: 0.30135950446128845\n",
      "Epoch 5500 - Train Loss: 0.2992026209831238 | Validation Loss: 0.30134525895118713\n",
      "Epoch 5600 - Train Loss: 0.29920244216918945 | Validation Loss: 0.30138686299324036\n",
      "Epoch 5700 - Train Loss: 0.2992025315761566 | Validation Loss: 0.3013834059238434\n",
      "Epoch 5800 - Train Loss: 0.29920223355293274 | Validation Loss: 0.3014225661754608\n",
      "Epoch 5900 - Train Loss: 0.2992021441459656 | Validation Loss: 0.3013775944709778\n",
      "Epoch 6000 - Train Loss: 0.2992020547389984 | Validation Loss: 0.30139604210853577\n",
      "Epoch 6100 - Train Loss: 0.2992022633552551 | Validation Loss: 0.3013865053653717\n",
      "Epoch 6200 - Train Loss: 0.29920220375061035 | Validation Loss: 0.3013301491737366\n",
      "Epoch 6300 - Train Loss: 0.2992021143436432 | Validation Loss: 0.3014170527458191\n",
      "Epoch 6400 - Train Loss: 0.2992021143436432 | Validation Loss: 0.3014379143714905\n",
      "Epoch 6500 - Train Loss: 0.29920199513435364 | Validation Loss: 0.30142590403556824\n",
      "Epoch 6600 - Train Loss: 0.2992021143436432 | Validation Loss: 0.30147287249565125\n",
      "Epoch 6700 - Train Loss: 0.299202024936676 | Validation Loss: 0.3014851212501526\n",
      "Epoch 6800 - Train Loss: 0.2992020547389984 | Validation Loss: 0.30142298340797424\n",
      "Epoch 6900 - Train Loss: 0.29920247197151184 | Validation Loss: 0.30145150423049927\n",
      "Epoch 7000 - Train Loss: 0.2992020547389984 | Validation Loss: 0.3014388084411621\n",
      "Epoch 7100 - Train Loss: 0.2992022633552551 | Validation Loss: 0.30137383937835693\n",
      "Epoch 7200 - Train Loss: 0.29920271039009094 | Validation Loss: 0.3013780117034912\n",
      "Epoch 7300 - Train Loss: 0.2992025315761566 | Validation Loss: 0.3014720380306244\n",
      "Epoch 7400 - Train Loss: 0.29920244216918945 | Validation Loss: 0.3014717698097229\n",
      "Epoch 7500 - Train Loss: 0.29920244216918945 | Validation Loss: 0.30149155855178833\n",
      "Epoch 7600 - Train Loss: 0.2992026209831238 | Validation Loss: 0.3014686703681946\n",
      "Epoch 7700 - Train Loss: 0.29920244216918945 | Validation Loss: 0.3014659285545349\n",
      "Epoch 7800 - Train Loss: 0.2992023527622223 | Validation Loss: 0.3015156686306\n",
      "Epoch 7900 - Train Loss: 0.2992018759250641 | Validation Loss: 0.3015291094779968\n",
      "Epoch 8000 - Train Loss: 0.2991999387741089 | Validation Loss: 0.30153214931488037\n",
      "Epoch 8100 - Train Loss: 0.2991953492164612 | Validation Loss: 0.30150356888771057\n",
      "Epoch 8200 - Train Loss: 0.29918885231018066 | Validation Loss: 0.30148810148239136\n",
      "Epoch 8300 - Train Loss: 0.2991834282875061 | Validation Loss: 0.3015125095844269\n",
      "Epoch 8400 - Train Loss: 0.2991788983345032 | Validation Loss: 0.3015642464160919\n",
      "Epoch 8500 - Train Loss: 0.2991766035556793 | Validation Loss: 0.3016122579574585\n",
      "Epoch 8600 - Train Loss: 0.29917463660240173 | Validation Loss: 0.30166029930114746\n",
      "Epoch 8700 - Train Loss: 0.29917335510253906 | Validation Loss: 0.3015904128551483\n",
      "Epoch 8800 - Train Loss: 0.29917290806770325 | Validation Loss: 0.30164045095443726\n",
      "Epoch 8900 - Train Loss: 0.29917219281196594 | Validation Loss: 0.3016337454319\n",
      "Epoch 9000 - Train Loss: 0.2991710305213928 | Validation Loss: 0.3017261028289795\n",
      "Epoch 9100 - Train Loss: 0.29917070269584656 | Validation Loss: 0.3016509413719177\n",
      "Epoch 9200 - Train Loss: 0.29917004704475403 | Validation Loss: 0.3016652464866638\n",
      "Epoch 9300 - Train Loss: 0.2991699278354645 | Validation Loss: 0.30174946784973145\n",
      "Epoch 9400 - Train Loss: 0.2991696894168854 | Validation Loss: 0.3017665147781372\n",
      "Epoch 9500 - Train Loss: 0.29916879534721375 | Validation Loss: 0.3017401695251465\n",
      "Epoch 9600 - Train Loss: 0.29916873574256897 | Validation Loss: 0.3017016053199768\n",
      "Epoch 9700 - Train Loss: 0.29916927218437195 | Validation Loss: 0.30167704820632935\n",
      "Epoch 9800 - Train Loss: 0.29916810989379883 | Validation Loss: 0.3017817735671997\n",
      "Epoch 9900 - Train Loss: 0.2991681396961212 | Validation Loss: 0.3017370402812958\n"
     ]
    },
    {
     "data": {
      "text/plain": [
       "<Figure size 640x480 with 1 Axes>"
      ],
      "image/png": "[encoded data removed]"
     },
     "metadata": {},
     "output_type": "display_data"
    },
    {
     "name": "stdout",
     "output_type": "stream",
     "text": [
      "Test Loss: 0.2959113121032715\n"
     ]
    }
   ],
   "execution_count": 56
  },
  {
   "metadata": {},
   "cell_type": "markdown",
   "source": "# Including Gender & Age",
   "id": "e8d6a7dc729ab41a"
  },
  {
   "metadata": {
    "ExecuteTime": {
     "end_time": "2024-11-06T10:29:31.343690Z",
     "start_time": "2024-11-06T10:29:29.344081Z"
    }
   },
   "cell_type": "code",
   "source": [
    "import torch\n",
    "import torch.nn as nn\n",
    "import matplotlib.pyplot as plt\n",
    "from sklearn.preprocessing import StandardScaler, LabelEncoder\n",
    "from sklearn.model_selection import train_test_split\n",
    "\n",
    "# Filter data for a specific job title\n",
    "job = 'Software Engineer'\n",
    "df_job = df[df['Job Title'] == job]\n",
    "df_job = df_job.dropna(subset=['Salary', 'Years of Experience', 'Education Level', 'Gender', 'Age'])\n",
    "\n",
    "# Encode 'Education Level' for simplicity\n",
    "education_mapping = {'High School': 0, 'Bachelor\\'s': 1, 'Master\\'s': 2, 'PhD': 3}\n",
    "df_job['Education Level'] = df_job['Education Level'].map(education_mapping)\n",
    "\n",
    "# Encode 'Gender'\n",
    "gender_mapping = {'Male': 0, 'Female': 1}\n",
    "df_job['Gender'] = df_job['Gender'].map(gender_mapping)\n",
    "\n",
    "# Split the data\n",
    "train, test = train_test_split(df_job, test_size=0.3, random_state=42)\n",
    "train, val = train_test_split(train, test_size=0.11, random_state=42)\n",
    "\n",
    "# Scale 'Years of Experience', 'Age', and 'Salary' for stability\n",
    "scaler = StandardScaler()\n",
    "train[['Years of Experience', 'Salary', 'Age']] = scaler.fit_transform(train[['Years of Experience', 'Salary', 'Age']])\n",
    "val[['Years of Experience', 'Salary', 'Age']] = scaler.transform(val[['Years of Experience', 'Salary', 'Age']])\n",
    "test[['Years of Experience', 'Salary', 'Age']] = scaler.transform(test[['Years of Experience', 'Salary', 'Age']])\n",
    "\n",
    "# Define the model\n",
    "class RegressionModel(nn.Module):\n",
    "    def __init__(self, input_dim, hidden_dim, output_dim):\n",
    "        super(RegressionModel, self).__init__()\n",
    "        self.layer1 = nn.Linear(input_dim, hidden_dim)\n",
    "        self.activation1 = nn.ReLU()\n",
    "        self.layer2 = nn.Linear(hidden_dim, output_dim)\n",
    "        \n",
    "    def forward(self, x):\n",
    "        x = self.layer1(x)\n",
    "        x = self.activation1(x)\n",
    "        x = self.layer2(x)\n",
    "        return x\n",
    "\n",
    "# Set up model parameters\n",
    "input_dim = 4  # Years of Experience, Education Level, Gender, Age\n",
    "hidden_dim = 64\n",
    "output_dim = 1\n",
    "model = RegressionModel(input_dim, hidden_dim, output_dim)\n",
    "\n",
    "criterion = nn.MSELoss()\n",
    "optimizer = torch.optim.Adam(model.parameters(), lr=0.001, weight_decay=1e-4)  # Add weight decay for L2 regularization\n",
    "\n",
    "# Prepare data for PyTorch\n",
    "X_train = torch.tensor(train[['Years of Experience', 'Education Level', 'Gender', 'Age']].values, dtype=torch.float32)\n",
    "y_train = torch.tensor(train['Salary'].values, dtype=torch.float32).view(-1, 1)\n",
    "X_val = torch.tensor(val[['Years of Experience', 'Education Level', 'Gender', 'Age']].values, dtype=torch.float32)\n",
    "y_val = torch.tensor(val['Salary'].values, dtype=torch.float32).view(-1, 1)\n",
    "X_test = torch.tensor(test[['Years of Experience', 'Education Level', 'Gender', 'Age']].values, dtype=torch.float32)\n",
    "y_test = torch.tensor(test['Salary'].values, dtype=torch.float32).view(-1, 1)\n",
    "\n",
    "# Training loop\n",
    "train_losses, val_losses = [], []\n",
    "for epoch in range(10000):\n",
    "    model.train()\n",
    "    optimizer.zero_grad()\n",
    "    y_pred = model(X_train)\n",
    "    train_loss = criterion(y_pred, y_train)\n",
    "    train_loss.backward()\n",
    "    optimizer.step()\n",
    "    train_losses.append(train_loss.item())\n",
    "    \n",
    "    # Validation loss\n",
    "    model.eval()\n",
    "    with torch.no_grad():\n",
    "        y_val_pred = model(X_val)\n",
    "        val_loss = criterion(y_val_pred, y_val)\n",
    "        val_losses.append(val_loss.item())\n",
    "        \n",
    "    # Print progress every 100 epochs\n",
    "    if epoch % 100 == 0:\n",
    "        print(f'Epoch {epoch} - Train Loss: {train_loss.item()} | Validation Loss: {val_loss.item()}')\n",
    "\n",
    "# Plot training and validation losses\n",
    "plt.plot(train_losses, label='Training Loss')\n",
    "plt.plot(val_losses, label='Validation Loss')\n",
    "plt.xlabel('Epochs')\n",
    "plt.ylabel('Loss')\n",
    "plt.legend()\n",
    "plt.show()\n",
    "\n",
    "# Evaluate on test set\n",
    "model.eval()\n",
    "with torch.no_grad():\n",
    "    y_test_pred = model(X_test)\n",
    "    test_loss = criterion(y_test_pred, y_test)\n",
    "    print(f'Test Loss: {test_loss.item()}')\n",
    "\n",
    "# Inverse transform predictions back to original salary scale\n",
    "# We add placeholders for 'Years of Experience' and 'Age' to inverse transform correctly\n",
    "y_test_pred_unscaled = scaler.inverse_transform(\n",
    "    torch.cat((X_test[:, 0].unsqueeze(1), y_test_pred, X_test[:, 1:2]), dim=1))[:, 1]\n",
    "\n",
    "\n",
    "# for i, pred in enumerate(y_test_pred_unscaled):\n",
    "#     actual_salary = scaler.inverse_transform(test[['Years of Experience', 'Salary', 'Age']].values)[i][1]\n",
    "#     print(f\"Predicted Salary: {pred:.2f}, Actual Salary: {actual_salary:.2f}\")"
   ],
   "id": "138b0eeed944c27e",
   "outputs": [
    {
     "name": "stdout",
     "output_type": "stream",
     "text": [
      "Epoch 0 - Train Loss: 0.8033630847930908 | Validation Loss: 0.893903911113739\n",
      "Epoch 100 - Train Loss: 0.3124675154685974 | Validation Loss: 0.3097846508026123\n",
      "Epoch 200 - Train Loss: 0.20054273307323456 | Validation Loss: 0.18044519424438477\n",
      "Epoch 300 - Train Loss: 0.16919246315956116 | Validation Loss: 0.15244361758232117\n",
      "Epoch 400 - Train Loss: 0.14937017858028412 | Validation Loss: 0.13466216623783112\n",
      "Epoch 500 - Train Loss: 0.13627125322818756 | Validation Loss: 0.12380445003509521\n",
      "Epoch 600 - Train Loss: 0.12590812146663666 | Validation Loss: 0.11651545763015747\n",
      "Epoch 700 - Train Loss: 0.11627289652824402 | Validation Loss: 0.11038436740636826\n",
      "Epoch 800 - Train Loss: 0.10511336475610733 | Validation Loss: 0.10424725711345673\n",
      "Epoch 900 - Train Loss: 0.09577333927154541 | Validation Loss: 0.09848259389400482\n",
      "Epoch 1000 - Train Loss: 0.08763466775417328 | Validation Loss: 0.09375889599323273\n",
      "Epoch 1100 - Train Loss: 0.07978828251361847 | Validation Loss: 0.08959899842739105\n",
      "Epoch 1200 - Train Loss: 0.07237143069505692 | Validation Loss: 0.0837726816534996\n",
      "Epoch 1300 - Train Loss: 0.06728500872850418 | Validation Loss: 0.07918582856655121\n",
      "Epoch 1400 - Train Loss: 0.06341885030269623 | Validation Loss: 0.0749860554933548\n",
      "Epoch 1500 - Train Loss: 0.060234930366277695 | Validation Loss: 0.07107245922088623\n",
      "Epoch 1600 - Train Loss: 0.05787259340286255 | Validation Loss: 0.06845428049564362\n",
      "Epoch 1700 - Train Loss: 0.056211553514003754 | Validation Loss: 0.06668651103973389\n",
      "Epoch 1800 - Train Loss: 0.05488792434334755 | Validation Loss: 0.06521914899349213\n",
      "Epoch 1900 - Train Loss: 0.053830817341804504 | Validation Loss: 0.06416278332471848\n",
      "Epoch 2000 - Train Loss: 0.05302952975034714 | Validation Loss: 0.06353069841861725\n",
      "Epoch 2100 - Train Loss: 0.052396856248378754 | Validation Loss: 0.06307625770568848\n",
      "Epoch 2200 - Train Loss: 0.05188331380486488 | Validation Loss: 0.06271308660507202\n",
      "Epoch 2300 - Train Loss: 0.05141599848866463 | Validation Loss: 0.06258217990398407\n",
      "Epoch 2400 - Train Loss: 0.051035601645708084 | Validation Loss: 0.06246345117688179\n",
      "Epoch 2500 - Train Loss: 0.05072372034192085 | Validation Loss: 0.06234680861234665\n",
      "Epoch 2600 - Train Loss: 0.05046894773840904 | Validation Loss: 0.06225644797086716\n",
      "Epoch 2700 - Train Loss: 0.05025877431035042 | Validation Loss: 0.062252193689346313\n",
      "Epoch 2800 - Train Loss: 0.05006244778633118 | Validation Loss: 0.06231635808944702\n",
      "Epoch 2900 - Train Loss: 0.049895092844963074 | Validation Loss: 0.062206994742155075\n",
      "Epoch 3000 - Train Loss: 0.04972666874527931 | Validation Loss: 0.06221988797187805\n",
      "Epoch 3100 - Train Loss: 0.04961434379220009 | Validation Loss: 0.06211201101541519\n",
      "Epoch 3200 - Train Loss: 0.04953761398792267 | Validation Loss: 0.06207599490880966\n",
      "Epoch 3300 - Train Loss: 0.04948548972606659 | Validation Loss: 0.062044549733400345\n",
      "Epoch 3400 - Train Loss: 0.04944204166531563 | Validation Loss: 0.06202887371182442\n",
      "Epoch 3500 - Train Loss: 0.049408040940761566 | Validation Loss: 0.062012769281864166\n",
      "Epoch 3600 - Train Loss: 0.049377862364053726 | Validation Loss: 0.062008630484342575\n",
      "Epoch 3700 - Train Loss: 0.04935312271118164 | Validation Loss: 0.06195659562945366\n",
      "Epoch 3800 - Train Loss: 0.049333833158016205 | Validation Loss: 0.0619417242705822\n",
      "Epoch 3900 - Train Loss: 0.04931928962469101 | Validation Loss: 0.061935026198625565\n",
      "Epoch 4000 - Train Loss: 0.04930569976568222 | Validation Loss: 0.061932213604450226\n",
      "Epoch 4100 - Train Loss: 0.04929307475686073 | Validation Loss: 0.06192336231470108\n",
      "Epoch 4200 - Train Loss: 0.04928453266620636 | Validation Loss: 0.061923086643218994\n",
      "Epoch 4300 - Train Loss: 0.04927920550107956 | Validation Loss: 0.06192317605018616\n",
      "Epoch 4400 - Train Loss: 0.04926716908812523 | Validation Loss: 0.06193326786160469\n",
      "Epoch 4500 - Train Loss: 0.04925953596830368 | Validation Loss: 0.061879564076662064\n",
      "Epoch 4600 - Train Loss: 0.04925313964486122 | Validation Loss: 0.061929065734148026\n",
      "Epoch 4700 - Train Loss: 0.04924440756440163 | Validation Loss: 0.06189966946840286\n",
      "Epoch 4800 - Train Loss: 0.04924239590764046 | Validation Loss: 0.061909954994916916\n",
      "Epoch 4900 - Train Loss: 0.049235228449106216 | Validation Loss: 0.061882007867097855\n",
      "Epoch 5000 - Train Loss: 0.04923766478896141 | Validation Loss: 0.06190180033445358\n",
      "Epoch 5100 - Train Loss: 0.049233999103307724 | Validation Loss: 0.06198330596089363\n",
      "Epoch 5200 - Train Loss: 0.04922335594892502 | Validation Loss: 0.06193142384290695\n",
      "Epoch 5300 - Train Loss: 0.04922886937856674 | Validation Loss: 0.0619969442486763\n",
      "Epoch 5400 - Train Loss: 0.04921175539493561 | Validation Loss: 0.06190769746899605\n",
      "Epoch 5500 - Train Loss: 0.04920505732297897 | Validation Loss: 0.06190364807844162\n",
      "Epoch 5600 - Train Loss: 0.04920130968093872 | Validation Loss: 0.06196672469377518\n",
      "Epoch 5700 - Train Loss: 0.049198273569345474 | Validation Loss: 0.061920832842588425\n",
      "Epoch 5800 - Train Loss: 0.04919176176190376 | Validation Loss: 0.06195519492030144\n",
      "Epoch 5900 - Train Loss: 0.049188923090696335 | Validation Loss: 0.06201702356338501\n",
      "Epoch 6000 - Train Loss: 0.04918663948774338 | Validation Loss: 0.06206550449132919\n",
      "Epoch 6100 - Train Loss: 0.049191150814294815 | Validation Loss: 0.0620451346039772\n",
      "Epoch 6200 - Train Loss: 0.04918593540787697 | Validation Loss: 0.06210058182477951\n",
      "Epoch 6300 - Train Loss: 0.04917248710989952 | Validation Loss: 0.06207292154431343\n",
      "Epoch 6400 - Train Loss: 0.049169428646564484 | Validation Loss: 0.06210274621844292\n",
      "Epoch 6500 - Train Loss: 0.04917127639055252 | Validation Loss: 0.06216078996658325\n",
      "Epoch 6600 - Train Loss: 0.04916674271225929 | Validation Loss: 0.062094200402498245\n",
      "Epoch 6700 - Train Loss: 0.04916853457689285 | Validation Loss: 0.06212564557790756\n",
      "Epoch 6800 - Train Loss: 0.04916458949446678 | Validation Loss: 0.06211875006556511\n",
      "Epoch 6900 - Train Loss: 0.049165498465299606 | Validation Loss: 0.062099892646074295\n",
      "Epoch 7000 - Train Loss: 0.04916573315858841 | Validation Loss: 0.06209050863981247\n",
      "Epoch 7100 - Train Loss: 0.04916514828801155 | Validation Loss: 0.06209892779588699\n",
      "Epoch 7200 - Train Loss: 0.04916395619511604 | Validation Loss: 0.06215541809797287\n",
      "Epoch 7300 - Train Loss: 0.049163661897182465 | Validation Loss: 0.06207849830389023\n",
      "Epoch 7400 - Train Loss: 0.04916258901357651 | Validation Loss: 0.06210982799530029\n",
      "Epoch 7500 - Train Loss: 0.04917018115520477 | Validation Loss: 0.06206078454852104\n",
      "Epoch 7600 - Train Loss: 0.04916379600763321 | Validation Loss: 0.062137436121702194\n",
      "Epoch 7700 - Train Loss: 0.049172427505254745 | Validation Loss: 0.062176018953323364\n",
      "Epoch 7800 - Train Loss: 0.04916100576519966 | Validation Loss: 0.06207241863012314\n",
      "Epoch 7900 - Train Loss: 0.04916086420416832 | Validation Loss: 0.0620826780796051\n",
      "Epoch 8000 - Train Loss: 0.04916516691446304 | Validation Loss: 0.062078215181827545\n",
      "Epoch 8100 - Train Loss: 0.04915931075811386 | Validation Loss: 0.06206227466464043\n",
      "Epoch 8200 - Train Loss: 0.04916490241885185 | Validation Loss: 0.06204598397016525\n",
      "Epoch 8300 - Train Loss: 0.04916466027498245 | Validation Loss: 0.062047652900218964\n",
      "Epoch 8400 - Train Loss: 0.0491657629609108 | Validation Loss: 0.06203997880220413\n",
      "Epoch 8500 - Train Loss: 0.04915984347462654 | Validation Loss: 0.06199638918042183\n",
      "Epoch 8600 - Train Loss: 0.04916203022003174 | Validation Loss: 0.06201737001538277\n",
      "Epoch 8700 - Train Loss: 0.04915899783372879 | Validation Loss: 0.062027912586927414\n",
      "Epoch 8800 - Train Loss: 0.04915868863463402 | Validation Loss: 0.06197807192802429\n",
      "Epoch 8900 - Train Loss: 0.04916098713874817 | Validation Loss: 0.06200449541211128\n",
      "Epoch 9000 - Train Loss: 0.04916544258594513 | Validation Loss: 0.06200901418924332\n",
      "Epoch 9100 - Train Loss: 0.049168817698955536 | Validation Loss: 0.06207216531038284\n",
      "Epoch 9200 - Train Loss: 0.04915737733244896 | Validation Loss: 0.06200391799211502\n",
      "Epoch 9300 - Train Loss: 0.04915698617696762 | Validation Loss: 0.06201253458857536\n",
      "Epoch 9400 - Train Loss: 0.04916152358055115 | Validation Loss: 0.06202179193496704\n",
      "Epoch 9500 - Train Loss: 0.04915771633386612 | Validation Loss: 0.0620298869907856\n",
      "Epoch 9600 - Train Loss: 0.049160879105329514 | Validation Loss: 0.06200658529996872\n",
      "Epoch 9700 - Train Loss: 0.04915955290198326 | Validation Loss: 0.062002599239349365\n",
      "Epoch 9800 - Train Loss: 0.04915868118405342 | Validation Loss: 0.06203969568014145\n",
      "Epoch 9900 - Train Loss: 0.04915903881192207 | Validation Loss: 0.06203247979283333\n"
     ]
    },
    {
     "data": {
      "text/plain": [
       "<Figure size 640x480 with 1 Axes>"
      ],
      "image/png": "[encoded data removed]"
     },
     "metadata": {},
     "output_type": "display_data"
    },
    {
     "name": "stdout",
     "output_type": "stream",
     "text": [
      "Test Loss: 0.07978124171495438\n"
     ]
    }
   ],
   "execution_count": 58
  },
  {
   "metadata": {},
   "cell_type": "code",
   "outputs": [],
   "execution_count": null,
   "source": "",
   "id": "785260d7f5a2959c"
  }
 ],
 "metadata": {
  "kernelspec": {
   "display_name": "Python 3",
   "language": "python",
   "name": "python3"
  },
  "language_info": {
   "codemirror_mode": {
    "name": "ipython",
    "version": 2
   },
   "file_extension": ".py",
   "mimetype": "text/x-python",
   "name": "python",
   "nbconvert_exporter": "python",
   "pygments_lexer": "ipython2",
   "version": "2.7.6"
  }
 },
 "nbformat": 4,
 "nbformat_minor": 5
}
