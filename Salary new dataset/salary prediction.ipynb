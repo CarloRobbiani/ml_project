{
 "cells": [
  {
   "cell_type": "code",
   "execution_count": 1,
   "id": "initial_id",
   "metadata": {
    "ExecuteTime": {
     "end_time": "2024-11-12T15:28:51.112218Z",
     "start_time": "2024-11-12T15:28:49.899652Z"
    },
    "collapsed": true
   },
   "outputs": [
    {
     "data": {
      "text/html": [
       "<div>\n",
       "<style scoped>\n",
       "    .dataframe tbody tr th:only-of-type {\n",
       "        vertical-align: middle;\n",
       "    }\n",
       "\n",
       "    .dataframe tbody tr th {\n",
       "        vertical-align: top;\n",
       "    }\n",
       "\n",
       "    .dataframe thead th {\n",
       "        text-align: right;\n",
       "    }\n",
       "</style>\n",
       "<table border=\"1\" class=\"dataframe\">\n",
       "  <thead>\n",
       "    <tr style=\"text-align: right;\">\n",
       "      <th></th>\n",
       "      <th>Age</th>\n",
       "      <th>Gender</th>\n",
       "      <th>Education Level</th>\n",
       "      <th>Job Title</th>\n",
       "      <th>Years of Experience</th>\n",
       "      <th>Salary</th>\n",
       "    </tr>\n",
       "  </thead>\n",
       "  <tbody>\n",
       "    <tr>\n",
       "      <th>0</th>\n",
       "      <td>32.0</td>\n",
       "      <td>Male</td>\n",
       "      <td>Bachelor's</td>\n",
       "      <td>Software Engineer</td>\n",
       "      <td>5.0</td>\n",
       "      <td>90000.0</td>\n",
       "    </tr>\n",
       "    <tr>\n",
       "      <th>1</th>\n",
       "      <td>28.0</td>\n",
       "      <td>Female</td>\n",
       "      <td>Master's</td>\n",
       "      <td>Data Analyst</td>\n",
       "      <td>3.0</td>\n",
       "      <td>65000.0</td>\n",
       "    </tr>\n",
       "    <tr>\n",
       "      <th>2</th>\n",
       "      <td>45.0</td>\n",
       "      <td>Male</td>\n",
       "      <td>PhD</td>\n",
       "      <td>Senior Manager</td>\n",
       "      <td>15.0</td>\n",
       "      <td>150000.0</td>\n",
       "    </tr>\n",
       "    <tr>\n",
       "      <th>3</th>\n",
       "      <td>36.0</td>\n",
       "      <td>Female</td>\n",
       "      <td>Bachelor's</td>\n",
       "      <td>Sales Associate</td>\n",
       "      <td>7.0</td>\n",
       "      <td>60000.0</td>\n",
       "    </tr>\n",
       "    <tr>\n",
       "      <th>4</th>\n",
       "      <td>52.0</td>\n",
       "      <td>Male</td>\n",
       "      <td>Master's</td>\n",
       "      <td>Director</td>\n",
       "      <td>20.0</td>\n",
       "      <td>200000.0</td>\n",
       "    </tr>\n",
       "  </tbody>\n",
       "</table>\n",
       "</div>"
      ],
      "text/plain": [
       "    Age  Gender Education Level          Job Title  Years of Experience  \\\n",
       "0  32.0    Male      Bachelor's  Software Engineer                  5.0   \n",
       "1  28.0  Female        Master's       Data Analyst                  3.0   \n",
       "2  45.0    Male             PhD     Senior Manager                 15.0   \n",
       "3  36.0  Female      Bachelor's    Sales Associate                  7.0   \n",
       "4  52.0    Male        Master's           Director                 20.0   \n",
       "\n",
       "     Salary  \n",
       "0   90000.0  \n",
       "1   65000.0  \n",
       "2  150000.0  \n",
       "3   60000.0  \n",
       "4  200000.0  "
      ]
     },
     "execution_count": 1,
     "metadata": {},
     "output_type": "execute_result"
    }
   ],
   "source": [
    "import pandas as pd\n",
    "import os\n",
    "import numpy as np\n",
    "import matplotlib.pyplot as plt\n",
    "import torch\n",
    "import torch.nn as nn\n",
    "from sklearn.preprocessing import StandardScaler, LabelEncoder\n",
    "from sklearn.model_selection import train_test_split\n",
    "from sklearn.neural_network import MLPRegressor\n",
    "from sklearn.metrics import mean_squared_error\n",
    "\n",
    "path = 'Salary_Data.csv'\n",
    "\n",
    "df = pd.read_csv(path)\n",
    "df.head()"
   ]
  },
  {
   "cell_type": "markdown",
   "id": "f80b76410248ec02",
   "metadata": {},
   "source": [
    "# Data Cleaning"
   ]
  },
  {
   "cell_type": "code",
   "execution_count": 2,
   "id": "3c0a0fc9cb233f41",
   "metadata": {
    "ExecuteTime": {
     "end_time": "2024-11-12T15:28:57.768772Z",
     "start_time": "2024-11-12T15:28:57.732370Z"
    }
   },
   "outputs": [
    {
     "data": {
      "text/plain": [
       "Education Level\n",
       "Bachelor's Degree    2267\n",
       "Master's Degree      1573\n",
       "PhD                  1368\n",
       "Bachelor's            756\n",
       "High School           448\n",
       "Master's              288\n",
       "phD                     1\n",
       "Name: count, dtype: int64"
      ]
     },
     "execution_count": 2,
     "metadata": {},
     "output_type": "execute_result"
    }
   ],
   "source": [
    "df['Education Level'].value_counts()"
   ]
  },
  {
   "cell_type": "code",
   "execution_count": 3,
   "id": "41cbf51218714a9a",
   "metadata": {
    "ExecuteTime": {
     "end_time": "2024-11-12T15:28:58.529631Z",
     "start_time": "2024-11-12T15:28:58.507682Z"
    }
   },
   "outputs": [
    {
     "name": "stdout",
     "output_type": "stream",
     "text": [
      "Index(['Age', 'Gender', 'Education Level', 'Job Title', 'Years of Experience',\n",
      "       'Salary'],\n",
      "      dtype='object')\n",
      "<class 'numpy.float64'>\n",
      "<class 'numpy.float64'>\n"
     ]
    }
   ],
   "source": [
    "print(df.columns)\n",
    "print(type(df.Salary[0]))\n",
    "print(type(df['Years of Experience'][0]))"
   ]
  },
  {
   "cell_type": "code",
   "execution_count": 4,
   "id": "60ce7d500718aaca",
   "metadata": {
    "ExecuteTime": {
     "end_time": "2024-11-12T15:28:59.187338Z",
     "start_time": "2024-11-12T15:28:59.178100Z"
    }
   },
   "outputs": [
    {
     "data": {
      "text/plain": [
       "Education Level\n",
       "Bachelor's     3023\n",
       "Master's       1861\n",
       "PhD            1369\n",
       "High School     448\n",
       "Name: count, dtype: int64"
      ]
     },
     "execution_count": 4,
     "metadata": {},
     "output_type": "execute_result"
    }
   ],
   "source": [
    "# Combining the education level Bachelor's degree and Bachelor's\n",
    "df['Education Level'] = df['Education Level'].replace(\"Bachelor's Degree\", \"Bachelor's\")\n",
    "df['Education Level'] = df['Education Level'].replace(\"phD\", \"PhD\")\n",
    "df['Education Level'] = df['Education Level'].replace(\"Master's Degree\", \"Master's\")\n",
    "\n",
    "df['Education Level'].value_counts()"
   ]
  },
  {
   "cell_type": "code",
   "execution_count": 5,
   "id": "701d3c325987af11",
   "metadata": {
    "ExecuteTime": {
     "end_time": "2024-11-12T15:29:00.160882Z",
     "start_time": "2024-11-12T15:28:59.960085Z"
    }
   },
   "outputs": [
    {
     "data": {
      "text/plain": [
       "Text(0, 0.5, 'Salary')"
      ]
     },
     "execution_count": 5,
     "metadata": {},
     "output_type": "execute_result"
    },
    {
     "data": {
      "image/png": "[encoded data removed]",
      "text/plain": [
       "<Figure size 640x480 with 1 Axes>"
      ]
     },
     "metadata": {},
     "output_type": "display_data"
    }
   ],
   "source": [
    "plt.scatter(df['Years of Experience'], df['Salary'])\n",
    "plt.xlabel('Years of Experience')\n",
    "plt.ylabel('Salary')"
   ]
  },
  {
   "cell_type": "code",
   "execution_count": 6,
   "id": "de4f45023ef2276b",
   "metadata": {
    "ExecuteTime": {
     "end_time": "2024-11-12T15:29:01.406077Z",
     "start_time": "2024-11-12T15:29:01.006874Z"
    }
   },
   "outputs": [
    {
     "name": "stderr",
     "output_type": "stream",
     "text": [
      "C:\\Users\\carlo\\AppData\\Local\\Temp\\ipykernel_8148\\2615817528.py:3: FutureWarning: The default of observed=False is deprecated and will be changed to True in a future version of pandas. Pass observed=False to retain current behavior or observed=True to adopt the future default and silence this warning.\n",
      "  df.groupby('Education Level')['Salary'].mean().plot(kind='bar')\n"
     ]
    },
    {
     "data": {
      "text/plain": [
       "<Axes: xlabel='Education Level'>"
      ]
     },
     "execution_count": 6,
     "metadata": {},
     "output_type": "execute_result"
    },
    {
     "data": {
      "image/png": "[encoded data removed]",
      "text/plain": [
       "<Figure size 640x480 with 1 Axes>"
      ]
     },
     "metadata": {},
     "output_type": "display_data"
    }
   ],
   "source": [
    "df['Education Level'] = pd.Categorical(df['Education Level'], categories=['High School', 'Bachelor\\'s', 'Master\\'s', 'PhD'], ordered=True)\n",
    "\n",
    "df.groupby('Education Level')['Salary'].mean().plot(kind='bar')"
   ]
  },
  {
   "cell_type": "code",
   "execution_count": 7,
   "id": "92e263d7eaaf3347",
   "metadata": {
    "ExecuteTime": {
     "end_time": "2024-11-12T15:29:02.575869Z",
     "start_time": "2024-11-12T15:29:02.568869Z"
    }
   },
   "outputs": [
    {
     "data": {
      "text/plain": [
       "Job Title\n",
       "Software Engineer             518\n",
       "Data Scientist                453\n",
       "Software Engineer Manager     376\n",
       "Data Analyst                  363\n",
       "Senior Project Engineer       318\n",
       "                             ... \n",
       "Account Manager                 1\n",
       "Help Desk Analyst               1\n",
       "Senior Training Specialist      1\n",
       "Junior Web Designer             1\n",
       "Supply Chain Analyst            1\n",
       "Name: count, Length: 193, dtype: int64"
      ]
     },
     "execution_count": 7,
     "metadata": {},
     "output_type": "execute_result"
    }
   ],
   "source": [
    "# Job Title with the most data\n",
    "df['Job Title'].value_counts()"
   ]
  },
  {
   "cell_type": "code",
   "execution_count": 8,
   "id": "5dbe746f14f2d034",
   "metadata": {
    "ExecuteTime": {
     "end_time": "2024-11-12T15:29:02.943915Z",
     "start_time": "2024-11-12T15:29:02.935738Z"
    }
   },
   "outputs": [
    {
     "data": {
      "text/plain": [
       "Job Title\n",
       "Software Engineer            518\n",
       "Data Scientist               453\n",
       "Software Engineer Manager    376\n",
       "Data Analyst                 363\n",
       "Senior Project Engineer      318\n",
       "Product Manager              313\n",
       "Full Stack Engineer          309\n",
       "Marketing Manager            255\n",
       "Senior Software Engineer     244\n",
       "Back end Developer           244\n",
       "Front end Developer          241\n",
       "Marketing Coordinator        158\n",
       "Junior Sales Associate       142\n",
       "Financial Manager            134\n",
       "Marketing Analyst            132\n",
       "Software Developer           125\n",
       "Operations Manager           114\n",
       "Human Resources Manager      104\n",
       "Name: count, dtype: int64"
      ]
     },
     "execution_count": 8,
     "metadata": {},
     "output_type": "execute_result"
    }
   ],
   "source": [
    "# Remove Jobs with less than 10 data points\n",
    "df = df.groupby('Job Title').filter(lambda x: len(x) > 100)\n",
    "df['Job Title'].value_counts()"
   ]
  },
  {
   "cell_type": "markdown",
   "id": "dd2660f746251aa6",
   "metadata": {},
   "source": [
    "# Define Model"
   ]
  },
  {
   "cell_type": "code",
   "execution_count": 9,
   "id": "f4afc18607fe7674",
   "metadata": {
    "ExecuteTime": {
     "end_time": "2024-11-12T15:29:04.939418Z",
     "start_time": "2024-11-12T15:29:04.906522Z"
    }
   },
   "outputs": [],
   "source": [
    "import torch.nn as nn\n",
    "class RegressionModel(nn.Module):\n",
    "    def __init__(self, input_dim, hidden_dim, output_dim):\n",
    "        super(RegressionModel, self).__init__()\n",
    "        self.layer1 = nn.Linear(input_dim, hidden_dim)\n",
    "        self.activation1 = nn.ReLU()\n",
    "        self.layer2 = nn.Linear(hidden_dim, output_dim)\n",
    "        # self.activation2 = nn.ReLU()\n",
    "        # self.layer3 = nn.Linear(hidden_dim, output_dim)\n",
    "        \n",
    "    def forward(self, x):\n",
    "        x = self.layer1(x)\n",
    "        x = self.activation1(x)\n",
    "        x = self.layer2(x)\n",
    "        # x = self.activation2(x)\n",
    "        # return self.layer3(x)\n",
    "        return x"
   ]
  },
  {
   "cell_type": "code",
   "execution_count": null,
   "id": "c265447e2dbf65d6",
   "metadata": {
    "ExecuteTime": {
     "end_time": "2024-11-12T15:29:06.261864Z",
     "start_time": "2024-11-12T15:29:06.259044Z"
    }
   },
   "outputs": [],
   "source": []
  },
  {
   "cell_type": "markdown",
   "id": "f46c990729a138de",
   "metadata": {},
   "source": [
    "# Prepare data"
   ]
  },
  {
   "cell_type": "code",
   "execution_count": 57,
   "id": "4b6b09e0248b09fa",
   "metadata": {
    "ExecuteTime": {
     "end_time": "2024-11-12T15:40:12.692496Z",
     "start_time": "2024-11-12T15:40:12.655225Z"
    }
   },
   "outputs": [],
   "source": [
    "import joblib\n",
    "# Encode 'Education Level' for simplicity\n",
    "education_mapping = {'High School': 0, 'Bachelor\\'s': 1, 'Master\\'s': 2, 'PhD': 3}\n",
    "df['Education Level'] = df['Education Level'].map(lambda x: education_mapping.get(x, x)).copy()\n",
    "\n",
    "df = df[df['Gender'] != 'Other']\n",
    "gender_mapping = {'Male': 0, 'Female': 1}\n",
    "df['Gender'] = df['Gender'].map(lambda x: gender_mapping.get(x, x)).copy()\n",
    "\n",
    "train, test = train_test_split(df, test_size=0.3, random_state=42)\n",
    "train, val = train_test_split(train, test_size=0.11, random_state=42)\n",
    "\n",
    "target_column = \"Salary\"\n",
    "sensitive_feature = ['Age', 'Gender']\n",
    "features = train.columns.difference([target_column])\n",
    "\n",
    "scaler = StandardScaler()\n",
    "\n",
    "train[['Years of Experience', 'Salary', 'Age']] = scaler.fit_transform(train[['Years of Experience', 'Salary', 'Age']])\n",
    "val[['Years of Experience', 'Salary', 'Age']] = scaler.transform(val[['Years of Experience', 'Salary', 'Age']])\n",
    "test[['Years of Experience', 'Salary', 'Age']] = scaler.transform(test[['Years of Experience', 'Salary', 'Age']])\n",
    "\n",
    "joblib.dump(scaler, \"scaler_preds\")\n",
    "\n",
    "encoder = LabelEncoder()\n",
    "train['Job Title'] = encoder.fit_transform(train['Job Title'])\n",
    "val['Job Title'] = encoder.transform(val['Job Title'])\n",
    "test['Job Title'] = encoder.transform(test['Job Title'])\n",
    "\n",
    "X_train = pd.DataFrame((train),columns = features)\n",
    "y_train = pd.DataFrame((train),columns = [target_column])\n",
    "# X_train = torch.tensor(train[features].values, dtype=torch.float32)\n",
    "# y_train = torch.tensor(train[target_column].values, dtype=torch.float32).view(-1, 1)\n",
    "X_val = pd.DataFrame((val),columns = features)\n",
    "y_val = pd.DataFrame((val),columns = [target_column])\n",
    "# X_val = torch.tensor(val[features].values, dtype=torch.float32)\n",
    "# y_val = torch.tensor(val[target_column].values, dtype=torch.float32).view(-1, 1)\n",
    "X_test = pd.DataFrame((test),columns = features)\n",
    "y_test = pd.DataFrame((test),columns = [target_column])\n",
    "# X_test = torch.tensor(test[features].values, dtype=torch.float32)\n",
    "# y_test = torch.tensor(test[target_column].values, dtype=torch.float32).view(-1, 1)"
   ]
  },
  {
   "cell_type": "code",
   "execution_count": 11,
   "id": "07b59324",
   "metadata": {},
   "outputs": [],
   "source": [
    "#fill na values with 0 \n",
    "y_train = y_train.fillna(0)\n"
   ]
  },
  {
   "cell_type": "code",
   "execution_count": 12,
   "id": "ffb7bac1c6d7783e",
   "metadata": {
    "ExecuteTime": {
     "end_time": "2024-11-12T15:40:13.114958Z",
     "start_time": "2024-11-12T15:40:13.106736Z"
    }
   },
   "outputs": [
    {
     "data": {
      "text/html": [
       "<div>\n",
       "<style scoped>\n",
       "    .dataframe tbody tr th:only-of-type {\n",
       "        vertical-align: middle;\n",
       "    }\n",
       "\n",
       "    .dataframe tbody tr th {\n",
       "        vertical-align: top;\n",
       "    }\n",
       "\n",
       "    .dataframe thead th {\n",
       "        text-align: right;\n",
       "    }\n",
       "</style>\n",
       "<table border=\"1\" class=\"dataframe\">\n",
       "  <thead>\n",
       "    <tr style=\"text-align: right;\">\n",
       "      <th></th>\n",
       "      <th>Age</th>\n",
       "      <th>Education Level</th>\n",
       "      <th>Gender</th>\n",
       "      <th>Job Title</th>\n",
       "      <th>Years of Experience</th>\n",
       "    </tr>\n",
       "  </thead>\n",
       "  <tbody>\n",
       "    <tr>\n",
       "      <th>3839</th>\n",
       "      <td>0.648389</td>\n",
       "      <td>2</td>\n",
       "      <td>1</td>\n",
       "      <td>6</td>\n",
       "      <td>0.408237</td>\n",
       "    </tr>\n",
       "    <tr>\n",
       "      <th>4032</th>\n",
       "      <td>1.161282</td>\n",
       "      <td>3</td>\n",
       "      <td>0</td>\n",
       "      <td>2</td>\n",
       "      <td>1.219705</td>\n",
       "    </tr>\n",
       "    <tr>\n",
       "      <th>2910</th>\n",
       "      <td>1.545952</td>\n",
       "      <td>2</td>\n",
       "      <td>0</td>\n",
       "      <td>14</td>\n",
       "      <td>1.868880</td>\n",
       "    </tr>\n",
       "    <tr>\n",
       "      <th>2364</th>\n",
       "      <td>-1.274961</td>\n",
       "      <td>1</td>\n",
       "      <td>1</td>\n",
       "      <td>15</td>\n",
       "      <td>-1.052406</td>\n",
       "    </tr>\n",
       "    <tr>\n",
       "      <th>5138</th>\n",
       "      <td>0.391942</td>\n",
       "      <td>1</td>\n",
       "      <td>0</td>\n",
       "      <td>12</td>\n",
       "      <td>0.570530</td>\n",
       "    </tr>\n",
       "    <tr>\n",
       "      <th>...</th>\n",
       "      <td>...</td>\n",
       "      <td>...</td>\n",
       "      <td>...</td>\n",
       "      <td>...</td>\n",
       "      <td>...</td>\n",
       "    </tr>\n",
       "    <tr>\n",
       "      <th>2414</th>\n",
       "      <td>-1.403184</td>\n",
       "      <td>3</td>\n",
       "      <td>0</td>\n",
       "      <td>17</td>\n",
       "      <td>-1.214700</td>\n",
       "    </tr>\n",
       "    <tr>\n",
       "      <th>846</th>\n",
       "      <td>-1.018514</td>\n",
       "      <td>1</td>\n",
       "      <td>0</td>\n",
       "      <td>1</td>\n",
       "      <td>-0.890113</td>\n",
       "    </tr>\n",
       "    <tr>\n",
       "      <th>1717</th>\n",
       "      <td>0.648389</td>\n",
       "      <td>2</td>\n",
       "      <td>1</td>\n",
       "      <td>14</td>\n",
       "      <td>0.408237</td>\n",
       "    </tr>\n",
       "    <tr>\n",
       "      <th>4015</th>\n",
       "      <td>-0.890291</td>\n",
       "      <td>2</td>\n",
       "      <td>1</td>\n",
       "      <td>10</td>\n",
       "      <td>-0.890113</td>\n",
       "    </tr>\n",
       "    <tr>\n",
       "      <th>1401</th>\n",
       "      <td>-0.377397</td>\n",
       "      <td>2</td>\n",
       "      <td>0</td>\n",
       "      <td>14</td>\n",
       "      <td>-0.240938</td>\n",
       "    </tr>\n",
       "  </tbody>\n",
       "</table>\n",
       "<p>2821 rows × 5 columns</p>\n",
       "</div>"
      ],
      "text/plain": [
       "           Age Education Level  Gender  Job Title  Years of Experience\n",
       "3839  0.648389               2       1          6             0.408237\n",
       "4032  1.161282               3       0          2             1.219705\n",
       "2910  1.545952               2       0         14             1.868880\n",
       "2364 -1.274961               1       1         15            -1.052406\n",
       "5138  0.391942               1       0         12             0.570530\n",
       "...        ...             ...     ...        ...                  ...\n",
       "2414 -1.403184               3       0         17            -1.214700\n",
       "846  -1.018514               1       0          1            -0.890113\n",
       "1717  0.648389               2       1         14             0.408237\n",
       "4015 -0.890291               2       1         10            -0.890113\n",
       "1401 -0.377397               2       0         14            -0.240938\n",
       "\n",
       "[2821 rows x 5 columns]"
      ]
     },
     "execution_count": 12,
     "metadata": {},
     "output_type": "execute_result"
    }
   ],
   "source": [
    "X_train"
   ]
  },
  {
   "cell_type": "code",
   "execution_count": 13,
   "id": "af63fb53e6eca038",
   "metadata": {
    "ExecuteTime": {
     "end_time": "2024-11-12T15:41:17.568067Z",
     "start_time": "2024-11-12T15:41:17.532195Z"
    }
   },
   "outputs": [
    {
     "data": {
      "text/plain": [
       "Salary    0\n",
       "dtype: int64"
      ]
     },
     "execution_count": 13,
     "metadata": {},
     "output_type": "execute_result"
    }
   ],
   "source": [
    "y_train.isna().sum()"
   ]
  },
  {
   "cell_type": "markdown",
   "id": "f1f36f9ce02f34c5",
   "metadata": {},
   "source": [
    "# Training For Data Scientist Job not important for prediction"
   ]
  },
  {
   "cell_type": "code",
   "execution_count": 14,
   "id": "13ff34fc6796df2a",
   "metadata": {
    "ExecuteTime": {
     "end_time": "2024-11-12T15:40:14.677023Z",
     "start_time": "2024-11-12T15:40:14.590622Z"
    }
   },
   "outputs": [
    {
     "name": "stderr",
     "output_type": "stream",
     "text": [
      "C:\\Users\\carlo\\AppData\\Local\\Packages\\PythonSoftwareFoundation.Python.3.11_qbz5n2kfra8p0\\LocalCache\\local-packages\\Python311\\site-packages\\sklearn\\neural_network\\_multilayer_perceptron.py:1631: DataConversionWarning: A column-vector y was passed when a 1d array was expected. Please change the shape of y to (n_samples, ), for example using ravel().\n",
      "  y = column_or_1d(y, warn=True)\n"
     ]
    },
    {
     "name": "stdout",
     "output_type": "stream",
     "text": [
      "Mean Squared Error: 0.2745255139268479\n",
      "Average Error: 19819.622439997976\n"
     ]
    }
   ],
   "source": [
    "selected_features = ['Years of Experience', 'Education Level']\n",
    "model_all = MLPRegressor(hidden_layer_sizes=(64, 64), max_iter=1000)\n",
    "model_all.fit(X_train[selected_features], y_train)\n",
    "\n",
    "y_pred = model_all.predict(X_test[selected_features])\n",
    "mse = mean_squared_error(y_test, y_pred)\n",
    "print(f'Mean Squared Error: {mse}')\n",
    "\n",
    "# Inverse transform predictions back to original salary scale\n",
    "y_test_pred_unscaled = scaler.inverse_transform(\n",
    "    np.concatenate((X_test[['Years of Experience']].values, y_pred.reshape(-1, 1), X_test[['Age']].values), axis=1))[:, 1]\n",
    "\n",
    "sum_error_all = 0\n",
    "\n",
    "for i, pred in enumerate(y_test_pred_unscaled):\n",
    "    actual_salary = scaler.inverse_transform(test[['Years of Experience', 'Salary', 'Age']].values)[i][1]\n",
    "    sum_error_all += abs(pred - actual_salary)/ len(y_test_pred_unscaled)\n",
    "    \n",
    "print(f\"Average Error: {sum_error_all}\")"
   ]
  },
  {
   "cell_type": "code",
   "execution_count": 15,
   "id": "e1f77fb1caa6b583",
   "metadata": {
    "ExecuteTime": {
     "end_time": "2024-11-11T12:57:56.171554Z",
     "start_time": "2024-11-11T12:57:55.990140Z"
    }
   },
   "outputs": [
    {
     "ename": "TypeError",
     "evalue": "linear(): argument 'input' (position 1) must be Tensor, not DataFrame",
     "output_type": "error",
     "traceback": [
      "\u001b[1;31m---------------------------------------------------------------------------\u001b[0m",
      "\u001b[1;31mTypeError\u001b[0m                                 Traceback (most recent call last)",
      "Cell \u001b[1;32mIn[15], line 17\u001b[0m\n\u001b[0;32m     15\u001b[0m model_all\u001b[38;5;241m.\u001b[39mtrain()\n\u001b[0;32m     16\u001b[0m optimizer\u001b[38;5;241m.\u001b[39mzero_grad()\n\u001b[1;32m---> 17\u001b[0m y_pred \u001b[38;5;241m=\u001b[39m \u001b[43mmodel_all\u001b[49m\u001b[43m(\u001b[49m\u001b[43mX_train\u001b[49m\u001b[43m[\u001b[49m\u001b[43mselected_features\u001b[49m\u001b[43m]\u001b[49m\u001b[43m)\u001b[49m\n\u001b[0;32m     18\u001b[0m train_loss \u001b[38;5;241m=\u001b[39m criterion(y_pred, y_train)\n\u001b[0;32m     19\u001b[0m train_loss\u001b[38;5;241m.\u001b[39mbackward()\n",
      "File \u001b[1;32m~\\AppData\\Local\\Packages\\PythonSoftwareFoundation.Python.3.11_qbz5n2kfra8p0\\LocalCache\\local-packages\\Python311\\site-packages\\torch\\nn\\modules\\module.py:1518\u001b[0m, in \u001b[0;36mModule._wrapped_call_impl\u001b[1;34m(self, *args, **kwargs)\u001b[0m\n\u001b[0;32m   1516\u001b[0m     \u001b[38;5;28;01mreturn\u001b[39;00m \u001b[38;5;28mself\u001b[39m\u001b[38;5;241m.\u001b[39m_compiled_call_impl(\u001b[38;5;241m*\u001b[39margs, \u001b[38;5;241m*\u001b[39m\u001b[38;5;241m*\u001b[39mkwargs)  \u001b[38;5;66;03m# type: ignore[misc]\u001b[39;00m\n\u001b[0;32m   1517\u001b[0m \u001b[38;5;28;01melse\u001b[39;00m:\n\u001b[1;32m-> 1518\u001b[0m     \u001b[38;5;28;01mreturn\u001b[39;00m \u001b[38;5;28;43mself\u001b[39;49m\u001b[38;5;241;43m.\u001b[39;49m\u001b[43m_call_impl\u001b[49m\u001b[43m(\u001b[49m\u001b[38;5;241;43m*\u001b[39;49m\u001b[43margs\u001b[49m\u001b[43m,\u001b[49m\u001b[43m \u001b[49m\u001b[38;5;241;43m*\u001b[39;49m\u001b[38;5;241;43m*\u001b[39;49m\u001b[43mkwargs\u001b[49m\u001b[43m)\u001b[49m\n",
      "File \u001b[1;32m~\\AppData\\Local\\Packages\\PythonSoftwareFoundation.Python.3.11_qbz5n2kfra8p0\\LocalCache\\local-packages\\Python311\\site-packages\\torch\\nn\\modules\\module.py:1527\u001b[0m, in \u001b[0;36mModule._call_impl\u001b[1;34m(self, *args, **kwargs)\u001b[0m\n\u001b[0;32m   1522\u001b[0m \u001b[38;5;66;03m# If we don't have any hooks, we want to skip the rest of the logic in\u001b[39;00m\n\u001b[0;32m   1523\u001b[0m \u001b[38;5;66;03m# this function, and just call forward.\u001b[39;00m\n\u001b[0;32m   1524\u001b[0m \u001b[38;5;28;01mif\u001b[39;00m \u001b[38;5;129;01mnot\u001b[39;00m (\u001b[38;5;28mself\u001b[39m\u001b[38;5;241m.\u001b[39m_backward_hooks \u001b[38;5;129;01mor\u001b[39;00m \u001b[38;5;28mself\u001b[39m\u001b[38;5;241m.\u001b[39m_backward_pre_hooks \u001b[38;5;129;01mor\u001b[39;00m \u001b[38;5;28mself\u001b[39m\u001b[38;5;241m.\u001b[39m_forward_hooks \u001b[38;5;129;01mor\u001b[39;00m \u001b[38;5;28mself\u001b[39m\u001b[38;5;241m.\u001b[39m_forward_pre_hooks\n\u001b[0;32m   1525\u001b[0m         \u001b[38;5;129;01mor\u001b[39;00m _global_backward_pre_hooks \u001b[38;5;129;01mor\u001b[39;00m _global_backward_hooks\n\u001b[0;32m   1526\u001b[0m         \u001b[38;5;129;01mor\u001b[39;00m _global_forward_hooks \u001b[38;5;129;01mor\u001b[39;00m _global_forward_pre_hooks):\n\u001b[1;32m-> 1527\u001b[0m     \u001b[38;5;28;01mreturn\u001b[39;00m \u001b[43mforward_call\u001b[49m\u001b[43m(\u001b[49m\u001b[38;5;241;43m*\u001b[39;49m\u001b[43margs\u001b[49m\u001b[43m,\u001b[49m\u001b[43m \u001b[49m\u001b[38;5;241;43m*\u001b[39;49m\u001b[38;5;241;43m*\u001b[39;49m\u001b[43mkwargs\u001b[49m\u001b[43m)\u001b[49m\n\u001b[0;32m   1529\u001b[0m \u001b[38;5;28;01mtry\u001b[39;00m:\n\u001b[0;32m   1530\u001b[0m     result \u001b[38;5;241m=\u001b[39m \u001b[38;5;28;01mNone\u001b[39;00m\n",
      "Cell \u001b[1;32mIn[9], line 12\u001b[0m, in \u001b[0;36mRegressionModel.forward\u001b[1;34m(self, x)\u001b[0m\n\u001b[0;32m     11\u001b[0m \u001b[38;5;28;01mdef\u001b[39;00m \u001b[38;5;21mforward\u001b[39m(\u001b[38;5;28mself\u001b[39m, x):\n\u001b[1;32m---> 12\u001b[0m     x \u001b[38;5;241m=\u001b[39m \u001b[38;5;28;43mself\u001b[39;49m\u001b[38;5;241;43m.\u001b[39;49m\u001b[43mlayer1\u001b[49m\u001b[43m(\u001b[49m\u001b[43mx\u001b[49m\u001b[43m)\u001b[49m\n\u001b[0;32m     13\u001b[0m     x \u001b[38;5;241m=\u001b[39m \u001b[38;5;28mself\u001b[39m\u001b[38;5;241m.\u001b[39mactivation1(x)\n\u001b[0;32m     14\u001b[0m     x \u001b[38;5;241m=\u001b[39m \u001b[38;5;28mself\u001b[39m\u001b[38;5;241m.\u001b[39mlayer2(x)\n",
      "File \u001b[1;32m~\\AppData\\Local\\Packages\\PythonSoftwareFoundation.Python.3.11_qbz5n2kfra8p0\\LocalCache\\local-packages\\Python311\\site-packages\\torch\\nn\\modules\\module.py:1518\u001b[0m, in \u001b[0;36mModule._wrapped_call_impl\u001b[1;34m(self, *args, **kwargs)\u001b[0m\n\u001b[0;32m   1516\u001b[0m     \u001b[38;5;28;01mreturn\u001b[39;00m \u001b[38;5;28mself\u001b[39m\u001b[38;5;241m.\u001b[39m_compiled_call_impl(\u001b[38;5;241m*\u001b[39margs, \u001b[38;5;241m*\u001b[39m\u001b[38;5;241m*\u001b[39mkwargs)  \u001b[38;5;66;03m# type: ignore[misc]\u001b[39;00m\n\u001b[0;32m   1517\u001b[0m \u001b[38;5;28;01melse\u001b[39;00m:\n\u001b[1;32m-> 1518\u001b[0m     \u001b[38;5;28;01mreturn\u001b[39;00m \u001b[38;5;28;43mself\u001b[39;49m\u001b[38;5;241;43m.\u001b[39;49m\u001b[43m_call_impl\u001b[49m\u001b[43m(\u001b[49m\u001b[38;5;241;43m*\u001b[39;49m\u001b[43margs\u001b[49m\u001b[43m,\u001b[49m\u001b[43m \u001b[49m\u001b[38;5;241;43m*\u001b[39;49m\u001b[38;5;241;43m*\u001b[39;49m\u001b[43mkwargs\u001b[49m\u001b[43m)\u001b[49m\n",
      "File \u001b[1;32m~\\AppData\\Local\\Packages\\PythonSoftwareFoundation.Python.3.11_qbz5n2kfra8p0\\LocalCache\\local-packages\\Python311\\site-packages\\torch\\nn\\modules\\module.py:1527\u001b[0m, in \u001b[0;36mModule._call_impl\u001b[1;34m(self, *args, **kwargs)\u001b[0m\n\u001b[0;32m   1522\u001b[0m \u001b[38;5;66;03m# If we don't have any hooks, we want to skip the rest of the logic in\u001b[39;00m\n\u001b[0;32m   1523\u001b[0m \u001b[38;5;66;03m# this function, and just call forward.\u001b[39;00m\n\u001b[0;32m   1524\u001b[0m \u001b[38;5;28;01mif\u001b[39;00m \u001b[38;5;129;01mnot\u001b[39;00m (\u001b[38;5;28mself\u001b[39m\u001b[38;5;241m.\u001b[39m_backward_hooks \u001b[38;5;129;01mor\u001b[39;00m \u001b[38;5;28mself\u001b[39m\u001b[38;5;241m.\u001b[39m_backward_pre_hooks \u001b[38;5;129;01mor\u001b[39;00m \u001b[38;5;28mself\u001b[39m\u001b[38;5;241m.\u001b[39m_forward_hooks \u001b[38;5;129;01mor\u001b[39;00m \u001b[38;5;28mself\u001b[39m\u001b[38;5;241m.\u001b[39m_forward_pre_hooks\n\u001b[0;32m   1525\u001b[0m         \u001b[38;5;129;01mor\u001b[39;00m _global_backward_pre_hooks \u001b[38;5;129;01mor\u001b[39;00m _global_backward_hooks\n\u001b[0;32m   1526\u001b[0m         \u001b[38;5;129;01mor\u001b[39;00m _global_forward_hooks \u001b[38;5;129;01mor\u001b[39;00m _global_forward_pre_hooks):\n\u001b[1;32m-> 1527\u001b[0m     \u001b[38;5;28;01mreturn\u001b[39;00m \u001b[43mforward_call\u001b[49m\u001b[43m(\u001b[49m\u001b[38;5;241;43m*\u001b[39;49m\u001b[43margs\u001b[49m\u001b[43m,\u001b[49m\u001b[43m \u001b[49m\u001b[38;5;241;43m*\u001b[39;49m\u001b[38;5;241;43m*\u001b[39;49m\u001b[43mkwargs\u001b[49m\u001b[43m)\u001b[49m\n\u001b[0;32m   1529\u001b[0m \u001b[38;5;28;01mtry\u001b[39;00m:\n\u001b[0;32m   1530\u001b[0m     result \u001b[38;5;241m=\u001b[39m \u001b[38;5;28;01mNone\u001b[39;00m\n",
      "File \u001b[1;32m~\\AppData\\Local\\Packages\\PythonSoftwareFoundation.Python.3.11_qbz5n2kfra8p0\\LocalCache\\local-packages\\Python311\\site-packages\\torch\\nn\\modules\\linear.py:114\u001b[0m, in \u001b[0;36mLinear.forward\u001b[1;34m(self, input)\u001b[0m\n\u001b[0;32m    113\u001b[0m \u001b[38;5;28;01mdef\u001b[39;00m \u001b[38;5;21mforward\u001b[39m(\u001b[38;5;28mself\u001b[39m, \u001b[38;5;28minput\u001b[39m: Tensor) \u001b[38;5;241m-\u001b[39m\u001b[38;5;241m>\u001b[39m Tensor:\n\u001b[1;32m--> 114\u001b[0m     \u001b[38;5;28;01mreturn\u001b[39;00m \u001b[43mF\u001b[49m\u001b[38;5;241;43m.\u001b[39;49m\u001b[43mlinear\u001b[49m\u001b[43m(\u001b[49m\u001b[38;5;28;43minput\u001b[39;49m\u001b[43m,\u001b[49m\u001b[43m \u001b[49m\u001b[38;5;28;43mself\u001b[39;49m\u001b[38;5;241;43m.\u001b[39;49m\u001b[43mweight\u001b[49m\u001b[43m,\u001b[49m\u001b[43m \u001b[49m\u001b[38;5;28;43mself\u001b[39;49m\u001b[38;5;241;43m.\u001b[39;49m\u001b[43mbias\u001b[49m\u001b[43m)\u001b[49m\n",
      "\u001b[1;31mTypeError\u001b[0m: linear(): argument 'input' (position 1) must be Tensor, not DataFrame"
     ]
    }
   ],
   "source": [
    "# Set up model parameters\n",
    "selected_features = ['Years of Experience', 'Education Level']\n",
    "\n",
    "input_dim = 2  # Years of Experience, Education Level, \n",
    "hidden_dim = 64\n",
    "output_dim = 1\n",
    "model_all = RegressionModel(input_dim, hidden_dim, output_dim)\n",
    "\n",
    "criterion = nn.MSELoss()\n",
    "optimizer = torch.optim.Adam(model_all.parameters(), lr=0.001, weight_decay=1e-4)  # Add weight decay for L2 regularization\n",
    "\n",
    "# Training loop\n",
    "train_losses, val_losses = [], []\n",
    "for epoch in range(5000):\n",
    "    model_all.train()\n",
    "    optimizer.zero_grad()\n",
    "    y_pred = model_all(X_train[selected_features])\n",
    "    train_loss = criterion(y_pred, y_train)\n",
    "    train_loss.backward()\n",
    "    optimizer.step()\n",
    "    train_losses.append(train_loss.item())\n",
    "    \n",
    "    # Validation loss\n",
    "    model_all.eval()\n",
    "    with torch.no_grad():\n",
    "        y_val_pred = model_all(X_val[selected_features])\n",
    "        val_loss = criterion(y_val_pred, y_val)\n",
    "        val_losses.append(val_loss.item())\n",
    "        \n",
    "    # Print progress every 100 epochs\n",
    "    if epoch % 1000 == 0:\n",
    "        print(f'Epoch {epoch} - Train Loss: {train_loss.item()} | Validation Loss: {val_loss.item()}')\n",
    "\n",
    "# Plot training and validation losses\n",
    "plt.plot(train_losses, label='Training Loss')\n",
    "plt.plot(val_losses, label='Validation Loss')\n",
    "plt.xlabel('Epochs')\n",
    "plt.ylabel('Loss')\n",
    "plt.legend()\n",
    "plt.show()\n",
    "\n",
    "# Evaluate on test set\n",
    "model_all.eval()\n",
    "with torch.no_grad():\n",
    "    y_test_pred = model_all(X_test[selected_features])\n",
    "    test_loss = criterion(y_test_pred, y_test)\n",
    "    print(f'Test Loss: {test_loss.item()}')"
   ]
  },
  {
   "cell_type": "markdown",
   "id": "43d2adba22f28eaa",
   "metadata": {},
   "source": [
    "# Including Gender & Age"
   ]
  },
  {
   "cell_type": "code",
   "execution_count": 55,
   "id": "e44f50f61bcb06d7",
   "metadata": {
    "ExecuteTime": {
     "end_time": "2024-11-11T11:43:55.791019Z",
     "start_time": "2024-11-11T11:43:14.192473Z"
    }
   },
   "outputs": [
    {
     "name": "stdout",
     "output_type": "stream",
     "text": [
      "           Age  Gender Education Level          Job Title  \\\n",
      "403   0.969242       1               1  Software Engineer   \n",
      "918   1.335123       0               1  Software Engineer   \n",
      "938   1.335123       0               1  Software Engineer   \n",
      "712   1.335123       0               1  Software Engineer   \n",
      "4041  0.237481       0               1  Software Engineer   \n",
      "\n",
      "      Years of Experience    Salary  \n",
      "403              0.688693  0.901876  \n",
      "918              1.573959  1.631115  \n",
      "938              1.573959  1.631115  \n",
      "712              1.573959  1.631115  \n",
      "4041            -0.196573 -0.869134  \n",
      "Epoch 0 - Train Loss: 0.8456382155418396 | Validation Loss: 0.9417287111282349\n",
      "Epoch 1000 - Train Loss: 0.14354194700717926 | Validation Loss: 0.1264873445034027\n",
      "Epoch 2000 - Train Loss: 0.10309251397848129 | Validation Loss: 0.10133866965770721\n",
      "Epoch 3000 - Train Loss: 0.06857627630233765 | Validation Loss: 0.07777152955532074\n",
      "Epoch 4000 - Train Loss: 0.054800186306238174 | Validation Loss: 0.06756573915481567\n"
     ]
    },
    {
     "data": {
      "image/png": "[encoded data removed]",
      "text/plain": [
       "<Figure size 640x480 with 1 Axes>"
      ]
     },
     "metadata": {},
     "output_type": "display_data"
    },
    {
     "name": "stdout",
     "output_type": "stream",
     "text": [
      "Test Loss: 0.08697637170553207\n"
     ]
    },
    {
     "ename": "ValueError",
     "evalue": "operands could not be broadcast together with shapes (156,3) (2,) (156,3) ",
     "output_type": "error",
     "traceback": [
      "\u001b[1;31m---------------------------------------------------------------------------\u001b[0m",
      "\u001b[1;31mValueError\u001b[0m                                Traceback (most recent call last)",
      "Cell \u001b[1;32mIn[55], line 84\u001b[0m\n\u001b[0;32m     80\u001b[0m     \u001b[38;5;28mprint\u001b[39m(\u001b[38;5;124mf\u001b[39m\u001b[38;5;124m'\u001b[39m\u001b[38;5;124mTest Loss: \u001b[39m\u001b[38;5;132;01m{\u001b[39;00mtest_loss\u001b[38;5;241m.\u001b[39mitem()\u001b[38;5;132;01m}\u001b[39;00m\u001b[38;5;124m'\u001b[39m)\n\u001b[0;32m     82\u001b[0m \u001b[38;5;66;03m# Inverse transform predictions back to original salary scale\u001b[39;00m\n\u001b[0;32m     83\u001b[0m \u001b[38;5;66;03m# We add placeholders for 'Years of Experience' and 'Age' to inverse transform correctly\u001b[39;00m\n\u001b[1;32m---> 84\u001b[0m y_test_pred_unscaled \u001b[38;5;241m=\u001b[39m \u001b[43mscaler\u001b[49m\u001b[38;5;241;43m.\u001b[39;49m\u001b[43minverse_transform\u001b[49m\u001b[43m(\u001b[49m\n\u001b[0;32m     85\u001b[0m \u001b[43m    \u001b[49m\u001b[43mtorch\u001b[49m\u001b[38;5;241;43m.\u001b[39;49m\u001b[43mcat\u001b[49m\u001b[43m(\u001b[49m\u001b[43m(\u001b[49m\u001b[43mX_test\u001b[49m\u001b[43m[\u001b[49m\u001b[43m:\u001b[49m\u001b[43m,\u001b[49m\u001b[43m \u001b[49m\u001b[38;5;241;43m0\u001b[39;49m\u001b[43m]\u001b[49m\u001b[38;5;241;43m.\u001b[39;49m\u001b[43munsqueeze\u001b[49m\u001b[43m(\u001b[49m\u001b[38;5;241;43m1\u001b[39;49m\u001b[43m)\u001b[49m\u001b[43m,\u001b[49m\u001b[43m \u001b[49m\u001b[43my_test_pred\u001b[49m\u001b[43m,\u001b[49m\u001b[43m \u001b[49m\u001b[43mX_test\u001b[49m\u001b[43m[\u001b[49m\u001b[43m:\u001b[49m\u001b[43m,\u001b[49m\u001b[43m \u001b[49m\u001b[38;5;241;43m1\u001b[39;49m\u001b[43m:\u001b[49m\u001b[38;5;241;43m2\u001b[39;49m\u001b[43m]\u001b[49m\u001b[43m)\u001b[49m\u001b[43m,\u001b[49m\u001b[43m \u001b[49m\u001b[43mdim\u001b[49m\u001b[38;5;241;43m=\u001b[39;49m\u001b[38;5;241;43m1\u001b[39;49m\u001b[43m)\u001b[49m\u001b[43m)\u001b[49m[:, \u001b[38;5;241m1\u001b[39m]\n\u001b[0;32m     87\u001b[0m \u001b[38;5;28mprint\u001b[39m(y_test_pred_unscaled)\n\u001b[0;32m     89\u001b[0m sum_error_all_ga \u001b[38;5;241m=\u001b[39m \u001b[38;5;241m0\u001b[39m\n",
      "File \u001b[1;32m~\\AppData\\Local\\Packages\\PythonSoftwareFoundation.Python.3.11_qbz5n2kfra8p0\\LocalCache\\local-packages\\Python311\\site-packages\\sklearn\\preprocessing\\_data.py:1107\u001b[0m, in \u001b[0;36mStandardScaler.inverse_transform\u001b[1;34m(self, X, copy)\u001b[0m\n\u001b[0;32m   1105\u001b[0m \u001b[38;5;28;01melse\u001b[39;00m:\n\u001b[0;32m   1106\u001b[0m     \u001b[38;5;28;01mif\u001b[39;00m \u001b[38;5;28mself\u001b[39m\u001b[38;5;241m.\u001b[39mwith_std:\n\u001b[1;32m-> 1107\u001b[0m         \u001b[43mX\u001b[49m\u001b[43m \u001b[49m\u001b[38;5;241;43m*\u001b[39;49m\u001b[38;5;241;43m=\u001b[39;49m\u001b[43m \u001b[49m\u001b[38;5;28;43mself\u001b[39;49m\u001b[38;5;241;43m.\u001b[39;49m\u001b[43mscale_\u001b[49m\n\u001b[0;32m   1108\u001b[0m     \u001b[38;5;28;01mif\u001b[39;00m \u001b[38;5;28mself\u001b[39m\u001b[38;5;241m.\u001b[39mwith_mean:\n\u001b[0;32m   1109\u001b[0m         X \u001b[38;5;241m+\u001b[39m\u001b[38;5;241m=\u001b[39m \u001b[38;5;28mself\u001b[39m\u001b[38;5;241m.\u001b[39mmean_\n",
      "\u001b[1;31mValueError\u001b[0m: operands could not be broadcast together with shapes (156,3) (2,) (156,3) "
     ]
    }
   ],
   "source": [
    "import torch\n",
    "import torch.nn as nn\n",
    "import matplotlib.pyplot as plt\n",
    "from sklearn.preprocessing import StandardScaler, LabelEncoder\n",
    "from sklearn.model_selection import train_test_split\n",
    "\n",
    "# Drop rows with missing values in the relevant columns\n",
    "df_drop2 = df.dropna(subset=['Salary', 'Years of Experience', 'Education Level', 'Gender', 'Age']).copy()\n",
    "\n",
    "# Check for NaN or infinite values\n",
    "train = train.fillna(0)\n",
    "assert not train.isnull().values.any(), \"Training data contains NaN values\"\n",
    "\n",
    "assert not val.isnull().values.any(), \"Validation data contains NaN values\"\n",
    "assert not test.isnull().values.any(), \"Test data contains NaN values\"\n",
    "assert np.isfinite(train[['Years of Experience', 'Salary', 'Age']].values).all(), \"Training data contains infinite values\"\n",
    "assert np.isfinite(val[['Years of Experience', 'Salary', 'Age']].values).all(), \"Validation data contains infinite values\"\n",
    "assert np.isfinite(test[['Years of Experience', 'Salary', 'Age']].values).all(), \"Test data contains infinite values\"\n",
    "\n",
    "\n",
    "# Set up model parameters\n",
    "input_dim = 4  # Years of Experience, Education Level, Gender, Age\n",
    "hidden_dim = 20\n",
    "output_dim = 1\n",
    "model_all_gen_age = RegressionModel(input_dim, hidden_dim, output_dim)\n",
    "\n",
    "criterion = nn.MSELoss()\n",
    "optimizer = torch.optim.Adam(model_all_gen_age.parameters(), lr=0.001, weight_decay=1e-4)  # Add weight decay for L2 regularization\n",
    "\n",
    "# Prepare data for PyTorch\n",
    "print(train.head())\n",
    "X_train = torch.tensor(train[['Years of Experience', 'Education Level', 'Gender', 'Age']].values, dtype=torch.float32)\n",
    "y_train = torch.tensor(train['Salary'].values, dtype=torch.float32).view(-1, 1)\n",
    "X_val = torch.tensor(val[['Years of Experience', 'Education Level', 'Gender', 'Age']].values, dtype=torch.float32)\n",
    "y_val = torch.tensor(val['Salary'].values, dtype=torch.float32).view(-1, 1)\n",
    "X_test = torch.tensor(test[['Years of Experience', 'Education Level', 'Gender', 'Age']].values, dtype=torch.float32)\n",
    "y_test = torch.tensor(test['Salary'].values, dtype=torch.float32).view(-1, 1)\n",
    "\n",
    "# Training loop\n",
    "train_losses, val_losses = [], []\n",
    "for epoch in range(5000):\n",
    "    model_all_gen_age.train()\n",
    "    optimizer.zero_grad()\n",
    "    y_pred = model_all_gen_age(X_train)\n",
    "    train_loss = criterion(y_pred, y_train)\n",
    "    if torch.isnan(train_loss):\n",
    "        print(f\"NaN detected in train loss at epoch {epoch}\")\n",
    "        break\n",
    "    train_loss.backward()\n",
    "    optimizer.step()\n",
    "    train_losses.append(train_loss.item())\n",
    "\n",
    "    # Validation loss\n",
    "    model_all_gen_age.eval()\n",
    "    with torch.no_grad():\n",
    "        y_val_pred = model_all_gen_age(X_val)\n",
    "        val_loss = criterion(y_val_pred, y_val)\n",
    "        if torch.isnan(val_loss):\n",
    "            print(f\"NaN detected in validation loss at epoch {epoch}\")\n",
    "            break\n",
    "        val_losses.append(val_loss.item())\n",
    "\n",
    "    # Print progress every 100 epochs\n",
    "    if epoch % 1000 == 0:\n",
    "        print(f'Epoch {epoch} - Train Loss: {train_loss.item()} | Validation Loss: {val_loss.item()}')\n",
    "\n",
    "# Plot training and validation losses\n",
    "plt.plot(train_losses, label='Training Loss')\n",
    "plt.plot(val_losses, label='Validation Loss')\n",
    "plt.xlabel('Epochs')\n",
    "plt.ylabel('Loss')\n",
    "plt.legend()\n",
    "plt.show()\n",
    "\n",
    "# Evaluate on test set\n",
    "model_all_gen_age.eval()\n",
    "with torch.no_grad():\n",
    "    y_test_pred = model_all_gen_age(X_test)\n",
    "    test_loss = criterion(y_test_pred, y_test)\n",
    "    print(f'Test Loss: {test_loss.item()}')\n",
    "\n",
    "# Inverse transform predictions back to original salary scale\n",
    "# We add placeholders for 'Years of Experience' and 'Age' to inverse transform correctly\n",
    "y_test_pred_unscaled = scaler.inverse_transform(\n",
    "    torch.cat((X_test[:, 0].unsqueeze(1), y_test_pred, X_test[:, 1:2]), dim=1))[:, 1]\n",
    "\n",
    "print(y_test_pred_unscaled)\n",
    "\n",
    "sum_error_all_ga = 0\n",
    "for i, pred in enumerate(y_test_pred_unscaled):\n",
    "    actual_salary = scaler.inverse_transform(test[['Years of Experience', 'Salary', 'Age']].values)[i][1]\n",
    "    sum_error_all_ga += abs(pred - actual_salary)/ len(y_test_pred_unscaled)\n",
    "\n",
    "torch.save(model_all_gen_age.state_dict(), \"model_all_gen_age.pth\")\n",
    "print(f\"Average Error: {sum_error_all_ga}\")"
   ]
  },
  {
   "cell_type": "markdown",
   "id": "a5d57c583459ccb2",
   "metadata": {},
   "source": [
    "Test loss 0.18"
   ]
  },
  {
   "cell_type": "markdown",
   "id": "9279a93b50e3f837",
   "metadata": {},
   "source": [
    "# Training For Software Engineer"
   ]
  },
  {
   "cell_type": "code",
   "execution_count": 18,
   "id": "e98aaa0c13a97acb",
   "metadata": {
    "ExecuteTime": {
     "end_time": "2024-11-11T11:43:58.049165Z",
     "start_time": "2024-11-11T11:43:55.791708Z"
    }
   },
   "outputs": [
    {
     "name": "stdout",
     "output_type": "stream",
     "text": [
      "Epoch 0 - Train Loss: nan | Validation Loss: nan\n",
      "Epoch 1000 - Train Loss: nan | Validation Loss: nan\n",
      "Epoch 2000 - Train Loss: nan | Validation Loss: nan\n",
      "Epoch 3000 - Train Loss: nan | Validation Loss: nan\n",
      "Epoch 4000 - Train Loss: nan | Validation Loss: nan\n",
      "Epoch 5000 - Train Loss: nan | Validation Loss: nan\n",
      "Epoch 6000 - Train Loss: nan | Validation Loss: nan\n",
      "Epoch 7000 - Train Loss: nan | Validation Loss: nan\n",
      "Epoch 8000 - Train Loss: nan | Validation Loss: nan\n",
      "Epoch 9000 - Train Loss: nan | Validation Loss: nan\n"
     ]
    },
    {
     "data": {
      "image/png": "[encoded data removed]",
      "text/plain": [
       "<Figure size 640x480 with 1 Axes>"
      ]
     },
     "metadata": {},
     "output_type": "display_data"
    },
    {
     "name": "stdout",
     "output_type": "stream",
     "text": [
      "Test Loss: nan\n",
      "Average Error: nan\n"
     ]
    }
   ],
   "source": [
    "import torch\n",
    "import torch.nn as nn\n",
    "import matplotlib.pyplot as plt\n",
    "from sklearn.preprocessing import StandardScaler, LabelEncoder\n",
    "from sklearn.model_selection import train_test_split\n",
    "\n",
    "# Filter data for a specific job title\n",
    "job = 'Software Engineer'\n",
    "df_job = df[df['Job Title'] == job]\n",
    "df_job = df_job.dropna(subset=['Salary', 'Years of Experience', 'Education Level']).copy()\n",
    "\n",
    "# Encode 'Education Level' for simplicity\n",
    "education_mapping = {'High School': 0, 'Bachelor\\'s': 1, 'Master\\'s': 2, 'PhD': 3}\n",
    "df_job['Education Level'] = df_job['Education Level'].map(education_mapping).copy()\n",
    "\n",
    "# Split the data\n",
    "train, test = train_test_split(df_job, test_size=0.3, random_state=42)\n",
    "train, val = train_test_split(train, test_size=0.11, random_state=42)\n",
    "\n",
    "# Scale 'Years of Experience' and 'Salary' for stability\n",
    "scaler = StandardScaler()\n",
    "train[['Years of Experience', 'Salary']] = scaler.fit_transform(train[['Years of Experience', 'Salary']])\n",
    "val[['Years of Experience', 'Salary']] = scaler.transform(val[['Years of Experience', 'Salary']])\n",
    "test[['Years of Experience', 'Salary']] = scaler.transform(test[['Years of Experience', 'Salary']])\n",
    "\n",
    "# Set up model parameters\n",
    "input_dim = 2  # Years of Experience, Education Level\n",
    "hidden_dim = 64\n",
    "output_dim = 1\n",
    "model_SE = RegressionModel(input_dim, hidden_dim, output_dim)\n",
    "\n",
    "criterion = nn.MSELoss()\n",
    "optimizer = torch.optim.Adam(model_SE.parameters(), lr=0.0001, weight_decay=1e-4)  # Add weight decay for L2 regularization\n",
    "\n",
    "# Prepare data for PyTorch\n",
    "X_train = torch.tensor(train[['Years of Experience', 'Education Level']].values, dtype=torch.float32)\n",
    "y_train = torch.tensor(train['Salary'].values, dtype=torch.float32).view(-1, 1)\n",
    "X_val = torch.tensor(val[['Years of Experience', 'Education Level']].values, dtype=torch.float32)\n",
    "y_val = torch.tensor(val['Salary'].values, dtype=torch.float32).view(-1, 1)\n",
    "X_test = torch.tensor(test[['Years of Experience', 'Education Level']].values, dtype=torch.float32)\n",
    "y_test = torch.tensor(test['Salary'].values, dtype=torch.float32).view(-1, 1)\n",
    "\n",
    "# Training loop\n",
    "train_losses, val_losses = [], []\n",
    "for epoch in range(10000):\n",
    "    model_SE.train()\n",
    "    optimizer.zero_grad()\n",
    "    y_pred = model_SE(X_train)\n",
    "    train_loss = criterion(y_pred, y_train)\n",
    "    train_loss.backward()\n",
    "    optimizer.step()\n",
    "    train_losses.append(train_loss.item())\n",
    "    \n",
    "    # Validation loss\n",
    "    model_SE.eval()\n",
    "    with torch.no_grad():\n",
    "        y_val_pred = model_SE(X_val)\n",
    "        val_loss = criterion(y_val_pred, y_val)\n",
    "        val_losses.append(val_loss.item())\n",
    "        \n",
    "    # Print progress every 100 epochs\n",
    "    if epoch % 1000 == 0:\n",
    "        print(f'Epoch {epoch} - Train Loss: {train_loss.item()} | Validation Loss: {val_loss.item()}')\n",
    "\n",
    "# Plot training and validation losses\n",
    "plt.plot(train_losses, label='Training Loss')\n",
    "plt.plot(val_losses, label='Validation Loss')\n",
    "plt.xlabel('Epochs')\n",
    "plt.ylabel('Loss')\n",
    "plt.legend()\n",
    "plt.show()\n",
    "\n",
    "# Evaluate on test set\n",
    "model_SE.eval()\n",
    "with torch.no_grad():\n",
    "    y_test_pred = model_SE(X_test)\n",
    "    test_loss = criterion(y_test_pred, y_test)\n",
    "    print(f'Test Loss: {test_loss.item()}')\n",
    "\n",
    "# Inverse transform predictions back to original salary scale\n",
    "y_test_pred_unscaled = scaler.inverse_transform(\n",
    "    torch.cat((X_test[:, 0].unsqueeze(1), y_test_pred), dim=1))[:, 1]\n",
    "\n",
    "sum_error_SE = 0\n",
    "for i, pred in enumerate(y_test_pred_unscaled):\n",
    "    actual_salary = scaler.inverse_transform(test[['Years of Experience', 'Salary']].values)[i][1]\n",
    "    sum_error_SE += abs(pred - actual_salary)/ len(y_test_pred_unscaled)\n",
    "    \n",
    "print(f\"Average Error: {sum_error_SE}\")"
   ]
  },
  {
   "cell_type": "markdown",
   "id": "e8d6a7dc729ab41a",
   "metadata": {},
   "source": [
    "# Including Gender & Age"
   ]
  },
  {
   "cell_type": "code",
   "execution_count": 75,
   "id": "138b0eeed944c27e",
   "metadata": {
    "ExecuteTime": {
     "end_time": "2024-11-11T11:44:00.129345Z",
     "start_time": "2024-11-11T11:43:58.050046Z"
    }
   },
   "outputs": [
    {
     "name": "stdout",
     "output_type": "stream",
     "text": [
      "df_job na: Age                    0\n",
      "Gender                 0\n",
      "Education Level        0\n",
      "Job Title              0\n",
      "Years of Experience    0\n",
      "Salary                 0\n",
      "dtype: int64\n",
      "Epoch 0 - Train Loss: 1.3022654056549072 | Validation Loss: 1.4164533615112305\n",
      "Epoch 1000 - Train Loss: 0.5688026547431946 | Validation Loss: 0.6035553812980652\n",
      "Epoch 2000 - Train Loss: 0.43631914258003235 | Validation Loss: 0.4519854187965393\n",
      "Epoch 3000 - Train Loss: 0.32631388306617737 | Validation Loss: 0.32147687673568726\n",
      "Epoch 4000 - Train Loss: 0.24031050503253937 | Validation Loss: 0.2219475507736206\n",
      "Epoch 5000 - Train Loss: 0.20394772291183472 | Validation Loss: 0.1840554028749466\n",
      "Epoch 6000 - Train Loss: 0.18466190993785858 | Validation Loss: 0.16849584877490997\n",
      "Epoch 7000 - Train Loss: 0.16868896782398224 | Validation Loss: 0.1548292338848114\n",
      "Epoch 8000 - Train Loss: 0.1536373645067215 | Validation Loss: 0.14050467312335968\n",
      "Epoch 9000 - Train Loss: 0.14008373022079468 | Validation Loss: 0.12749835848808289\n"
     ]
    },
    {
     "data": {
      "image/png": "[encoded data removed]",
      "text/plain": [
       "<Figure size 640x480 with 1 Axes>"
      ]
     },
     "metadata": {},
     "output_type": "display_data"
    },
    {
     "name": "stdout",
     "output_type": "stream",
     "text": [
      "Test Loss: 0.1623462587594986\n",
      "Average Error: 14103.010071543442\n"
     ]
    }
   ],
   "source": [
    "import torch\n",
    "import torch.nn as nn\n",
    "import matplotlib.pyplot as plt\n",
    "from sklearn.preprocessing import StandardScaler, LabelEncoder\n",
    "from sklearn.model_selection import train_test_split\n",
    "\n",
    "# Filter data for a specific job title\n",
    "job = 'Software Engineer'\n",
    "df_job = df[df['Job Title'] == job]\n",
    "df_job = df_job[df_job['Gender'] != 'Other']\n",
    "df_job = df_job.dropna(subset=['Salary', 'Years of Experience', 'Education Level', 'Gender', 'Age']).copy()\n",
    "\n",
    "\n",
    "\n",
    "# -----------NOT NECESSARY IF ALREADY DONE -------------\n",
    "# Encode 'Education Level' for simplicity\n",
    "#education_mapping = {'High School': 0, 'Bachelor\\'s': 1, 'Master\\'s': 2, 'PhD': 3}\n",
    "#df_job['Education Level'] = df_job['Education Level'].map(education_mapping).copy()\n",
    "\n",
    "# Encode 'Gender'\n",
    "##gender_mapping = {'Male': 0, 'Female': 1}\n",
    "#df_job['Gender'] = df_job['Gender'].map(gender_mapping).copy()\n",
    "\n",
    "#-----------------------------------\n",
    "print(f\"df_job na: {df_job.isna().sum()}\")\n",
    "\n",
    "# Split the data\n",
    "train, test = train_test_split(df_job, test_size=0.3, random_state=42)\n",
    "train, val = train_test_split(train, test_size=0.11, random_state=42)\n",
    "\n",
    "# Scale 'Years of Experience', 'Age', and 'Salary' for stability\n",
    "scaler = StandardScaler()\n",
    "train[['Years of Experience', 'Salary', 'Age']] = scaler.fit_transform(train[['Years of Experience', 'Salary', 'Age']])\n",
    "val[['Years of Experience', 'Salary', 'Age']] = scaler.transform(val[['Years of Experience', 'Salary', 'Age']])\n",
    "test[['Years of Experience', 'Salary', 'Age']] = scaler.transform(test[['Years of Experience', 'Salary', 'Age']])\n",
    "\n",
    "joblib.dump(scaler, \"scaler_only_se\")\n",
    "\n",
    "# Set up model parameters\n",
    "input_dim = 4  # Years of Experience, Education Level, Gender, Age\n",
    "hidden_dim = 20\n",
    "output_dim = 1\n",
    "model_SE_gen_age = RegressionModel(input_dim, hidden_dim, output_dim)\n",
    "\n",
    "criterion = nn.MSELoss()\n",
    "optimizer = torch.optim.Adam(model_SE_gen_age.parameters(), lr=0.0001, weight_decay=1e-4)  # Add weight decay for L2 regularization\n",
    "\n",
    "# Prepare data for PyTorch\n",
    "X_train = torch.tensor(train[['Years of Experience', 'Education Level', 'Gender', 'Age']].values, dtype=torch.float32)\n",
    "y_train = torch.tensor(train['Salary'].values, dtype=torch.float32).view(-1, 1)\n",
    "X_val = torch.tensor(val[['Years of Experience', 'Education Level', 'Gender', 'Age']].values, dtype=torch.float32)\n",
    "y_val = torch.tensor(val['Salary'].values, dtype=torch.float32).view(-1, 1)\n",
    "X_test = torch.tensor(test[['Years of Experience', 'Education Level', 'Gender', 'Age']].values, dtype=torch.float32)\n",
    "y_test = torch.tensor(test['Salary'].values, dtype=torch.float32).view(-1, 1)\n",
    "\n",
    "\n",
    "\n",
    "# Training loop\n",
    "train_losses, val_losses = [], []\n",
    "for epoch in range(10000):\n",
    "    model_SE_gen_age.train()\n",
    "    optimizer.zero_grad()\n",
    "    y_pred = model_SE_gen_age(X_train)\n",
    "    train_loss = criterion(y_pred, y_train)\n",
    "    train_loss.backward()\n",
    "    optimizer.step()\n",
    "    train_losses.append(train_loss.item())\n",
    "    \n",
    "    # Validation loss\n",
    "    model_SE_gen_age.eval()\n",
    "    with torch.no_grad():\n",
    "        y_val_pred = model_SE_gen_age(X_val)\n",
    "        val_loss = criterion(y_val_pred, y_val)\n",
    "        val_losses.append(val_loss.item())\n",
    "        \n",
    "    # Print progress every 100 epochs\n",
    "    if epoch % 1000 == 0:\n",
    "        print(f'Epoch {epoch} - Train Loss: {train_loss.item()} | Validation Loss: {val_loss.item()}')\n",
    "\n",
    "# Plot training and validation losses\n",
    "plt.plot(train_losses, label='Training Loss')\n",
    "plt.plot(val_losses, label='Validation Loss')\n",
    "plt.xlabel('Epochs')\n",
    "plt.ylabel('Loss')\n",
    "plt.legend()\n",
    "plt.show()\n",
    "\n",
    "# Evaluate on test set\n",
    "model_SE_gen_age.eval()\n",
    "with torch.no_grad():\n",
    "    y_test_pred = model_SE_gen_age(X_test)\n",
    "    test_loss = criterion(y_test_pred, y_test)\n",
    "    print(f'Test Loss: {test_loss.item()}')\n",
    "\n",
    "# Inverse transform predictions back to original salary scale\n",
    "# We add placeholders for 'Years of Experience' and 'Age' to inverse transform correctly\n",
    "y_test_pred_unscaled = scaler.inverse_transform(\n",
    "    torch.cat((X_test[:, 0].unsqueeze(1), y_test_pred, X_test[:, 1:2]), dim=1))[:, 1]\n",
    "\n",
    "\n",
    "sum_error_SE_ga = 0\n",
    "for i, pred in enumerate(y_test_pred_unscaled):\n",
    "    actual_salary = scaler.inverse_transform(test[['Years of Experience', 'Salary', 'Age']].values)[i][1]\n",
    "    sum_error_SE_ga += abs(pred - actual_salary)/ len(y_test_pred_unscaled)\n",
    "\n",
    "\n",
    "torch.save(model_SE_gen_age.state_dict(), \"model_SE_gen_age.pth\")    \n",
    "print(f\"Average Error: {sum_error_SE_ga}\")"
   ]
  },
  {
   "cell_type": "markdown",
   "id": "0ba62b1c",
   "metadata": {},
   "source": [
    "## Define Feature importance ALL JOBS"
   ]
  },
  {
   "cell_type": "code",
   "execution_count": null,
   "id": "c3aa3980",
   "metadata": {
    "ExecuteTime": {
     "end_time": "2024-11-11T11:44:00.134554Z",
     "start_time": "2024-11-11T11:44:00.129866Z"
    }
   },
   "outputs": [
    {
     "data": {
      "text/html": [
       "<div>\n",
       "<style scoped>\n",
       "    .dataframe tbody tr th:only-of-type {\n",
       "        vertical-align: middle;\n",
       "    }\n",
       "\n",
       "    .dataframe tbody tr th {\n",
       "        vertical-align: top;\n",
       "    }\n",
       "\n",
       "    .dataframe thead th {\n",
       "        text-align: right;\n",
       "    }\n",
       "</style>\n",
       "<table border=\"1\" class=\"dataframe\">\n",
       "  <thead>\n",
       "    <tr style=\"text-align: right;\">\n",
       "      <th></th>\n",
       "      <th>Age</th>\n",
       "      <th>Gender</th>\n",
       "      <th>Education Level</th>\n",
       "      <th>Job Title</th>\n",
       "      <th>Years of Experience</th>\n",
       "      <th>Salary</th>\n",
       "    </tr>\n",
       "  </thead>\n",
       "  <tbody>\n",
       "    <tr>\n",
       "      <th>0</th>\n",
       "      <td>32.0</td>\n",
       "      <td>0</td>\n",
       "      <td>1</td>\n",
       "      <td>Software Engineer</td>\n",
       "      <td>5.0</td>\n",
       "      <td>90000.0</td>\n",
       "    </tr>\n",
       "    <tr>\n",
       "      <th>1</th>\n",
       "      <td>28.0</td>\n",
       "      <td>1</td>\n",
       "      <td>2</td>\n",
       "      <td>Data Analyst</td>\n",
       "      <td>3.0</td>\n",
       "      <td>65000.0</td>\n",
       "    </tr>\n",
       "    <tr>\n",
       "      <th>5</th>\n",
       "      <td>29.0</td>\n",
       "      <td>0</td>\n",
       "      <td>1</td>\n",
       "      <td>Marketing Analyst</td>\n",
       "      <td>2.0</td>\n",
       "      <td>55000.0</td>\n",
       "    </tr>\n",
       "    <tr>\n",
       "      <th>6</th>\n",
       "      <td>42.0</td>\n",
       "      <td>1</td>\n",
       "      <td>2</td>\n",
       "      <td>Product Manager</td>\n",
       "      <td>12.0</td>\n",
       "      <td>120000.0</td>\n",
       "    </tr>\n",
       "    <tr>\n",
       "      <th>8</th>\n",
       "      <td>26.0</td>\n",
       "      <td>1</td>\n",
       "      <td>1</td>\n",
       "      <td>Marketing Coordinator</td>\n",
       "      <td>1.0</td>\n",
       "      <td>45000.0</td>\n",
       "    </tr>\n",
       "    <tr>\n",
       "      <th>...</th>\n",
       "      <td>...</td>\n",
       "      <td>...</td>\n",
       "      <td>...</td>\n",
       "      <td>...</td>\n",
       "      <td>...</td>\n",
       "      <td>...</td>\n",
       "    </tr>\n",
       "    <tr>\n",
       "      <th>6682</th>\n",
       "      <td>28.0</td>\n",
       "      <td>0</td>\n",
       "      <td>3</td>\n",
       "      <td>Marketing Manager</td>\n",
       "      <td>4.0</td>\n",
       "      <td>55000.0</td>\n",
       "    </tr>\n",
       "    <tr>\n",
       "      <th>6690</th>\n",
       "      <td>42.0</td>\n",
       "      <td>0</td>\n",
       "      <td>1</td>\n",
       "      <td>Financial Manager</td>\n",
       "      <td>13.0</td>\n",
       "      <td>130000.0</td>\n",
       "    </tr>\n",
       "    <tr>\n",
       "      <th>6691</th>\n",
       "      <td>36.0</td>\n",
       "      <td>1</td>\n",
       "      <td>3</td>\n",
       "      <td>Marketing Manager</td>\n",
       "      <td>9.0</td>\n",
       "      <td>95000.0</td>\n",
       "    </tr>\n",
       "    <tr>\n",
       "      <th>6701</th>\n",
       "      <td>30.0</td>\n",
       "      <td>1</td>\n",
       "      <td>1</td>\n",
       "      <td>Financial Manager</td>\n",
       "      <td>4.0</td>\n",
       "      <td>55000.0</td>\n",
       "    </tr>\n",
       "    <tr>\n",
       "      <th>6702</th>\n",
       "      <td>46.0</td>\n",
       "      <td>0</td>\n",
       "      <td>2</td>\n",
       "      <td>Marketing Manager</td>\n",
       "      <td>14.0</td>\n",
       "      <td>140000.0</td>\n",
       "    </tr>\n",
       "  </tbody>\n",
       "</table>\n",
       "<p>4529 rows × 6 columns</p>\n",
       "</div>"
      ],
      "text/plain": [
       "       Age  Gender Education Level              Job Title  \\\n",
       "0     32.0       0               1      Software Engineer   \n",
       "1     28.0       1               2           Data Analyst   \n",
       "5     29.0       0               1      Marketing Analyst   \n",
       "6     42.0       1               2        Product Manager   \n",
       "8     26.0       1               1  Marketing Coordinator   \n",
       "...    ...     ...             ...                    ...   \n",
       "6682  28.0       0               3      Marketing Manager   \n",
       "6690  42.0       0               1      Financial Manager   \n",
       "6691  36.0       1               3      Marketing Manager   \n",
       "6701  30.0       1               1      Financial Manager   \n",
       "6702  46.0       0               2      Marketing Manager   \n",
       "\n",
       "      Years of Experience    Salary  \n",
       "0                     5.0   90000.0  \n",
       "1                     3.0   65000.0  \n",
       "5                     2.0   55000.0  \n",
       "6                    12.0  120000.0  \n",
       "8                     1.0   45000.0  \n",
       "...                   ...       ...  \n",
       "6682                  4.0   55000.0  \n",
       "6690                 13.0  130000.0  \n",
       "6691                  9.0   95000.0  \n",
       "6701                  4.0   55000.0  \n",
       "6702                 14.0  140000.0  \n",
       "\n",
       "[4529 rows x 6 columns]"
      ]
     },
     "execution_count": 58,
     "metadata": {},
     "output_type": "execute_result"
    }
   ],
   "source": [
    "df"
   ]
  },
  {
   "cell_type": "code",
   "execution_count": null,
   "id": "785260d7f5a2959c",
   "metadata": {
    "ExecuteTime": {
     "end_time": "2024-11-11T11:44:00.200522Z",
     "start_time": "2024-11-11T11:44:00.135041Z"
    }
   },
   "outputs": [
    {
     "ename": "RuntimeError",
     "evalue": "mat1 and mat2 shapes cannot be multiplied (156x2 and 4x20)",
     "output_type": "error",
     "traceback": [
      "\u001b[1;31m---------------------------------------------------------------------------\u001b[0m",
      "\u001b[1;31mRuntimeError\u001b[0m                              Traceback (most recent call last)",
      "Cell \u001b[1;32mIn[61], line 22\u001b[0m\n\u001b[0;32m     20\u001b[0m \u001b[38;5;66;03m# Calculate permutation importance\u001b[39;00m\n\u001b[0;32m     21\u001b[0m feature_names \u001b[38;5;241m=\u001b[39m [\u001b[38;5;124m'\u001b[39m\u001b[38;5;124mYears of Experience\u001b[39m\u001b[38;5;124m'\u001b[39m, \u001b[38;5;124m'\u001b[39m\u001b[38;5;124mEducation Level\u001b[39m\u001b[38;5;124m'\u001b[39m, \u001b[38;5;124m'\u001b[39m\u001b[38;5;124mGender\u001b[39m\u001b[38;5;124m'\u001b[39m, \u001b[38;5;124m'\u001b[39m\u001b[38;5;124mAge\u001b[39m\u001b[38;5;124m'\u001b[39m]\n\u001b[1;32m---> 22\u001b[0m importances \u001b[38;5;241m=\u001b[39m \u001b[43mpermutation_importance\u001b[49m\u001b[43m(\u001b[49m\u001b[43mmodel_all_gen_age\u001b[49m\u001b[43m,\u001b[49m\u001b[43m \u001b[49m\u001b[43mX_test\u001b[49m\u001b[43m,\u001b[49m\u001b[43m \u001b[49m\u001b[43my_test\u001b[49m\u001b[43m)\u001b[49m\n\u001b[0;32m     24\u001b[0m \u001b[38;5;66;03m# Plot feature importances\u001b[39;00m\n\u001b[0;32m     25\u001b[0m plt\u001b[38;5;241m.\u001b[39mfigure(figsize\u001b[38;5;241m=\u001b[39m(\u001b[38;5;241m10\u001b[39m, \u001b[38;5;241m6\u001b[39m))\n",
      "Cell \u001b[1;32mIn[61], line 5\u001b[0m, in \u001b[0;36mpermutation_importance\u001b[1;34m(model, X, y, n_repeats)\u001b[0m\n\u001b[0;32m      4\u001b[0m \u001b[38;5;28;01mdef\u001b[39;00m \u001b[38;5;21mpermutation_importance\u001b[39m(model, X, y, n_repeats\u001b[38;5;241m=\u001b[39m\u001b[38;5;241m10\u001b[39m):\n\u001b[1;32m----> 5\u001b[0m     baseline_mse \u001b[38;5;241m=\u001b[39m mean_squared_error(y, \u001b[43mmodel\u001b[49m\u001b[43m(\u001b[49m\u001b[43mX\u001b[49m\u001b[43m)\u001b[49m\u001b[38;5;241m.\u001b[39mdetach()\u001b[38;5;241m.\u001b[39mnumpy())\n\u001b[0;32m      6\u001b[0m     importances \u001b[38;5;241m=\u001b[39m []\n\u001b[0;32m      8\u001b[0m     \u001b[38;5;28;01mfor\u001b[39;00m col \u001b[38;5;129;01min\u001b[39;00m \u001b[38;5;28mrange\u001b[39m(X\u001b[38;5;241m.\u001b[39mshape[\u001b[38;5;241m1\u001b[39m]):\n",
      "File \u001b[1;32m~\\AppData\\Local\\Packages\\PythonSoftwareFoundation.Python.3.11_qbz5n2kfra8p0\\LocalCache\\local-packages\\Python311\\site-packages\\torch\\nn\\modules\\module.py:1518\u001b[0m, in \u001b[0;36mModule._wrapped_call_impl\u001b[1;34m(self, *args, **kwargs)\u001b[0m\n\u001b[0;32m   1516\u001b[0m     \u001b[38;5;28;01mreturn\u001b[39;00m \u001b[38;5;28mself\u001b[39m\u001b[38;5;241m.\u001b[39m_compiled_call_impl(\u001b[38;5;241m*\u001b[39margs, \u001b[38;5;241m*\u001b[39m\u001b[38;5;241m*\u001b[39mkwargs)  \u001b[38;5;66;03m# type: ignore[misc]\u001b[39;00m\n\u001b[0;32m   1517\u001b[0m \u001b[38;5;28;01melse\u001b[39;00m:\n\u001b[1;32m-> 1518\u001b[0m     \u001b[38;5;28;01mreturn\u001b[39;00m \u001b[38;5;28;43mself\u001b[39;49m\u001b[38;5;241;43m.\u001b[39;49m\u001b[43m_call_impl\u001b[49m\u001b[43m(\u001b[49m\u001b[38;5;241;43m*\u001b[39;49m\u001b[43margs\u001b[49m\u001b[43m,\u001b[49m\u001b[43m \u001b[49m\u001b[38;5;241;43m*\u001b[39;49m\u001b[38;5;241;43m*\u001b[39;49m\u001b[43mkwargs\u001b[49m\u001b[43m)\u001b[49m\n",
      "File \u001b[1;32m~\\AppData\\Local\\Packages\\PythonSoftwareFoundation.Python.3.11_qbz5n2kfra8p0\\LocalCache\\local-packages\\Python311\\site-packages\\torch\\nn\\modules\\module.py:1527\u001b[0m, in \u001b[0;36mModule._call_impl\u001b[1;34m(self, *args, **kwargs)\u001b[0m\n\u001b[0;32m   1522\u001b[0m \u001b[38;5;66;03m# If we don't have any hooks, we want to skip the rest of the logic in\u001b[39;00m\n\u001b[0;32m   1523\u001b[0m \u001b[38;5;66;03m# this function, and just call forward.\u001b[39;00m\n\u001b[0;32m   1524\u001b[0m \u001b[38;5;28;01mif\u001b[39;00m \u001b[38;5;129;01mnot\u001b[39;00m (\u001b[38;5;28mself\u001b[39m\u001b[38;5;241m.\u001b[39m_backward_hooks \u001b[38;5;129;01mor\u001b[39;00m \u001b[38;5;28mself\u001b[39m\u001b[38;5;241m.\u001b[39m_backward_pre_hooks \u001b[38;5;129;01mor\u001b[39;00m \u001b[38;5;28mself\u001b[39m\u001b[38;5;241m.\u001b[39m_forward_hooks \u001b[38;5;129;01mor\u001b[39;00m \u001b[38;5;28mself\u001b[39m\u001b[38;5;241m.\u001b[39m_forward_pre_hooks\n\u001b[0;32m   1525\u001b[0m         \u001b[38;5;129;01mor\u001b[39;00m _global_backward_pre_hooks \u001b[38;5;129;01mor\u001b[39;00m _global_backward_hooks\n\u001b[0;32m   1526\u001b[0m         \u001b[38;5;129;01mor\u001b[39;00m _global_forward_hooks \u001b[38;5;129;01mor\u001b[39;00m _global_forward_pre_hooks):\n\u001b[1;32m-> 1527\u001b[0m     \u001b[38;5;28;01mreturn\u001b[39;00m \u001b[43mforward_call\u001b[49m\u001b[43m(\u001b[49m\u001b[38;5;241;43m*\u001b[39;49m\u001b[43margs\u001b[49m\u001b[43m,\u001b[49m\u001b[43m \u001b[49m\u001b[38;5;241;43m*\u001b[39;49m\u001b[38;5;241;43m*\u001b[39;49m\u001b[43mkwargs\u001b[49m\u001b[43m)\u001b[49m\n\u001b[0;32m   1529\u001b[0m \u001b[38;5;28;01mtry\u001b[39;00m:\n\u001b[0;32m   1530\u001b[0m     result \u001b[38;5;241m=\u001b[39m \u001b[38;5;28;01mNone\u001b[39;00m\n",
      "Cell \u001b[1;32mIn[29], line 12\u001b[0m, in \u001b[0;36mRegressionModel.forward\u001b[1;34m(self, x)\u001b[0m\n\u001b[0;32m     11\u001b[0m \u001b[38;5;28;01mdef\u001b[39;00m \u001b[38;5;21mforward\u001b[39m(\u001b[38;5;28mself\u001b[39m, x):\n\u001b[1;32m---> 12\u001b[0m     x \u001b[38;5;241m=\u001b[39m \u001b[38;5;28;43mself\u001b[39;49m\u001b[38;5;241;43m.\u001b[39;49m\u001b[43mlayer1\u001b[49m\u001b[43m(\u001b[49m\u001b[43mx\u001b[49m\u001b[43m)\u001b[49m\n\u001b[0;32m     13\u001b[0m     x \u001b[38;5;241m=\u001b[39m \u001b[38;5;28mself\u001b[39m\u001b[38;5;241m.\u001b[39mactivation1(x)\n\u001b[0;32m     14\u001b[0m     x \u001b[38;5;241m=\u001b[39m \u001b[38;5;28mself\u001b[39m\u001b[38;5;241m.\u001b[39mlayer2(x)\n",
      "File \u001b[1;32m~\\AppData\\Local\\Packages\\PythonSoftwareFoundation.Python.3.11_qbz5n2kfra8p0\\LocalCache\\local-packages\\Python311\\site-packages\\torch\\nn\\modules\\module.py:1518\u001b[0m, in \u001b[0;36mModule._wrapped_call_impl\u001b[1;34m(self, *args, **kwargs)\u001b[0m\n\u001b[0;32m   1516\u001b[0m     \u001b[38;5;28;01mreturn\u001b[39;00m \u001b[38;5;28mself\u001b[39m\u001b[38;5;241m.\u001b[39m_compiled_call_impl(\u001b[38;5;241m*\u001b[39margs, \u001b[38;5;241m*\u001b[39m\u001b[38;5;241m*\u001b[39mkwargs)  \u001b[38;5;66;03m# type: ignore[misc]\u001b[39;00m\n\u001b[0;32m   1517\u001b[0m \u001b[38;5;28;01melse\u001b[39;00m:\n\u001b[1;32m-> 1518\u001b[0m     \u001b[38;5;28;01mreturn\u001b[39;00m \u001b[38;5;28;43mself\u001b[39;49m\u001b[38;5;241;43m.\u001b[39;49m\u001b[43m_call_impl\u001b[49m\u001b[43m(\u001b[49m\u001b[38;5;241;43m*\u001b[39;49m\u001b[43margs\u001b[49m\u001b[43m,\u001b[49m\u001b[43m \u001b[49m\u001b[38;5;241;43m*\u001b[39;49m\u001b[38;5;241;43m*\u001b[39;49m\u001b[43mkwargs\u001b[49m\u001b[43m)\u001b[49m\n",
      "File \u001b[1;32m~\\AppData\\Local\\Packages\\PythonSoftwareFoundation.Python.3.11_qbz5n2kfra8p0\\LocalCache\\local-packages\\Python311\\site-packages\\torch\\nn\\modules\\module.py:1527\u001b[0m, in \u001b[0;36mModule._call_impl\u001b[1;34m(self, *args, **kwargs)\u001b[0m\n\u001b[0;32m   1522\u001b[0m \u001b[38;5;66;03m# If we don't have any hooks, we want to skip the rest of the logic in\u001b[39;00m\n\u001b[0;32m   1523\u001b[0m \u001b[38;5;66;03m# this function, and just call forward.\u001b[39;00m\n\u001b[0;32m   1524\u001b[0m \u001b[38;5;28;01mif\u001b[39;00m \u001b[38;5;129;01mnot\u001b[39;00m (\u001b[38;5;28mself\u001b[39m\u001b[38;5;241m.\u001b[39m_backward_hooks \u001b[38;5;129;01mor\u001b[39;00m \u001b[38;5;28mself\u001b[39m\u001b[38;5;241m.\u001b[39m_backward_pre_hooks \u001b[38;5;129;01mor\u001b[39;00m \u001b[38;5;28mself\u001b[39m\u001b[38;5;241m.\u001b[39m_forward_hooks \u001b[38;5;129;01mor\u001b[39;00m \u001b[38;5;28mself\u001b[39m\u001b[38;5;241m.\u001b[39m_forward_pre_hooks\n\u001b[0;32m   1525\u001b[0m         \u001b[38;5;129;01mor\u001b[39;00m _global_backward_pre_hooks \u001b[38;5;129;01mor\u001b[39;00m _global_backward_hooks\n\u001b[0;32m   1526\u001b[0m         \u001b[38;5;129;01mor\u001b[39;00m _global_forward_hooks \u001b[38;5;129;01mor\u001b[39;00m _global_forward_pre_hooks):\n\u001b[1;32m-> 1527\u001b[0m     \u001b[38;5;28;01mreturn\u001b[39;00m \u001b[43mforward_call\u001b[49m\u001b[43m(\u001b[49m\u001b[38;5;241;43m*\u001b[39;49m\u001b[43margs\u001b[49m\u001b[43m,\u001b[49m\u001b[43m \u001b[49m\u001b[38;5;241;43m*\u001b[39;49m\u001b[38;5;241;43m*\u001b[39;49m\u001b[43mkwargs\u001b[49m\u001b[43m)\u001b[49m\n\u001b[0;32m   1529\u001b[0m \u001b[38;5;28;01mtry\u001b[39;00m:\n\u001b[0;32m   1530\u001b[0m     result \u001b[38;5;241m=\u001b[39m \u001b[38;5;28;01mNone\u001b[39;00m\n",
      "File \u001b[1;32m~\\AppData\\Local\\Packages\\PythonSoftwareFoundation.Python.3.11_qbz5n2kfra8p0\\LocalCache\\local-packages\\Python311\\site-packages\\torch\\nn\\modules\\linear.py:114\u001b[0m, in \u001b[0;36mLinear.forward\u001b[1;34m(self, input)\u001b[0m\n\u001b[0;32m    113\u001b[0m \u001b[38;5;28;01mdef\u001b[39;00m \u001b[38;5;21mforward\u001b[39m(\u001b[38;5;28mself\u001b[39m, \u001b[38;5;28minput\u001b[39m: Tensor) \u001b[38;5;241m-\u001b[39m\u001b[38;5;241m>\u001b[39m Tensor:\n\u001b[1;32m--> 114\u001b[0m     \u001b[38;5;28;01mreturn\u001b[39;00m \u001b[43mF\u001b[49m\u001b[38;5;241;43m.\u001b[39;49m\u001b[43mlinear\u001b[49m\u001b[43m(\u001b[49m\u001b[38;5;28;43minput\u001b[39;49m\u001b[43m,\u001b[49m\u001b[43m \u001b[49m\u001b[38;5;28;43mself\u001b[39;49m\u001b[38;5;241;43m.\u001b[39;49m\u001b[43mweight\u001b[49m\u001b[43m,\u001b[49m\u001b[43m \u001b[49m\u001b[38;5;28;43mself\u001b[39;49m\u001b[38;5;241;43m.\u001b[39;49m\u001b[43mbias\u001b[49m\u001b[43m)\u001b[49m\n",
      "\u001b[1;31mRuntimeError\u001b[0m: mat1 and mat2 shapes cannot be multiplied (156x2 and 4x20)"
     ]
    }
   ],
   "source": [
    "import numpy as np\n",
    "from sklearn.metrics import mean_squared_error\n",
    "\n",
    "def permutation_importance(model, X, y, n_repeats=10):\n",
    "    baseline_mse = mean_squared_error(y, model(X).detach().numpy())\n",
    "    importances = []\n",
    "    \n",
    "    for col in range(X.shape[1]):\n",
    "        feature_importances = []\n",
    "        for _ in range(n_repeats):\n",
    "            X_permuted = X.clone()\n",
    "            X_permuted[:, col] = torch.randperm(X.shape[0])\n",
    "            permuted_mse = mean_squared_error(y, model(X_permuted).detach().numpy())\n",
    "            importance = permuted_mse - baseline_mse\n",
    "            feature_importances.append(importance)\n",
    "        importances.append(np.mean(feature_importances))\n",
    "    \n",
    "    return np.array(importances)\n",
    "\n",
    "# Calculate permutation importance\n",
    "feature_names = ['Years of Experience', 'Education Level', 'Gender', 'Age']\n",
    "importances = permutation_importance(model_all_gen_age, X_test, y_test)\n",
    "\n",
    "# Plot feature importances\n",
    "plt.figure(figsize=(10, 6))\n",
    "plt.bar(feature_names, importances)\n",
    "plt.title('Feature Importance (Permutation Method)')\n",
    "plt.xlabel('Features')\n",
    "plt.ylabel('Importance')\n",
    "plt.xticks(rotation=45)\n",
    "plt.tight_layout()\n",
    "plt.show()\n",
    "\n",
    "# Print feature importances\n",
    "for name, importance in zip(feature_names, importances):\n",
    "    print(f\"{name}: {importance:.4f}\")"
   ]
  },
  {
   "cell_type": "markdown",
   "id": "c398da11",
   "metadata": {},
   "source": [
    "It's important to note that these values represent the increase in the model's error when the feature is permuted. A larger increase in error indicates that the feature is more important for the model's predictions"
   ]
  },
  {
   "cell_type": "code",
   "execution_count": 35,
   "id": "133b16096344a91d",
   "metadata": {
    "ExecuteTime": {
     "end_time": "2024-11-11T11:44:00.266005Z",
     "start_time": "2024-11-11T11:44:00.201104Z"
    }
   },
   "outputs": [
    {
     "ename": "NameError",
     "evalue": "name 'permutation_importance' is not defined",
     "output_type": "error",
     "traceback": [
      "\u001b[1;31m---------------------------------------------------------------------------\u001b[0m",
      "\u001b[1;31mNameError\u001b[0m                                 Traceback (most recent call last)",
      "Cell \u001b[1;32mIn[35], line 3\u001b[0m\n\u001b[0;32m      1\u001b[0m \u001b[38;5;66;03m# Calculate permutation importance\u001b[39;00m\n\u001b[0;32m      2\u001b[0m feature_names \u001b[38;5;241m=\u001b[39m [\u001b[38;5;124m'\u001b[39m\u001b[38;5;124mYears of Experience\u001b[39m\u001b[38;5;124m'\u001b[39m, \u001b[38;5;124m'\u001b[39m\u001b[38;5;124mEducation Level\u001b[39m\u001b[38;5;124m'\u001b[39m, \u001b[38;5;124m'\u001b[39m\u001b[38;5;124mGender\u001b[39m\u001b[38;5;124m'\u001b[39m, \u001b[38;5;124m'\u001b[39m\u001b[38;5;124mAge\u001b[39m\u001b[38;5;124m'\u001b[39m]\n\u001b[1;32m----> 3\u001b[0m importances \u001b[38;5;241m=\u001b[39m \u001b[43mpermutation_importance\u001b[49m(model_SE_gen_age, X_test, y_test)\n\u001b[0;32m      5\u001b[0m \u001b[38;5;66;03m# Plot feature importances\u001b[39;00m\n\u001b[0;32m      6\u001b[0m plt\u001b[38;5;241m.\u001b[39mfigure(figsize\u001b[38;5;241m=\u001b[39m(\u001b[38;5;241m10\u001b[39m, \u001b[38;5;241m6\u001b[39m))\n",
      "\u001b[1;31mNameError\u001b[0m: name 'permutation_importance' is not defined"
     ]
    }
   ],
   "source": [
    "# Calculate permutation importance\n",
    "feature_names = ['Years of Experience', 'Education Level', 'Gender', 'Age']\n",
    "importances = permutation_importance(model_SE_gen_age, X_test, y_test)\n",
    "\n",
    "# Plot feature importances\n",
    "plt.figure(figsize=(10, 6))\n",
    "plt.bar(feature_names, importances)\n",
    "plt.title('Feature Importance (Permutation Method)')\n",
    "plt.xlabel('Features')\n",
    "plt.ylabel('Importance')\n",
    "plt.xticks(rotation=45)\n",
    "plt.tight_layout()\n",
    "plt.show()\n",
    "\n",
    "# Print feature importances\n",
    "for name, importance in zip(feature_names, importances):\n",
    "    print(f\"{name}: {importance:.4f}\")"
   ]
  },
  {
   "cell_type": "markdown",
   "id": "85a3b4e0f18b5a22",
   "metadata": {},
   "source": [
    "# Fairness"
   ]
  },
  {
   "cell_type": "code",
   "execution_count": null,
   "id": "6c7c5b42b397675d",
   "metadata": {
    "ExecuteTime": {
     "end_time": "2024-11-11T11:44:00.452843Z",
     "start_time": "2024-11-11T11:44:00.266514Z"
    }
   },
   "outputs": [
    {
     "data": {
      "image/png": "[encoded data removed]",
      "text/plain": [
       "<Figure size 1000x600 with 1 Axes>"
      ]
     },
     "metadata": {},
     "output_type": "display_data"
    }
   ],
   "source": [
    "df = df[df['Gender'] != 'Other']\n",
    "df['Gender'].value_counts()\n",
    "\n",
    "# Separate the data by gender\n",
    "salaries_men = df[df['Gender'] == 'Male']['Salary']\n",
    "salaries_women = df[df['Gender'] == 'Female']['Salary']\n",
    "\n",
    "# Calculate the mean salaries\n",
    "mean_salary_men = salaries_men.mean()\n",
    "mean_salary_women = salaries_women.mean()\n",
    "\n",
    "# Create the plot\n",
    "plt.figure(figsize=(10, 6))\n",
    "salaries_men.plot(kind='density', label='Men', color='blue')\n",
    "salaries_women.plot(kind='density', label='Women', color='red')\n",
    "\n",
    "# Add vertical lines for the mean salaries\n",
    "plt.axvline(mean_salary_men, color='blue', linestyle='dashed', linewidth=2, label=f'Mean Salary Men: {mean_salary_men:.2f}')\n",
    "plt.axvline(mean_salary_women, color='red', linestyle='dashed', linewidth=2, label=f'Mean Salary Women: {mean_salary_women:.2f}')\n",
    "\n",
    "plt.title('Salary Distribution by Gender')\n",
    "plt.xlabel('Salary')\n",
    "plt.ylabel('Density')\n",
    "plt.legend()\n",
    "plt.show()"
   ]
  },
  {
   "cell_type": "markdown",
   "id": "4da68292456e5d86",
   "metadata": {},
   "source": [
    "Diffrence in mean salary for all jobs"
   ]
  },
  {
   "cell_type": "code",
   "execution_count": null,
   "id": "c8cd829f2d15f75f",
   "metadata": {
    "ExecuteTime": {
     "end_time": "2024-11-11T12:16:49.769273Z",
     "start_time": "2024-11-11T12:16:49.765031Z"
    }
   },
   "outputs": [
    {
     "data": {
      "text/plain": [
       "13500.872242613157"
      ]
     },
     "execution_count": 20,
     "metadata": {},
     "output_type": "execute_result"
    }
   ],
   "source": [
    "mean_salary_men-mean_salary_women"
   ]
  },
  {
   "cell_type": "markdown",
   "id": "4adf780c90ec449b",
   "metadata": {},
   "source": [
    "Diffrence in mean salary prediction for all jobs"
   ]
  },
  {
   "cell_type": "code",
   "execution_count": null,
   "id": "22d8f73aeb0a4319",
   "metadata": {
    "ExecuteTime": {
     "end_time": "2024-11-11T11:44:00.459333Z",
     "start_time": "2024-11-11T11:44:00.454422Z"
    }
   },
   "outputs": [
    {
     "data": {
      "text/plain": [
       "2335.3434690502727"
      ]
     },
     "execution_count": 17,
     "metadata": {},
     "output_type": "execute_result"
    }
   ],
   "source": [
    "model_all.predict(df)"
   ]
  },
  {
   "cell_type": "markdown",
   "id": "4eae3e99c1e2fc22",
   "metadata": {},
   "source": [
    "# Is Uni worth it?"
   ]
  },
  {
   "cell_type": "code",
   "execution_count": null,
   "id": "91a5e8048ce83022",
   "metadata": {
    "ExecuteTime": {
     "end_time": "2024-11-11T11:47:01.451493Z",
     "start_time": "2024-11-11T11:47:01.449179Z"
    }
   },
   "outputs": [
    {
     "name": "stdout",
     "output_type": "stream",
     "text": [
      "tensor([[-0.3941],\n",
      "        [-0.2742],\n",
      "        [-0.4841],\n",
      "        [ 0.0689],\n",
      "        [-0.6454]])\n",
      "Datapoint 1: Predicted Salary = $105530.90\n",
      "Datapoint 2: Predicted Salary = $111409.96\n",
      "Datapoint 3: Predicted Salary = $101112.37\n",
      "Datapoint 4: Predicted Salary = $128238.07\n",
      "Datapoint 5: Predicted Salary = $93202.39\n"
     ]
    }
   ],
   "source": [
    "## The idea is to see if 4 years of experience is worth more than a Bachelor or 6 years more than a Master's or 10 years more than a PhD\n",
    "\n",
    "#make fake data for seeing if uni is worth it\n",
    "\n",
    "\n",
    "df_fake = pd.DataFrame([\n",
    "    [27, \"Male\", \"High School\", \"Software Engineer\", 9, 1],\n",
    "    [27, \"Male\", \"Bachelor's\", \"Software Engineer\",6 , 1],\n",
    "    [27, \"Male\", \"Master's\", \"Software Engineer\", 4, 1],\n",
    "    [27, \"Male\", \"PhD\", \"Software Engineer\", 2, 1]\n",
    "], columns=[\"Age\", \"Gender\", \"Education Level\", \"Job Title\", \"Years of Experience\", \"Salary\"])\n",
    "\n",
    "\n",
    "\n",
    "# -----------NOT NECESSARY IF ALREADY DONE -------------\n",
    "# Encode 'Education Level' for simplicity\n",
    "education_mapping = {'High School': 0, 'Bachelor\\'s': 1, 'Master\\'s': 2, 'PhD': 3}\n",
    "df_fake['Education Level'] = df_fake['Education Level'].map(education_mapping).copy()\n",
    "\n",
    "# Encode 'Gender'\n",
    "gender_mapping = {'Male': 0, 'Female': 1}\n",
    "df_fake['Gender'] = df_fake['Gender'].map(gender_mapping).copy()\n",
    "\n",
    "\n",
    "# Scale 'Years of Experience', 'Age', and 'Salary' for stability\n",
    "scaler = joblib.load(\"C:\\Master\\ML_theory\\Github\\ml_project\\Salary new dataset\\scaler_preds\")\n",
    "df_fake[['Years of Experience', \"Salary\", 'Age']] = scaler.transform(df_fake[['Years of Experience', \"Salary\", 'Age']])\n",
    "\n",
    "\n",
    "X_train = torch.tensor(df_fake[['Years of Experience', 'Education Level', 'Gender', 'Age']].values, dtype=torch.float32)\n",
    "\n",
    "model_all_gen_age.load_state_dict(torch.load(\"C:\\Master\\ML_theory\\Github\\ml_project\\Salary new dataset\\model_all_gen_age.pth\")) #load the model\n",
    "model_all_gen_age.eval()\n",
    "\n",
    "with torch.no_grad():\n",
    "    predictions = model_all_gen_age(X_train)\n",
    "\n",
    "print(predictions)\n",
    "\n",
    "predictions_np = predictions.numpy()\n",
    "\n",
    "dummy_array = np.zeros((len(predictions_np), 3))  # 3 columns for Years of Experience, Salary, Age\n",
    "dummy_array[:, 0] = df_fake['Years of Experience']  # Scaled Years of Experience\n",
    "dummy_array[:, 1] = predictions_np.flatten()  # Predictions (to be treated as Salary)\n",
    "dummy_array[:, 2] = df_fake['Age']  # Scaled Age\n",
    "\n",
    "# Inverse transform using the scaler\n",
    "real_salaries = scaler.inverse_transform(dummy_array)[:, 1]  # Extract only the Salary column\n",
    "\n",
    "# Print the real salaries\n",
    "for i, salary in enumerate(real_salaries):\n",
    "    print(f\"Datapoint {i+1}: Predicted Salary = ${salary:.2f}\")\n"
   ]
  },
  {
   "cell_type": "code",
   "execution_count": 79,
   "id": "c2782d75213a6626",
   "metadata": {},
   "outputs": [
    {
     "name": "stdout",
     "output_type": "stream",
     "text": [
      "tensor([[ 3.1476],\n",
      "        [ 2.0182],\n",
      "        [ 0.0194],\n",
      "        [-1.1311]])\n",
      "Datapoint 1: Predicted Salary = $262783.87\n",
      "Datapoint 2: Predicted Salary = $208576.27\n",
      "Datapoint 3: Predicted Salary = $112645.80\n",
      "Datapoint 4: Predicted Salary = $57426.87\n"
     ]
    }
   ],
   "source": [
    "#Other model\n",
    "## The idea is to see if 4 years of experience is worth more than a Bachelor or 6 years more than a Master's or 10 years more than a PhD\n",
    "\n",
    "#make fake data for seeing if uni is worth it\n",
    "\n",
    "\n",
    "df_fake = pd.DataFrame([\n",
    "    [27, \"Male\", \"High School\", \"Software Engineer\", 9, 1],\n",
    "    [27, \"Male\", \"Bachelor's\", \"Software Engineer\",6 , 1],\n",
    "    [27, \"Male\", \"Master's\", \"Software Engineer\", 4, 1],\n",
    "    [27, \"Male\", \"PhD\", \"Software Engineer\", 2, 1]\n",
    "], columns=[\"Age\", \"Gender\", \"Education Level\", \"Job Title\", \"Years of Experience\", \"Salary\"])\n",
    "\n",
    "\n",
    "\n",
    "# -----------NOT NECESSARY IF ALREADY DONE -------------\n",
    "# Encode 'Education Level' for simplicity\n",
    "education_mapping = {'High School': 0, 'Bachelor\\'s': 1, 'Master\\'s': 2, 'PhD': 3}\n",
    "df_fake['Education Level'] = df_fake['Education Level'].map(education_mapping).copy()\n",
    "\n",
    "# Encode 'Gender'\n",
    "gender_mapping = {'Male': 0, 'Female': 1}\n",
    "df_fake['Gender'] = df_fake['Gender'].map(gender_mapping).copy()\n",
    "\n",
    "\n",
    "# Scale 'Years of Experience', 'Age', and 'Salary' for stability\n",
    "scaler = joblib.load(\"C:\\Master\\ML_theory\\Github\\ml_project\\Salary new dataset\\scaler_only_se\")\n",
    "df_fake[['Years of Experience', \"Salary\", 'Age']] = scaler.transform(df_fake[['Years of Experience', \"Salary\", 'Age']])\n",
    "\n",
    "\n",
    "X_train = torch.tensor(df_fake[['Years of Experience', 'Education Level', 'Gender', 'Age']].values, dtype=torch.float32)\n",
    "\n",
    "model_all_gen_age.load_state_dict(torch.load(\"C:\\Master\\ML_theory\\Github\\ml_project\\Salary new dataset\\model_SE_gen_age.pth\")) #load the model\n",
    "model_all_gen_age.eval()\n",
    "\n",
    "with torch.no_grad():\n",
    "    predictions = model_all_gen_age(X_train)\n",
    "\n",
    "print(predictions)\n",
    "\n",
    "predictions_np = predictions.numpy()\n",
    "\n",
    "dummy_array = np.zeros((len(predictions_np), 3))  # 3 columns for Years of Experience, Salary, Age\n",
    "dummy_array[:, 0] = df_fake['Years of Experience']  # Scaled Years of Experience\n",
    "dummy_array[:, 1] = predictions_np.flatten()  # Predictions (to be treated as Salary)\n",
    "dummy_array[:, 2] = df_fake['Age']  # Scaled Age\n",
    "\n",
    "# Inverse transform using the scaler\n",
    "real_salaries = scaler.inverse_transform(dummy_array)[:, 1]  # Extract only the Salary column\n",
    "\n",
    "# Print the real salaries\n",
    "for i, salary in enumerate(real_salaries):\n",
    "    print(f\"Datapoint {i+1}: Predicted Salary = ${salary:.2f}\")\n"
   ]
  }
 ],
 "metadata": {
  "kernelspec": {
   "display_name": "Python 3",
   "language": "python",
   "name": "python3"
  },
  "language_info": {
   "codemirror_mode": {
    "name": "ipython",
    "version": 3
   },
   "file_extension": ".py",
   "mimetype": "text/x-python",
   "name": "python",
   "nbconvert_exporter": "python",
   "pygments_lexer": "ipython3",
   "version": "3.11.9"
  }
 },
 "nbformat": 4,
 "nbformat_minor": 5
}
