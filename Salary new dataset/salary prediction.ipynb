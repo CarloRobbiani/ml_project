{
 "cells": [
  {
   "cell_type": "code",
   "execution_count": 1,
   "id": "initial_id",
   "metadata": {
    "ExecuteTime": {
     "end_time": "2024-11-06T09:41:52.748988Z",
     "start_time": "2024-11-06T09:41:52.736149Z"
    },
    "collapsed": true
   },
   "outputs": [
    {
     "data": {
      "text/html": [
       "<div>\n",
       "<style scoped>\n",
       "    .dataframe tbody tr th:only-of-type {\n",
       "        vertical-align: middle;\n",
       "    }\n",
       "\n",
       "    .dataframe tbody tr th {\n",
       "        vertical-align: top;\n",
       "    }\n",
       "\n",
       "    .dataframe thead th {\n",
       "        text-align: right;\n",
       "    }\n",
       "</style>\n",
       "<table border=\"1\" class=\"dataframe\">\n",
       "  <thead>\n",
       "    <tr style=\"text-align: right;\">\n",
       "      <th></th>\n",
       "      <th>Age</th>\n",
       "      <th>Gender</th>\n",
       "      <th>Education Level</th>\n",
       "      <th>Job Title</th>\n",
       "      <th>Years of Experience</th>\n",
       "      <th>Salary</th>\n",
       "    </tr>\n",
       "  </thead>\n",
       "  <tbody>\n",
       "    <tr>\n",
       "      <th>0</th>\n",
       "      <td>32.0</td>\n",
       "      <td>Male</td>\n",
       "      <td>Bachelor's</td>\n",
       "      <td>Software Engineer</td>\n",
       "      <td>5.0</td>\n",
       "      <td>90000.0</td>\n",
       "    </tr>\n",
       "    <tr>\n",
       "      <th>1</th>\n",
       "      <td>28.0</td>\n",
       "      <td>Female</td>\n",
       "      <td>Master's</td>\n",
       "      <td>Data Analyst</td>\n",
       "      <td>3.0</td>\n",
       "      <td>65000.0</td>\n",
       "    </tr>\n",
       "    <tr>\n",
       "      <th>2</th>\n",
       "      <td>45.0</td>\n",
       "      <td>Male</td>\n",
       "      <td>PhD</td>\n",
       "      <td>Senior Manager</td>\n",
       "      <td>15.0</td>\n",
       "      <td>150000.0</td>\n",
       "    </tr>\n",
       "    <tr>\n",
       "      <th>3</th>\n",
       "      <td>36.0</td>\n",
       "      <td>Female</td>\n",
       "      <td>Bachelor's</td>\n",
       "      <td>Sales Associate</td>\n",
       "      <td>7.0</td>\n",
       "      <td>60000.0</td>\n",
       "    </tr>\n",
       "    <tr>\n",
       "      <th>4</th>\n",
       "      <td>52.0</td>\n",
       "      <td>Male</td>\n",
       "      <td>Master's</td>\n",
       "      <td>Director</td>\n",
       "      <td>20.0</td>\n",
       "      <td>200000.0</td>\n",
       "    </tr>\n",
       "  </tbody>\n",
       "</table>\n",
       "</div>"
      ],
      "text/plain": [
       "    Age  Gender Education Level          Job Title  Years of Experience  \\\n",
       "0  32.0    Male      Bachelor's  Software Engineer                  5.0   \n",
       "1  28.0  Female        Master's       Data Analyst                  3.0   \n",
       "2  45.0    Male             PhD     Senior Manager                 15.0   \n",
       "3  36.0  Female      Bachelor's    Sales Associate                  7.0   \n",
       "4  52.0    Male        Master's           Director                 20.0   \n",
       "\n",
       "     Salary  \n",
       "0   90000.0  \n",
       "1   65000.0  \n",
       "2  150000.0  \n",
       "3   60000.0  \n",
       "4  200000.0  "
      ]
     },
     "execution_count": 1,
     "metadata": {},
     "output_type": "execute_result"
    }
   ],
   "source": [
    "import pandas as pd\n",
    "import os\n",
    "import numpy as np\n",
    "import matplotlib.pyplot as plt\n",
    "\n",
    "path = 'Salary_Data.csv'\n",
    "\n",
    "df = pd.read_csv(path)\n",
    "df.head()"
   ]
  },
  {
   "cell_type": "markdown",
   "id": "f80b76410248ec02",
   "metadata": {},
   "source": [
    "# Data Cleaning"
   ]
  },
  {
   "cell_type": "code",
   "execution_count": 2,
   "id": "3c0a0fc9cb233f41",
   "metadata": {
    "ExecuteTime": {
     "end_time": "2024-11-08T08:57:04.897704Z",
     "start_time": "2024-11-08T08:57:04.894235Z"
    }
   },
   "outputs": [
    {
     "data": {
      "text/plain": [
       "Education Level\n",
       "Bachelor's Degree    2267\n",
       "Master's Degree      1573\n",
       "PhD                  1368\n",
       "Bachelor's            756\n",
       "High School           448\n",
       "Master's              288\n",
       "phD                     1\n",
       "Name: count, dtype: int64"
      ]
     },
     "execution_count": 2,
     "metadata": {},
     "output_type": "execute_result"
    }
   ],
   "source": [
    "df['Education Level'].value_counts()"
   ]
  },
  {
   "cell_type": "code",
   "execution_count": 3,
   "id": "41cbf51218714a9a",
   "metadata": {
    "ExecuteTime": {
     "end_time": "2024-11-08T08:57:05.415019Z",
     "start_time": "2024-11-08T08:57:05.412806Z"
    }
   },
   "outputs": [
    {
     "name": "stdout",
     "output_type": "stream",
     "text": [
      "Index(['Age', 'Gender', 'Education Level', 'Job Title', 'Years of Experience',\n",
      "       'Salary'],\n",
      "      dtype='object')\n",
      "<class 'numpy.float64'>\n",
      "<class 'numpy.float64'>\n"
     ]
    }
   ],
   "source": [
    "print(df.columns)\n",
    "print(type(df.Salary[0]))\n",
    "print(type(df['Years of Experience'][0]))"
   ]
  },
  {
   "cell_type": "code",
   "execution_count": 4,
   "id": "60ce7d500718aaca",
   "metadata": {
    "ExecuteTime": {
     "end_time": "2024-11-08T08:57:06.017095Z",
     "start_time": "2024-11-08T08:57:06.009102Z"
    }
   },
   "outputs": [
    {
     "data": {
      "text/plain": [
       "Education Level\n",
       "Bachelor's     3023\n",
       "Master's       1861\n",
       "PhD            1369\n",
       "High School     448\n",
       "Name: count, dtype: int64"
      ]
     },
     "execution_count": 4,
     "metadata": {},
     "output_type": "execute_result"
    }
   ],
   "source": [
    "# Combining the education level Bachelor's degree and Bachelor's\n",
    "df['Education Level'] = df['Education Level'].replace(\"Bachelor's Degree\", \"Bachelor's\")\n",
    "df['Education Level'] = df['Education Level'].replace(\"phD\", \"PhD\")\n",
    "df['Education Level'] = df['Education Level'].replace(\"Master's Degree\", \"Master's\")\n",
    "\n",
    "df['Education Level'].value_counts()"
   ]
  },
  {
   "cell_type": "code",
   "execution_count": 5,
   "id": "701d3c325987af11",
   "metadata": {
    "ExecuteTime": {
     "end_time": "2024-11-08T08:57:06.873188Z",
     "start_time": "2024-11-08T08:57:06.752574Z"
    }
   },
   "outputs": [
    {
     "data": {
      "text/plain": [
       "Text(0, 0.5, 'Salary')"
      ]
     },
     "execution_count": 5,
     "metadata": {},
     "output_type": "execute_result"
    },
    {
     "data": {
      "image/png": "[encoded data removed]",
      "text/plain": [
       "<Figure size 640x480 with 1 Axes>"
      ]
     },
     "metadata": {},
     "output_type": "display_data"
    }
   ],
   "source": [
    "plt.scatter(df['Years of Experience'], df['Salary'])\n",
    "plt.xlabel('Years of Experience')\n",
    "plt.ylabel('Salary')"
   ]
  },
  {
   "cell_type": "code",
   "execution_count": 6,
   "id": "de4f45023ef2276b",
   "metadata": {
    "ExecuteTime": {
     "end_time": "2024-11-08T08:57:08.193207Z",
     "start_time": "2024-11-08T08:57:08.135028Z"
    }
   },
   "outputs": [
    {
     "name": "stderr",
     "output_type": "stream",
     "text": [
      "C:\\Users\\carlo\\AppData\\Local\\Temp\\ipykernel_5048\\2615817528.py:3: FutureWarning: The default of observed=False is deprecated and will be changed to True in a future version of pandas. Pass observed=False to retain current behavior or observed=True to adopt the future default and silence this warning.\n",
      "  df.groupby('Education Level')['Salary'].mean().plot(kind='bar')\n"
     ]
    },
    {
     "data": {
      "text/plain": [
       "<Axes: xlabel='Education Level'>"
      ]
     },
     "execution_count": 6,
     "metadata": {},
     "output_type": "execute_result"
    },
    {
     "data": {
      "image/png": "[encoded data removed]",
      "text/plain": [
       "<Figure size 640x480 with 1 Axes>"
      ]
     },
     "metadata": {},
     "output_type": "display_data"
    }
   ],
   "source": [
    "df['Education Level'] = pd.Categorical(df['Education Level'], categories=['High School', 'Bachelor\\'s', 'Master\\'s', 'PhD'], ordered=True)\n",
    "\n",
    "df.groupby('Education Level')['Salary'].mean().plot(kind='bar')"
   ]
  },
  {
   "cell_type": "code",
   "execution_count": 7,
   "id": "92e263d7eaaf3347",
   "metadata": {
    "ExecuteTime": {
     "end_time": "2024-11-08T08:57:09.448714Z",
     "start_time": "2024-11-08T08:57:09.445193Z"
    }
   },
   "outputs": [
    {
     "data": {
      "text/plain": [
       "Job Title\n",
       "Software Engineer             518\n",
       "Data Scientist                453\n",
       "Software Engineer Manager     376\n",
       "Data Analyst                  363\n",
       "Senior Project Engineer       318\n",
       "                             ... \n",
       "Account Manager                 1\n",
       "Help Desk Analyst               1\n",
       "Senior Training Specialist      1\n",
       "Junior Web Designer             1\n",
       "Supply Chain Analyst            1\n",
       "Name: count, Length: 193, dtype: int64"
      ]
     },
     "execution_count": 7,
     "metadata": {},
     "output_type": "execute_result"
    }
   ],
   "source": [
    "# Job Title with the most data\n",
    "df['Job Title'].value_counts()"
   ]
  },
  {
   "cell_type": "markdown",
   "id": "dd2660f746251aa6",
   "metadata": {},
   "source": [
    "# Define Model"
   ]
  },
  {
   "cell_type": "code",
   "execution_count": 8,
   "id": "f4afc18607fe7674",
   "metadata": {
    "ExecuteTime": {
     "end_time": "2024-11-08T08:57:10.577709Z",
     "start_time": "2024-11-08T08:57:10.574452Z"
    }
   },
   "outputs": [],
   "source": [
    "import torch.nn as nn\n",
    "class RegressionModel(nn.Module):\n",
    "    def __init__(self, input_dim, hidden_dim, output_dim):\n",
    "        super(RegressionModel, self).__init__()\n",
    "        self.layer1 = nn.Linear(input_dim, hidden_dim)\n",
    "        self.activation1 = nn.ReLU()\n",
    "        self.layer2 = nn.Linear(hidden_dim, output_dim)\n",
    "        # self.activation2 = nn.ReLU()\n",
    "        # self.layer3 = nn.Linear(hidden_dim, output_dim)\n",
    "        \n",
    "    def forward(self, x):\n",
    "        x = self.layer1(x)\n",
    "        x = self.activation1(x)\n",
    "        x = self.layer2(x)\n",
    "        # x = self.activation2(x)\n",
    "        # return self.layer3(x)\n",
    "        return x"
   ]
  },
  {
   "cell_type": "markdown",
   "id": "9279a93b50e3f837",
   "metadata": {},
   "source": [
    "# Training"
   ]
  },
  {
   "cell_type": "code",
   "execution_count": 9,
   "id": "e98aaa0c13a97acb",
   "metadata": {
    "ExecuteTime": {
     "end_time": "2024-11-08T08:57:14.361490Z",
     "start_time": "2024-11-08T08:57:11.403120Z"
    }
   },
   "outputs": [
    {
     "name": "stdout",
     "output_type": "stream",
     "text": [
      "Epoch 0 - Train Loss: 0.819605827331543 | Validation Loss: 0.8516637682914734\n",
      "Epoch 100 - Train Loss: 0.35573825240135193 | Validation Loss: 0.3514571487903595\n",
      "Epoch 200 - Train Loss: 0.3334556818008423 | Validation Loss: 0.32003509998321533\n",
      "Epoch 300 - Train Loss: 0.3240167796611786 | Validation Loss: 0.31258004903793335\n",
      "Epoch 400 - Train Loss: 0.31715989112854004 | Validation Loss: 0.3100743293762207\n",
      "Epoch 500 - Train Loss: 0.3118860125541687 | Validation Loss: 0.3086927831172943\n",
      "Epoch 600 - Train Loss: 0.30804604291915894 | Validation Loss: 0.3079189658164978\n",
      "Epoch 700 - Train Loss: 0.3053347170352936 | Validation Loss: 0.30718234181404114\n",
      "Epoch 800 - Train Loss: 0.30359625816345215 | Validation Loss: 0.3057963252067566\n",
      "Epoch 900 - Train Loss: 0.30249297618865967 | Validation Loss: 0.304818332195282\n",
      "Epoch 1000 - Train Loss: 0.3018130362033844 | Validation Loss: 0.3046802878379822\n",
      "Epoch 1100 - Train Loss: 0.3014218211174011 | Validation Loss: 0.30472078919410706\n",
      "Epoch 1200 - Train Loss: 0.3011300265789032 | Validation Loss: 0.3047133684158325\n",
      "Epoch 1300 - Train Loss: 0.3008858263492584 | Validation Loss: 0.30472704768180847\n",
      "Epoch 1400 - Train Loss: 0.3006803095340729 | Validation Loss: 0.30456990003585815\n",
      "Epoch 1500 - Train Loss: 0.3005118668079376 | Validation Loss: 0.304350346326828\n",
      "Epoch 1600 - Train Loss: 0.3003671169281006 | Validation Loss: 0.3041136860847473\n",
      "Epoch 1700 - Train Loss: 0.3002297580242157 | Validation Loss: 0.30391043424606323\n",
      "Epoch 1800 - Train Loss: 0.30011674761772156 | Validation Loss: 0.30385202169418335\n",
      "Epoch 1900 - Train Loss: 0.30001023411750793 | Validation Loss: 0.3037334382534027\n",
      "Epoch 2000 - Train Loss: 0.29990750551223755 | Validation Loss: 0.30355390906333923\n",
      "Epoch 2100 - Train Loss: 0.29981109499931335 | Validation Loss: 0.30341988801956177\n",
      "Epoch 2200 - Train Loss: 0.29972130060195923 | Validation Loss: 0.3032121956348419\n",
      "Epoch 2300 - Train Loss: 0.2996387481689453 | Validation Loss: 0.3031133711338043\n",
      "Epoch 2400 - Train Loss: 0.29956430196762085 | Validation Loss: 0.30297428369522095\n",
      "Epoch 2500 - Train Loss: 0.2994987666606903 | Validation Loss: 0.30274027585983276\n",
      "Epoch 2600 - Train Loss: 0.2993263006210327 | Validation Loss: 0.30151352286338806\n",
      "Epoch 2700 - Train Loss: 0.29926255345344543 | Validation Loss: 0.3013085126876831\n",
      "Epoch 2800 - Train Loss: 0.2992320656776428 | Validation Loss: 0.3013073801994324\n",
      "Epoch 2900 - Train Loss: 0.29921427369117737 | Validation Loss: 0.30134087800979614\n",
      "Epoch 3000 - Train Loss: 0.29920488595962524 | Validation Loss: 0.30134278535842896\n",
      "Epoch 3100 - Train Loss: 0.2992002069950104 | Validation Loss: 0.30135679244995117\n",
      "Epoch 3200 - Train Loss: 0.29919716715812683 | Validation Loss: 0.3013596832752228\n",
      "Epoch 3300 - Train Loss: 0.2991950809955597 | Validation Loss: 0.3013974726200104\n",
      "Epoch 3400 - Train Loss: 0.2991935908794403 | Validation Loss: 0.3013670742511749\n",
      "Epoch 3500 - Train Loss: 0.29919251799583435 | Validation Loss: 0.30138909816741943\n",
      "Epoch 3600 - Train Loss: 0.2991918623447418 | Validation Loss: 0.3013591766357422\n",
      "Epoch 3700 - Train Loss: 0.29919150471687317 | Validation Loss: 0.3014031946659088\n",
      "Epoch 3800 - Train Loss: 0.2991912364959717 | Validation Loss: 0.3013821840286255\n",
      "Epoch 3900 - Train Loss: 0.29919102787971497 | Validation Loss: 0.30138468742370605\n",
      "Epoch 4000 - Train Loss: 0.2991907596588135 | Validation Loss: 0.30142277479171753\n",
      "Epoch 4100 - Train Loss: 0.2991904616355896 | Validation Loss: 0.3014032244682312\n",
      "Epoch 4200 - Train Loss: 0.2991902232170105 | Validation Loss: 0.3013989329338074\n",
      "Epoch 4300 - Train Loss: 0.2991900146007538 | Validation Loss: 0.3014416992664337\n",
      "Epoch 4400 - Train Loss: 0.2991896867752075 | Validation Loss: 0.30144786834716797\n",
      "Epoch 4500 - Train Loss: 0.29918962717056274 | Validation Loss: 0.3014135956764221\n",
      "Epoch 4600 - Train Loss: 0.2991895377635956 | Validation Loss: 0.30141985416412354\n",
      "Epoch 4700 - Train Loss: 0.2991897761821747 | Validation Loss: 0.3014187216758728\n",
      "Epoch 4800 - Train Loss: 0.2991900146007538 | Validation Loss: 0.30141347646713257\n",
      "Epoch 4900 - Train Loss: 0.2991900146007538 | Validation Loss: 0.3014017939567566\n",
      "Epoch 5000 - Train Loss: 0.29919055104255676 | Validation Loss: 0.30144020915031433\n",
      "Epoch 5100 - Train Loss: 0.2991905212402344 | Validation Loss: 0.30144232511520386\n",
      "Epoch 5200 - Train Loss: 0.2991906404495239 | Validation Loss: 0.30144014954566956\n",
      "Epoch 5300 - Train Loss: 0.2991909384727478 | Validation Loss: 0.30143558979034424\n",
      "Epoch 5400 - Train Loss: 0.2991909384727478 | Validation Loss: 0.30146992206573486\n",
      "Epoch 5500 - Train Loss: 0.29919102787971497 | Validation Loss: 0.301486074924469\n",
      "Epoch 5600 - Train Loss: 0.29919135570526123 | Validation Loss: 0.30145344138145447\n",
      "Epoch 5700 - Train Loss: 0.29919055104255676 | Validation Loss: 0.30145063996315\n",
      "Epoch 5800 - Train Loss: 0.29918956756591797 | Validation Loss: 0.30143871903419495\n",
      "Epoch 5900 - Train Loss: 0.299189031124115 | Validation Loss: 0.3014838993549347\n",
      "Epoch 6000 - Train Loss: 0.2991892695426941 | Validation Loss: 0.30143457651138306\n",
      "Epoch 6100 - Train Loss: 0.29918864369392395 | Validation Loss: 0.30148759484291077\n",
      "Epoch 6200 - Train Loss: 0.2991885542869568 | Validation Loss: 0.3014875054359436\n",
      "Epoch 6300 - Train Loss: 0.29918941855430603 | Validation Loss: 0.3015194237232208\n",
      "Epoch 6400 - Train Loss: 0.2991895377635956 | Validation Loss: 0.3015475273132324\n",
      "Epoch 6500 - Train Loss: 0.29918938875198364 | Validation Loss: 0.3015044331550598\n",
      "Epoch 6600 - Train Loss: 0.2991897463798523 | Validation Loss: 0.30158257484436035\n",
      "Epoch 6700 - Train Loss: 0.2991902232170105 | Validation Loss: 0.3015969693660736\n",
      "Epoch 6800 - Train Loss: 0.2991904616355896 | Validation Loss: 0.30154144763946533\n",
      "Epoch 6900 - Train Loss: 0.29919102787971497 | Validation Loss: 0.30164510011672974\n",
      "Epoch 7000 - Train Loss: 0.2991911768913269 | Validation Loss: 0.30153146386146545\n",
      "Epoch 7100 - Train Loss: 0.2991912066936493 | Validation Loss: 0.30155616998672485\n",
      "Epoch 7200 - Train Loss: 0.2991924285888672 | Validation Loss: 0.30162954330444336\n",
      "Epoch 7300 - Train Loss: 0.299191951751709 | Validation Loss: 0.3015795648097992\n",
      "Epoch 7400 - Train Loss: 0.2991938889026642 | Validation Loss: 0.30155453085899353\n",
      "Epoch 7500 - Train Loss: 0.29919204115867615 | Validation Loss: 0.30154386162757874\n",
      "Epoch 7600 - Train Loss: 0.29919174313545227 | Validation Loss: 0.3015589416027069\n",
      "Epoch 7700 - Train Loss: 0.29919135570526123 | Validation Loss: 0.3016092777252197\n",
      "Epoch 7800 - Train Loss: 0.2991918921470642 | Validation Loss: 0.30163195729255676\n",
      "Epoch 7900 - Train Loss: 0.2991919219493866 | Validation Loss: 0.30165353417396545\n",
      "Epoch 8000 - Train Loss: 0.29919201135635376 | Validation Loss: 0.3016229569911957\n",
      "Epoch 8100 - Train Loss: 0.29919299483299255 | Validation Loss: 0.30154648423194885\n",
      "Epoch 8200 - Train Loss: 0.29919254779815674 | Validation Loss: 0.3016091585159302\n",
      "Epoch 8300 - Train Loss: 0.29919368028640747 | Validation Loss: 0.3015514314174652\n",
      "Epoch 8400 - Train Loss: 0.2991926372051239 | Validation Loss: 0.3016311228275299\n",
      "Epoch 8500 - Train Loss: 0.2991928458213806 | Validation Loss: 0.30164405703544617\n",
      "Epoch 8600 - Train Loss: 0.29919305443763733 | Validation Loss: 0.3016147017478943\n",
      "Epoch 8700 - Train Loss: 0.2991929352283478 | Validation Loss: 0.301669180393219\n",
      "Epoch 8800 - Train Loss: 0.2991940975189209 | Validation Loss: 0.30161944031715393\n",
      "Epoch 8900 - Train Loss: 0.2991931140422821 | Validation Loss: 0.30160588026046753\n",
      "Epoch 9000 - Train Loss: 0.29919347167015076 | Validation Loss: 0.3017203211784363\n",
      "Epoch 9100 - Train Loss: 0.29919368028640747 | Validation Loss: 0.30161595344543457\n",
      "Epoch 9200 - Train Loss: 0.2991931140422821 | Validation Loss: 0.30168136954307556\n",
      "Epoch 9300 - Train Loss: 0.29919275641441345 | Validation Loss: 0.3017200827598572\n",
      "Epoch 9400 - Train Loss: 0.29919254779815674 | Validation Loss: 0.30165162682533264\n",
      "Epoch 9500 - Train Loss: 0.2991935908794403 | Validation Loss: 0.30161434412002563\n",
      "Epoch 9600 - Train Loss: 0.29919230937957764 | Validation Loss: 0.30167776346206665\n",
      "Epoch 9700 - Train Loss: 0.29919299483299255 | Validation Loss: 0.30162662267684937\n",
      "Epoch 9800 - Train Loss: 0.29919278621673584 | Validation Loss: 0.3017275929450989\n",
      "Epoch 9900 - Train Loss: 0.29919201135635376 | Validation Loss: 0.30165761709213257\n"
     ]
    },
    {
     "data": {
      "image/png": "[encoded data removed]",
      "text/plain": [
       "<Figure size 640x480 with 1 Axes>"
      ]
     },
     "metadata": {},
     "output_type": "display_data"
    },
    {
     "name": "stdout",
     "output_type": "stream",
     "text": [
      "Test Loss: 0.2958254814147949\n"
     ]
    }
   ],
   "source": [
    "import torch\n",
    "import torch.nn as nn\n",
    "import matplotlib.pyplot as plt\n",
    "from sklearn.preprocessing import StandardScaler, LabelEncoder\n",
    "from sklearn.model_selection import train_test_split\n",
    "\n",
    "# Filter data for a specific job title\n",
    "job = 'Software Engineer'\n",
    "df_job = df[df['Job Title'] == job]\n",
    "df_job = df_job.dropna(subset=['Salary', 'Years of Experience', 'Education Level'])\n",
    "\n",
    "# Encode 'Education Level' for simplicity\n",
    "education_mapping = {'High School': 0, 'Bachelor\\'s': 1, 'Master\\'s': 2, 'PhD': 3}\n",
    "df_job['Education Level'] = df_job['Education Level'].map(education_mapping)\n",
    "\n",
    "# Split the data\n",
    "train, test = train_test_split(df_job, test_size=0.3, random_state=42)\n",
    "train, val = train_test_split(train, test_size=0.11, random_state=42)\n",
    "\n",
    "# Scale 'Years of Experience' and 'Salary' for stability\n",
    "scaler = StandardScaler()\n",
    "train[['Years of Experience', 'Salary']] = scaler.fit_transform(train[['Years of Experience', 'Salary']])\n",
    "val[['Years of Experience', 'Salary']] = scaler.transform(val[['Years of Experience', 'Salary']])\n",
    "test[['Years of Experience', 'Salary']] = scaler.transform(test[['Years of Experience', 'Salary']])\n",
    "\n",
    "# Define the model\n",
    "class RegressionModel(nn.Module):\n",
    "    def __init__(self, input_dim, hidden_dim, output_dim):\n",
    "        super(RegressionModel, self).__init__()\n",
    "        self.layer1 = nn.Linear(input_dim, hidden_dim)\n",
    "        self.activation1 = nn.ReLU()\n",
    "        self.layer2 = nn.Linear(hidden_dim, output_dim)\n",
    "        \n",
    "    def forward(self, x):\n",
    "        x = self.layer1(x)\n",
    "        x = self.activation1(x)\n",
    "        x = self.layer2(x)\n",
    "        return x\n",
    "\n",
    "# Set up model parameters\n",
    "input_dim = 2  # Years of Experience, Education Level\n",
    "hidden_dim = 64\n",
    "output_dim = 1\n",
    "model = RegressionModel(input_dim, hidden_dim, output_dim)\n",
    "\n",
    "criterion = nn.MSELoss()\n",
    "optimizer = torch.optim.Adam(model.parameters(), lr=0.001, weight_decay=1e-4)  # Add weight decay for L2 regularization\n",
    "\n",
    "# Prepare data for PyTorch\n",
    "X_train = torch.tensor(train[['Years of Experience', 'Education Level']].values, dtype=torch.float32)\n",
    "y_train = torch.tensor(train['Salary'].values, dtype=torch.float32).view(-1, 1)\n",
    "X_val = torch.tensor(val[['Years of Experience', 'Education Level']].values, dtype=torch.float32)\n",
    "y_val = torch.tensor(val['Salary'].values, dtype=torch.float32).view(-1, 1)\n",
    "X_test = torch.tensor(test[['Years of Experience', 'Education Level']].values, dtype=torch.float32)\n",
    "y_test = torch.tensor(test['Salary'].values, dtype=torch.float32).view(-1, 1)\n",
    "\n",
    "# Training loop\n",
    "train_losses, val_losses = [], []\n",
    "for epoch in range(10000):\n",
    "    model.train()\n",
    "    optimizer.zero_grad()\n",
    "    y_pred = model(X_train)\n",
    "    train_loss = criterion(y_pred, y_train)\n",
    "    train_loss.backward()\n",
    "    optimizer.step()\n",
    "    train_losses.append(train_loss.item())\n",
    "    \n",
    "    # Validation loss\n",
    "    model.eval()\n",
    "    with torch.no_grad():\n",
    "        y_val_pred = model(X_val)\n",
    "        val_loss = criterion(y_val_pred, y_val)\n",
    "        val_losses.append(val_loss.item())\n",
    "        \n",
    "    # Print progress every 100 epochs\n",
    "    if epoch % 100 == 0:\n",
    "        print(f'Epoch {epoch} - Train Loss: {train_loss.item()} | Validation Loss: {val_loss.item()}')\n",
    "\n",
    "# Plot training and validation losses\n",
    "plt.plot(train_losses, label='Training Loss')\n",
    "plt.plot(val_losses, label='Validation Loss')\n",
    "plt.xlabel('Epochs')\n",
    "plt.ylabel('Loss')\n",
    "plt.legend()\n",
    "plt.show()\n",
    "\n",
    "# Evaluate on test set\n",
    "model.eval()\n",
    "with torch.no_grad():\n",
    "    y_test_pred = model(X_test)\n",
    "    test_loss = criterion(y_test_pred, y_test)\n",
    "    print(f'Test Loss: {test_loss.item()}')\n",
    "\n",
    "# Inverse transform predictions back to original salary scale\n",
    "y_test_pred_unscaled = scaler.inverse_transform(\n",
    "    torch.cat((X_test[:, 0].unsqueeze(1), y_test_pred), dim=1))[:, 1]"
   ]
  },
  {
   "cell_type": "markdown",
   "id": "e8d6a7dc729ab41a",
   "metadata": {},
   "source": [
    "# Including Gender & Age"
   ]
  },
  {
   "cell_type": "code",
   "execution_count": 14,
   "id": "138b0eeed944c27e",
   "metadata": {
    "ExecuteTime": {
     "end_time": "2024-11-06T10:29:31.343690Z",
     "start_time": "2024-11-06T10:29:29.344081Z"
    }
   },
   "outputs": [
    {
     "name": "stdout",
     "output_type": "stream",
     "text": [
      "Epoch 0 - Train Loss: 0.9281996488571167 | Validation Loss: 1.130800485610962\n",
      "Epoch 100 - Train Loss: 0.46493005752563477 | Validation Loss: 0.5243401527404785\n",
      "Epoch 200 - Train Loss: 0.27475905418395996 | Validation Loss: 0.257970929145813\n",
      "Epoch 300 - Train Loss: 0.1949123591184616 | Validation Loss: 0.1762438714504242\n",
      "Epoch 400 - Train Loss: 0.1715070903301239 | Validation Loss: 0.15865865349769592\n",
      "Epoch 500 - Train Loss: 0.1631920337677002 | Validation Loss: 0.15510842204093933\n",
      "Epoch 600 - Train Loss: 0.1582254022359848 | Validation Loss: 0.15206792950630188\n",
      "Epoch 700 - Train Loss: 0.1538046896457672 | Validation Loss: 0.14869262278079987\n",
      "Epoch 800 - Train Loss: 0.14827421307563782 | Validation Loss: 0.14342519640922546\n",
      "Epoch 900 - Train Loss: 0.1446337103843689 | Validation Loss: 0.14045672118663788\n",
      "Epoch 1000 - Train Loss: 0.14124728739261627 | Validation Loss: 0.13810357451438904\n",
      "Epoch 1100 - Train Loss: 0.13767416775226593 | Validation Loss: 0.1352299451828003\n",
      "Epoch 1200 - Train Loss: 0.13375405967235565 | Validation Loss: 0.13182811439037323\n",
      "Epoch 1300 - Train Loss: 0.13027295470237732 | Validation Loss: 0.1291670799255371\n",
      "Epoch 1400 - Train Loss: 0.12672089040279388 | Validation Loss: 0.12637025117874146\n",
      "Epoch 1500 - Train Loss: 0.12315312772989273 | Validation Loss: 0.12355773150920868\n",
      "Epoch 1600 - Train Loss: 0.1192268431186676 | Validation Loss: 0.12043608725070953\n",
      "Epoch 1700 - Train Loss: 0.11476904153823853 | Validation Loss: 0.11840448528528214\n",
      "Epoch 1800 - Train Loss: 0.1057930439710617 | Validation Loss: 0.11196322739124298\n",
      "Epoch 1900 - Train Loss: 0.0996721014380455 | Validation Loss: 0.1080617755651474\n",
      "Epoch 2000 - Train Loss: 0.09370620548725128 | Validation Loss: 0.10414592176675797\n",
      "Epoch 2100 - Train Loss: 0.0883944109082222 | Validation Loss: 0.1010601669549942\n",
      "Epoch 2200 - Train Loss: 0.08385682106018066 | Validation Loss: 0.0985005795955658\n",
      "Epoch 2300 - Train Loss: 0.07988844811916351 | Validation Loss: 0.095029816031456\n",
      "Epoch 2400 - Train Loss: 0.07598154991865158 | Validation Loss: 0.08905743807554245\n",
      "Epoch 2500 - Train Loss: 0.07180065661668777 | Validation Loss: 0.08602328598499298\n",
      "Epoch 2600 - Train Loss: 0.06887684017419815 | Validation Loss: 0.08420398086309433\n",
      "Epoch 2700 - Train Loss: 0.06642141193151474 | Validation Loss: 0.08223949372768402\n",
      "Epoch 2800 - Train Loss: 0.0640646442770958 | Validation Loss: 0.07949695736169815\n",
      "Epoch 2900 - Train Loss: 0.061120763421058655 | Validation Loss: 0.07696083188056946\n",
      "Epoch 3000 - Train Loss: 0.05969247594475746 | Validation Loss: 0.07650750130414963\n",
      "Epoch 3100 - Train Loss: 0.058559902012348175 | Validation Loss: 0.07568464428186417\n",
      "Epoch 3200 - Train Loss: 0.05760489031672478 | Validation Loss: 0.07519708573818207\n",
      "Epoch 3300 - Train Loss: 0.05447162687778473 | Validation Loss: 0.07333914935588837\n",
      "Epoch 3400 - Train Loss: 0.05346444621682167 | Validation Loss: 0.07055525481700897\n",
      "Epoch 3500 - Train Loss: 0.052720263600349426 | Validation Loss: 0.06901231408119202\n",
      "Epoch 3600 - Train Loss: 0.052160777151584625 | Validation Loss: 0.06855953484773636\n",
      "Epoch 3700 - Train Loss: 0.05176975578069687 | Validation Loss: 0.06876170635223389\n",
      "Epoch 3800 - Train Loss: 0.05146545544266701 | Validation Loss: 0.06879321485757828\n",
      "Epoch 3900 - Train Loss: 0.051203545182943344 | Validation Loss: 0.06889726966619492\n",
      "Epoch 4000 - Train Loss: 0.050977665930986404 | Validation Loss: 0.06878995895385742\n",
      "Epoch 4100 - Train Loss: 0.050794653594493866 | Validation Loss: 0.06833279877901077\n",
      "Epoch 4200 - Train Loss: 0.05063685402274132 | Validation Loss: 0.06799149513244629\n",
      "Epoch 4300 - Train Loss: 0.05050309747457504 | Validation Loss: 0.067668117582798\n",
      "Epoch 4400 - Train Loss: 0.050371088087558746 | Validation Loss: 0.06744179129600525\n",
      "Epoch 4500 - Train Loss: 0.05027195066213608 | Validation Loss: 0.06713907420635223\n",
      "Epoch 4600 - Train Loss: 0.05020260065793991 | Validation Loss: 0.0668313205242157\n",
      "Epoch 4700 - Train Loss: 0.0501452274620533 | Validation Loss: 0.06654243171215057\n",
      "Epoch 4800 - Train Loss: 0.050103068351745605 | Validation Loss: 0.06624621152877808\n",
      "Epoch 4900 - Train Loss: 0.050065379589796066 | Validation Loss: 0.06595446914434433\n",
      "Epoch 5000 - Train Loss: 0.050027769058942795 | Validation Loss: 0.06566982716321945\n",
      "Epoch 5100 - Train Loss: 0.0499967485666275 | Validation Loss: 0.06540687382221222\n",
      "Epoch 5200 - Train Loss: 0.0499705970287323 | Validation Loss: 0.06517117470502853\n",
      "Epoch 5300 - Train Loss: 0.04994456470012665 | Validation Loss: 0.06499966979026794\n",
      "Epoch 5400 - Train Loss: 0.04992159828543663 | Validation Loss: 0.06486721336841583\n",
      "Epoch 5500 - Train Loss: 0.0498998761177063 | Validation Loss: 0.06472986936569214\n",
      "Epoch 5600 - Train Loss: 0.04987916350364685 | Validation Loss: 0.06453244388103485\n",
      "Epoch 5700 - Train Loss: 0.04985709860920906 | Validation Loss: 0.06442530453205109\n",
      "Epoch 5800 - Train Loss: 0.0498390719294548 | Validation Loss: 0.064303919672966\n",
      "Epoch 5900 - Train Loss: 0.04981852322816849 | Validation Loss: 0.06420980393886566\n",
      "Epoch 6000 - Train Loss: 0.04979986697435379 | Validation Loss: 0.06413392722606659\n",
      "Epoch 6100 - Train Loss: 0.0497807078063488 | Validation Loss: 0.06406938284635544\n",
      "Epoch 6200 - Train Loss: 0.049762703478336334 | Validation Loss: 0.06405016034841537\n",
      "Epoch 6300 - Train Loss: 0.049745623022317886 | Validation Loss: 0.06392373144626617\n",
      "Epoch 6400 - Train Loss: 0.049734167754650116 | Validation Loss: 0.06382546573877335\n",
      "Epoch 6500 - Train Loss: 0.04971587285399437 | Validation Loss: 0.0637541115283966\n",
      "Epoch 6600 - Train Loss: 0.04969782382249832 | Validation Loss: 0.06367317587137222\n",
      "Epoch 6700 - Train Loss: 0.049682192504405975 | Validation Loss: 0.06364046037197113\n",
      "Epoch 6800 - Train Loss: 0.049674008041620255 | Validation Loss: 0.06352956593036652\n",
      "Epoch 6900 - Train Loss: 0.0496562235057354 | Validation Loss: 0.06344857066869736\n",
      "Epoch 7000 - Train Loss: 0.04964229837059975 | Validation Loss: 0.06342293322086334\n",
      "Epoch 7100 - Train Loss: 0.049629054963588715 | Validation Loss: 0.06335748732089996\n",
      "Epoch 7200 - Train Loss: 0.04961663484573364 | Validation Loss: 0.0633026510477066\n",
      "Epoch 7300 - Train Loss: 0.04960319772362709 | Validation Loss: 0.06320834904909134\n",
      "Epoch 7400 - Train Loss: 0.0495884008705616 | Validation Loss: 0.06314356625080109\n",
      "Epoch 7500 - Train Loss: 0.049578629434108734 | Validation Loss: 0.0630798190832138\n",
      "Epoch 7600 - Train Loss: 0.04956300929188728 | Validation Loss: 0.063077412545681\n",
      "Epoch 7700 - Train Loss: 0.04955291748046875 | Validation Loss: 0.06305109709501266\n",
      "Epoch 7800 - Train Loss: 0.04954051598906517 | Validation Loss: 0.06295851618051529\n",
      "Epoch 7900 - Train Loss: 0.04953111708164215 | Validation Loss: 0.06295939534902573\n",
      "Epoch 8000 - Train Loss: 0.049522820860147476 | Validation Loss: 0.06290627270936966\n",
      "Epoch 8100 - Train Loss: 0.049516767263412476 | Validation Loss: 0.06294745951890945\n",
      "Epoch 8200 - Train Loss: 0.04950568825006485 | Validation Loss: 0.06291308254003525\n",
      "Epoch 8300 - Train Loss: 0.04949759691953659 | Validation Loss: 0.06286489963531494\n",
      "Epoch 8400 - Train Loss: 0.049492545425891876 | Validation Loss: 0.06287796050310135\n",
      "Epoch 8500 - Train Loss: 0.04948737844824791 | Validation Loss: 0.06285808980464935\n",
      "Epoch 8600 - Train Loss: 0.04947993904352188 | Validation Loss: 0.06285213679075241\n",
      "Epoch 8700 - Train Loss: 0.04947677627205849 | Validation Loss: 0.06283874809741974\n",
      "Epoch 8800 - Train Loss: 0.04947355389595032 | Validation Loss: 0.0628092959523201\n",
      "Epoch 8900 - Train Loss: 0.049469392746686935 | Validation Loss: 0.06279169023036957\n",
      "Epoch 9000 - Train Loss: 0.04946695640683174 | Validation Loss: 0.06278614699840546\n",
      "Epoch 9100 - Train Loss: 0.04946110397577286 | Validation Loss: 0.06270955502986908\n",
      "Epoch 9200 - Train Loss: 0.049451794475317 | Validation Loss: 0.06273259967565536\n",
      "Epoch 9300 - Train Loss: 0.04945381358265877 | Validation Loss: 0.0626751184463501\n",
      "Epoch 9400 - Train Loss: 0.04944038391113281 | Validation Loss: 0.0627199187874794\n",
      "Epoch 9500 - Train Loss: 0.04943457245826721 | Validation Loss: 0.06269107013940811\n",
      "Epoch 9600 - Train Loss: 0.04943286255002022 | Validation Loss: 0.06268279254436493\n",
      "Epoch 9700 - Train Loss: 0.0494249053299427 | Validation Loss: 0.06269285827875137\n",
      "Epoch 9800 - Train Loss: 0.0494222529232502 | Validation Loss: 0.06261887401342392\n",
      "Epoch 9900 - Train Loss: 0.04941451549530029 | Validation Loss: 0.06257293373346329\n"
     ]
    },
    {
     "data": {
      "image/png": "[encoded data removed]",
      "text/plain": [
       "<Figure size 640x480 with 1 Axes>"
      ]
     },
     "metadata": {},
     "output_type": "display_data"
    },
    {
     "name": "stdout",
     "output_type": "stream",
     "text": [
      "Test Loss: 0.08309537172317505\n"
     ]
    }
   ],
   "source": [
    "import torch\n",
    "import torch.nn as nn\n",
    "import matplotlib.pyplot as plt\n",
    "from sklearn.preprocessing import StandardScaler, LabelEncoder\n",
    "from sklearn.model_selection import train_test_split\n",
    "\n",
    "# Filter data for a specific job title\n",
    "job = 'Software Engineer'\n",
    "df_job = df[df['Job Title'] == job]\n",
    "df_job = df_job.dropna(subset=['Salary', 'Years of Experience', 'Education Level', 'Gender', 'Age'])\n",
    "\n",
    "# Encode 'Education Level' for simplicity\n",
    "education_mapping = {'High School': 0, 'Bachelor\\'s': 1, 'Master\\'s': 2, 'PhD': 3}\n",
    "df_job['Education Level'] = df_job['Education Level'].map(education_mapping)\n",
    "\n",
    "# Encode 'Gender'\n",
    "gender_mapping = {'Male': 0, 'Female': 1}\n",
    "df_job['Gender'] = df_job['Gender'].map(gender_mapping)\n",
    "\n",
    "# Split the data\n",
    "train, test = train_test_split(df_job, test_size=0.3, random_state=42)\n",
    "train, val = train_test_split(train, test_size=0.11, random_state=42)\n",
    "\n",
    "# Scale 'Years of Experience', 'Age', and 'Salary' for stability\n",
    "scaler = StandardScaler()\n",
    "train[['Years of Experience', 'Salary', 'Age']] = scaler.fit_transform(train[['Years of Experience', 'Salary', 'Age']])\n",
    "val[['Years of Experience', 'Salary', 'Age']] = scaler.transform(val[['Years of Experience', 'Salary', 'Age']])\n",
    "test[['Years of Experience', 'Salary', 'Age']] = scaler.transform(test[['Years of Experience', 'Salary', 'Age']])\n",
    "\n",
    "# Define the model\n",
    "class RegressionModel(nn.Module):\n",
    "    def __init__(self, input_dim, hidden_dim, output_dim):\n",
    "        super(RegressionModel, self).__init__()\n",
    "        self.layer1 = nn.Linear(input_dim, hidden_dim)\n",
    "        self.activation1 = nn.ReLU()\n",
    "        self.layer2 = nn.Linear(hidden_dim, output_dim)\n",
    "        \n",
    "    def forward(self, x):\n",
    "        x = self.layer1(x)\n",
    "        x = self.activation1(x)\n",
    "        x = self.layer2(x)\n",
    "        return x\n",
    "\n",
    "# Set up model parameters\n",
    "input_dim = 4  # Years of Experience, Education Level, Gender, Age\n",
    "hidden_dim = 20\n",
    "output_dim = 1\n",
    "model = RegressionModel(input_dim, hidden_dim, output_dim)\n",
    "\n",
    "criterion = nn.MSELoss()\n",
    "optimizer = torch.optim.Adam(model.parameters(), lr=0.001, weight_decay=1e-4)  # Add weight decay for L2 regularization\n",
    "\n",
    "# Prepare data for PyTorch\n",
    "X_train = torch.tensor(train[['Years of Experience', 'Education Level', 'Gender', 'Age']].values, dtype=torch.float32)\n",
    "y_train = torch.tensor(train['Salary'].values, dtype=torch.float32).view(-1, 1)\n",
    "X_val = torch.tensor(val[['Years of Experience', 'Education Level', 'Gender', 'Age']].values, dtype=torch.float32)\n",
    "y_val = torch.tensor(val['Salary'].values, dtype=torch.float32).view(-1, 1)\n",
    "X_test = torch.tensor(test[['Years of Experience', 'Education Level', 'Gender', 'Age']].values, dtype=torch.float32)\n",
    "y_test = torch.tensor(test['Salary'].values, dtype=torch.float32).view(-1, 1)\n",
    "\n",
    "# Training loop\n",
    "train_losses, val_losses = [], []\n",
    "for epoch in range(10000):\n",
    "    model.train()\n",
    "    optimizer.zero_grad()\n",
    "    y_pred = model(X_train)\n",
    "    train_loss = criterion(y_pred, y_train)\n",
    "    train_loss.backward()\n",
    "    optimizer.step()\n",
    "    train_losses.append(train_loss.item())\n",
    "    \n",
    "    # Validation loss\n",
    "    model.eval()\n",
    "    with torch.no_grad():\n",
    "        y_val_pred = model(X_val)\n",
    "        val_loss = criterion(y_val_pred, y_val)\n",
    "        val_losses.append(val_loss.item())\n",
    "        \n",
    "    # Print progress every 100 epochs\n",
    "    if epoch % 100 == 0:\n",
    "        print(f'Epoch {epoch} - Train Loss: {train_loss.item()} | Validation Loss: {val_loss.item()}')\n",
    "\n",
    "# Plot training and validation losses\n",
    "plt.plot(train_losses, label='Training Loss')\n",
    "plt.plot(val_losses, label='Validation Loss')\n",
    "plt.xlabel('Epochs')\n",
    "plt.ylabel('Loss')\n",
    "plt.legend()\n",
    "plt.show()\n",
    "\n",
    "# Evaluate on test set\n",
    "model.eval()\n",
    "with torch.no_grad():\n",
    "    y_test_pred = model(X_test)\n",
    "    test_loss = criterion(y_test_pred, y_test)\n",
    "    print(f'Test Loss: {test_loss.item()}')\n",
    "\n",
    "# Inverse transform predictions back to original salary scale\n",
    "# We add placeholders for 'Years of Experience' and 'Age' to inverse transform correctly\n",
    "y_test_pred_unscaled = scaler.inverse_transform(\n",
    "    torch.cat((X_test[:, 0].unsqueeze(1), y_test_pred, X_test[:, 1:2]), dim=1))[:, 1]\n",
    "\n",
    "\n",
    "# for i, pred in enumerate(y_test_pred_unscaled):\n",
    "#     actual_salary = scaler.inverse_transform(test[['Years of Experience', 'Salary', 'Age']].values)[i][1]\n",
    "#     print(f\"Predicted Salary: {pred:.2f}, Actual Salary: {actual_salary:.2f}\")"
   ]
  },
  {
   "cell_type": "markdown",
   "id": "0ba62b1c",
   "metadata": {},
   "source": [
    "## Define Feature importance"
   ]
  },
  {
   "cell_type": "code",
   "execution_count": 11,
   "id": "c3aa3980",
   "metadata": {},
   "outputs": [
    {
     "data": {
      "text/html": [
       "<div>\n",
       "<style scoped>\n",
       "    .dataframe tbody tr th:only-of-type {\n",
       "        vertical-align: middle;\n",
       "    }\n",
       "\n",
       "    .dataframe tbody tr th {\n",
       "        vertical-align: top;\n",
       "    }\n",
       "\n",
       "    .dataframe thead th {\n",
       "        text-align: right;\n",
       "    }\n",
       "</style>\n",
       "<table border=\"1\" class=\"dataframe\">\n",
       "  <thead>\n",
       "    <tr style=\"text-align: right;\">\n",
       "      <th></th>\n",
       "      <th>Age</th>\n",
       "      <th>Gender</th>\n",
       "      <th>Education Level</th>\n",
       "      <th>Job Title</th>\n",
       "      <th>Years of Experience</th>\n",
       "      <th>Salary</th>\n",
       "    </tr>\n",
       "  </thead>\n",
       "  <tbody>\n",
       "    <tr>\n",
       "      <th>0</th>\n",
       "      <td>32.0</td>\n",
       "      <td>Male</td>\n",
       "      <td>Bachelor's</td>\n",
       "      <td>Software Engineer</td>\n",
       "      <td>5.0</td>\n",
       "      <td>90000.0</td>\n",
       "    </tr>\n",
       "    <tr>\n",
       "      <th>1</th>\n",
       "      <td>28.0</td>\n",
       "      <td>Female</td>\n",
       "      <td>Master's</td>\n",
       "      <td>Data Analyst</td>\n",
       "      <td>3.0</td>\n",
       "      <td>65000.0</td>\n",
       "    </tr>\n",
       "    <tr>\n",
       "      <th>2</th>\n",
       "      <td>45.0</td>\n",
       "      <td>Male</td>\n",
       "      <td>PhD</td>\n",
       "      <td>Senior Manager</td>\n",
       "      <td>15.0</td>\n",
       "      <td>150000.0</td>\n",
       "    </tr>\n",
       "    <tr>\n",
       "      <th>3</th>\n",
       "      <td>36.0</td>\n",
       "      <td>Female</td>\n",
       "      <td>Bachelor's</td>\n",
       "      <td>Sales Associate</td>\n",
       "      <td>7.0</td>\n",
       "      <td>60000.0</td>\n",
       "    </tr>\n",
       "    <tr>\n",
       "      <th>4</th>\n",
       "      <td>52.0</td>\n",
       "      <td>Male</td>\n",
       "      <td>Master's</td>\n",
       "      <td>Director</td>\n",
       "      <td>20.0</td>\n",
       "      <td>200000.0</td>\n",
       "    </tr>\n",
       "    <tr>\n",
       "      <th>...</th>\n",
       "      <td>...</td>\n",
       "      <td>...</td>\n",
       "      <td>...</td>\n",
       "      <td>...</td>\n",
       "      <td>...</td>\n",
       "      <td>...</td>\n",
       "    </tr>\n",
       "    <tr>\n",
       "      <th>6699</th>\n",
       "      <td>49.0</td>\n",
       "      <td>Female</td>\n",
       "      <td>PhD</td>\n",
       "      <td>Director of Marketing</td>\n",
       "      <td>20.0</td>\n",
       "      <td>200000.0</td>\n",
       "    </tr>\n",
       "    <tr>\n",
       "      <th>6700</th>\n",
       "      <td>32.0</td>\n",
       "      <td>Male</td>\n",
       "      <td>High School</td>\n",
       "      <td>Sales Associate</td>\n",
       "      <td>3.0</td>\n",
       "      <td>50000.0</td>\n",
       "    </tr>\n",
       "    <tr>\n",
       "      <th>6701</th>\n",
       "      <td>30.0</td>\n",
       "      <td>Female</td>\n",
       "      <td>Bachelor's</td>\n",
       "      <td>Financial Manager</td>\n",
       "      <td>4.0</td>\n",
       "      <td>55000.0</td>\n",
       "    </tr>\n",
       "    <tr>\n",
       "      <th>6702</th>\n",
       "      <td>46.0</td>\n",
       "      <td>Male</td>\n",
       "      <td>Master's</td>\n",
       "      <td>Marketing Manager</td>\n",
       "      <td>14.0</td>\n",
       "      <td>140000.0</td>\n",
       "    </tr>\n",
       "    <tr>\n",
       "      <th>6703</th>\n",
       "      <td>26.0</td>\n",
       "      <td>Female</td>\n",
       "      <td>High School</td>\n",
       "      <td>Sales Executive</td>\n",
       "      <td>1.0</td>\n",
       "      <td>35000.0</td>\n",
       "    </tr>\n",
       "  </tbody>\n",
       "</table>\n",
       "<p>6704 rows × 6 columns</p>\n",
       "</div>"
      ],
      "text/plain": [
       "       Age  Gender Education Level              Job Title  \\\n",
       "0     32.0    Male      Bachelor's      Software Engineer   \n",
       "1     28.0  Female        Master's           Data Analyst   \n",
       "2     45.0    Male             PhD         Senior Manager   \n",
       "3     36.0  Female      Bachelor's        Sales Associate   \n",
       "4     52.0    Male        Master's               Director   \n",
       "...    ...     ...             ...                    ...   \n",
       "6699  49.0  Female             PhD  Director of Marketing   \n",
       "6700  32.0    Male     High School        Sales Associate   \n",
       "6701  30.0  Female      Bachelor's      Financial Manager   \n",
       "6702  46.0    Male        Master's      Marketing Manager   \n",
       "6703  26.0  Female     High School        Sales Executive   \n",
       "\n",
       "      Years of Experience    Salary  \n",
       "0                     5.0   90000.0  \n",
       "1                     3.0   65000.0  \n",
       "2                    15.0  150000.0  \n",
       "3                     7.0   60000.0  \n",
       "4                    20.0  200000.0  \n",
       "...                   ...       ...  \n",
       "6699                 20.0  200000.0  \n",
       "6700                  3.0   50000.0  \n",
       "6701                  4.0   55000.0  \n",
       "6702                 14.0  140000.0  \n",
       "6703                  1.0   35000.0  \n",
       "\n",
       "[6704 rows x 6 columns]"
      ]
     },
     "execution_count": 11,
     "metadata": {},
     "output_type": "execute_result"
    }
   ],
   "source": [
    "df"
   ]
  },
  {
   "cell_type": "code",
   "execution_count": 16,
   "id": "785260d7f5a2959c",
   "metadata": {},
   "outputs": [
    {
     "data": {
      "image/png": "[encoded data removed]",
      "text/plain": [
       "<Figure size 1000x600 with 1 Axes>"
      ]
     },
     "metadata": {},
     "output_type": "display_data"
    },
    {
     "name": "stdout",
     "output_type": "stream",
     "text": [
      "Years of Experience: 3925.3567\n",
      "Education Level: 7081.0693\n",
      "Gender: 380.1295\n",
      "Age: 990.4357\n"
     ]
    }
   ],
   "source": [
    "import numpy as np\n",
    "from sklearn.metrics import mean_squared_error\n",
    "\n",
    "def permutation_importance(model, X, y, n_repeats=10):\n",
    "    baseline_mse = mean_squared_error(y, model(X).detach().numpy())\n",
    "    importances = []\n",
    "    \n",
    "    for col in range(X.shape[1]):\n",
    "        feature_importances = []\n",
    "        for _ in range(n_repeats):\n",
    "            X_permuted = X.clone()\n",
    "            X_permuted[:, col] = torch.randperm(X.shape[0])\n",
    "            permuted_mse = mean_squared_error(y, model(X_permuted).detach().numpy())\n",
    "            importance = permuted_mse - baseline_mse\n",
    "            feature_importances.append(importance)\n",
    "        importances.append(np.mean(feature_importances))\n",
    "    \n",
    "    return np.array(importances)\n",
    "\n",
    "# Calculate permutation importance\n",
    "feature_names = ['Years of Experience', 'Education Level', 'Gender', 'Age']\n",
    "importances = permutation_importance(model, X_test, y_test)\n",
    "\n",
    "# Plot feature importances\n",
    "plt.figure(figsize=(10, 6))\n",
    "plt.bar(feature_names, importances)\n",
    "plt.title('Feature Importance (Permutation Method)')\n",
    "plt.xlabel('Features')\n",
    "plt.ylabel('Importance')\n",
    "plt.xticks(rotation=45)\n",
    "plt.tight_layout()\n",
    "plt.show()\n",
    "\n",
    "# Print feature importances\n",
    "for name, importance in zip(feature_names, importances):\n",
    "    print(f\"{name}: {importance:.4f}\")\n"
   ]
  },
  {
   "cell_type": "markdown",
   "id": "c398da11",
   "metadata": {},
   "source": [
    "It's important to note that these values represent the increase in the model's error when the feature is permuted. A larger increase in error indicates that the feature is more important for the model's predictions"
   ]
  }
 ],
 "metadata": {
  "kernelspec": {
   "display_name": "Python 3",
   "language": "python",
   "name": "python3"
  },
  "language_info": {
   "codemirror_mode": {
    "name": "ipython",
    "version": 3
   },
   "file_extension": ".py",
   "mimetype": "text/x-python",
   "name": "python",
   "nbconvert_exporter": "python",
   "pygments_lexer": "ipython3",
   "version": "3.11.9"
  }
 },
 "nbformat": 4,
 "nbformat_minor": 5
}
