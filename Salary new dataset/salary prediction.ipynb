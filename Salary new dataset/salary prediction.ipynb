{
 "cells": [
  {
   "cell_type": "code",
   "execution_count": 1,
   "id": "initial_id",
   "metadata": {
    "ExecuteTime": {
     "end_time": "2024-11-12T15:28:51.112218Z",
     "start_time": "2024-11-12T15:28:49.899652Z"
    },
    "collapsed": true
   },
   "outputs": [
    {
     "data": {
      "text/html": [
       "<div>\n",
       "<style scoped>\n",
       "    .dataframe tbody tr th:only-of-type {\n",
       "        vertical-align: middle;\n",
       "    }\n",
       "\n",
       "    .dataframe tbody tr th {\n",
       "        vertical-align: top;\n",
       "    }\n",
       "\n",
       "    .dataframe thead th {\n",
       "        text-align: right;\n",
       "    }\n",
       "</style>\n",
       "<table border=\"1\" class=\"dataframe\">\n",
       "  <thead>\n",
       "    <tr style=\"text-align: right;\">\n",
       "      <th></th>\n",
       "      <th>Age</th>\n",
       "      <th>Gender</th>\n",
       "      <th>Education Level</th>\n",
       "      <th>Job Title</th>\n",
       "      <th>Years of Experience</th>\n",
       "      <th>Salary</th>\n",
       "    </tr>\n",
       "  </thead>\n",
       "  <tbody>\n",
       "    <tr>\n",
       "      <th>0</th>\n",
       "      <td>32.0</td>\n",
       "      <td>Male</td>\n",
       "      <td>Bachelor's</td>\n",
       "      <td>Software Engineer</td>\n",
       "      <td>5.0</td>\n",
       "      <td>90000.0</td>\n",
       "    </tr>\n",
       "    <tr>\n",
       "      <th>1</th>\n",
       "      <td>28.0</td>\n",
       "      <td>Female</td>\n",
       "      <td>Master's</td>\n",
       "      <td>Data Analyst</td>\n",
       "      <td>3.0</td>\n",
       "      <td>65000.0</td>\n",
       "    </tr>\n",
       "    <tr>\n",
       "      <th>2</th>\n",
       "      <td>45.0</td>\n",
       "      <td>Male</td>\n",
       "      <td>PhD</td>\n",
       "      <td>Senior Manager</td>\n",
       "      <td>15.0</td>\n",
       "      <td>150000.0</td>\n",
       "    </tr>\n",
       "    <tr>\n",
       "      <th>3</th>\n",
       "      <td>36.0</td>\n",
       "      <td>Female</td>\n",
       "      <td>Bachelor's</td>\n",
       "      <td>Sales Associate</td>\n",
       "      <td>7.0</td>\n",
       "      <td>60000.0</td>\n",
       "    </tr>\n",
       "    <tr>\n",
       "      <th>4</th>\n",
       "      <td>52.0</td>\n",
       "      <td>Male</td>\n",
       "      <td>Master's</td>\n",
       "      <td>Director</td>\n",
       "      <td>20.0</td>\n",
       "      <td>200000.0</td>\n",
       "    </tr>\n",
       "  </tbody>\n",
       "</table>\n",
       "</div>"
      ],
      "text/plain": [
       "    Age  Gender Education Level          Job Title  Years of Experience  \\\n",
       "0  32.0    Male      Bachelor's  Software Engineer                  5.0   \n",
       "1  28.0  Female        Master's       Data Analyst                  3.0   \n",
       "2  45.0    Male             PhD     Senior Manager                 15.0   \n",
       "3  36.0  Female      Bachelor's    Sales Associate                  7.0   \n",
       "4  52.0    Male        Master's           Director                 20.0   \n",
       "\n",
       "     Salary  \n",
       "0   90000.0  \n",
       "1   65000.0  \n",
       "2  150000.0  \n",
       "3   60000.0  \n",
       "4  200000.0  "
      ]
     },
     "execution_count": 1,
     "metadata": {},
     "output_type": "execute_result"
    }
   ],
   "source": [
    "import pandas as pd\n",
    "import os\n",
    "import numpy as np\n",
    "import matplotlib.pyplot as plt\n",
    "import torch\n",
    "import torch.nn as nn\n",
    "from sklearn.preprocessing import StandardScaler, LabelEncoder\n",
    "from sklearn.model_selection import train_test_split\n",
    "from sklearn.neural_network import MLPRegressor\n",
    "from sklearn.metrics import mean_squared_error\n",
    "\n",
    "path = 'Salary_Data.csv'\n",
    "\n",
    "df = pd.read_csv(path)\n",
    "df.head()"
   ]
  },
  {
   "cell_type": "markdown",
   "id": "f80b76410248ec02",
   "metadata": {},
   "source": [
    "# Data Cleaning"
   ]
  },
  {
   "cell_type": "code",
   "execution_count": 2,
   "id": "3c0a0fc9cb233f41",
   "metadata": {
    "ExecuteTime": {
     "end_time": "2024-11-12T15:28:57.768772Z",
     "start_time": "2024-11-12T15:28:57.732370Z"
    }
   },
   "outputs": [
    {
     "data": {
      "text/plain": [
       "Education Level\n",
       "Bachelor's Degree    2267\n",
       "Master's Degree      1573\n",
       "PhD                  1368\n",
       "Bachelor's            756\n",
       "High School           448\n",
       "Master's              288\n",
       "phD                     1\n",
       "Name: count, dtype: int64"
      ]
     },
     "execution_count": 2,
     "metadata": {},
     "output_type": "execute_result"
    }
   ],
   "source": [
    "df['Education Level'].value_counts()"
   ]
  },
  {
   "cell_type": "code",
   "execution_count": 3,
   "id": "41cbf51218714a9a",
   "metadata": {
    "ExecuteTime": {
     "end_time": "2024-11-12T15:28:58.529631Z",
     "start_time": "2024-11-12T15:28:58.507682Z"
    }
   },
   "outputs": [
    {
     "name": "stdout",
     "output_type": "stream",
     "text": [
      "Index(['Age', 'Gender', 'Education Level', 'Job Title', 'Years of Experience',\n",
      "       'Salary'],\n",
      "      dtype='object')\n",
      "<class 'numpy.float64'>\n",
      "<class 'numpy.float64'>\n"
     ]
    }
   ],
   "source": [
    "print(df.columns)\n",
    "print(type(df.Salary[0]))\n",
    "print(type(df['Years of Experience'][0]))"
   ]
  },
  {
   "cell_type": "code",
   "execution_count": 4,
   "id": "60ce7d500718aaca",
   "metadata": {
    "ExecuteTime": {
     "end_time": "2024-11-12T15:28:59.187338Z",
     "start_time": "2024-11-12T15:28:59.178100Z"
    }
   },
   "outputs": [
    {
     "data": {
      "text/plain": [
       "Education Level\n",
       "Bachelor's     3023\n",
       "Master's       1861\n",
       "PhD            1369\n",
       "High School     448\n",
       "Name: count, dtype: int64"
      ]
     },
     "execution_count": 4,
     "metadata": {},
     "output_type": "execute_result"
    }
   ],
   "source": [
    "# Combining the education level Bachelor's degree and Bachelor's\n",
    "df['Education Level'] = df['Education Level'].replace(\"Bachelor's Degree\", \"Bachelor's\")\n",
    "df['Education Level'] = df['Education Level'].replace(\"phD\", \"PhD\")\n",
    "df['Education Level'] = df['Education Level'].replace(\"Master's Degree\", \"Master's\")\n",
    "\n",
    "df['Education Level'].value_counts()"
   ]
  },
  {
   "cell_type": "code",
   "execution_count": 5,
   "id": "701d3c325987af11",
   "metadata": {
    "ExecuteTime": {
     "end_time": "2024-11-12T15:29:00.160882Z",
     "start_time": "2024-11-12T15:28:59.960085Z"
    }
   },
   "outputs": [
    {
     "data": {
      "text/plain": [
       "Text(0, 0.5, 'Salary')"
      ]
     },
     "execution_count": 5,
     "metadata": {},
     "output_type": "execute_result"
    },
    {
     "data": {
      "image/png": "[encoded data removed]",
      "text/plain": [
       "<Figure size 640x480 with 1 Axes>"
      ]
     },
     "metadata": {},
     "output_type": "display_data"
    }
   ],
   "source": [
    "plt.scatter(df['Years of Experience'], df['Salary'])\n",
    "plt.xlabel('Years of Experience')\n",
    "plt.ylabel('Salary')"
   ]
  },
  {
   "cell_type": "code",
   "execution_count": 6,
   "id": "de4f45023ef2276b",
   "metadata": {
    "ExecuteTime": {
     "end_time": "2024-11-12T15:29:01.406077Z",
     "start_time": "2024-11-12T15:29:01.006874Z"
    }
   },
   "outputs": [
    {
     "name": "stderr",
     "output_type": "stream",
     "text": [
      "C:\\Users\\carlo\\AppData\\Local\\Temp\\ipykernel_14956\\2615817528.py:3: FutureWarning: The default of observed=False is deprecated and will be changed to True in a future version of pandas. Pass observed=False to retain current behavior or observed=True to adopt the future default and silence this warning.\n",
      "  df.groupby('Education Level')['Salary'].mean().plot(kind='bar')\n"
     ]
    },
    {
     "data": {
      "text/plain": [
       "<Axes: xlabel='Education Level'>"
      ]
     },
     "execution_count": 6,
     "metadata": {},
     "output_type": "execute_result"
    },
    {
     "data": {
      "image/png": "[encoded data removed]",
      "text/plain": [
       "<Figure size 640x480 with 1 Axes>"
      ]
     },
     "metadata": {},
     "output_type": "display_data"
    }
   ],
   "source": [
    "df['Education Level'] = pd.Categorical(df['Education Level'], categories=['High School', 'Bachelor\\'s', 'Master\\'s', 'PhD'], ordered=True)\n",
    "\n",
    "df.groupby('Education Level')['Salary'].mean().plot(kind='bar')"
   ]
  },
  {
   "cell_type": "code",
   "execution_count": 7,
   "id": "92e263d7eaaf3347",
   "metadata": {
    "ExecuteTime": {
     "end_time": "2024-11-12T15:29:02.575869Z",
     "start_time": "2024-11-12T15:29:02.568869Z"
    }
   },
   "outputs": [
    {
     "data": {
      "text/plain": [
       "Job Title\n",
       "Software Engineer             518\n",
       "Data Scientist                453\n",
       "Software Engineer Manager     376\n",
       "Data Analyst                  363\n",
       "Senior Project Engineer       318\n",
       "                             ... \n",
       "Account Manager                 1\n",
       "Help Desk Analyst               1\n",
       "Senior Training Specialist      1\n",
       "Junior Web Designer             1\n",
       "Supply Chain Analyst            1\n",
       "Name: count, Length: 193, dtype: int64"
      ]
     },
     "execution_count": 7,
     "metadata": {},
     "output_type": "execute_result"
    }
   ],
   "source": [
    "# Job Title with the most data\n",
    "df['Job Title'].value_counts()"
   ]
  },
  {
   "cell_type": "code",
   "execution_count": 8,
   "id": "5dbe746f14f2d034",
   "metadata": {
    "ExecuteTime": {
     "end_time": "2024-11-12T15:29:02.943915Z",
     "start_time": "2024-11-12T15:29:02.935738Z"
    }
   },
   "outputs": [
    {
     "data": {
      "text/plain": [
       "Job Title\n",
       "Software Engineer            518\n",
       "Data Scientist               453\n",
       "Software Engineer Manager    376\n",
       "Data Analyst                 363\n",
       "Senior Project Engineer      318\n",
       "Product Manager              313\n",
       "Full Stack Engineer          309\n",
       "Marketing Manager            255\n",
       "Senior Software Engineer     244\n",
       "Back end Developer           244\n",
       "Front end Developer          241\n",
       "Marketing Coordinator        158\n",
       "Junior Sales Associate       142\n",
       "Financial Manager            134\n",
       "Marketing Analyst            132\n",
       "Software Developer           125\n",
       "Operations Manager           114\n",
       "Human Resources Manager      104\n",
       "Name: count, dtype: int64"
      ]
     },
     "execution_count": 8,
     "metadata": {},
     "output_type": "execute_result"
    }
   ],
   "source": [
    "# Remove Jobs with less than 10 data points\n",
    "df = df.groupby('Job Title').filter(lambda x: len(x) > 100)\n",
    "df['Job Title'].value_counts()"
   ]
  },
  {
   "cell_type": "markdown",
   "id": "dd2660f746251aa6",
   "metadata": {},
   "source": [
    "# Define Model"
   ]
  },
  {
   "cell_type": "code",
   "execution_count": 9,
   "id": "f4afc18607fe7674",
   "metadata": {
    "ExecuteTime": {
     "end_time": "2024-11-12T15:29:04.939418Z",
     "start_time": "2024-11-12T15:29:04.906522Z"
    }
   },
   "outputs": [],
   "source": [
    "import torch.nn as nn\n",
    "class RegressionModel(nn.Module):\n",
    "    def __init__(self, input_dim, hidden_dim, output_dim):\n",
    "        super(RegressionModel, self).__init__()\n",
    "        self.layer1 = nn.Linear(input_dim, hidden_dim)\n",
    "        self.activation1 = nn.ReLU()\n",
    "        self.layer2 = nn.Linear(hidden_dim, output_dim)\n",
    "        # self.activation2 = nn.ReLU()\n",
    "        # self.layer3 = nn.Linear(hidden_dim, output_dim)\n",
    "        \n",
    "    def forward(self, x):\n",
    "        x = self.layer1(x)\n",
    "        x = self.activation1(x)\n",
    "        x = self.layer2(x)\n",
    "        # x = self.activation2(x)\n",
    "        # return self.layer3(x)\n",
    "        return x"
   ]
  },
  {
   "cell_type": "code",
   "execution_count": null,
   "id": "c265447e2dbf65d6",
   "metadata": {
    "ExecuteTime": {
     "end_time": "2024-11-12T15:29:06.261864Z",
     "start_time": "2024-11-12T15:29:06.259044Z"
    }
   },
   "outputs": [],
   "source": []
  },
  {
   "cell_type": "markdown",
   "id": "f46c990729a138de",
   "metadata": {},
   "source": [
    "# Prepare data"
   ]
  },
  {
   "cell_type": "code",
   "execution_count": 10,
   "id": "4b6b09e0248b09fa",
   "metadata": {
    "ExecuteTime": {
     "end_time": "2024-11-12T15:40:12.692496Z",
     "start_time": "2024-11-12T15:40:12.655225Z"
    }
   },
   "outputs": [],
   "source": [
    "import joblib\n",
    "# Encode 'Education Level' for simplicity\n",
    "education_mapping = {'High School': 0, 'Bachelor\\'s': 1, 'Master\\'s': 2, 'PhD': 3}\n",
    "df['Education Level'] = df['Education Level'].map(lambda x: education_mapping.get(x, x)).copy()\n",
    "\n",
    "df = df[df['Gender'] != 'Other']\n",
    "gender_mapping = {'Male': 0, 'Female': 1}\n",
    "df['Gender'] = df['Gender'].map(lambda x: gender_mapping.get(x, x)).copy()\n",
    "\n",
    "train, test = train_test_split(df, test_size=0.3, random_state=42)\n",
    "train, val = train_test_split(train, test_size=0.11, random_state=42)\n",
    "\n",
    "target_column = \"Salary\"\n",
    "sensitive_feature = ['Age', 'Gender']\n",
    "features = train.columns.difference([target_column])\n",
    "\n",
    "scaler = StandardScaler()\n",
    "\n",
    "train[['Years of Experience', 'Salary', 'Age']] = scaler.fit_transform(train[['Years of Experience', 'Salary', 'Age']])\n",
    "val[['Years of Experience', 'Salary', 'Age']] = scaler.transform(val[['Years of Experience', 'Salary', 'Age']])\n",
    "test[['Years of Experience', 'Salary', 'Age']] = scaler.transform(test[['Years of Experience', 'Salary', 'Age']])\n",
    "\n",
    "joblib.dump(scaler, \"scaler_preds\")\n",
    "\n",
    "encoder = LabelEncoder()\n",
    "train['Job Title'] = encoder.fit_transform(train['Job Title'])\n",
    "val['Job Title'] = encoder.transform(val['Job Title'])\n",
    "test['Job Title'] = encoder.transform(test['Job Title'])\n",
    "\n",
    "X_train = pd.DataFrame((train),columns = features)\n",
    "y_train = pd.DataFrame((train),columns = [target_column])\n",
    "# X_train = torch.tensor(train[features].values, dtype=torch.float32)\n",
    "# y_train = torch.tensor(train[target_column].values, dtype=torch.float32).view(-1, 1)\n",
    "X_val = pd.DataFrame((val),columns = features)\n",
    "y_val = pd.DataFrame((val),columns = [target_column])\n",
    "# X_val = torch.tensor(val[features].values, dtype=torch.float32)\n",
    "# y_val = torch.tensor(val[target_column].values, dtype=torch.float32).view(-1, 1)\n",
    "X_test = pd.DataFrame((test),columns = features)\n",
    "y_test = pd.DataFrame((test),columns = [target_column])\n",
    "# X_test = torch.tensor(test[features].values, dtype=torch.float32)\n",
    "# y_test = torch.tensor(test[target_column].values, dtype=torch.float32).view(-1, 1)"
   ]
  },
  {
   "cell_type": "code",
   "execution_count": 11,
   "id": "07b59324",
   "metadata": {},
   "outputs": [],
   "source": [
    "#fill na values with 0 \n",
    "y_train = y_train.fillna(0)\n"
   ]
  },
  {
   "cell_type": "code",
   "execution_count": 12,
   "id": "ffb7bac1c6d7783e",
   "metadata": {
    "ExecuteTime": {
     "end_time": "2024-11-12T15:40:13.114958Z",
     "start_time": "2024-11-12T15:40:13.106736Z"
    }
   },
   "outputs": [
    {
     "data": {
      "text/html": [
       "<div>\n",
       "<style scoped>\n",
       "    .dataframe tbody tr th:only-of-type {\n",
       "        vertical-align: middle;\n",
       "    }\n",
       "\n",
       "    .dataframe tbody tr th {\n",
       "        vertical-align: top;\n",
       "    }\n",
       "\n",
       "    .dataframe thead th {\n",
       "        text-align: right;\n",
       "    }\n",
       "</style>\n",
       "<table border=\"1\" class=\"dataframe\">\n",
       "  <thead>\n",
       "    <tr style=\"text-align: right;\">\n",
       "      <th></th>\n",
       "      <th>Age</th>\n",
       "      <th>Education Level</th>\n",
       "      <th>Gender</th>\n",
       "      <th>Job Title</th>\n",
       "      <th>Years of Experience</th>\n",
       "    </tr>\n",
       "  </thead>\n",
       "  <tbody>\n",
       "    <tr>\n",
       "      <th>3839</th>\n",
       "      <td>0.648389</td>\n",
       "      <td>2</td>\n",
       "      <td>1</td>\n",
       "      <td>6</td>\n",
       "      <td>0.408237</td>\n",
       "    </tr>\n",
       "    <tr>\n",
       "      <th>4032</th>\n",
       "      <td>1.161282</td>\n",
       "      <td>3</td>\n",
       "      <td>0</td>\n",
       "      <td>2</td>\n",
       "      <td>1.219705</td>\n",
       "    </tr>\n",
       "    <tr>\n",
       "      <th>2910</th>\n",
       "      <td>1.545952</td>\n",
       "      <td>2</td>\n",
       "      <td>0</td>\n",
       "      <td>14</td>\n",
       "      <td>1.868880</td>\n",
       "    </tr>\n",
       "    <tr>\n",
       "      <th>2364</th>\n",
       "      <td>-1.274961</td>\n",
       "      <td>1</td>\n",
       "      <td>1</td>\n",
       "      <td>15</td>\n",
       "      <td>-1.052406</td>\n",
       "    </tr>\n",
       "    <tr>\n",
       "      <th>5138</th>\n",
       "      <td>0.391942</td>\n",
       "      <td>1</td>\n",
       "      <td>0</td>\n",
       "      <td>12</td>\n",
       "      <td>0.570530</td>\n",
       "    </tr>\n",
       "    <tr>\n",
       "      <th>...</th>\n",
       "      <td>...</td>\n",
       "      <td>...</td>\n",
       "      <td>...</td>\n",
       "      <td>...</td>\n",
       "      <td>...</td>\n",
       "    </tr>\n",
       "    <tr>\n",
       "      <th>2414</th>\n",
       "      <td>-1.403184</td>\n",
       "      <td>3</td>\n",
       "      <td>0</td>\n",
       "      <td>17</td>\n",
       "      <td>-1.214700</td>\n",
       "    </tr>\n",
       "    <tr>\n",
       "      <th>846</th>\n",
       "      <td>-1.018514</td>\n",
       "      <td>1</td>\n",
       "      <td>0</td>\n",
       "      <td>1</td>\n",
       "      <td>-0.890113</td>\n",
       "    </tr>\n",
       "    <tr>\n",
       "      <th>1717</th>\n",
       "      <td>0.648389</td>\n",
       "      <td>2</td>\n",
       "      <td>1</td>\n",
       "      <td>14</td>\n",
       "      <td>0.408237</td>\n",
       "    </tr>\n",
       "    <tr>\n",
       "      <th>4015</th>\n",
       "      <td>-0.890291</td>\n",
       "      <td>2</td>\n",
       "      <td>1</td>\n",
       "      <td>10</td>\n",
       "      <td>-0.890113</td>\n",
       "    </tr>\n",
       "    <tr>\n",
       "      <th>1401</th>\n",
       "      <td>-0.377397</td>\n",
       "      <td>2</td>\n",
       "      <td>0</td>\n",
       "      <td>14</td>\n",
       "      <td>-0.240938</td>\n",
       "    </tr>\n",
       "  </tbody>\n",
       "</table>\n",
       "<p>2821 rows × 5 columns</p>\n",
       "</div>"
      ],
      "text/plain": [
       "           Age Education Level  Gender  Job Title  Years of Experience\n",
       "3839  0.648389               2       1          6             0.408237\n",
       "4032  1.161282               3       0          2             1.219705\n",
       "2910  1.545952               2       0         14             1.868880\n",
       "2364 -1.274961               1       1         15            -1.052406\n",
       "5138  0.391942               1       0         12             0.570530\n",
       "...        ...             ...     ...        ...                  ...\n",
       "2414 -1.403184               3       0         17            -1.214700\n",
       "846  -1.018514               1       0          1            -0.890113\n",
       "1717  0.648389               2       1         14             0.408237\n",
       "4015 -0.890291               2       1         10            -0.890113\n",
       "1401 -0.377397               2       0         14            -0.240938\n",
       "\n",
       "[2821 rows x 5 columns]"
      ]
     },
     "execution_count": 12,
     "metadata": {},
     "output_type": "execute_result"
    }
   ],
   "source": [
    "X_train"
   ]
  },
  {
   "cell_type": "code",
   "execution_count": 13,
   "id": "af63fb53e6eca038",
   "metadata": {
    "ExecuteTime": {
     "end_time": "2024-11-12T15:41:17.568067Z",
     "start_time": "2024-11-12T15:41:17.532195Z"
    }
   },
   "outputs": [
    {
     "data": {
      "text/plain": [
       "Salary    0\n",
       "dtype: int64"
      ]
     },
     "execution_count": 13,
     "metadata": {},
     "output_type": "execute_result"
    }
   ],
   "source": [
    "y_train.isna().sum()"
   ]
  },
  {
   "cell_type": "markdown",
   "id": "f1f36f9ce02f34c5",
   "metadata": {},
   "source": [
    "# Training For Data Scientist Job not important for prediction"
   ]
  },
  {
   "cell_type": "code",
   "execution_count": 14,
   "id": "13ff34fc6796df2a",
   "metadata": {
    "ExecuteTime": {
     "end_time": "2024-11-12T15:40:14.677023Z",
     "start_time": "2024-11-12T15:40:14.590622Z"
    }
   },
   "outputs": [
    {
     "name": "stderr",
     "output_type": "stream",
     "text": [
      "C:\\Users\\carlo\\AppData\\Local\\Packages\\PythonSoftwareFoundation.Python.3.11_qbz5n2kfra8p0\\LocalCache\\local-packages\\Python311\\site-packages\\sklearn\\neural_network\\_multilayer_perceptron.py:1631: DataConversionWarning: A column-vector y was passed when a 1d array was expected. Please change the shape of y to (n_samples, ), for example using ravel().\n",
      "  y = column_or_1d(y, warn=True)\n"
     ]
    },
    {
     "name": "stdout",
     "output_type": "stream",
     "text": [
      "Mean Squared Error: 0.2725843492221601\n",
      "Average Error: 20001.508332567424\n"
     ]
    }
   ],
   "source": [
    "selected_features = ['Years of Experience', 'Education Level']\n",
    "model_all = MLPRegressor(hidden_layer_sizes=(64, 64), max_iter=1000)\n",
    "model_all.fit(X_train[selected_features], y_train)\n",
    "\n",
    "y_pred = model_all.predict(X_test[selected_features])\n",
    "mse = mean_squared_error(y_test, y_pred)\n",
    "print(f'Mean Squared Error: {mse}')\n",
    "\n",
    "# Inverse transform predictions back to original salary scale\n",
    "y_test_pred_unscaled = scaler.inverse_transform(\n",
    "    np.concatenate((X_test[['Years of Experience']].values, y_pred.reshape(-1, 1), X_test[['Age']].values), axis=1))[:, 1]\n",
    "\n",
    "sum_error_all = 0\n",
    "\n",
    "for i, pred in enumerate(y_test_pred_unscaled):\n",
    "    actual_salary = scaler.inverse_transform(test[['Years of Experience', 'Salary', 'Age']].values)[i][1]\n",
    "    sum_error_all += abs(pred - actual_salary)/ len(y_test_pred_unscaled)\n",
    "    \n",
    "print(f\"Average Error: {sum_error_all}\")"
   ]
  },
  {
   "cell_type": "code",
   "execution_count": 15,
   "id": "e1f77fb1caa6b583",
   "metadata": {
    "ExecuteTime": {
     "end_time": "2024-11-11T12:57:56.171554Z",
     "start_time": "2024-11-11T12:57:55.990140Z"
    }
   },
   "outputs": [
    {
     "ename": "TypeError",
     "evalue": "linear(): argument 'input' (position 1) must be Tensor, not DataFrame",
     "output_type": "error",
     "traceback": [
      "\u001b[1;31m---------------------------------------------------------------------------\u001b[0m",
      "\u001b[1;31mTypeError\u001b[0m                                 Traceback (most recent call last)",
      "Cell \u001b[1;32mIn[15], line 17\u001b[0m\n\u001b[0;32m     15\u001b[0m model_all\u001b[38;5;241m.\u001b[39mtrain()\n\u001b[0;32m     16\u001b[0m optimizer\u001b[38;5;241m.\u001b[39mzero_grad()\n\u001b[1;32m---> 17\u001b[0m y_pred \u001b[38;5;241m=\u001b[39m \u001b[43mmodel_all\u001b[49m\u001b[43m(\u001b[49m\u001b[43mX_train\u001b[49m\u001b[43m[\u001b[49m\u001b[43mselected_features\u001b[49m\u001b[43m]\u001b[49m\u001b[43m)\u001b[49m\n\u001b[0;32m     18\u001b[0m train_loss \u001b[38;5;241m=\u001b[39m criterion(y_pred, y_train)\n\u001b[0;32m     19\u001b[0m train_loss\u001b[38;5;241m.\u001b[39mbackward()\n",
      "File \u001b[1;32m~\\AppData\\Local\\Packages\\PythonSoftwareFoundation.Python.3.11_qbz5n2kfra8p0\\LocalCache\\local-packages\\Python311\\site-packages\\torch\\nn\\modules\\module.py:1518\u001b[0m, in \u001b[0;36mModule._wrapped_call_impl\u001b[1;34m(self, *args, **kwargs)\u001b[0m\n\u001b[0;32m   1516\u001b[0m     \u001b[38;5;28;01mreturn\u001b[39;00m \u001b[38;5;28mself\u001b[39m\u001b[38;5;241m.\u001b[39m_compiled_call_impl(\u001b[38;5;241m*\u001b[39margs, \u001b[38;5;241m*\u001b[39m\u001b[38;5;241m*\u001b[39mkwargs)  \u001b[38;5;66;03m# type: ignore[misc]\u001b[39;00m\n\u001b[0;32m   1517\u001b[0m \u001b[38;5;28;01melse\u001b[39;00m:\n\u001b[1;32m-> 1518\u001b[0m     \u001b[38;5;28;01mreturn\u001b[39;00m \u001b[38;5;28;43mself\u001b[39;49m\u001b[38;5;241;43m.\u001b[39;49m\u001b[43m_call_impl\u001b[49m\u001b[43m(\u001b[49m\u001b[38;5;241;43m*\u001b[39;49m\u001b[43margs\u001b[49m\u001b[43m,\u001b[49m\u001b[43m \u001b[49m\u001b[38;5;241;43m*\u001b[39;49m\u001b[38;5;241;43m*\u001b[39;49m\u001b[43mkwargs\u001b[49m\u001b[43m)\u001b[49m\n",
      "File \u001b[1;32m~\\AppData\\Local\\Packages\\PythonSoftwareFoundation.Python.3.11_qbz5n2kfra8p0\\LocalCache\\local-packages\\Python311\\site-packages\\torch\\nn\\modules\\module.py:1527\u001b[0m, in \u001b[0;36mModule._call_impl\u001b[1;34m(self, *args, **kwargs)\u001b[0m\n\u001b[0;32m   1522\u001b[0m \u001b[38;5;66;03m# If we don't have any hooks, we want to skip the rest of the logic in\u001b[39;00m\n\u001b[0;32m   1523\u001b[0m \u001b[38;5;66;03m# this function, and just call forward.\u001b[39;00m\n\u001b[0;32m   1524\u001b[0m \u001b[38;5;28;01mif\u001b[39;00m \u001b[38;5;129;01mnot\u001b[39;00m (\u001b[38;5;28mself\u001b[39m\u001b[38;5;241m.\u001b[39m_backward_hooks \u001b[38;5;129;01mor\u001b[39;00m \u001b[38;5;28mself\u001b[39m\u001b[38;5;241m.\u001b[39m_backward_pre_hooks \u001b[38;5;129;01mor\u001b[39;00m \u001b[38;5;28mself\u001b[39m\u001b[38;5;241m.\u001b[39m_forward_hooks \u001b[38;5;129;01mor\u001b[39;00m \u001b[38;5;28mself\u001b[39m\u001b[38;5;241m.\u001b[39m_forward_pre_hooks\n\u001b[0;32m   1525\u001b[0m         \u001b[38;5;129;01mor\u001b[39;00m _global_backward_pre_hooks \u001b[38;5;129;01mor\u001b[39;00m _global_backward_hooks\n\u001b[0;32m   1526\u001b[0m         \u001b[38;5;129;01mor\u001b[39;00m _global_forward_hooks \u001b[38;5;129;01mor\u001b[39;00m _global_forward_pre_hooks):\n\u001b[1;32m-> 1527\u001b[0m     \u001b[38;5;28;01mreturn\u001b[39;00m \u001b[43mforward_call\u001b[49m\u001b[43m(\u001b[49m\u001b[38;5;241;43m*\u001b[39;49m\u001b[43margs\u001b[49m\u001b[43m,\u001b[49m\u001b[43m \u001b[49m\u001b[38;5;241;43m*\u001b[39;49m\u001b[38;5;241;43m*\u001b[39;49m\u001b[43mkwargs\u001b[49m\u001b[43m)\u001b[49m\n\u001b[0;32m   1529\u001b[0m \u001b[38;5;28;01mtry\u001b[39;00m:\n\u001b[0;32m   1530\u001b[0m     result \u001b[38;5;241m=\u001b[39m \u001b[38;5;28;01mNone\u001b[39;00m\n",
      "Cell \u001b[1;32mIn[9], line 12\u001b[0m, in \u001b[0;36mRegressionModel.forward\u001b[1;34m(self, x)\u001b[0m\n\u001b[0;32m     11\u001b[0m \u001b[38;5;28;01mdef\u001b[39;00m \u001b[38;5;21mforward\u001b[39m(\u001b[38;5;28mself\u001b[39m, x):\n\u001b[1;32m---> 12\u001b[0m     x \u001b[38;5;241m=\u001b[39m \u001b[38;5;28;43mself\u001b[39;49m\u001b[38;5;241;43m.\u001b[39;49m\u001b[43mlayer1\u001b[49m\u001b[43m(\u001b[49m\u001b[43mx\u001b[49m\u001b[43m)\u001b[49m\n\u001b[0;32m     13\u001b[0m     x \u001b[38;5;241m=\u001b[39m \u001b[38;5;28mself\u001b[39m\u001b[38;5;241m.\u001b[39mactivation1(x)\n\u001b[0;32m     14\u001b[0m     x \u001b[38;5;241m=\u001b[39m \u001b[38;5;28mself\u001b[39m\u001b[38;5;241m.\u001b[39mlayer2(x)\n",
      "File \u001b[1;32m~\\AppData\\Local\\Packages\\PythonSoftwareFoundation.Python.3.11_qbz5n2kfra8p0\\LocalCache\\local-packages\\Python311\\site-packages\\torch\\nn\\modules\\module.py:1518\u001b[0m, in \u001b[0;36mModule._wrapped_call_impl\u001b[1;34m(self, *args, **kwargs)\u001b[0m\n\u001b[0;32m   1516\u001b[0m     \u001b[38;5;28;01mreturn\u001b[39;00m \u001b[38;5;28mself\u001b[39m\u001b[38;5;241m.\u001b[39m_compiled_call_impl(\u001b[38;5;241m*\u001b[39margs, \u001b[38;5;241m*\u001b[39m\u001b[38;5;241m*\u001b[39mkwargs)  \u001b[38;5;66;03m# type: ignore[misc]\u001b[39;00m\n\u001b[0;32m   1517\u001b[0m \u001b[38;5;28;01melse\u001b[39;00m:\n\u001b[1;32m-> 1518\u001b[0m     \u001b[38;5;28;01mreturn\u001b[39;00m \u001b[38;5;28;43mself\u001b[39;49m\u001b[38;5;241;43m.\u001b[39;49m\u001b[43m_call_impl\u001b[49m\u001b[43m(\u001b[49m\u001b[38;5;241;43m*\u001b[39;49m\u001b[43margs\u001b[49m\u001b[43m,\u001b[49m\u001b[43m \u001b[49m\u001b[38;5;241;43m*\u001b[39;49m\u001b[38;5;241;43m*\u001b[39;49m\u001b[43mkwargs\u001b[49m\u001b[43m)\u001b[49m\n",
      "File \u001b[1;32m~\\AppData\\Local\\Packages\\PythonSoftwareFoundation.Python.3.11_qbz5n2kfra8p0\\LocalCache\\local-packages\\Python311\\site-packages\\torch\\nn\\modules\\module.py:1527\u001b[0m, in \u001b[0;36mModule._call_impl\u001b[1;34m(self, *args, **kwargs)\u001b[0m\n\u001b[0;32m   1522\u001b[0m \u001b[38;5;66;03m# If we don't have any hooks, we want to skip the rest of the logic in\u001b[39;00m\n\u001b[0;32m   1523\u001b[0m \u001b[38;5;66;03m# this function, and just call forward.\u001b[39;00m\n\u001b[0;32m   1524\u001b[0m \u001b[38;5;28;01mif\u001b[39;00m \u001b[38;5;129;01mnot\u001b[39;00m (\u001b[38;5;28mself\u001b[39m\u001b[38;5;241m.\u001b[39m_backward_hooks \u001b[38;5;129;01mor\u001b[39;00m \u001b[38;5;28mself\u001b[39m\u001b[38;5;241m.\u001b[39m_backward_pre_hooks \u001b[38;5;129;01mor\u001b[39;00m \u001b[38;5;28mself\u001b[39m\u001b[38;5;241m.\u001b[39m_forward_hooks \u001b[38;5;129;01mor\u001b[39;00m \u001b[38;5;28mself\u001b[39m\u001b[38;5;241m.\u001b[39m_forward_pre_hooks\n\u001b[0;32m   1525\u001b[0m         \u001b[38;5;129;01mor\u001b[39;00m _global_backward_pre_hooks \u001b[38;5;129;01mor\u001b[39;00m _global_backward_hooks\n\u001b[0;32m   1526\u001b[0m         \u001b[38;5;129;01mor\u001b[39;00m _global_forward_hooks \u001b[38;5;129;01mor\u001b[39;00m _global_forward_pre_hooks):\n\u001b[1;32m-> 1527\u001b[0m     \u001b[38;5;28;01mreturn\u001b[39;00m \u001b[43mforward_call\u001b[49m\u001b[43m(\u001b[49m\u001b[38;5;241;43m*\u001b[39;49m\u001b[43margs\u001b[49m\u001b[43m,\u001b[49m\u001b[43m \u001b[49m\u001b[38;5;241;43m*\u001b[39;49m\u001b[38;5;241;43m*\u001b[39;49m\u001b[43mkwargs\u001b[49m\u001b[43m)\u001b[49m\n\u001b[0;32m   1529\u001b[0m \u001b[38;5;28;01mtry\u001b[39;00m:\n\u001b[0;32m   1530\u001b[0m     result \u001b[38;5;241m=\u001b[39m \u001b[38;5;28;01mNone\u001b[39;00m\n",
      "File \u001b[1;32m~\\AppData\\Local\\Packages\\PythonSoftwareFoundation.Python.3.11_qbz5n2kfra8p0\\LocalCache\\local-packages\\Python311\\site-packages\\torch\\nn\\modules\\linear.py:114\u001b[0m, in \u001b[0;36mLinear.forward\u001b[1;34m(self, input)\u001b[0m\n\u001b[0;32m    113\u001b[0m \u001b[38;5;28;01mdef\u001b[39;00m \u001b[38;5;21mforward\u001b[39m(\u001b[38;5;28mself\u001b[39m, \u001b[38;5;28minput\u001b[39m: Tensor) \u001b[38;5;241m-\u001b[39m\u001b[38;5;241m>\u001b[39m Tensor:\n\u001b[1;32m--> 114\u001b[0m     \u001b[38;5;28;01mreturn\u001b[39;00m \u001b[43mF\u001b[49m\u001b[38;5;241;43m.\u001b[39;49m\u001b[43mlinear\u001b[49m\u001b[43m(\u001b[49m\u001b[38;5;28;43minput\u001b[39;49m\u001b[43m,\u001b[49m\u001b[43m \u001b[49m\u001b[38;5;28;43mself\u001b[39;49m\u001b[38;5;241;43m.\u001b[39;49m\u001b[43mweight\u001b[49m\u001b[43m,\u001b[49m\u001b[43m \u001b[49m\u001b[38;5;28;43mself\u001b[39;49m\u001b[38;5;241;43m.\u001b[39;49m\u001b[43mbias\u001b[49m\u001b[43m)\u001b[49m\n",
      "\u001b[1;31mTypeError\u001b[0m: linear(): argument 'input' (position 1) must be Tensor, not DataFrame"
     ]
    }
   ],
   "source": [
    "# Set up model parameters\n",
    "selected_features = ['Years of Experience', 'Education Level']\n",
    "\n",
    "input_dim = 2  # Years of Experience, Education Level, \n",
    "hidden_dim = 64\n",
    "output_dim = 1\n",
    "model_all = RegressionModel(input_dim, hidden_dim, output_dim)\n",
    "\n",
    "criterion = nn.MSELoss()\n",
    "optimizer = torch.optim.Adam(model_all.parameters(), lr=0.001, weight_decay=1e-4)  # Add weight decay for L2 regularization\n",
    "\n",
    "# Training loop\n",
    "train_losses, val_losses = [], []\n",
    "for epoch in range(5000):\n",
    "    model_all.train()\n",
    "    optimizer.zero_grad()\n",
    "    y_pred = model_all(X_train[selected_features])\n",
    "    train_loss = criterion(y_pred, y_train)\n",
    "    train_loss.backward()\n",
    "    optimizer.step()\n",
    "    train_losses.append(train_loss.item())\n",
    "    \n",
    "    # Validation loss\n",
    "    model_all.eval()\n",
    "    with torch.no_grad():\n",
    "        y_val_pred = model_all(X_val[selected_features])\n",
    "        val_loss = criterion(y_val_pred, y_val)\n",
    "        val_losses.append(val_loss.item())\n",
    "        \n",
    "    # Print progress every 100 epochs\n",
    "    if epoch % 1000 == 0:\n",
    "        print(f'Epoch {epoch} - Train Loss: {train_loss.item()} | Validation Loss: {val_loss.item()}')\n",
    "\n",
    "# Plot training and validation losses\n",
    "plt.plot(train_losses, label='Training Loss')\n",
    "plt.plot(val_losses, label='Validation Loss')\n",
    "plt.xlabel('Epochs')\n",
    "plt.ylabel('Loss')\n",
    "plt.legend()\n",
    "plt.show()\n",
    "\n",
    "# Evaluate on test set\n",
    "model_all.eval()\n",
    "with torch.no_grad():\n",
    "    y_test_pred = model_all(X_test[selected_features])\n",
    "    test_loss = criterion(y_test_pred, y_test)\n",
    "    print(f'Test Loss: {test_loss.item()}')"
   ]
  },
  {
   "cell_type": "markdown",
   "id": "43d2adba22f28eaa",
   "metadata": {},
   "source": [
    "# Including Gender & Age"
   ]
  },
  {
   "cell_type": "code",
   "execution_count": 35,
   "id": "e44f50f61bcb06d7",
   "metadata": {
    "ExecuteTime": {
     "end_time": "2024-11-11T11:43:55.791019Z",
     "start_time": "2024-11-11T11:43:14.192473Z"
    }
   },
   "outputs": [
    {
     "name": "stdout",
     "output_type": "stream",
     "text": [
      "           Age  Gender Education Level          Job Title  \\\n",
      "403   0.969242       1               1  Software Engineer   \n",
      "918   1.335123       0               1  Software Engineer   \n",
      "938   1.335123       0               1  Software Engineer   \n",
      "712   1.335123       0               1  Software Engineer   \n",
      "4041  0.237481       0               1  Software Engineer   \n",
      "\n",
      "      Years of Experience    Salary  \n",
      "403              0.688693  0.901876  \n",
      "918              1.573959  1.631115  \n",
      "938              1.573959  1.631115  \n",
      "712              1.573959  1.631115  \n",
      "4041            -0.196573 -0.869134  \n",
      "Epoch 0 - Train Loss: 1.1657416820526123 | Validation Loss: 1.3847849369049072\n",
      "Epoch 1000 - Train Loss: 0.15412884950637817 | Validation Loss: 0.14099931716918945\n",
      "Epoch 2000 - Train Loss: 0.12579227983951569 | Validation Loss: 0.12056142091751099\n",
      "Epoch 3000 - Train Loss: 0.07903210818767548 | Validation Loss: 0.09174574911594391\n",
      "Epoch 4000 - Train Loss: 0.05663716420531273 | Validation Loss: 0.07505577802658081\n"
     ]
    },
    {
     "data": {
      "image/png": "[encoded data removed]",
      "text/plain": [
       "<Figure size 640x480 with 1 Axes>"
      ]
     },
     "metadata": {},
     "output_type": "display_data"
    },
    {
     "name": "stdout",
     "output_type": "stream",
     "text": [
      "Test Loss: 0.08778522163629532\n",
      "MSE real: 202216700.54712552\n",
      "MAE: 7061.558202068082\n",
      "Average Error: 7061.558202068082\n"
     ]
    }
   ],
   "source": [
    "import torch\n",
    "import torch.nn as nn\n",
    "import matplotlib.pyplot as plt\n",
    "from sklearn.preprocessing import StandardScaler, LabelEncoder\n",
    "from sklearn.model_selection import train_test_split\n",
    "from sklearn.metrics import mean_absolute_error\n",
    "\n",
    "# Drop rows with missing values in the relevant columns\n",
    "df_drop2 = df.dropna(subset=['Salary', 'Years of Experience', 'Education Level', 'Gender', 'Age']).copy()\n",
    "\n",
    "# Check for NaN or infinite values\n",
    "train = train.fillna(0)\n",
    "assert not train.isnull().values.any(), \"Training data contains NaN values\"\n",
    "\n",
    "assert not val.isnull().values.any(), \"Validation data contains NaN values\"\n",
    "assert not test.isnull().values.any(), \"Test data contains NaN values\"\n",
    "assert np.isfinite(train[['Years of Experience', 'Salary', 'Age']].values).all(), \"Training data contains infinite values\"\n",
    "assert np.isfinite(val[['Years of Experience', 'Salary', 'Age']].values).all(), \"Validation data contains infinite values\"\n",
    "assert np.isfinite(test[['Years of Experience', 'Salary', 'Age']].values).all(), \"Test data contains infinite values\"\n",
    "\n",
    "\n",
    "# Set up model parameters\n",
    "input_dim = 4  # Years of Experience, Education Level, Gender, Age\n",
    "hidden_dim = 20\n",
    "output_dim = 1\n",
    "model_all_gen_age = RegressionModel(input_dim, hidden_dim, output_dim)\n",
    "\n",
    "criterion = nn.MSELoss()\n",
    "optimizer = torch.optim.Adam(model_all_gen_age.parameters(), lr=0.001, weight_decay=1e-4)  # Add weight decay for L2 regularization\n",
    "\n",
    "# Prepare data for PyTorch\n",
    "print(train.head())\n",
    "X_train = torch.tensor(train[['Years of Experience', 'Education Level', 'Gender', 'Age']].values, dtype=torch.float32)\n",
    "y_train = torch.tensor(train['Salary'].values, dtype=torch.float32).view(-1, 1)\n",
    "X_val = torch.tensor(val[['Years of Experience', 'Education Level', 'Gender', 'Age']].values, dtype=torch.float32)\n",
    "y_val = torch.tensor(val['Salary'].values, dtype=torch.float32).view(-1, 1)\n",
    "X_test = torch.tensor(test[['Years of Experience', 'Education Level', 'Gender', 'Age']].values, dtype=torch.float32)\n",
    "y_test = torch.tensor(test['Salary'].values, dtype=torch.float32).view(-1, 1)\n",
    "\n",
    "# Training loop\n",
    "train_losses, val_losses = [], []\n",
    "for epoch in range(5000):\n",
    "    model_all_gen_age.train()\n",
    "    optimizer.zero_grad()\n",
    "    y_pred = model_all_gen_age(X_train)\n",
    "    train_loss = criterion(y_pred, y_train)\n",
    "    if torch.isnan(train_loss):\n",
    "        print(f\"NaN detected in train loss at epoch {epoch}\")\n",
    "        break\n",
    "    train_loss.backward()\n",
    "    optimizer.step()\n",
    "    train_losses.append(train_loss.item())\n",
    "\n",
    "    # Validation loss\n",
    "    model_all_gen_age.eval()\n",
    "    with torch.no_grad():\n",
    "        y_val_pred = model_all_gen_age(X_val)\n",
    "        val_loss = criterion(y_val_pred, y_val)\n",
    "        if torch.isnan(val_loss):\n",
    "            print(f\"NaN detected in validation loss at epoch {epoch}\")\n",
    "            break\n",
    "        val_losses.append(val_loss.item())\n",
    "\n",
    "    # Print progress every 100 epochs\n",
    "    if epoch % 1000 == 0:\n",
    "        print(f'Epoch {epoch} - Train Loss: {train_loss.item()} | Validation Loss: {val_loss.item()}')\n",
    "\n",
    "# Plot training and validation losses\n",
    "plt.plot(train_losses, label='Training Loss')\n",
    "plt.plot(val_losses, label='Validation Loss')\n",
    "plt.xlabel('Epochs')\n",
    "plt.ylabel('Loss')\n",
    "plt.legend()\n",
    "plt.show()\n",
    "\n",
    "# Evaluate on test set\n",
    "model_all_gen_age.eval()\n",
    "with torch.no_grad():\n",
    "    y_test_pred = model_all_gen_age(X_test)\n",
    "    test_loss = criterion(y_test_pred, y_test)\n",
    "    print(f'Test Loss: {test_loss.item()}')\n",
    "\n",
    "# Inverse transform predictions back to original salary scale\n",
    "# We add placeholders for 'Years of Experience' and 'Age' to inverse transform correctly\n",
    "y_test_pred_unscaled = scaler.inverse_transform(\n",
    "    torch.cat((X_test[:, 0].unsqueeze(1), y_test_pred, X_test[:, 1:2]), dim=1))[:, 1]\n",
    "\n",
    "\n",
    "actual_salary_array = []\n",
    "actual_pred_array = []\n",
    "sum_error_all_ga = 0\n",
    "for i, pred in enumerate(y_test_pred_unscaled):\n",
    "    actual_salary = scaler.inverse_transform(test[['Years of Experience', 'Salary', 'Age']].values)[i][1]\n",
    "    sum_error_all_ga += abs(pred - actual_salary)/ len(y_test_pred_unscaled)\n",
    "    actual_salary_array.append(actual_salary)\n",
    "    actual_pred_array.append(pred)\n",
    "\n",
    "\n",
    "\n",
    "mse_real = mean_squared_error(actual_salary_array, actual_pred_array)\n",
    "mae = mean_absolute_error(actual_salary_array, actual_pred_array)\n",
    "print(f\"MSE real: {mse_real}\")\n",
    "print(f\"MAE: {mae}\")\n",
    "\n",
    "\n",
    "torch.save(model_all_gen_age.state_dict(), \"model_all_gen_age.pth\")\n",
    "print(f\"Average Error: {sum_error_all_ga}\")"
   ]
  },
  {
   "cell_type": "markdown",
   "id": "a5d57c583459ccb2",
   "metadata": {},
   "source": [
    "Test loss 0.18"
   ]
  },
  {
   "cell_type": "markdown",
   "id": "9279a93b50e3f837",
   "metadata": {},
   "source": [
    "# Training For Software Engineer"
   ]
  },
  {
   "cell_type": "code",
   "execution_count": 17,
   "id": "e98aaa0c13a97acb",
   "metadata": {
    "ExecuteTime": {
     "end_time": "2024-11-11T11:43:58.049165Z",
     "start_time": "2024-11-11T11:43:55.791708Z"
    }
   },
   "outputs": [
    {
     "name": "stdout",
     "output_type": "stream",
     "text": [
      "Epoch 0 - Train Loss: nan | Validation Loss: nan\n",
      "Epoch 1000 - Train Loss: nan | Validation Loss: nan\n",
      "Epoch 2000 - Train Loss: nan | Validation Loss: nan\n",
      "Epoch 3000 - Train Loss: nan | Validation Loss: nan\n",
      "Epoch 4000 - Train Loss: nan | Validation Loss: nan\n",
      "Epoch 5000 - Train Loss: nan | Validation Loss: nan\n",
      "Epoch 6000 - Train Loss: nan | Validation Loss: nan\n",
      "Epoch 7000 - Train Loss: nan | Validation Loss: nan\n",
      "Epoch 8000 - Train Loss: nan | Validation Loss: nan\n",
      "Epoch 9000 - Train Loss: nan | Validation Loss: nan\n"
     ]
    },
    {
     "data": {
      "image/png": "[encoded data removed]",
      "text/plain": [
       "<Figure size 640x480 with 1 Axes>"
      ]
     },
     "metadata": {},
     "output_type": "display_data"
    },
    {
     "name": "stdout",
     "output_type": "stream",
     "text": [
      "Test Loss: nan\n",
      "Average Error: nan\n"
     ]
    }
   ],
   "source": [
    "import torch\n",
    "import torch.nn as nn\n",
    "import matplotlib.pyplot as plt\n",
    "from sklearn.preprocessing import StandardScaler, LabelEncoder\n",
    "from sklearn.model_selection import train_test_split\n",
    "\n",
    "# Filter data for a specific job title\n",
    "job = 'Software Engineer'\n",
    "df_job = df[df['Job Title'] == job]\n",
    "df_job = df_job.dropna(subset=['Salary', 'Years of Experience', 'Education Level']).copy()\n",
    "\n",
    "# Encode 'Education Level' for simplicity\n",
    "education_mapping = {'High School': 0, 'Bachelor\\'s': 1, 'Master\\'s': 2, 'PhD': 3}\n",
    "df_job['Education Level'] = df_job['Education Level'].map(education_mapping).copy()\n",
    "\n",
    "# Split the data\n",
    "train, test = train_test_split(df_job, test_size=0.3, random_state=42)\n",
    "train, val = train_test_split(train, test_size=0.11, random_state=42)\n",
    "\n",
    "# Scale 'Years of Experience' and 'Salary' for stability\n",
    "scaler = StandardScaler()\n",
    "train[['Years of Experience', 'Salary']] = scaler.fit_transform(train[['Years of Experience', 'Salary']])\n",
    "val[['Years of Experience', 'Salary']] = scaler.transform(val[['Years of Experience', 'Salary']])\n",
    "test[['Years of Experience', 'Salary']] = scaler.transform(test[['Years of Experience', 'Salary']])\n",
    "\n",
    "# Set up model parameters\n",
    "input_dim = 2  # Years of Experience, Education Level\n",
    "hidden_dim = 64\n",
    "output_dim = 1\n",
    "model_SE = RegressionModel(input_dim, hidden_dim, output_dim)\n",
    "\n",
    "criterion = nn.MSELoss()\n",
    "optimizer = torch.optim.Adam(model_SE.parameters(), lr=0.0001, weight_decay=1e-4)  # Add weight decay for L2 regularization\n",
    "\n",
    "# Prepare data for PyTorch\n",
    "X_train = torch.tensor(train[['Years of Experience', 'Education Level']].values, dtype=torch.float32)\n",
    "y_train = torch.tensor(train['Salary'].values, dtype=torch.float32).view(-1, 1)\n",
    "X_val = torch.tensor(val[['Years of Experience', 'Education Level']].values, dtype=torch.float32)\n",
    "y_val = torch.tensor(val['Salary'].values, dtype=torch.float32).view(-1, 1)\n",
    "X_test = torch.tensor(test[['Years of Experience', 'Education Level']].values, dtype=torch.float32)\n",
    "y_test = torch.tensor(test['Salary'].values, dtype=torch.float32).view(-1, 1)\n",
    "\n",
    "# Training loop\n",
    "train_losses, val_losses = [], []\n",
    "for epoch in range(10000):\n",
    "    model_SE.train()\n",
    "    optimizer.zero_grad()\n",
    "    y_pred = model_SE(X_train)\n",
    "    train_loss = criterion(y_pred, y_train)\n",
    "    train_loss.backward()\n",
    "    optimizer.step()\n",
    "    train_losses.append(train_loss.item())\n",
    "    \n",
    "    # Validation loss\n",
    "    model_SE.eval()\n",
    "    with torch.no_grad():\n",
    "        y_val_pred = model_SE(X_val)\n",
    "        val_loss = criterion(y_val_pred, y_val)\n",
    "        val_losses.append(val_loss.item())\n",
    "        \n",
    "    # Print progress every 100 epochs\n",
    "    if epoch % 1000 == 0:\n",
    "        print(f'Epoch {epoch} - Train Loss: {train_loss.item()} | Validation Loss: {val_loss.item()}')\n",
    "\n",
    "# Plot training and validation losses\n",
    "plt.plot(train_losses, label='Training Loss')\n",
    "plt.plot(val_losses, label='Validation Loss')\n",
    "plt.xlabel('Epochs')\n",
    "plt.ylabel('Loss')\n",
    "plt.legend()\n",
    "plt.show()\n",
    "\n",
    "# Evaluate on test set\n",
    "model_SE.eval()\n",
    "with torch.no_grad():\n",
    "    y_test_pred = model_SE(X_test)\n",
    "    test_loss = criterion(y_test_pred, y_test)\n",
    "    print(f'Test Loss: {test_loss.item()}')\n",
    "\n",
    "# Inverse transform predictions back to original salary scale\n",
    "y_test_pred_unscaled = scaler.inverse_transform(\n",
    "    torch.cat((X_test[:, 0].unsqueeze(1), y_test_pred), dim=1))[:, 1]\n",
    "\n",
    "sum_error_SE = 0\n",
    "for i, pred in enumerate(y_test_pred_unscaled):\n",
    "    actual_salary = scaler.inverse_transform(test[['Years of Experience', 'Salary']].values)[i][1]\n",
    "    sum_error_SE += abs(pred - actual_salary)/ len(y_test_pred_unscaled)\n",
    "    \n",
    "print(f\"Average Error: {sum_error_SE}\")"
   ]
  },
  {
   "cell_type": "markdown",
   "id": "e8d6a7dc729ab41a",
   "metadata": {},
   "source": [
    "# Including Gender & Age"
   ]
  },
  {
   "cell_type": "code",
   "execution_count": 34,
   "id": "138b0eeed944c27e",
   "metadata": {
    "ExecuteTime": {
     "end_time": "2024-11-11T11:44:00.129345Z",
     "start_time": "2024-11-11T11:43:58.050046Z"
    }
   },
   "outputs": [
    {
     "name": "stdout",
     "output_type": "stream",
     "text": [
      "Epoch 0 - Train Loss: 0.7300328016281128 | Validation Loss: 0.8875810503959656\n",
      "Epoch 1000 - Train Loss: 0.41593435406684875 | Validation Loss: 0.4359191060066223\n",
      "Epoch 2000 - Train Loss: 0.29315000772476196 | Validation Loss: 0.27423498034477234\n",
      "Epoch 3000 - Train Loss: 0.21569578349590302 | Validation Loss: 0.18444588780403137\n",
      "Epoch 4000 - Train Loss: 0.1841989904642105 | Validation Loss: 0.154953733086586\n",
      "Epoch 5000 - Train Loss: 0.1693091243505478 | Validation Loss: 0.1484730839729309\n",
      "Epoch 6000 - Train Loss: 0.15984250605106354 | Validation Loss: 0.14654573798179626\n",
      "Epoch 7000 - Train Loss: 0.15266290307044983 | Validation Loss: 0.1457846611738205\n",
      "Epoch 8000 - Train Loss: 0.1456688642501831 | Validation Loss: 0.14476537704467773\n",
      "Epoch 9000 - Train Loss: 0.1392693817615509 | Validation Loss: 0.14335408806800842\n"
     ]
    },
    {
     "data": {
      "image/png": "[encoded data removed]",
      "text/plain": [
       "<Figure size 640x480 with 1 Axes>"
      ]
     },
     "metadata": {},
     "output_type": "display_data"
    },
    {
     "name": "stdout",
     "output_type": "stream",
     "text": [
      "Test Loss: 0.16394716501235962\n",
      "MSE: 0.1321784257888794\n",
      "MSE real: 377658754.46160084\n",
      "MAE: 14656.571988325211\n",
      "Average Error: 14656.571988325208\n",
      "[132477.59503211867, 157489.99135946564, 73415.98304755663, 132477.59503211867, 92648.66933197611, 49796.717011457666, 103376.11200103204, 132477.59503211867, 184308.66847775434, 184308.66847775434, 193754.4787957038, 103376.11200103204, 184308.66847775434, 157489.99135946564, 131018.9223952389, 73415.98304755663, 157489.99135946564, 103396.2215518425, 132477.59503211867, 132477.59503211867, 157489.99135946564, 184308.66847775434, 132477.59503211867, 103376.11200103204, 142345.91618125793, 61806.48003887089, 184308.66847775434, 35946.50455025758, 92648.66933197611, 80321.91661871693, 92648.66933197611, 58292.545226137685, 108135.61456857328, 103396.2215518425, 157489.99135946564, 145208.25520379283, 157489.99135946564, 61806.48003887089, 132477.59503211867, 103376.11200103204, 92648.66933197611, 184308.66847775434, 92648.66933197611, 132477.59503211867, 156404.347385717, 96900.12789247127, 92648.66933197611, 192160.8251437532, 92648.66933197611, 92648.66933197611, 136967.00111487875, 160167.1663183036, 58170.84375226637, 80321.91661871693, 49796.717011457666, 108135.61456857328, 92648.66933197611, 103396.2215518425, 52818.9082966267, 86959.77910689902, 157489.99135946564, 125297.20807371127, 79706.68937812434, 132477.59503211867, 49796.717011457666, 125297.20807371127, 184308.66847775434, 131018.9223952389, 140234.75806496982, 157489.99135946564, 63846.38291771868, 73415.98304755663, 92648.66933197611, 131018.9223952389, 31007.00727079615, 49796.717011457666, 92648.66933197611, 77954.24765770725, 92648.66933197611, 77954.24765770725, 131018.9223952389, 157489.99135946564, 132477.59503211867, 114351.46756972655, 92648.66933197611, 140234.75806496982, 92648.66933197611, 184308.66847775434, 80321.91661871693, 156404.347385717, 61806.48003887089, 58292.545226137685, 77954.24765770725, 184308.66847775434, 92648.66933197611, 73415.98304755663, 184308.66847775434, 184308.66847775434, 108135.61456857328, 49796.717011457666, 108135.61456857328, 92648.66933197611, 80321.91661871693, 35946.50455025758, 80321.91661871693, 49796.717011457666, 192160.8251437532, 184308.66847775434, 77954.24765770725, 97069.14023501081, 77954.24765770725, 61806.48003887089, 193754.4787957038, 77954.24765770725, 108135.61456857328, 77954.24765770725, 73415.98304755663, 108135.61456857328, 140234.75806496982, 61806.48003887089, 132477.59503211867, 168165.19196443268, 131018.9223952389, 103376.11200103204, 132477.59503211867, 58292.545226137685, 103396.2215518425, 61806.48003887089, 77954.24765770725, 132477.59503211867, 77954.24765770725, 78113.64792389382, 31007.00727079615, 132477.59503211867, 131018.9223952389, 92648.66933197611, 157489.99135946564, 108135.61456857328, 103376.11200103204, 132477.59503211867, 77954.24765770725, 157489.99135946564, 49796.717011457666, 131018.9223952389, 157489.99135946564, 80321.91661871693, 193754.4787957038, 157489.99135946564, 157489.99135946564, 142345.91618125793, 80321.91661871693, 80321.91661871693, 156404.347385717, 184308.66847775434, 193930.49994391738, 103376.11200103204]\n"
     ]
    }
   ],
   "source": [
    "import torch\n",
    "import torch.nn as nn\n",
    "import matplotlib.pyplot as plt\n",
    "from sklearn.preprocessing import StandardScaler, LabelEncoder\n",
    "from sklearn.model_selection import train_test_split\n",
    "from sklearn.metrics import mean_absolute_error\n",
    "\n",
    "# Filter data for a specific job title\n",
    "job = 'Software Engineer'\n",
    "df_job = df[df['Job Title'] == job]\n",
    "df_job = df_job[df_job['Gender'] != 'Other']\n",
    "df_job = df_job.dropna(subset=['Salary', 'Years of Experience', 'Education Level', 'Gender', 'Age']).copy()\n",
    "\n",
    "\n",
    "\n",
    "# -----------NOT NECESSARY IF ALREADY DONE -------------\n",
    "# Encode 'Education Level' for simplicity\n",
    "#education_mapping = {'High School': 0, 'Bachelor\\'s': 1, 'Master\\'s': 2, 'PhD': 3}\n",
    "#df_job['Education Level'] = df_job['Education Level'].map(education_mapping).copy()\n",
    "\n",
    "# Encode 'Gender'\n",
    "##gender_mapping = {'Male': 0, 'Female': 1}\n",
    "#df_job['Gender'] = df_job['Gender'].map(gender_mapping).copy()\n",
    "\n",
    "#-----------------------------------\n",
    "#print(f\"df_job na: {df_job.isna().sum()}\")\n",
    "\n",
    "# Split the data\n",
    "train, test = train_test_split(df_job, test_size=0.3, random_state=42)\n",
    "train, val = train_test_split(train, test_size=0.11, random_state=42)\n",
    "\n",
    "# Scale 'Years of Experience', 'Age', and 'Salary' for stability\n",
    "scaler = StandardScaler()\n",
    "train[['Years of Experience', 'Salary', 'Age']] = scaler.fit_transform(train[['Years of Experience', 'Salary', 'Age']])\n",
    "val[['Years of Experience', 'Salary', 'Age']] = scaler.transform(val[['Years of Experience', 'Salary', 'Age']])\n",
    "test[['Years of Experience', 'Salary', 'Age']] = scaler.transform(test[['Years of Experience', 'Salary', 'Age']])\n",
    "\n",
    "joblib.dump(scaler, \"scaler_only_se\")\n",
    "\n",
    "# Set up model parameters\n",
    "input_dim = 4  # Years of Experience, Education Level, Gender, Age\n",
    "hidden_dim = 20\n",
    "output_dim = 1\n",
    "model_SE_gen_age = RegressionModel(input_dim, hidden_dim, output_dim)\n",
    "\n",
    "criterion = nn.MSELoss()\n",
    "optimizer = torch.optim.Adam(model_SE_gen_age.parameters(), lr=0.0001, weight_decay=1e-4)  # Add weight decay for L2 regularization\n",
    "\n",
    "# Prepare data for PyTorch\n",
    "X_train = torch.tensor(train[['Years of Experience', 'Education Level', 'Gender', 'Age']].values, dtype=torch.float32)\n",
    "y_train = torch.tensor(train['Salary'].values, dtype=torch.float32).view(-1, 1)\n",
    "X_val = torch.tensor(val[['Years of Experience', 'Education Level', 'Gender', 'Age']].values, dtype=torch.float32)\n",
    "y_val = torch.tensor(val['Salary'].values, dtype=torch.float32).view(-1, 1)\n",
    "X_test = torch.tensor(test[['Years of Experience', 'Education Level', 'Gender', 'Age']].values, dtype=torch.float32)\n",
    "y_test = torch.tensor(test['Salary'].values, dtype=torch.float32).view(-1, 1)\n",
    "\n",
    "\n",
    "\n",
    "# Training loop\n",
    "train_losses, val_losses = [], []\n",
    "for epoch in range(10000):\n",
    "    model_SE_gen_age.train()\n",
    "    optimizer.zero_grad()\n",
    "    y_pred = model_SE_gen_age(X_train)\n",
    "    train_loss = criterion(y_pred, y_train)\n",
    "    train_loss.backward()\n",
    "    optimizer.step()\n",
    "    train_losses.append(train_loss.item())\n",
    "    \n",
    "    # Validation loss\n",
    "    model_SE_gen_age.eval()\n",
    "    with torch.no_grad():\n",
    "        y_val_pred = model_SE_gen_age(X_val)\n",
    "        val_loss = criterion(y_val_pred, y_val)\n",
    "        val_losses.append(val_loss.item())\n",
    "        \n",
    "    # Print progress every 100 epochs\n",
    "    if epoch % 1000 == 0:\n",
    "        print(f'Epoch {epoch} - Train Loss: {train_loss.item()} | Validation Loss: {val_loss.item()}')\n",
    "\n",
    "# Plot training and validation losses\n",
    "plt.plot(train_losses, label='Training Loss')\n",
    "plt.plot(val_losses, label='Validation Loss')\n",
    "plt.xlabel('Epochs')\n",
    "plt.ylabel('Loss')\n",
    "plt.legend()\n",
    "plt.show()\n",
    "\n",
    "# Evaluate on test set\n",
    "model_SE_gen_age.eval()\n",
    "with torch.no_grad():\n",
    "    y_test_pred = model_SE_gen_age(X_test)\n",
    "    test_loss = criterion(y_test_pred, y_test)\n",
    "    print(f'Test Loss: {test_loss.item()}')\n",
    "    mse = mean_squared_error(y_train, y_pred)\n",
    "    print(f\"MSE: {mse}\")\n",
    "\n",
    "# Inverse transform predictions back to original salary scale\n",
    "# We add placeholders for 'Years of Experience' and 'Age' to inverse transform correctly\n",
    "y_test_pred_unscaled = scaler.inverse_transform(\n",
    "    torch.cat((X_test[:, 0].unsqueeze(1), y_test_pred, X_test[:, 1:2]), dim=1))[:, 1]\n",
    "\n",
    "actual_salary_array = []\n",
    "actual_pred_array = []\n",
    "sum_error_SE_ga = 0\n",
    "for i, pred in enumerate(y_test_pred_unscaled):\n",
    "    actual_salary = scaler.inverse_transform(test[['Years of Experience', 'Salary', 'Age']].values)[i][1]\n",
    "    sum_error_SE_ga += abs(pred - actual_salary)/ len(y_test_pred_unscaled)\n",
    "    actual_salary_array.append(actual_salary)\n",
    "    actual_pred_array.append(pred)\n",
    "\n",
    "mse_real = mean_squared_error(actual_salary_array, actual_pred_array)\n",
    "mae = mean_absolute_error(actual_salary_array, actual_pred_array)\n",
    "print(f\"MSE real: {mse_real}\")\n",
    "print(f\"MAE: {mae}\")\n",
    "\n",
    "\n",
    "torch.save(model_SE_gen_age.state_dict(), \"model_SE_gen_age.pth\")    \n",
    "print(f\"Average Error: {sum_error_SE_ga}\")\n",
    "print(actual_pred_array)"
   ]
  },
  {
   "cell_type": "markdown",
   "id": "0ba62b1c",
   "metadata": {},
   "source": [
    "## Define Feature importance ALL JOBS"
   ]
  },
  {
   "cell_type": "code",
   "execution_count": 19,
   "id": "c3aa3980",
   "metadata": {
    "ExecuteTime": {
     "end_time": "2024-11-11T11:44:00.134554Z",
     "start_time": "2024-11-11T11:44:00.129866Z"
    }
   },
   "outputs": [
    {
     "data": {
      "text/html": [
       "<div>\n",
       "<style scoped>\n",
       "    .dataframe tbody tr th:only-of-type {\n",
       "        vertical-align: middle;\n",
       "    }\n",
       "\n",
       "    .dataframe tbody tr th {\n",
       "        vertical-align: top;\n",
       "    }\n",
       "\n",
       "    .dataframe thead th {\n",
       "        text-align: right;\n",
       "    }\n",
       "</style>\n",
       "<table border=\"1\" class=\"dataframe\">\n",
       "  <thead>\n",
       "    <tr style=\"text-align: right;\">\n",
       "      <th></th>\n",
       "      <th>Age</th>\n",
       "      <th>Gender</th>\n",
       "      <th>Education Level</th>\n",
       "      <th>Job Title</th>\n",
       "      <th>Years of Experience</th>\n",
       "      <th>Salary</th>\n",
       "    </tr>\n",
       "  </thead>\n",
       "  <tbody>\n",
       "    <tr>\n",
       "      <th>0</th>\n",
       "      <td>32.0</td>\n",
       "      <td>0</td>\n",
       "      <td>1</td>\n",
       "      <td>Software Engineer</td>\n",
       "      <td>5.0</td>\n",
       "      <td>90000.0</td>\n",
       "    </tr>\n",
       "    <tr>\n",
       "      <th>1</th>\n",
       "      <td>28.0</td>\n",
       "      <td>1</td>\n",
       "      <td>2</td>\n",
       "      <td>Data Analyst</td>\n",
       "      <td>3.0</td>\n",
       "      <td>65000.0</td>\n",
       "    </tr>\n",
       "    <tr>\n",
       "      <th>5</th>\n",
       "      <td>29.0</td>\n",
       "      <td>0</td>\n",
       "      <td>1</td>\n",
       "      <td>Marketing Analyst</td>\n",
       "      <td>2.0</td>\n",
       "      <td>55000.0</td>\n",
       "    </tr>\n",
       "    <tr>\n",
       "      <th>6</th>\n",
       "      <td>42.0</td>\n",
       "      <td>1</td>\n",
       "      <td>2</td>\n",
       "      <td>Product Manager</td>\n",
       "      <td>12.0</td>\n",
       "      <td>120000.0</td>\n",
       "    </tr>\n",
       "    <tr>\n",
       "      <th>8</th>\n",
       "      <td>26.0</td>\n",
       "      <td>1</td>\n",
       "      <td>1</td>\n",
       "      <td>Marketing Coordinator</td>\n",
       "      <td>1.0</td>\n",
       "      <td>45000.0</td>\n",
       "    </tr>\n",
       "    <tr>\n",
       "      <th>...</th>\n",
       "      <td>...</td>\n",
       "      <td>...</td>\n",
       "      <td>...</td>\n",
       "      <td>...</td>\n",
       "      <td>...</td>\n",
       "      <td>...</td>\n",
       "    </tr>\n",
       "    <tr>\n",
       "      <th>6682</th>\n",
       "      <td>28.0</td>\n",
       "      <td>0</td>\n",
       "      <td>3</td>\n",
       "      <td>Marketing Manager</td>\n",
       "      <td>4.0</td>\n",
       "      <td>55000.0</td>\n",
       "    </tr>\n",
       "    <tr>\n",
       "      <th>6690</th>\n",
       "      <td>42.0</td>\n",
       "      <td>0</td>\n",
       "      <td>1</td>\n",
       "      <td>Financial Manager</td>\n",
       "      <td>13.0</td>\n",
       "      <td>130000.0</td>\n",
       "    </tr>\n",
       "    <tr>\n",
       "      <th>6691</th>\n",
       "      <td>36.0</td>\n",
       "      <td>1</td>\n",
       "      <td>3</td>\n",
       "      <td>Marketing Manager</td>\n",
       "      <td>9.0</td>\n",
       "      <td>95000.0</td>\n",
       "    </tr>\n",
       "    <tr>\n",
       "      <th>6701</th>\n",
       "      <td>30.0</td>\n",
       "      <td>1</td>\n",
       "      <td>1</td>\n",
       "      <td>Financial Manager</td>\n",
       "      <td>4.0</td>\n",
       "      <td>55000.0</td>\n",
       "    </tr>\n",
       "    <tr>\n",
       "      <th>6702</th>\n",
       "      <td>46.0</td>\n",
       "      <td>0</td>\n",
       "      <td>2</td>\n",
       "      <td>Marketing Manager</td>\n",
       "      <td>14.0</td>\n",
       "      <td>140000.0</td>\n",
       "    </tr>\n",
       "  </tbody>\n",
       "</table>\n",
       "<p>4529 rows × 6 columns</p>\n",
       "</div>"
      ],
      "text/plain": [
       "       Age  Gender Education Level              Job Title  \\\n",
       "0     32.0       0               1      Software Engineer   \n",
       "1     28.0       1               2           Data Analyst   \n",
       "5     29.0       0               1      Marketing Analyst   \n",
       "6     42.0       1               2        Product Manager   \n",
       "8     26.0       1               1  Marketing Coordinator   \n",
       "...    ...     ...             ...                    ...   \n",
       "6682  28.0       0               3      Marketing Manager   \n",
       "6690  42.0       0               1      Financial Manager   \n",
       "6691  36.0       1               3      Marketing Manager   \n",
       "6701  30.0       1               1      Financial Manager   \n",
       "6702  46.0       0               2      Marketing Manager   \n",
       "\n",
       "      Years of Experience    Salary  \n",
       "0                     5.0   90000.0  \n",
       "1                     3.0   65000.0  \n",
       "5                     2.0   55000.0  \n",
       "6                    12.0  120000.0  \n",
       "8                     1.0   45000.0  \n",
       "...                   ...       ...  \n",
       "6682                  4.0   55000.0  \n",
       "6690                 13.0  130000.0  \n",
       "6691                  9.0   95000.0  \n",
       "6701                  4.0   55000.0  \n",
       "6702                 14.0  140000.0  \n",
       "\n",
       "[4529 rows x 6 columns]"
      ]
     },
     "execution_count": 19,
     "metadata": {},
     "output_type": "execute_result"
    }
   ],
   "source": [
    "df"
   ]
  },
  {
   "cell_type": "code",
   "execution_count": 33,
   "id": "785260d7f5a2959c",
   "metadata": {
    "ExecuteTime": {
     "end_time": "2024-11-11T11:44:00.200522Z",
     "start_time": "2024-11-11T11:44:00.135041Z"
    }
   },
   "outputs": [
    {
     "data": {
      "image/png": "[encoded data removed]",
      "text/plain": [
       "<Figure size 1000x600 with 1 Axes>"
      ]
     },
     "metadata": {},
     "output_type": "display_data"
    },
    {
     "name": "stdout",
     "output_type": "stream",
     "text": [
      "Years of Experience: 12865.1582\n",
      "Education Level: 470.1856\n",
      "Gender: 7286.4268\n",
      "Age: 2136.7183\n"
     ]
    }
   ],
   "source": [
    "import numpy as np\n",
    "from sklearn.metrics import mean_squared_error, mean_absolute_error\n",
    "\n",
    "def permutation_importance(model, X, y, n_repeats=10):\n",
    "    baseline_mse = mean_squared_error(y, model(X).detach().numpy())\n",
    "    importances = []\n",
    "    \n",
    "    for col in range(X.shape[1]):\n",
    "        feature_importances = []\n",
    "        for _ in range(n_repeats):\n",
    "            X_permuted = X.clone()\n",
    "            X_permuted[:, col] = torch.randperm(X.shape[0])\n",
    "            permuted_mse = mean_squared_error(y, model(X_permuted).detach().numpy())\n",
    "            importance = permuted_mse - baseline_mse\n",
    "            feature_importances.append(importance)\n",
    "        importances.append(np.mean(feature_importances))\n",
    "    \n",
    "    return np.array(importances)\n",
    "\n",
    "# Calculate permutation importance\n",
    "feature_names = ['Years of Experience', 'Education Level', 'Gender', 'Age']\n",
    "importances = permutation_importance(model_all_gen_age, X_test, y_test)\n",
    "\n",
    "# Plot feature importances\n",
    "plt.figure(figsize=(10, 6))\n",
    "plt.bar(feature_names, importances)\n",
    "plt.title('Feature Importance (Permutation Method)')\n",
    "plt.xlabel('Features')\n",
    "plt.ylabel('Importance')\n",
    "plt.xticks(rotation=45)\n",
    "plt.tight_layout()\n",
    "plt.show()\n",
    "\n",
    "# Print feature importances\n",
    "for name, importance in zip(feature_names, importances):\n",
    "    print(f\"{name}: {importance:.4f}\")"
   ]
  },
  {
   "cell_type": "markdown",
   "id": "c398da11",
   "metadata": {},
   "source": [
    "It's important to note that these values represent the increase in the model's error when the feature is permuted. A larger increase in error indicates that the feature is more important for the model's predictions"
   ]
  },
  {
   "cell_type": "code",
   "execution_count": 21,
   "id": "133b16096344a91d",
   "metadata": {
    "ExecuteTime": {
     "end_time": "2024-11-11T11:44:00.266005Z",
     "start_time": "2024-11-11T11:44:00.201104Z"
    }
   },
   "outputs": [
    {
     "data": {
      "image/png": "[encoded data removed]",
      "text/plain": [
       "<Figure size 1000x600 with 1 Axes>"
      ]
     },
     "metadata": {},
     "output_type": "display_data"
    },
    {
     "name": "stdout",
     "output_type": "stream",
     "text": [
      "Years of Experience: 1173.8231\n",
      "Education Level: 2715.5710\n",
      "Gender: 2610.6401\n",
      "Age: 1488.1425\n"
     ]
    }
   ],
   "source": [
    "# Calculate permutation importance\n",
    "feature_names = ['Years of Experience', 'Education Level', 'Gender', 'Age']\n",
    "importances = permutation_importance(model_SE_gen_age, X_test, y_test)\n",
    "\n",
    "# Plot feature importances\n",
    "plt.figure(figsize=(10, 6))\n",
    "plt.bar(feature_names, importances)\n",
    "plt.title('Feature Importance (Permutation Method)')\n",
    "plt.xlabel('Features')\n",
    "plt.ylabel('Importance')\n",
    "plt.xticks(rotation=45)\n",
    "plt.tight_layout()\n",
    "plt.show()\n",
    "\n",
    "# Print feature importances\n",
    "for name, importance in zip(feature_names, importances):\n",
    "    print(f\"{name}: {importance:.4f}\")"
   ]
  },
  {
   "cell_type": "markdown",
   "id": "85a3b4e0f18b5a22",
   "metadata": {},
   "source": [
    "# Fairness"
   ]
  },
  {
   "cell_type": "code",
   "execution_count": 22,
   "id": "6c7c5b42b397675d",
   "metadata": {
    "ExecuteTime": {
     "end_time": "2024-11-11T11:44:00.452843Z",
     "start_time": "2024-11-11T11:44:00.266514Z"
    }
   },
   "outputs": [
    {
     "ename": "ValueError",
     "evalue": "zero-size array to reduction operation fmax which has no identity",
     "output_type": "error",
     "traceback": [
      "\u001b[1;31m---------------------------------------------------------------------------\u001b[0m",
      "\u001b[1;31mValueError\u001b[0m                                Traceback (most recent call last)",
      "Cell \u001b[1;32mIn[22], line 14\u001b[0m\n\u001b[0;32m     12\u001b[0m \u001b[38;5;66;03m# Create the plot\u001b[39;00m\n\u001b[0;32m     13\u001b[0m plt\u001b[38;5;241m.\u001b[39mfigure(figsize\u001b[38;5;241m=\u001b[39m(\u001b[38;5;241m10\u001b[39m, \u001b[38;5;241m6\u001b[39m))\n\u001b[1;32m---> 14\u001b[0m \u001b[43msalaries_men\u001b[49m\u001b[38;5;241;43m.\u001b[39;49m\u001b[43mplot\u001b[49m\u001b[43m(\u001b[49m\u001b[43mkind\u001b[49m\u001b[38;5;241;43m=\u001b[39;49m\u001b[38;5;124;43m'\u001b[39;49m\u001b[38;5;124;43mdensity\u001b[39;49m\u001b[38;5;124;43m'\u001b[39;49m\u001b[43m,\u001b[49m\u001b[43m \u001b[49m\u001b[43mlabel\u001b[49m\u001b[38;5;241;43m=\u001b[39;49m\u001b[38;5;124;43m'\u001b[39;49m\u001b[38;5;124;43mMen\u001b[39;49m\u001b[38;5;124;43m'\u001b[39;49m\u001b[43m,\u001b[49m\u001b[43m \u001b[49m\u001b[43mcolor\u001b[49m\u001b[38;5;241;43m=\u001b[39;49m\u001b[38;5;124;43m'\u001b[39;49m\u001b[38;5;124;43mblue\u001b[39;49m\u001b[38;5;124;43m'\u001b[39;49m\u001b[43m)\u001b[49m\n\u001b[0;32m     15\u001b[0m salaries_women\u001b[38;5;241m.\u001b[39mplot(kind\u001b[38;5;241m=\u001b[39m\u001b[38;5;124m'\u001b[39m\u001b[38;5;124mdensity\u001b[39m\u001b[38;5;124m'\u001b[39m, label\u001b[38;5;241m=\u001b[39m\u001b[38;5;124m'\u001b[39m\u001b[38;5;124mWomen\u001b[39m\u001b[38;5;124m'\u001b[39m, color\u001b[38;5;241m=\u001b[39m\u001b[38;5;124m'\u001b[39m\u001b[38;5;124mred\u001b[39m\u001b[38;5;124m'\u001b[39m)\n\u001b[0;32m     17\u001b[0m \u001b[38;5;66;03m# Add vertical lines for the mean salaries\u001b[39;00m\n",
      "File \u001b[1;32m~\\AppData\\Local\\Packages\\PythonSoftwareFoundation.Python.3.11_qbz5n2kfra8p0\\LocalCache\\local-packages\\Python311\\site-packages\\pandas\\plotting\\_core.py:1030\u001b[0m, in \u001b[0;36mPlotAccessor.__call__\u001b[1;34m(self, *args, **kwargs)\u001b[0m\n\u001b[0;32m   1027\u001b[0m             label_name \u001b[38;5;241m=\u001b[39m label_kw \u001b[38;5;129;01mor\u001b[39;00m data\u001b[38;5;241m.\u001b[39mcolumns\n\u001b[0;32m   1028\u001b[0m             data\u001b[38;5;241m.\u001b[39mcolumns \u001b[38;5;241m=\u001b[39m label_name\n\u001b[1;32m-> 1030\u001b[0m \u001b[38;5;28;01mreturn\u001b[39;00m \u001b[43mplot_backend\u001b[49m\u001b[38;5;241;43m.\u001b[39;49m\u001b[43mplot\u001b[49m\u001b[43m(\u001b[49m\u001b[43mdata\u001b[49m\u001b[43m,\u001b[49m\u001b[43m \u001b[49m\u001b[43mkind\u001b[49m\u001b[38;5;241;43m=\u001b[39;49m\u001b[43mkind\u001b[49m\u001b[43m,\u001b[49m\u001b[43m \u001b[49m\u001b[38;5;241;43m*\u001b[39;49m\u001b[38;5;241;43m*\u001b[39;49m\u001b[43mkwargs\u001b[49m\u001b[43m)\u001b[49m\n",
      "File \u001b[1;32m~\\AppData\\Local\\Packages\\PythonSoftwareFoundation.Python.3.11_qbz5n2kfra8p0\\LocalCache\\local-packages\\Python311\\site-packages\\pandas\\plotting\\_matplotlib\\__init__.py:71\u001b[0m, in \u001b[0;36mplot\u001b[1;34m(data, kind, **kwargs)\u001b[0m\n\u001b[0;32m     69\u001b[0m         kwargs[\u001b[38;5;124m\"\u001b[39m\u001b[38;5;124max\u001b[39m\u001b[38;5;124m\"\u001b[39m] \u001b[38;5;241m=\u001b[39m \u001b[38;5;28mgetattr\u001b[39m(ax, \u001b[38;5;124m\"\u001b[39m\u001b[38;5;124mleft_ax\u001b[39m\u001b[38;5;124m\"\u001b[39m, ax)\n\u001b[0;32m     70\u001b[0m plot_obj \u001b[38;5;241m=\u001b[39m PLOT_CLASSES[kind](data, \u001b[38;5;241m*\u001b[39m\u001b[38;5;241m*\u001b[39mkwargs)\n\u001b[1;32m---> 71\u001b[0m \u001b[43mplot_obj\u001b[49m\u001b[38;5;241;43m.\u001b[39;49m\u001b[43mgenerate\u001b[49m\u001b[43m(\u001b[49m\u001b[43m)\u001b[49m\n\u001b[0;32m     72\u001b[0m plot_obj\u001b[38;5;241m.\u001b[39mdraw()\n\u001b[0;32m     73\u001b[0m \u001b[38;5;28;01mreturn\u001b[39;00m plot_obj\u001b[38;5;241m.\u001b[39mresult\n",
      "File \u001b[1;32m~\\AppData\\Local\\Packages\\PythonSoftwareFoundation.Python.3.11_qbz5n2kfra8p0\\LocalCache\\local-packages\\Python311\\site-packages\\pandas\\plotting\\_matplotlib\\core.py:501\u001b[0m, in \u001b[0;36mMPLPlot.generate\u001b[1;34m(self)\u001b[0m\n\u001b[0;32m    499\u001b[0m \u001b[38;5;28mself\u001b[39m\u001b[38;5;241m.\u001b[39m_compute_plot_data()\n\u001b[0;32m    500\u001b[0m fig \u001b[38;5;241m=\u001b[39m \u001b[38;5;28mself\u001b[39m\u001b[38;5;241m.\u001b[39mfig\n\u001b[1;32m--> 501\u001b[0m \u001b[38;5;28;43mself\u001b[39;49m\u001b[38;5;241;43m.\u001b[39;49m\u001b[43m_make_plot\u001b[49m\u001b[43m(\u001b[49m\u001b[43mfig\u001b[49m\u001b[43m)\u001b[49m\n\u001b[0;32m    502\u001b[0m \u001b[38;5;28mself\u001b[39m\u001b[38;5;241m.\u001b[39m_add_table()\n\u001b[0;32m    503\u001b[0m \u001b[38;5;28mself\u001b[39m\u001b[38;5;241m.\u001b[39m_make_legend()\n",
      "File \u001b[1;32m~\\AppData\\Local\\Packages\\PythonSoftwareFoundation.Python.3.11_qbz5n2kfra8p0\\LocalCache\\local-packages\\Python311\\site-packages\\pandas\\plotting\\_matplotlib\\hist.py:154\u001b[0m, in \u001b[0;36mHistPlot._make_plot\u001b[1;34m(self, fig)\u001b[0m\n\u001b[0;32m    151\u001b[0m \u001b[38;5;28;01mif\u001b[39;00m style \u001b[38;5;129;01mis\u001b[39;00m \u001b[38;5;129;01mnot\u001b[39;00m \u001b[38;5;28;01mNone\u001b[39;00m:\n\u001b[0;32m    152\u001b[0m     kwds[\u001b[38;5;124m\"\u001b[39m\u001b[38;5;124mstyle\u001b[39m\u001b[38;5;124m\"\u001b[39m] \u001b[38;5;241m=\u001b[39m style\n\u001b[1;32m--> 154\u001b[0m \u001b[38;5;28;43mself\u001b[39;49m\u001b[38;5;241;43m.\u001b[39;49m\u001b[43m_make_plot_keywords\u001b[49m\u001b[43m(\u001b[49m\u001b[43mkwds\u001b[49m\u001b[43m,\u001b[49m\u001b[43m \u001b[49m\u001b[43my\u001b[49m\u001b[43m)\u001b[49m\n\u001b[0;32m    156\u001b[0m \u001b[38;5;66;03m# the bins is multi-dimension array now and each plot need only 1-d and\u001b[39;00m\n\u001b[0;32m    157\u001b[0m \u001b[38;5;66;03m# when by is applied, label should be columns that are grouped\u001b[39;00m\n\u001b[0;32m    158\u001b[0m \u001b[38;5;28;01mif\u001b[39;00m \u001b[38;5;28mself\u001b[39m\u001b[38;5;241m.\u001b[39mby \u001b[38;5;129;01mis\u001b[39;00m \u001b[38;5;129;01mnot\u001b[39;00m \u001b[38;5;28;01mNone\u001b[39;00m:\n",
      "File \u001b[1;32m~\\AppData\\Local\\Packages\\PythonSoftwareFoundation.Python.3.11_qbz5n2kfra8p0\\LocalCache\\local-packages\\Python311\\site-packages\\pandas\\plotting\\_matplotlib\\hist.py:287\u001b[0m, in \u001b[0;36mKdePlot._make_plot_keywords\u001b[1;34m(self, kwds, y)\u001b[0m\n\u001b[0;32m    285\u001b[0m \u001b[38;5;28;01mdef\u001b[39;00m \u001b[38;5;21m_make_plot_keywords\u001b[39m(\u001b[38;5;28mself\u001b[39m, kwds: \u001b[38;5;28mdict\u001b[39m[\u001b[38;5;28mstr\u001b[39m, Any], y: np\u001b[38;5;241m.\u001b[39mndarray) \u001b[38;5;241m-\u001b[39m\u001b[38;5;241m>\u001b[39m \u001b[38;5;28;01mNone\u001b[39;00m:\n\u001b[0;32m    286\u001b[0m     kwds[\u001b[38;5;124m\"\u001b[39m\u001b[38;5;124mbw_method\u001b[39m\u001b[38;5;124m\"\u001b[39m] \u001b[38;5;241m=\u001b[39m \u001b[38;5;28mself\u001b[39m\u001b[38;5;241m.\u001b[39mbw_method\n\u001b[1;32m--> 287\u001b[0m     kwds[\u001b[38;5;124m\"\u001b[39m\u001b[38;5;124mind\u001b[39m\u001b[38;5;124m\"\u001b[39m] \u001b[38;5;241m=\u001b[39m \u001b[38;5;28;43mtype\u001b[39;49m\u001b[43m(\u001b[49m\u001b[38;5;28;43mself\u001b[39;49m\u001b[43m)\u001b[49m\u001b[38;5;241;43m.\u001b[39;49m\u001b[43m_get_ind\u001b[49m\u001b[43m(\u001b[49m\u001b[43my\u001b[49m\u001b[43m,\u001b[49m\u001b[43m \u001b[49m\u001b[43mind\u001b[49m\u001b[38;5;241;43m=\u001b[39;49m\u001b[38;5;28;43mself\u001b[39;49m\u001b[38;5;241;43m.\u001b[39;49m\u001b[43mind\u001b[49m\u001b[43m)\u001b[49m\n",
      "File \u001b[1;32m~\\AppData\\Local\\Packages\\PythonSoftwareFoundation.Python.3.11_qbz5n2kfra8p0\\LocalCache\\local-packages\\Python311\\site-packages\\pandas\\plotting\\_matplotlib\\hist.py:248\u001b[0m, in \u001b[0;36mKdePlot._get_ind\u001b[1;34m(y, ind)\u001b[0m\n\u001b[0;32m    244\u001b[0m \u001b[38;5;129m@staticmethod\u001b[39m\n\u001b[0;32m    245\u001b[0m \u001b[38;5;28;01mdef\u001b[39;00m \u001b[38;5;21m_get_ind\u001b[39m(y: np\u001b[38;5;241m.\u001b[39mndarray, ind):\n\u001b[0;32m    246\u001b[0m     \u001b[38;5;28;01mif\u001b[39;00m ind \u001b[38;5;129;01mis\u001b[39;00m \u001b[38;5;28;01mNone\u001b[39;00m:\n\u001b[0;32m    247\u001b[0m         \u001b[38;5;66;03m# np.nanmax() and np.nanmin() ignores the missing values\u001b[39;00m\n\u001b[1;32m--> 248\u001b[0m         sample_range \u001b[38;5;241m=\u001b[39m \u001b[43mnp\u001b[49m\u001b[38;5;241;43m.\u001b[39;49m\u001b[43mnanmax\u001b[49m\u001b[43m(\u001b[49m\u001b[43my\u001b[49m\u001b[43m)\u001b[49m \u001b[38;5;241m-\u001b[39m np\u001b[38;5;241m.\u001b[39mnanmin(y)\n\u001b[0;32m    249\u001b[0m         ind \u001b[38;5;241m=\u001b[39m np\u001b[38;5;241m.\u001b[39mlinspace(\n\u001b[0;32m    250\u001b[0m             np\u001b[38;5;241m.\u001b[39mnanmin(y) \u001b[38;5;241m-\u001b[39m \u001b[38;5;241m0.5\u001b[39m \u001b[38;5;241m*\u001b[39m sample_range,\n\u001b[0;32m    251\u001b[0m             np\u001b[38;5;241m.\u001b[39mnanmax(y) \u001b[38;5;241m+\u001b[39m \u001b[38;5;241m0.5\u001b[39m \u001b[38;5;241m*\u001b[39m sample_range,\n\u001b[0;32m    252\u001b[0m             \u001b[38;5;241m1000\u001b[39m,\n\u001b[0;32m    253\u001b[0m         )\n\u001b[0;32m    254\u001b[0m     \u001b[38;5;28;01melif\u001b[39;00m is_integer(ind):\n",
      "File \u001b[1;32m~\\AppData\\Local\\Packages\\PythonSoftwareFoundation.Python.3.11_qbz5n2kfra8p0\\LocalCache\\local-packages\\Python311\\site-packages\\numpy\\lib\\nanfunctions.py:476\u001b[0m, in \u001b[0;36mnanmax\u001b[1;34m(a, axis, out, keepdims, initial, where)\u001b[0m\n\u001b[0;32m    471\u001b[0m     kwargs[\u001b[38;5;124m'\u001b[39m\u001b[38;5;124mwhere\u001b[39m\u001b[38;5;124m'\u001b[39m] \u001b[38;5;241m=\u001b[39m where\n\u001b[0;32m    473\u001b[0m \u001b[38;5;28;01mif\u001b[39;00m \u001b[38;5;28mtype\u001b[39m(a) \u001b[38;5;129;01mis\u001b[39;00m np\u001b[38;5;241m.\u001b[39mndarray \u001b[38;5;129;01mand\u001b[39;00m a\u001b[38;5;241m.\u001b[39mdtype \u001b[38;5;241m!=\u001b[39m np\u001b[38;5;241m.\u001b[39mobject_:\n\u001b[0;32m    474\u001b[0m     \u001b[38;5;66;03m# Fast, but not safe for subclasses of ndarray, or object arrays,\u001b[39;00m\n\u001b[0;32m    475\u001b[0m     \u001b[38;5;66;03m# which do not implement isnan (gh-9009), or fmax correctly (gh-8975)\u001b[39;00m\n\u001b[1;32m--> 476\u001b[0m     res \u001b[38;5;241m=\u001b[39m \u001b[43mnp\u001b[49m\u001b[38;5;241;43m.\u001b[39;49m\u001b[43mfmax\u001b[49m\u001b[38;5;241;43m.\u001b[39;49m\u001b[43mreduce\u001b[49m\u001b[43m(\u001b[49m\u001b[43ma\u001b[49m\u001b[43m,\u001b[49m\u001b[43m \u001b[49m\u001b[43maxis\u001b[49m\u001b[38;5;241;43m=\u001b[39;49m\u001b[43maxis\u001b[49m\u001b[43m,\u001b[49m\u001b[43m \u001b[49m\u001b[43mout\u001b[49m\u001b[38;5;241;43m=\u001b[39;49m\u001b[43mout\u001b[49m\u001b[43m,\u001b[49m\u001b[43m \u001b[49m\u001b[38;5;241;43m*\u001b[39;49m\u001b[38;5;241;43m*\u001b[39;49m\u001b[43mkwargs\u001b[49m\u001b[43m)\u001b[49m\n\u001b[0;32m    477\u001b[0m     \u001b[38;5;28;01mif\u001b[39;00m np\u001b[38;5;241m.\u001b[39misnan(res)\u001b[38;5;241m.\u001b[39many():\n\u001b[0;32m    478\u001b[0m         warnings\u001b[38;5;241m.\u001b[39mwarn(\u001b[38;5;124m\"\u001b[39m\u001b[38;5;124mAll-NaN slice encountered\u001b[39m\u001b[38;5;124m\"\u001b[39m, \u001b[38;5;167;01mRuntimeWarning\u001b[39;00m,\n\u001b[0;32m    479\u001b[0m                       stacklevel\u001b[38;5;241m=\u001b[39m\u001b[38;5;241m2\u001b[39m)\n",
      "\u001b[1;31mValueError\u001b[0m: zero-size array to reduction operation fmax which has no identity"
     ]
    },
    {
     "data": {
      "image/png": "[encoded data removed]",
      "text/plain": [
       "<Figure size 1000x600 with 1 Axes>"
      ]
     },
     "metadata": {},
     "output_type": "display_data"
    }
   ],
   "source": [
    "df = df[df['Gender'] != 'Other']\n",
    "df['Gender'].value_counts()\n",
    "\n",
    "# Separate the data by gender\n",
    "salaries_men = df[df['Gender'] == 'Male']['Salary']\n",
    "salaries_women = df[df['Gender'] == 'Female']['Salary']\n",
    "\n",
    "# Calculate the mean salaries\n",
    "mean_salary_men = salaries_men.mean()\n",
    "mean_salary_women = salaries_women.mean()\n",
    "\n",
    "# Create the plot\n",
    "plt.figure(figsize=(10, 6))\n",
    "salaries_men.plot(kind='density', label='Men', color='blue')\n",
    "salaries_women.plot(kind='density', label='Women', color='red')\n",
    "\n",
    "# Add vertical lines for the mean salaries\n",
    "plt.axvline(mean_salary_men, color='blue', linestyle='dashed', linewidth=2, label=f'Mean Salary Men: {mean_salary_men:.2f}')\n",
    "plt.axvline(mean_salary_women, color='red', linestyle='dashed', linewidth=2, label=f'Mean Salary Women: {mean_salary_women:.2f}')\n",
    "\n",
    "plt.title('Salary Distribution by Gender')\n",
    "plt.xlabel('Salary')\n",
    "plt.ylabel('Density')\n",
    "plt.legend()\n",
    "plt.show()"
   ]
  },
  {
   "cell_type": "markdown",
   "id": "4da68292456e5d86",
   "metadata": {},
   "source": [
    "Diffrence in mean salary for all jobs"
   ]
  },
  {
   "cell_type": "code",
   "execution_count": null,
   "id": "c8cd829f2d15f75f",
   "metadata": {
    "ExecuteTime": {
     "end_time": "2024-11-11T12:16:49.769273Z",
     "start_time": "2024-11-11T12:16:49.765031Z"
    }
   },
   "outputs": [
    {
     "data": {
      "text/plain": [
       "13500.872242613157"
      ]
     },
     "execution_count": 20,
     "metadata": {},
     "output_type": "execute_result"
    }
   ],
   "source": [
    "mean_salary_men-mean_salary_women"
   ]
  },
  {
   "cell_type": "markdown",
   "id": "4adf780c90ec449b",
   "metadata": {},
   "source": [
    "Diffrence in mean salary prediction for all jobs"
   ]
  },
  {
   "cell_type": "code",
   "execution_count": null,
   "id": "22d8f73aeb0a4319",
   "metadata": {
    "ExecuteTime": {
     "end_time": "2024-11-11T11:44:00.459333Z",
     "start_time": "2024-11-11T11:44:00.454422Z"
    }
   },
   "outputs": [
    {
     "data": {
      "text/plain": [
       "2335.3434690502727"
      ]
     },
     "execution_count": 17,
     "metadata": {},
     "output_type": "execute_result"
    }
   ],
   "source": [
    "model_all.predict(df)"
   ]
  },
  {
   "cell_type": "markdown",
   "id": "4eae3e99c1e2fc22",
   "metadata": {},
   "source": [
    "# Is Uni worth it?"
   ]
  },
  {
   "cell_type": "code",
   "execution_count": 28,
   "id": "91a5e8048ce83022",
   "metadata": {
    "ExecuteTime": {
     "end_time": "2024-11-11T11:47:01.451493Z",
     "start_time": "2024-11-11T11:47:01.449179Z"
    }
   },
   "outputs": [
    {
     "name": "stdout",
     "output_type": "stream",
     "text": [
      "        Age  Gender  Education Level          Job Title  Years of Experience  \\\n",
      "0 -0.890291       0                0  Software Engineer             0.083649   \n",
      "1 -0.890291       0                1  Software Engineer            -0.403232   \n",
      "2 -0.890291       0                2  Software Engineer            -0.727819   \n",
      "3 -0.890291       0                3  Software Engineer            -1.052406   \n",
      "4 -0.633844       1                1  Software Engineer            -0.727819   \n",
      "\n",
      "     Salary  \n",
      "0 -2.545575  \n",
      "1 -2.545575  \n",
      "2 -2.545575  \n",
      "3 -2.545575  \n",
      "4  0.308698  \n",
      "tensor([[ 1.8161],\n",
      "        [ 0.6215],\n",
      "        [-0.2560],\n",
      "        [-1.0331],\n",
      "        [-0.6991]])\n",
      "Datapoint 1: Predicted Salary = $213937.49\n",
      "Datapoint 2: Predicted Salary = $155341.11\n",
      "Datapoint 3: Predicted Salary = $112300.42\n",
      "Datapoint 4: Predicted Salary = $74186.37\n",
      "Datapoint 5: Predicted Salary = $90568.39\n"
     ]
    }
   ],
   "source": [
    "## The idea is to see if 4 years of experience is worth more than a Bachelor or 6 years more than a Master's or 10 years more than a PhD\n",
    "\n",
    "#make fake data for seeing if uni is worth it\n",
    "\n",
    "\n",
    "df_fake = pd.DataFrame([\n",
    "    [27, \"Male\", \"High School\", \"Software Engineer\", 9, 1],\n",
    "    [27, \"Male\", \"Bachelor's\", \"Software Engineer\",6 , 1],\n",
    "    [27, \"Male\", \"Master's\", \"Software Engineer\", 4, 1],\n",
    "    [27, \"Male\", \"PhD\", \"Software Engineer\", 2, 1],\n",
    "    [29,\"Female\",\"Bachelor's\",\"Software Engineer\",4,140000]\n",
    "], columns=[\"Age\", \"Gender\", \"Education Level\", \"Job Title\", \"Years of Experience\", \"Salary\"])\n",
    "\n",
    "\n",
    "\n",
    "# -----------NOT NECESSARY IF ALREADY DONE -------------\n",
    "# Encode 'Education Level' for simplicity\n",
    "education_mapping = {'High School': 0, 'Bachelor\\'s': 1, 'Master\\'s': 2, 'PhD': 3}\n",
    "df_fake['Education Level'] = df_fake['Education Level'].map(education_mapping).copy()\n",
    "\n",
    "# Encode 'Gender'\n",
    "gender_mapping = {'Male': 0, 'Female': 1}\n",
    "df_fake['Gender'] = df_fake['Gender'].map(gender_mapping).copy()\n",
    "\n",
    "\n",
    "# Scale 'Years of Experience', 'Age', and 'Salary' for stability\n",
    "scaler = joblib.load(\"C:\\Master\\ML_theory\\Github\\ml_project\\Salary new dataset\\scaler_preds\")\n",
    "df_fake[['Years of Experience', \"Salary\", 'Age']] = scaler.transform(df_fake[['Years of Experience', \"Salary\", 'Age']])\n",
    "\n",
    "print(df_fake.head())\n",
    "\n",
    "\n",
    "X_train = torch.tensor(df_fake[['Years of Experience', 'Education Level', 'Gender', 'Age']].values, dtype=torch.float32)\n",
    "\n",
    "model_all_gen_age.load_state_dict(torch.load(\"C:\\Master\\ML_theory\\Github\\ml_project\\Salary new dataset\\model_all_gen_age.pth\")) #load the model\n",
    "model_all_gen_age.eval()\n",
    "\n",
    "with torch.no_grad():\n",
    "    predictions = model_all_gen_age(X_train)\n",
    "\n",
    "print(predictions)\n",
    "\n",
    "predictions_np = predictions.numpy()\n",
    "\n",
    "dummy_array = np.zeros((len(predictions_np), 3))  # 3 columns for Years of Experience, Salary, Age\n",
    "dummy_array[:, 0] = df_fake['Years of Experience']  # Scaled Years of Experience\n",
    "dummy_array[:, 1] = predictions_np.flatten()  # Predictions (to be treated as Salary)\n",
    "dummy_array[:, 2] = df_fake['Age']  # Scaled Age\n",
    "\n",
    "# Inverse transform using the scaler\n",
    "real_salaries = scaler.inverse_transform(dummy_array)[:, 1]  # Extract only the Salary column\n",
    "\n",
    "# Print the real salaries\n",
    "for i, salary in enumerate(real_salaries):\n",
    "    print(f\"Datapoint {i+1}: Predicted Salary = ${salary:.2f}\")\n"
   ]
  },
  {
   "cell_type": "code",
   "execution_count": 23,
   "id": "c2782d75213a6626",
   "metadata": {},
   "outputs": [
    {
     "name": "stdout",
     "output_type": "stream",
     "text": [
      "tensor([[ 2.0894],\n",
      "        [ 1.5285],\n",
      "        [ 0.1004],\n",
      "        [-1.3419]])\n",
      "Datapoint 1: Predicted Salary = $211993.93\n",
      "Datapoint 2: Predicted Salary = $185075.86\n",
      "Datapoint 3: Predicted Salary = $116533.76\n",
      "Datapoint 4: Predicted Salary = $47307.40\n"
     ]
    }
   ],
   "source": [
    "#Other model\n",
    "## The idea is to see if 4 years of experience is worth more than a Bachelor or 6 years more than a Master's or 10 years more than a PhD\n",
    "\n",
    "#make fake data for seeing if uni is worth it\n",
    "\n",
    "\n",
    "df_fake = pd.DataFrame([\n",
    "    [27, \"Male\", \"High School\", \"Software Engineer\", 9, 1],\n",
    "    [27, \"Male\", \"Bachelor's\", \"Software Engineer\",6 , 1],\n",
    "    [27, \"Male\", \"Master's\", \"Software Engineer\", 4, 1],\n",
    "    [27, \"Male\", \"PhD\", \"Software Engineer\", 2, 1]\n",
    "], columns=[\"Age\", \"Gender\", \"Education Level\", \"Job Title\", \"Years of Experience\", \"Salary\"])\n",
    "\n",
    "\n",
    "\n",
    "# -----------NOT NECESSARY IF ALREADY DONE -------------\n",
    "# Encode 'Education Level' for simplicity\n",
    "education_mapping = {'High School': 0, 'Bachelor\\'s': 1, 'Master\\'s': 2, 'PhD': 3}\n",
    "df_fake['Education Level'] = df_fake['Education Level'].map(education_mapping).copy()\n",
    "\n",
    "# Encode 'Gender'\n",
    "gender_mapping = {'Male': 0, 'Female': 1}\n",
    "df_fake['Gender'] = df_fake['Gender'].map(gender_mapping).copy()\n",
    "\n",
    "\n",
    "# Scale 'Years of Experience', 'Age', and 'Salary' for stability\n",
    "scaler = joblib.load(\"C:\\Master\\ML_theory\\Github\\ml_project\\Salary new dataset\\scaler_only_se\")\n",
    "df_fake[['Years of Experience', \"Salary\", 'Age']] = scaler.transform(df_fake[['Years of Experience', \"Salary\", 'Age']])\n",
    "\n",
    "\n",
    "X_train = torch.tensor(df_fake[['Years of Experience', 'Education Level', 'Gender', 'Age']].values, dtype=torch.float32)\n",
    "\n",
    "model_SE_gen_age.load_state_dict(torch.load(\"C:\\Master\\ML_theory\\Github\\ml_project\\Salary new dataset\\model_SE_gen_age.pth\")) #load the model\n",
    "model_SE_gen_age.eval()\n",
    "\n",
    "with torch.no_grad():\n",
    "    predictions = model_SE_gen_age(X_train)\n",
    "\n",
    "print(predictions)\n",
    "\n",
    "predictions_np = predictions.numpy()\n",
    "\n",
    "dummy_array = np.zeros((len(predictions_np), 3))  # 3 columns for Years of Experience, Salary, Age\n",
    "dummy_array[:, 0] = df_fake['Years of Experience']  # Scaled Years of Experience\n",
    "dummy_array[:, 1] = predictions_np.flatten()  # Predictions (to be treated as Salary)\n",
    "dummy_array[:, 2] = df_fake['Age']  # Scaled Age\n",
    "\n",
    "# Inverse transform using the scaler\n",
    "real_salaries = scaler.inverse_transform(dummy_array)[:, 1]  # Extract only the Salary column\n",
    "\n",
    "# Print the real salaries\n",
    "for i, salary in enumerate(real_salaries):\n",
    "    print(f\"Datapoint {i+1}: Predicted Salary = ${salary:.2f}\")\n"
   ]
  }
 ],
 "metadata": {
  "kernelspec": {
   "display_name": "Python 3",
   "language": "python",
   "name": "python3"
  },
  "language_info": {
   "codemirror_mode": {
    "name": "ipython",
    "version": 3
   },
   "file_extension": ".py",
   "mimetype": "text/x-python",
   "name": "python",
   "nbconvert_exporter": "python",
   "pygments_lexer": "ipython3",
   "version": "3.11.9"
  }
 },
 "nbformat": 4,
 "nbformat_minor": 5
}
