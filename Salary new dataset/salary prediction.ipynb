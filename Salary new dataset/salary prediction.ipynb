{
 "cells": [
  {
   "cell_type": "code",
   "execution_count": 2,
   "id": "initial_id",
   "metadata": {
    "ExecuteTime": {
     "end_time": "2024-11-06T09:41:52.748988Z",
     "start_time": "2024-11-06T09:41:52.736149Z"
    },
    "collapsed": true
   },
   "outputs": [
    {
     "data": {
      "text/html": [
       "<div>\n",
       "<style scoped>\n",
       "    .dataframe tbody tr th:only-of-type {\n",
       "        vertical-align: middle;\n",
       "    }\n",
       "\n",
       "    .dataframe tbody tr th {\n",
       "        vertical-align: top;\n",
       "    }\n",
       "\n",
       "    .dataframe thead th {\n",
       "        text-align: right;\n",
       "    }\n",
       "</style>\n",
       "<table border=\"1\" class=\"dataframe\">\n",
       "  <thead>\n",
       "    <tr style=\"text-align: right;\">\n",
       "      <th></th>\n",
       "      <th>Age</th>\n",
       "      <th>Gender</th>\n",
       "      <th>Education Level</th>\n",
       "      <th>Job Title</th>\n",
       "      <th>Years of Experience</th>\n",
       "      <th>Salary</th>\n",
       "    </tr>\n",
       "  </thead>\n",
       "  <tbody>\n",
       "    <tr>\n",
       "      <th>0</th>\n",
       "      <td>32.0</td>\n",
       "      <td>Male</td>\n",
       "      <td>Bachelor's</td>\n",
       "      <td>Software Engineer</td>\n",
       "      <td>5.0</td>\n",
       "      <td>90000.0</td>\n",
       "    </tr>\n",
       "    <tr>\n",
       "      <th>1</th>\n",
       "      <td>28.0</td>\n",
       "      <td>Female</td>\n",
       "      <td>Master's</td>\n",
       "      <td>Data Analyst</td>\n",
       "      <td>3.0</td>\n",
       "      <td>65000.0</td>\n",
       "    </tr>\n",
       "    <tr>\n",
       "      <th>2</th>\n",
       "      <td>45.0</td>\n",
       "      <td>Male</td>\n",
       "      <td>PhD</td>\n",
       "      <td>Senior Manager</td>\n",
       "      <td>15.0</td>\n",
       "      <td>150000.0</td>\n",
       "    </tr>\n",
       "    <tr>\n",
       "      <th>3</th>\n",
       "      <td>36.0</td>\n",
       "      <td>Female</td>\n",
       "      <td>Bachelor's</td>\n",
       "      <td>Sales Associate</td>\n",
       "      <td>7.0</td>\n",
       "      <td>60000.0</td>\n",
       "    </tr>\n",
       "    <tr>\n",
       "      <th>4</th>\n",
       "      <td>52.0</td>\n",
       "      <td>Male</td>\n",
       "      <td>Master's</td>\n",
       "      <td>Director</td>\n",
       "      <td>20.0</td>\n",
       "      <td>200000.0</td>\n",
       "    </tr>\n",
       "  </tbody>\n",
       "</table>\n",
       "</div>"
      ],
      "text/plain": [
       "    Age  Gender Education Level          Job Title  Years of Experience  \\\n",
       "0  32.0    Male      Bachelor's  Software Engineer                  5.0   \n",
       "1  28.0  Female        Master's       Data Analyst                  3.0   \n",
       "2  45.0    Male             PhD     Senior Manager                 15.0   \n",
       "3  36.0  Female      Bachelor's    Sales Associate                  7.0   \n",
       "4  52.0    Male        Master's           Director                 20.0   \n",
       "\n",
       "     Salary  \n",
       "0   90000.0  \n",
       "1   65000.0  \n",
       "2  150000.0  \n",
       "3   60000.0  \n",
       "4  200000.0  "
      ]
     },
     "execution_count": 2,
     "metadata": {},
     "output_type": "execute_result"
    }
   ],
   "source": [
    "import pandas as pd\n",
    "import os\n",
    "import numpy as np\n",
    "import matplotlib.pyplot as plt\n",
    "\n",
    "path = 'Salary_Data.csv'\n",
    "\n",
    "df = pd.read_csv(path)\n",
    "df.head()"
   ]
  },
  {
   "cell_type": "markdown",
   "id": "f80b76410248ec02",
   "metadata": {},
   "source": [
    "# Data Cleaning"
   ]
  },
  {
   "cell_type": "code",
   "execution_count": 3,
   "id": "3c0a0fc9cb233f41",
   "metadata": {
    "ExecuteTime": {
     "end_time": "2024-11-06T09:41:53.481235Z",
     "start_time": "2024-11-06T09:41:53.477903Z"
    }
   },
   "outputs": [
    {
     "data": {
      "text/plain": [
       "Education Level\n",
       "Bachelor's Degree    2267\n",
       "Master's Degree      1573\n",
       "PhD                  1368\n",
       "Bachelor's            756\n",
       "High School           448\n",
       "Master's              288\n",
       "phD                     1\n",
       "Name: count, dtype: int64"
      ]
     },
     "execution_count": 3,
     "metadata": {},
     "output_type": "execute_result"
    }
   ],
   "source": [
    "df['Education Level'].value_counts()"
   ]
  },
  {
   "cell_type": "code",
   "execution_count": 4,
   "id": "41cbf51218714a9a",
   "metadata": {
    "ExecuteTime": {
     "end_time": "2024-11-06T09:41:53.779587Z",
     "start_time": "2024-11-06T09:41:53.777423Z"
    }
   },
   "outputs": [
    {
     "name": "stdout",
     "output_type": "stream",
     "text": [
      "Index(['Age', 'Gender', 'Education Level', 'Job Title', 'Years of Experience',\n",
      "       'Salary'],\n",
      "      dtype='object')\n",
      "<class 'numpy.float64'>\n",
      "<class 'numpy.float64'>\n"
     ]
    }
   ],
   "source": [
    "print(df.columns)\n",
    "print(type(df.Salary[0]))\n",
    "print(type(df['Years of Experience'][0]))"
   ]
  },
  {
   "cell_type": "code",
   "execution_count": 5,
   "id": "60ce7d500718aaca",
   "metadata": {
    "ExecuteTime": {
     "end_time": "2024-11-06T09:41:54.313061Z",
     "start_time": "2024-11-06T09:41:54.307317Z"
    }
   },
   "outputs": [
    {
     "data": {
      "text/plain": [
       "Education Level\n",
       "Bachelor's     3023\n",
       "Master's       1861\n",
       "PhD            1369\n",
       "High School     448\n",
       "Name: count, dtype: int64"
      ]
     },
     "execution_count": 5,
     "metadata": {},
     "output_type": "execute_result"
    }
   ],
   "source": [
    "# Combining the education level Bachelor's degree and Bachelor's\n",
    "df['Education Level'] = df['Education Level'].replace(\"Bachelor's Degree\", \"Bachelor's\")\n",
    "df['Education Level'] = df['Education Level'].replace(\"phD\", \"PhD\")\n",
    "df['Education Level'] = df['Education Level'].replace(\"Master's Degree\", \"Master's\")\n",
    "\n",
    "df['Education Level'].value_counts()"
   ]
  },
  {
   "cell_type": "code",
   "execution_count": 6,
   "id": "701d3c325987af11",
   "metadata": {
    "ExecuteTime": {
     "end_time": "2024-11-06T09:41:54.789303Z",
     "start_time": "2024-11-06T09:41:54.730792Z"
    }
   },
   "outputs": [
    {
     "data": {
      "text/plain": [
       "Text(0, 0.5, 'Salary')"
      ]
     },
     "execution_count": 6,
     "metadata": {},
     "output_type": "execute_result"
    },
    {
     "data": {
      "image/png": "[encoded data removed]",
      "text/plain": [
       "<Figure size 640x480 with 1 Axes>"
      ]
     },
     "metadata": {},
     "output_type": "display_data"
    }
   ],
   "source": [
    "plt.scatter(df['Years of Experience'], df['Salary'])\n",
    "plt.xlabel('Years of Experience')\n",
    "plt.ylabel('Salary')"
   ]
  },
  {
   "cell_type": "code",
   "execution_count": 7,
   "id": "de4f45023ef2276b",
   "metadata": {
    "ExecuteTime": {
     "end_time": "2024-11-06T09:41:55.427394Z",
     "start_time": "2024-11-06T09:41:55.367180Z"
    }
   },
   "outputs": [
    {
     "name": "stderr",
     "output_type": "stream",
     "text": [
      "C:\\Users\\carlo\\AppData\\Local\\Temp\\ipykernel_8476\\2615817528.py:3: FutureWarning: The default of observed=False is deprecated and will be changed to True in a future version of pandas. Pass observed=False to retain current behavior or observed=True to adopt the future default and silence this warning.\n",
      "  df.groupby('Education Level')['Salary'].mean().plot(kind='bar')\n"
     ]
    },
    {
     "data": {
      "text/plain": [
       "<Axes: xlabel='Education Level'>"
      ]
     },
     "execution_count": 7,
     "metadata": {},
     "output_type": "execute_result"
    },
    {
     "data": {
      "image/png": "[encoded data removed]",
      "text/plain": [
       "<Figure size 640x480 with 1 Axes>"
      ]
     },
     "metadata": {},
     "output_type": "display_data"
    }
   ],
   "source": [
    "df['Education Level'] = pd.Categorical(df['Education Level'], categories=['High School', 'Bachelor\\'s', 'Master\\'s', 'PhD'], ordered=True)\n",
    "\n",
    "df.groupby('Education Level')['Salary'].mean().plot(kind='bar')"
   ]
  },
  {
   "cell_type": "code",
   "execution_count": 8,
   "id": "92e263d7eaaf3347",
   "metadata": {
    "ExecuteTime": {
     "end_time": "2024-11-06T09:41:56.431835Z",
     "start_time": "2024-11-06T09:41:56.426964Z"
    }
   },
   "outputs": [
    {
     "data": {
      "text/plain": [
       "Job Title\n",
       "Software Engineer             518\n",
       "Data Scientist                453\n",
       "Software Engineer Manager     376\n",
       "Data Analyst                  363\n",
       "Senior Project Engineer       318\n",
       "                             ... \n",
       "Account Manager                 1\n",
       "Help Desk Analyst               1\n",
       "Senior Training Specialist      1\n",
       "Junior Web Designer             1\n",
       "Supply Chain Analyst            1\n",
       "Name: count, Length: 193, dtype: int64"
      ]
     },
     "execution_count": 8,
     "metadata": {},
     "output_type": "execute_result"
    }
   ],
   "source": [
    "# Job Title with the most data\n",
    "df['Job Title'].value_counts()"
   ]
  },
  {
   "cell_type": "markdown",
   "id": "dd2660f746251aa6",
   "metadata": {},
   "source": [
    "# Define Model"
   ]
  },
  {
   "cell_type": "code",
   "execution_count": 9,
   "id": "f4afc18607fe7674",
   "metadata": {
    "ExecuteTime": {
     "end_time": "2024-11-06T09:43:12.778233Z",
     "start_time": "2024-11-06T09:43:12.774601Z"
    }
   },
   "outputs": [],
   "source": [
    "import torch.nn as nn\n",
    "class RegressionModel(nn.Module):\n",
    "    def __init__(self, input_dim, hidden_dim, output_dim):\n",
    "        super(RegressionModel, self).__init__()\n",
    "        self.layer1 = nn.Linear(input_dim, hidden_dim)\n",
    "        self.activation1 = nn.ReLU()\n",
    "        self.layer2 = nn.Linear(hidden_dim, output_dim)\n",
    "        # self.activation2 = nn.ReLU()\n",
    "        # self.layer3 = nn.Linear(hidden_dim, output_dim)\n",
    "        \n",
    "    def forward(self, x):\n",
    "        x = self.layer1(x)\n",
    "        x = self.activation1(x)\n",
    "        x = self.layer2(x)\n",
    "        # x = self.activation2(x)\n",
    "        # return self.layer3(x)\n",
    "        return x"
   ]
  },
  {
   "cell_type": "markdown",
   "id": "9279a93b50e3f837",
   "metadata": {},
   "source": [
    "# Training"
   ]
  },
  {
   "cell_type": "code",
   "execution_count": 10,
   "id": "e98aaa0c13a97acb",
   "metadata": {
    "ExecuteTime": {
     "end_time": "2024-11-06T10:29:19.312136Z",
     "start_time": "2024-11-06T10:29:17.320599Z"
    }
   },
   "outputs": [
    {
     "name": "stdout",
     "output_type": "stream",
     "text": [
      "Epoch 0 - Train Loss: 1.1116820573806763 | Validation Loss: 1.3179352283477783\n",
      "Epoch 100 - Train Loss: 0.3511039912700653 | Validation Loss: 0.34240108728408813\n",
      "Epoch 200 - Train Loss: 0.33878982067108154 | Validation Loss: 0.3237892687320709\n",
      "Epoch 300 - Train Loss: 0.33157384395599365 | Validation Loss: 0.31614458560943604\n",
      "Epoch 400 - Train Loss: 0.3270670473575592 | Validation Loss: 0.31388190388679504\n",
      "Epoch 500 - Train Loss: 0.3235355615615845 | Validation Loss: 0.31257516145706177\n",
      "Epoch 600 - Train Loss: 0.32022953033447266 | Validation Loss: 0.3114451467990875\n",
      "Epoch 700 - Train Loss: 0.3169897198677063 | Validation Loss: 0.31022804975509644\n",
      "Epoch 800 - Train Loss: 0.31393054127693176 | Validation Loss: 0.30935537815093994\n",
      "Epoch 900 - Train Loss: 0.31124305725097656 | Validation Loss: 0.3085663914680481\n",
      "Epoch 1000 - Train Loss: 0.3088611662387848 | Validation Loss: 0.30819302797317505\n",
      "Epoch 1100 - Train Loss: 0.30681055784225464 | Validation Loss: 0.3078269064426422\n",
      "Epoch 1200 - Train Loss: 0.3050847053527832 | Validation Loss: 0.30752986669540405\n",
      "Epoch 1300 - Train Loss: 0.30375203490257263 | Validation Loss: 0.3067699372768402\n",
      "Epoch 1400 - Train Loss: 0.30279895663261414 | Validation Loss: 0.3061246871948242\n",
      "Epoch 1500 - Train Loss: 0.3021025061607361 | Validation Loss: 0.3054042458534241\n",
      "Epoch 1600 - Train Loss: 0.3015986680984497 | Validation Loss: 0.3048822283744812\n",
      "Epoch 1700 - Train Loss: 0.30121690034866333 | Validation Loss: 0.3043469786643982\n",
      "Epoch 1800 - Train Loss: 0.30090442299842834 | Validation Loss: 0.3040975034236908\n",
      "Epoch 1900 - Train Loss: 0.300636887550354 | Validation Loss: 0.30385226011276245\n",
      "Epoch 2000 - Train Loss: 0.30040091276168823 | Validation Loss: 0.3035713732242584\n",
      "Epoch 2100 - Train Loss: 0.3001982867717743 | Validation Loss: 0.3033834993839264\n",
      "Epoch 2200 - Train Loss: 0.30002865195274353 | Validation Loss: 0.3031913936138153\n",
      "Epoch 2300 - Train Loss: 0.29987984895706177 | Validation Loss: 0.30289047956466675\n",
      "Epoch 2400 - Train Loss: 0.2997501790523529 | Validation Loss: 0.3026082515716553\n",
      "Epoch 2500 - Train Loss: 0.29963716864585876 | Validation Loss: 0.3023865818977356\n",
      "Epoch 2600 - Train Loss: 0.299540251493454 | Validation Loss: 0.30216893553733826\n",
      "Epoch 2700 - Train Loss: 0.2994607985019684 | Validation Loss: 0.3020077049732208\n",
      "Epoch 2800 - Train Loss: 0.2993936836719513 | Validation Loss: 0.3018971085548401\n",
      "Epoch 2900 - Train Loss: 0.2993394434452057 | Validation Loss: 0.3017893135547638\n",
      "Epoch 3000 - Train Loss: 0.29929888248443604 | Validation Loss: 0.3016553819179535\n",
      "Epoch 3100 - Train Loss: 0.2992660701274872 | Validation Loss: 0.30155524611473083\n",
      "Epoch 3200 - Train Loss: 0.29923880100250244 | Validation Loss: 0.30155426263809204\n",
      "Epoch 3300 - Train Loss: 0.2992161810398102 | Validation Loss: 0.3015192449092865\n",
      "Epoch 3400 - Train Loss: 0.29919740557670593 | Validation Loss: 0.30152973532676697\n",
      "Epoch 3500 - Train Loss: 0.2991824746131897 | Validation Loss: 0.3014805018901825\n",
      "Epoch 3600 - Train Loss: 0.29917111992836 | Validation Loss: 0.3014768958091736\n",
      "Epoch 3700 - Train Loss: 0.29916203022003174 | Validation Loss: 0.301457941532135\n",
      "Epoch 3800 - Train Loss: 0.299154669046402 | Validation Loss: 0.30146342515945435\n",
      "Epoch 3900 - Train Loss: 0.29914888739585876 | Validation Loss: 0.30145543813705444\n",
      "Epoch 4000 - Train Loss: 0.2991442084312439 | Validation Loss: 0.3014495074748993\n",
      "Epoch 4100 - Train Loss: 0.29914048314094543 | Validation Loss: 0.3014538884162903\n",
      "Epoch 4200 - Train Loss: 0.2991376221179962 | Validation Loss: 0.30142730474472046\n",
      "Epoch 4300 - Train Loss: 0.29913529753685 | Validation Loss: 0.301421582698822\n",
      "Epoch 4400 - Train Loss: 0.2991333305835724 | Validation Loss: 0.3014434278011322\n",
      "Epoch 4500 - Train Loss: 0.29913195967674255 | Validation Loss: 0.30142202973365784\n",
      "Epoch 4600 - Train Loss: 0.2991308569908142 | Validation Loss: 0.3014553189277649\n",
      "Epoch 4700 - Train Loss: 0.2991299331188202 | Validation Loss: 0.30142560601234436\n",
      "Epoch 4800 - Train Loss: 0.2991293966770172 | Validation Loss: 0.301422119140625\n",
      "Epoch 4900 - Train Loss: 0.29912886023521423 | Validation Loss: 0.301410436630249\n",
      "Epoch 5000 - Train Loss: 0.29912829399108887 | Validation Loss: 0.3014061152935028\n",
      "Epoch 5100 - Train Loss: 0.2991275489330292 | Validation Loss: 0.3013561964035034\n",
      "Epoch 5200 - Train Loss: 0.2991270422935486 | Validation Loss: 0.30137622356414795\n",
      "Epoch 5300 - Train Loss: 0.2991267144680023 | Validation Loss: 0.30138811469078064\n",
      "Epoch 5400 - Train Loss: 0.2991267740726471 | Validation Loss: 0.3013831079006195\n",
      "Epoch 5500 - Train Loss: 0.2991267740726471 | Validation Loss: 0.3013901114463806\n",
      "Epoch 5600 - Train Loss: 0.29912689328193665 | Validation Loss: 0.301393061876297\n",
      "Epoch 5700 - Train Loss: 0.29912734031677246 | Validation Loss: 0.30141857266426086\n",
      "Epoch 5800 - Train Loss: 0.2991273105144501 | Validation Loss: 0.3013577163219452\n",
      "Epoch 5900 - Train Loss: 0.29912781715393066 | Validation Loss: 0.3013561964035034\n",
      "Epoch 6000 - Train Loss: 0.29912829399108887 | Validation Loss: 0.3013300895690918\n",
      "Epoch 6100 - Train Loss: 0.2991289794445038 | Validation Loss: 0.30136027932167053\n",
      "Epoch 6200 - Train Loss: 0.2991296052932739 | Validation Loss: 0.3014076054096222\n",
      "Epoch 6300 - Train Loss: 0.29912999272346497 | Validation Loss: 0.3013700842857361\n",
      "Epoch 6400 - Train Loss: 0.29913076758384705 | Validation Loss: 0.3013754189014435\n",
      "Epoch 6500 - Train Loss: 0.29913148283958435 | Validation Loss: 0.3014064133167267\n",
      "Epoch 6600 - Train Loss: 0.2991321384906769 | Validation Loss: 0.3014217019081116\n",
      "Epoch 6700 - Train Loss: 0.2991334795951843 | Validation Loss: 0.3013097941875458\n",
      "Epoch 6800 - Train Loss: 0.2991337478160858 | Validation Loss: 0.3014131188392639\n",
      "Epoch 6900 - Train Loss: 0.29913434386253357 | Validation Loss: 0.3014158606529236\n",
      "Epoch 7000 - Train Loss: 0.299134761095047 | Validation Loss: 0.30144521594047546\n",
      "Epoch 7100 - Train Loss: 0.2991349697113037 | Validation Loss: 0.3014476001262665\n",
      "Epoch 7200 - Train Loss: 0.2991352081298828 | Validation Loss: 0.3014903664588928\n",
      "Epoch 7300 - Train Loss: 0.2991357743740082 | Validation Loss: 0.30144691467285156\n",
      "Epoch 7400 - Train Loss: 0.29913654923439026 | Validation Loss: 0.301563560962677\n",
      "Epoch 7500 - Train Loss: 0.299136757850647 | Validation Loss: 0.3015587329864502\n",
      "Epoch 7600 - Train Loss: 0.29913854598999023 | Validation Loss: 0.301444947719574\n",
      "Epoch 7700 - Train Loss: 0.29913803935050964 | Validation Loss: 0.3015095591545105\n",
      "Epoch 7800 - Train Loss: 0.29913899302482605 | Validation Loss: 0.30154138803482056\n",
      "Epoch 7900 - Train Loss: 0.29913949966430664 | Validation Loss: 0.3015857934951782\n",
      "Epoch 8000 - Train Loss: 0.29914021492004395 | Validation Loss: 0.30159449577331543\n",
      "Epoch 8100 - Train Loss: 0.2991408109664917 | Validation Loss: 0.3016001582145691\n",
      "Epoch 8200 - Train Loss: 0.2991413176059723 | Validation Loss: 0.3016086220741272\n",
      "Epoch 8300 - Train Loss: 0.299142062664032 | Validation Loss: 0.3016064465045929\n",
      "Epoch 8400 - Train Loss: 0.29914408922195435 | Validation Loss: 0.3016921877861023\n",
      "Epoch 8500 - Train Loss: 0.29914411902427673 | Validation Loss: 0.30173179507255554\n",
      "Epoch 8600 - Train Loss: 0.29914391040802 | Validation Loss: 0.30165642499923706\n",
      "Epoch 8700 - Train Loss: 0.29914411902427673 | Validation Loss: 0.30166298151016235\n",
      "Epoch 8800 - Train Loss: 0.29914504289627075 | Validation Loss: 0.3016783595085144\n",
      "Epoch 8900 - Train Loss: 0.29914525151252747 | Validation Loss: 0.3016860783100128\n",
      "Epoch 9000 - Train Loss: 0.2991463840007782 | Validation Loss: 0.30171462893486023\n",
      "Epoch 9100 - Train Loss: 0.2991463243961334 | Validation Loss: 0.30156004428863525\n",
      "Epoch 9200 - Train Loss: 0.2991471290588379 | Validation Loss: 0.3017001748085022\n",
      "Epoch 9300 - Train Loss: 0.2991470694541931 | Validation Loss: 0.30165988206863403\n",
      "Epoch 9400 - Train Loss: 0.2991480529308319 | Validation Loss: 0.3016871511936188\n",
      "Epoch 9500 - Train Loss: 0.2991477847099304 | Validation Loss: 0.30170121788978577\n",
      "Epoch 9600 - Train Loss: 0.2991485595703125 | Validation Loss: 0.30159512162208557\n",
      "Epoch 9700 - Train Loss: 0.2991483509540558 | Validation Loss: 0.30171602964401245\n",
      "Epoch 9800 - Train Loss: 0.2991487979888916 | Validation Loss: 0.3016473352909088\n",
      "Epoch 9900 - Train Loss: 0.2991488575935364 | Validation Loss: 0.30166542530059814\n"
     ]
    },
    {
     "data": {
      "image/png": "[encoded data removed]",
      "text/plain": [
       "<Figure size 640x480 with 1 Axes>"
      ]
     },
     "metadata": {},
     "output_type": "display_data"
    },
    {
     "name": "stdout",
     "output_type": "stream",
     "text": [
      "Test Loss: 0.29574745893478394\n"
     ]
    }
   ],
   "source": [
    "import torch\n",
    "import torch.nn as nn\n",
    "import matplotlib.pyplot as plt\n",
    "from sklearn.preprocessing import StandardScaler, LabelEncoder\n",
    "from sklearn.model_selection import train_test_split\n",
    "\n",
    "# Filter data for a specific job title\n",
    "job = 'Software Engineer'\n",
    "df_job = df[df['Job Title'] == job]\n",
    "df_job = df_job.dropna(subset=['Salary', 'Years of Experience', 'Education Level'])\n",
    "\n",
    "# Encode 'Education Level' for simplicity\n",
    "education_mapping = {'High School': 0, 'Bachelor\\'s': 1, 'Master\\'s': 2, 'PhD': 3}\n",
    "df_job['Education Level'] = df_job['Education Level'].map(education_mapping)\n",
    "\n",
    "# Split the data\n",
    "train, test = train_test_split(df_job, test_size=0.3, random_state=42)\n",
    "train, val = train_test_split(train, test_size=0.11, random_state=42)\n",
    "\n",
    "# Scale 'Years of Experience' and 'Salary' for stability\n",
    "scaler = StandardScaler()\n",
    "train[['Years of Experience', 'Salary']] = scaler.fit_transform(train[['Years of Experience', 'Salary']])\n",
    "val[['Years of Experience', 'Salary']] = scaler.transform(val[['Years of Experience', 'Salary']])\n",
    "test[['Years of Experience', 'Salary']] = scaler.transform(test[['Years of Experience', 'Salary']])\n",
    "\n",
    "# Define the model\n",
    "class RegressionModel(nn.Module):\n",
    "    def __init__(self, input_dim, hidden_dim, output_dim):\n",
    "        super(RegressionModel, self).__init__()\n",
    "        self.layer1 = nn.Linear(input_dim, hidden_dim)\n",
    "        self.activation1 = nn.ReLU()\n",
    "        self.layer2 = nn.Linear(hidden_dim, output_dim)\n",
    "        \n",
    "    def forward(self, x):\n",
    "        x = self.layer1(x)\n",
    "        x = self.activation1(x)\n",
    "        x = self.layer2(x)\n",
    "        return x\n",
    "\n",
    "# Set up model parameters\n",
    "input_dim = 2  # Years of Experience, Education Level\n",
    "hidden_dim = 64\n",
    "output_dim = 1\n",
    "model = RegressionModel(input_dim, hidden_dim, output_dim)\n",
    "\n",
    "criterion = nn.MSELoss()\n",
    "optimizer = torch.optim.Adam(model.parameters(), lr=0.001, weight_decay=1e-4)  # Add weight decay for L2 regularization\n",
    "\n",
    "# Prepare data for PyTorch\n",
    "X_train = torch.tensor(train[['Years of Experience', 'Education Level']].values, dtype=torch.float32)\n",
    "y_train = torch.tensor(train['Salary'].values, dtype=torch.float32).view(-1, 1)\n",
    "X_val = torch.tensor(val[['Years of Experience', 'Education Level']].values, dtype=torch.float32)\n",
    "y_val = torch.tensor(val['Salary'].values, dtype=torch.float32).view(-1, 1)\n",
    "X_test = torch.tensor(test[['Years of Experience', 'Education Level']].values, dtype=torch.float32)\n",
    "y_test = torch.tensor(test['Salary'].values, dtype=torch.float32).view(-1, 1)\n",
    "\n",
    "# Training loop\n",
    "train_losses, val_losses = [], []\n",
    "for epoch in range(10000):\n",
    "    model.train()\n",
    "    optimizer.zero_grad()\n",
    "    y_pred = model(X_train)\n",
    "    train_loss = criterion(y_pred, y_train)\n",
    "    train_loss.backward()\n",
    "    optimizer.step()\n",
    "    train_losses.append(train_loss.item())\n",
    "    \n",
    "    # Validation loss\n",
    "    model.eval()\n",
    "    with torch.no_grad():\n",
    "        y_val_pred = model(X_val)\n",
    "        val_loss = criterion(y_val_pred, y_val)\n",
    "        val_losses.append(val_loss.item())\n",
    "        \n",
    "    # Print progress every 100 epochs\n",
    "    if epoch % 100 == 0:\n",
    "        print(f'Epoch {epoch} - Train Loss: {train_loss.item()} | Validation Loss: {val_loss.item()}')\n",
    "\n",
    "# Plot training and validation losses\n",
    "plt.plot(train_losses, label='Training Loss')\n",
    "plt.plot(val_losses, label='Validation Loss')\n",
    "plt.xlabel('Epochs')\n",
    "plt.ylabel('Loss')\n",
    "plt.legend()\n",
    "plt.show()\n",
    "\n",
    "# Evaluate on test set\n",
    "model.eval()\n",
    "with torch.no_grad():\n",
    "    y_test_pred = model(X_test)\n",
    "    test_loss = criterion(y_test_pred, y_test)\n",
    "    print(f'Test Loss: {test_loss.item()}')\n",
    "\n",
    "# Inverse transform predictions back to original salary scale\n",
    "y_test_pred_unscaled = scaler.inverse_transform(\n",
    "    torch.cat((X_test[:, 0].unsqueeze(1), y_test_pred), dim=1))[:, 1]"
   ]
  },
  {
   "cell_type": "markdown",
   "id": "e8d6a7dc729ab41a",
   "metadata": {},
   "source": [
    "# Including Gender & Age"
   ]
  },
  {
   "cell_type": "code",
   "execution_count": 25,
   "id": "138b0eeed944c27e",
   "metadata": {
    "ExecuteTime": {
     "end_time": "2024-11-06T10:29:31.343690Z",
     "start_time": "2024-11-06T10:29:29.344081Z"
    }
   },
   "outputs": [
    {
     "name": "stdout",
     "output_type": "stream",
     "text": [
      "Epoch 0 - Train Loss: 0.9073036313056946 | Validation Loss: 0.9484349489212036\n",
      "Epoch 100 - Train Loss: 0.35655906796455383 | Validation Loss: 0.35971182584762573\n",
      "Epoch 200 - Train Loss: 0.228314608335495 | Validation Loss: 0.22320465743541718\n",
      "Epoch 300 - Train Loss: 0.18994425237178802 | Validation Loss: 0.18345843255519867\n",
      "Epoch 400 - Train Loss: 0.16451190412044525 | Validation Loss: 0.15716075897216797\n",
      "Epoch 500 - Train Loss: 0.14427852630615234 | Validation Loss: 0.13626888394355774\n",
      "Epoch 600 - Train Loss: 0.1294478476047516 | Validation Loss: 0.12299863249063492\n",
      "Epoch 700 - Train Loss: 0.11761825531721115 | Validation Loss: 0.11528114974498749\n",
      "Epoch 800 - Train Loss: 0.10868217051029205 | Validation Loss: 0.11038240045309067\n",
      "Epoch 900 - Train Loss: 0.101045623421669 | Validation Loss: 0.1052987203001976\n",
      "Epoch 1000 - Train Loss: 0.09243326634168625 | Validation Loss: 0.09694380313158035\n",
      "Epoch 1100 - Train Loss: 0.08387100696563721 | Validation Loss: 0.09043365716934204\n",
      "Epoch 1200 - Train Loss: 0.07773169875144958 | Validation Loss: 0.08692760765552521\n",
      "Epoch 1300 - Train Loss: 0.07223733514547348 | Validation Loss: 0.08306939899921417\n",
      "Epoch 1400 - Train Loss: 0.0682077407836914 | Validation Loss: 0.08065547049045563\n",
      "Epoch 1500 - Train Loss: 0.0648241639137268 | Validation Loss: 0.07876443862915039\n",
      "Epoch 1600 - Train Loss: 0.06249977648258209 | Validation Loss: 0.07691124081611633\n",
      "Epoch 1700 - Train Loss: 0.06060943752527237 | Validation Loss: 0.07486319541931152\n",
      "Epoch 1800 - Train Loss: 0.05903296172618866 | Validation Loss: 0.07323689758777618\n",
      "Epoch 1900 - Train Loss: 0.05773934721946716 | Validation Loss: 0.07167445123195648\n",
      "Epoch 2000 - Train Loss: 0.056665197014808655 | Validation Loss: 0.0702110007405281\n",
      "Epoch 2100 - Train Loss: 0.055679801851511 | Validation Loss: 0.06873029470443726\n",
      "Epoch 2200 - Train Loss: 0.05449444428086281 | Validation Loss: 0.06669369339942932\n",
      "Epoch 2300 - Train Loss: 0.053351983428001404 | Validation Loss: 0.06485576927661896\n",
      "Epoch 2400 - Train Loss: 0.052478939294815063 | Validation Loss: 0.06358388811349869\n",
      "Epoch 2500 - Train Loss: 0.05189492926001549 | Validation Loss: 0.06296999752521515\n",
      "Epoch 2600 - Train Loss: 0.05146331712603569 | Validation Loss: 0.06276968866586685\n",
      "Epoch 2700 - Train Loss: 0.051152437925338745 | Validation Loss: 0.06257157772779465\n",
      "Epoch 2800 - Train Loss: 0.050905268639326096 | Validation Loss: 0.06251930445432663\n",
      "Epoch 2900 - Train Loss: 0.050706956535577774 | Validation Loss: 0.0625179186463356\n",
      "Epoch 3000 - Train Loss: 0.050540532916784286 | Validation Loss: 0.06257709860801697\n",
      "Epoch 3100 - Train Loss: 0.050402577966451645 | Validation Loss: 0.06253112852573395\n",
      "Epoch 3200 - Train Loss: 0.050294432789087296 | Validation Loss: 0.062493182718753815\n",
      "Epoch 3300 - Train Loss: 0.05019750818610191 | Validation Loss: 0.06248487904667854\n",
      "Epoch 3400 - Train Loss: 0.050110045820474625 | Validation Loss: 0.06244572252035141\n",
      "Epoch 3500 - Train Loss: 0.049992140382528305 | Validation Loss: 0.06241665035486221\n",
      "Epoch 3600 - Train Loss: 0.049904901534318924 | Validation Loss: 0.06246262043714523\n",
      "Epoch 3700 - Train Loss: 0.0498209223151207 | Validation Loss: 0.06247655674815178\n",
      "Epoch 3800 - Train Loss: 0.049758411943912506 | Validation Loss: 0.062428414821624756\n",
      "Epoch 3900 - Train Loss: 0.04970618709921837 | Validation Loss: 0.0624045729637146\n",
      "Epoch 4000 - Train Loss: 0.0496632419526577 | Validation Loss: 0.06246938183903694\n",
      "Epoch 4100 - Train Loss: 0.04962693527340889 | Validation Loss: 0.06250254064798355\n",
      "Epoch 4200 - Train Loss: 0.04958759620785713 | Validation Loss: 0.062481869012117386\n",
      "Epoch 4300 - Train Loss: 0.049557749181985855 | Validation Loss: 0.0624815933406353\n",
      "Epoch 4400 - Train Loss: 0.049538277089595795 | Validation Loss: 0.06248633190989494\n",
      "Epoch 4500 - Train Loss: 0.049522798508405685 | Validation Loss: 0.06241438537836075\n",
      "Epoch 4600 - Train Loss: 0.04949764907360077 | Validation Loss: 0.06239138916134834\n",
      "Epoch 4700 - Train Loss: 0.04948454350233078 | Validation Loss: 0.06236148998141289\n",
      "Epoch 4800 - Train Loss: 0.049468252807855606 | Validation Loss: 0.06232701987028122\n",
      "Epoch 4900 - Train Loss: 0.049453672021627426 | Validation Loss: 0.062310896813869476\n",
      "Epoch 5000 - Train Loss: 0.04944216087460518 | Validation Loss: 0.06228373572230339\n",
      "Epoch 5100 - Train Loss: 0.049429770559072495 | Validation Loss: 0.06232283636927605\n",
      "Epoch 5200 - Train Loss: 0.049416884779930115 | Validation Loss: 0.06227662414312363\n",
      "Epoch 5300 - Train Loss: 0.04941730201244354 | Validation Loss: 0.06234247237443924\n",
      "Epoch 5400 - Train Loss: 0.04940211772918701 | Validation Loss: 0.06230466440320015\n",
      "Epoch 5500 - Train Loss: 0.04938342049717903 | Validation Loss: 0.06222577765583992\n",
      "Epoch 5600 - Train Loss: 0.0493788942694664 | Validation Loss: 0.062181394547224045\n",
      "Epoch 5700 - Train Loss: 0.04936837777495384 | Validation Loss: 0.062206823378801346\n",
      "Epoch 5800 - Train Loss: 0.049361731857061386 | Validation Loss: 0.06221045181155205\n",
      "Epoch 5900 - Train Loss: 0.04936158284544945 | Validation Loss: 0.06219489499926567\n",
      "Epoch 6000 - Train Loss: 0.04933883249759674 | Validation Loss: 0.06220979616045952\n",
      "Epoch 6100 - Train Loss: 0.04932519420981407 | Validation Loss: 0.062147606164216995\n",
      "Epoch 6200 - Train Loss: 0.04931776225566864 | Validation Loss: 0.06213656812906265\n",
      "Epoch 6300 - Train Loss: 0.04931097850203514 | Validation Loss: 0.06215300410985947\n",
      "Epoch 6400 - Train Loss: 0.04930318892002106 | Validation Loss: 0.06217416375875473\n",
      "Epoch 6500 - Train Loss: 0.04929971694946289 | Validation Loss: 0.062132578343153\n",
      "Epoch 6600 - Train Loss: 0.049284692853689194 | Validation Loss: 0.062133997678756714\n",
      "Epoch 6700 - Train Loss: 0.04927751421928406 | Validation Loss: 0.06209859997034073\n",
      "Epoch 6800 - Train Loss: 0.04927848279476166 | Validation Loss: 0.06206827610731125\n",
      "Epoch 6900 - Train Loss: 0.04926667734980583 | Validation Loss: 0.062091778963804245\n",
      "Epoch 7000 - Train Loss: 0.04927610978484154 | Validation Loss: 0.06206765025854111\n",
      "Epoch 7100 - Train Loss: 0.04925953596830368 | Validation Loss: 0.06212479993700981\n",
      "Epoch 7200 - Train Loss: 0.049260180443525314 | Validation Loss: 0.06206352263689041\n",
      "Epoch 7300 - Train Loss: 0.04925456643104553 | Validation Loss: 0.062057238072156906\n",
      "Epoch 7400 - Train Loss: 0.04924625903367996 | Validation Loss: 0.06211896613240242\n",
      "Epoch 7500 - Train Loss: 0.04925011843442917 | Validation Loss: 0.062132567167282104\n",
      "Epoch 7600 - Train Loss: 0.049246203154325485 | Validation Loss: 0.0620364174246788\n",
      "Epoch 7700 - Train Loss: 0.049244169145822525 | Validation Loss: 0.06211581826210022\n",
      "Epoch 7800 - Train Loss: 0.04923440143465996 | Validation Loss: 0.062027256935834885\n",
      "Epoch 7900 - Train Loss: 0.04923069849610329 | Validation Loss: 0.062059104442596436\n",
      "Epoch 8000 - Train Loss: 0.04922638460993767 | Validation Loss: 0.06204535439610481\n",
      "Epoch 8100 - Train Loss: 0.04922933503985405 | Validation Loss: 0.06202173978090286\n",
      "Epoch 8200 - Train Loss: 0.049222953617572784 | Validation Loss: 0.062039852142333984\n",
      "Epoch 8300 - Train Loss: 0.04922071844339371 | Validation Loss: 0.06199982017278671\n",
      "Epoch 8400 - Train Loss: 0.04921891540288925 | Validation Loss: 0.06200840324163437\n",
      "Epoch 8500 - Train Loss: 0.04921626299619675 | Validation Loss: 0.06198585033416748\n",
      "Epoch 8600 - Train Loss: 0.04921627789735794 | Validation Loss: 0.06194412708282471\n",
      "Epoch 8700 - Train Loss: 0.04921343922615051 | Validation Loss: 0.061982739716768265\n",
      "Epoch 8800 - Train Loss: 0.049213189631700516 | Validation Loss: 0.061980195343494415\n",
      "Epoch 8900 - Train Loss: 0.04921101778745651 | Validation Loss: 0.061976850032806396\n",
      "Epoch 9000 - Train Loss: 0.049210209399461746 | Validation Loss: 0.06198279187083244\n",
      "Epoch 9100 - Train Loss: 0.0492105558514595 | Validation Loss: 0.06193651631474495\n",
      "Epoch 9200 - Train Loss: 0.04921293631196022 | Validation Loss: 0.061886273324489594\n",
      "Epoch 9300 - Train Loss: 0.0492100790143013 | Validation Loss: 0.061964429914951324\n",
      "Epoch 9400 - Train Loss: 0.0492093525826931 | Validation Loss: 0.061875879764556885\n",
      "Epoch 9500 - Train Loss: 0.049207087606191635 | Validation Loss: 0.06191719323396683\n",
      "Epoch 9600 - Train Loss: 0.04920417070388794 | Validation Loss: 0.061922330409288406\n",
      "Epoch 9700 - Train Loss: 0.04920954629778862 | Validation Loss: 0.061867136508226395\n",
      "Epoch 9800 - Train Loss: 0.04920734465122223 | Validation Loss: 0.06192374229431152\n",
      "Epoch 9900 - Train Loss: 0.0492064394056797 | Validation Loss: 0.061847202479839325\n"
     ]
    },
    {
     "data": {
      "image/png": "[encoded data removed]",
      "text/plain": [
       "<Figure size 640x480 with 1 Axes>"
      ]
     },
     "metadata": {},
     "output_type": "display_data"
    },
    {
     "name": "stdout",
     "output_type": "stream",
     "text": [
      "Test Loss: 0.08356807380914688\n"
     ]
    }
   ],
   "source": [
    "import torch\n",
    "import torch.nn as nn\n",
    "import matplotlib.pyplot as plt\n",
    "from sklearn.preprocessing import StandardScaler, LabelEncoder\n",
    "from sklearn.model_selection import train_test_split\n",
    "\n",
    "# Filter data for a specific job title\n",
    "job = 'Software Engineer'\n",
    "df_job = df[df['Job Title'] == job]\n",
    "df_job = df_job.dropna(subset=['Salary', 'Years of Experience', 'Education Level', 'Gender', 'Age'])\n",
    "\n",
    "# Encode 'Education Level' for simplicity\n",
    "education_mapping = {'High School': 0, 'Bachelor\\'s': 1, 'Master\\'s': 2, 'PhD': 3}\n",
    "df_job['Education Level'] = df_job['Education Level'].map(education_mapping)\n",
    "\n",
    "# Encode 'Gender'\n",
    "gender_mapping = {'Male': 0, 'Female': 1}\n",
    "df_job['Gender'] = df_job['Gender'].map(gender_mapping)\n",
    "\n",
    "# Split the data\n",
    "train, test = train_test_split(df_job, test_size=0.3, random_state=42)\n",
    "train, val = train_test_split(train, test_size=0.11, random_state=42)\n",
    "\n",
    "# Scale 'Years of Experience', 'Age', and 'Salary' for stability\n",
    "scaler = StandardScaler()\n",
    "train[['Years of Experience', 'Salary', 'Age']] = scaler.fit_transform(train[['Years of Experience', 'Salary', 'Age']])\n",
    "val[['Years of Experience', 'Salary', 'Age']] = scaler.transform(val[['Years of Experience', 'Salary', 'Age']])\n",
    "test[['Years of Experience', 'Salary', 'Age']] = scaler.transform(test[['Years of Experience', 'Salary', 'Age']])\n",
    "\n",
    "# Define the model\n",
    "class RegressionModel(nn.Module):\n",
    "    def __init__(self, input_dim, hidden_dim, output_dim):\n",
    "        super(RegressionModel, self).__init__()\n",
    "        self.layer1 = nn.Linear(input_dim, hidden_dim)\n",
    "        self.activation1 = nn.ReLU()\n",
    "        self.layer2 = nn.Linear(hidden_dim, output_dim)\n",
    "        \n",
    "    def forward(self, x):\n",
    "        x = self.layer1(x)\n",
    "        x = self.activation1(x)\n",
    "        x = self.layer2(x)\n",
    "        return x\n",
    "\n",
    "# Set up model parameters\n",
    "input_dim = 4  # Years of Experience, Education Level, Gender, Age\n",
    "hidden_dim = 64\n",
    "output_dim = 1\n",
    "model = RegressionModel(input_dim, hidden_dim, output_dim)\n",
    "\n",
    "criterion = nn.MSELoss()\n",
    "optimizer = torch.optim.Adam(model.parameters(), lr=0.001, weight_decay=1e-4)  # Add weight decay for L2 regularization\n",
    "\n",
    "# Prepare data for PyTorch\n",
    "X_train = torch.tensor(train[['Years of Experience', 'Education Level', 'Gender', 'Age']].values, dtype=torch.float32)\n",
    "y_train = torch.tensor(train['Salary'].values, dtype=torch.float32).view(-1, 1)\n",
    "X_val = torch.tensor(val[['Years of Experience', 'Education Level', 'Gender', 'Age']].values, dtype=torch.float32)\n",
    "y_val = torch.tensor(val['Salary'].values, dtype=torch.float32).view(-1, 1)\n",
    "X_test = torch.tensor(test[['Years of Experience', 'Education Level', 'Gender', 'Age']].values, dtype=torch.float32)\n",
    "y_test = torch.tensor(test['Salary'].values, dtype=torch.float32).view(-1, 1)\n",
    "\n",
    "# Training loop\n",
    "train_losses, val_losses = [], []\n",
    "for epoch in range(10000):\n",
    "    model.train()\n",
    "    optimizer.zero_grad()\n",
    "    y_pred = model(X_train)\n",
    "    train_loss = criterion(y_pred, y_train)\n",
    "    train_loss.backward()\n",
    "    optimizer.step()\n",
    "    train_losses.append(train_loss.item())\n",
    "    \n",
    "    # Validation loss\n",
    "    model.eval()\n",
    "    with torch.no_grad():\n",
    "        y_val_pred = model(X_val)\n",
    "        val_loss = criterion(y_val_pred, y_val)\n",
    "        val_losses.append(val_loss.item())\n",
    "        \n",
    "    # Print progress every 100 epochs\n",
    "    if epoch % 100 == 0:\n",
    "        print(f'Epoch {epoch} - Train Loss: {train_loss.item()} | Validation Loss: {val_loss.item()}')\n",
    "\n",
    "# Plot training and validation losses\n",
    "plt.plot(train_losses, label='Training Loss')\n",
    "plt.plot(val_losses, label='Validation Loss')\n",
    "plt.xlabel('Epochs')\n",
    "plt.ylabel('Loss')\n",
    "plt.legend()\n",
    "plt.show()\n",
    "\n",
    "# Evaluate on test set\n",
    "model.eval()\n",
    "with torch.no_grad():\n",
    "    y_test_pred = model(X_test)\n",
    "    test_loss = criterion(y_test_pred, y_test)\n",
    "    print(f'Test Loss: {test_loss.item()}')\n",
    "\n",
    "# Inverse transform predictions back to original salary scale\n",
    "# We add placeholders for 'Years of Experience' and 'Age' to inverse transform correctly\n",
    "y_test_pred_unscaled = scaler.inverse_transform(\n",
    "    torch.cat((X_test[:, 0].unsqueeze(1), y_test_pred, X_test[:, 1:2]), dim=1))[:, 1]\n",
    "\n",
    "\n",
    "# for i, pred in enumerate(y_test_pred_unscaled):\n",
    "#     actual_salary = scaler.inverse_transform(test[['Years of Experience', 'Salary', 'Age']].values)[i][1]\n",
    "#     print(f\"Predicted Salary: {pred:.2f}, Actual Salary: {actual_salary:.2f}\")"
   ]
  },
  {
   "cell_type": "markdown",
   "id": "0ba62b1c",
   "metadata": {},
   "source": [
    "## Define Feature importance"
   ]
  },
  {
   "cell_type": "code",
   "execution_count": 20,
   "id": "c3aa3980",
   "metadata": {},
   "outputs": [
    {
     "data": {
      "text/html": [
       "<div>\n",
       "<style scoped>\n",
       "    .dataframe tbody tr th:only-of-type {\n",
       "        vertical-align: middle;\n",
       "    }\n",
       "\n",
       "    .dataframe tbody tr th {\n",
       "        vertical-align: top;\n",
       "    }\n",
       "\n",
       "    .dataframe thead th {\n",
       "        text-align: right;\n",
       "    }\n",
       "</style>\n",
       "<table border=\"1\" class=\"dataframe\">\n",
       "  <thead>\n",
       "    <tr style=\"text-align: right;\">\n",
       "      <th></th>\n",
       "      <th>Age</th>\n",
       "      <th>Gender</th>\n",
       "      <th>Education Level</th>\n",
       "      <th>Job Title</th>\n",
       "      <th>Years of Experience</th>\n",
       "      <th>Salary</th>\n",
       "    </tr>\n",
       "  </thead>\n",
       "  <tbody>\n",
       "    <tr>\n",
       "      <th>0</th>\n",
       "      <td>32.0</td>\n",
       "      <td>Male</td>\n",
       "      <td>Bachelor's</td>\n",
       "      <td>Software Engineer</td>\n",
       "      <td>5.0</td>\n",
       "      <td>90000.0</td>\n",
       "    </tr>\n",
       "    <tr>\n",
       "      <th>1</th>\n",
       "      <td>28.0</td>\n",
       "      <td>Female</td>\n",
       "      <td>Master's</td>\n",
       "      <td>Data Analyst</td>\n",
       "      <td>3.0</td>\n",
       "      <td>65000.0</td>\n",
       "    </tr>\n",
       "    <tr>\n",
       "      <th>2</th>\n",
       "      <td>45.0</td>\n",
       "      <td>Male</td>\n",
       "      <td>PhD</td>\n",
       "      <td>Senior Manager</td>\n",
       "      <td>15.0</td>\n",
       "      <td>150000.0</td>\n",
       "    </tr>\n",
       "    <tr>\n",
       "      <th>3</th>\n",
       "      <td>36.0</td>\n",
       "      <td>Female</td>\n",
       "      <td>Bachelor's</td>\n",
       "      <td>Sales Associate</td>\n",
       "      <td>7.0</td>\n",
       "      <td>60000.0</td>\n",
       "    </tr>\n",
       "    <tr>\n",
       "      <th>4</th>\n",
       "      <td>52.0</td>\n",
       "      <td>Male</td>\n",
       "      <td>Master's</td>\n",
       "      <td>Director</td>\n",
       "      <td>20.0</td>\n",
       "      <td>200000.0</td>\n",
       "    </tr>\n",
       "    <tr>\n",
       "      <th>...</th>\n",
       "      <td>...</td>\n",
       "      <td>...</td>\n",
       "      <td>...</td>\n",
       "      <td>...</td>\n",
       "      <td>...</td>\n",
       "      <td>...</td>\n",
       "    </tr>\n",
       "    <tr>\n",
       "      <th>6699</th>\n",
       "      <td>49.0</td>\n",
       "      <td>Female</td>\n",
       "      <td>PhD</td>\n",
       "      <td>Director of Marketing</td>\n",
       "      <td>20.0</td>\n",
       "      <td>200000.0</td>\n",
       "    </tr>\n",
       "    <tr>\n",
       "      <th>6700</th>\n",
       "      <td>32.0</td>\n",
       "      <td>Male</td>\n",
       "      <td>High School</td>\n",
       "      <td>Sales Associate</td>\n",
       "      <td>3.0</td>\n",
       "      <td>50000.0</td>\n",
       "    </tr>\n",
       "    <tr>\n",
       "      <th>6701</th>\n",
       "      <td>30.0</td>\n",
       "      <td>Female</td>\n",
       "      <td>Bachelor's</td>\n",
       "      <td>Financial Manager</td>\n",
       "      <td>4.0</td>\n",
       "      <td>55000.0</td>\n",
       "    </tr>\n",
       "    <tr>\n",
       "      <th>6702</th>\n",
       "      <td>46.0</td>\n",
       "      <td>Male</td>\n",
       "      <td>Master's</td>\n",
       "      <td>Marketing Manager</td>\n",
       "      <td>14.0</td>\n",
       "      <td>140000.0</td>\n",
       "    </tr>\n",
       "    <tr>\n",
       "      <th>6703</th>\n",
       "      <td>26.0</td>\n",
       "      <td>Female</td>\n",
       "      <td>High School</td>\n",
       "      <td>Sales Executive</td>\n",
       "      <td>1.0</td>\n",
       "      <td>35000.0</td>\n",
       "    </tr>\n",
       "  </tbody>\n",
       "</table>\n",
       "<p>6704 rows × 6 columns</p>\n",
       "</div>"
      ],
      "text/plain": [
       "       Age  Gender Education Level              Job Title  \\\n",
       "0     32.0    Male      Bachelor's      Software Engineer   \n",
       "1     28.0  Female        Master's           Data Analyst   \n",
       "2     45.0    Male             PhD         Senior Manager   \n",
       "3     36.0  Female      Bachelor's        Sales Associate   \n",
       "4     52.0    Male        Master's               Director   \n",
       "...    ...     ...             ...                    ...   \n",
       "6699  49.0  Female             PhD  Director of Marketing   \n",
       "6700  32.0    Male     High School        Sales Associate   \n",
       "6701  30.0  Female      Bachelor's      Financial Manager   \n",
       "6702  46.0    Male        Master's      Marketing Manager   \n",
       "6703  26.0  Female     High School        Sales Executive   \n",
       "\n",
       "      Years of Experience    Salary  \n",
       "0                     5.0   90000.0  \n",
       "1                     3.0   65000.0  \n",
       "2                    15.0  150000.0  \n",
       "3                     7.0   60000.0  \n",
       "4                    20.0  200000.0  \n",
       "...                   ...       ...  \n",
       "6699                 20.0  200000.0  \n",
       "6700                  3.0   50000.0  \n",
       "6701                  4.0   55000.0  \n",
       "6702                 14.0  140000.0  \n",
       "6703                  1.0   35000.0  \n",
       "\n",
       "[6704 rows x 6 columns]"
      ]
     },
     "execution_count": 20,
     "metadata": {},
     "output_type": "execute_result"
    }
   ],
   "source": [
    "df"
   ]
  },
  {
   "cell_type": "code",
   "execution_count": 12,
   "id": "785260d7f5a2959c",
   "metadata": {},
   "outputs": [
    {
     "data": {
      "image/png": "[encoded data removed]",
      "text/plain": [
       "<Figure size 1000x600 with 1 Axes>"
      ]
     },
     "metadata": {},
     "output_type": "display_data"
    },
    {
     "name": "stdout",
     "output_type": "stream",
     "text": [
      "Years of Experience: 65.0853\n",
      "Education Level: 9697.9131\n",
      "Gender: 1355.7946\n",
      "Age: 2108.1733\n"
     ]
    }
   ],
   "source": [
    "import numpy as np\n",
    "from sklearn.metrics import mean_squared_error\n",
    "\n",
    "def permutation_importance(model, X, y, n_repeats=10):\n",
    "    baseline_mse = mean_squared_error(y, model(X).detach().numpy())\n",
    "    importances = []\n",
    "    \n",
    "    for col in range(X.shape[1]):\n",
    "        feature_importances = []\n",
    "        for _ in range(n_repeats):\n",
    "            X_permuted = X.clone()\n",
    "            X_permuted[:, col] = torch.randperm(X.shape[0])\n",
    "            permuted_mse = mean_squared_error(y, model(X_permuted).detach().numpy())\n",
    "            importance = permuted_mse - baseline_mse\n",
    "            feature_importances.append(importance)\n",
    "        importances.append(np.mean(feature_importances))\n",
    "    \n",
    "    return np.array(importances)\n",
    "\n",
    "# Calculate permutation importance\n",
    "feature_names = ['Years of Experience', 'Education Level', 'Gender', 'Age']\n",
    "importances = permutation_importance(model, X_test, y_test)\n",
    "\n",
    "# Plot feature importances\n",
    "plt.figure(figsize=(10, 6))\n",
    "plt.bar(feature_names, importances)\n",
    "plt.title('Feature Importance (Permutation Method)')\n",
    "plt.xlabel('Features')\n",
    "plt.ylabel('Importance')\n",
    "plt.xticks(rotation=45)\n",
    "plt.tight_layout()\n",
    "plt.show()\n",
    "\n",
    "# Print feature importances\n",
    "for name, importance in zip(feature_names, importances):\n",
    "    print(f\"{name}: {importance:.4f}\")\n"
   ]
  },
  {
   "cell_type": "markdown",
   "id": "c398da11",
   "metadata": {},
   "source": [
    "It's important to note that these values represent the increase in the model's error when the feature is permuted. A larger increase in error indicates that the feature is more important for the model's predictions"
   ]
  },
  {
   "cell_type": "markdown",
   "id": "aca378ed",
   "metadata": {},
   "source": []
  }
 ],
 "metadata": {
  "kernelspec": {
   "display_name": "Python 3",
   "language": "python",
   "name": "python3"
  },
  "language_info": {
   "codemirror_mode": {
    "name": "ipython",
    "version": 3
   },
   "file_extension": ".py",
   "mimetype": "text/x-python",
   "name": "python",
   "nbconvert_exporter": "python",
   "pygments_lexer": "ipython3",
   "version": "3.11.9"
  }
 },
 "nbformat": 4,
 "nbformat_minor": 5
}
