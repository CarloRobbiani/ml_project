{
 "cells": [
  {
   "cell_type": "markdown",
   "id": "556bb619",
   "metadata": {},
   "source": [
    "### This is the main notebook\n",
    "\n",
    "First we we do some data cleaning and data exploration with plots.\n",
    "Here we will use a neural network and a rf to predict the salaries. We will use different features for predicting it. "
   ]
  },
  {
   "metadata": {
    "ExecuteTime": {
     "end_time": "2024-12-12T19:52:05.317454Z",
     "start_time": "2024-12-12T19:52:05.314918Z"
    }
   },
   "cell_type": "code",
   "source": [
    "import torch\n",
    "print(torch.__version__)\n",
    "print(torch.backends.mps.is_available())  # To check MPS support"
   ],
   "id": "471aaa33f8901684",
   "outputs": [
    {
     "name": "stdout",
     "output_type": "stream",
     "text": [
      "2.2.2\n",
      "True\n"
     ]
    }
   ],
   "execution_count": 113
  },
  {
   "cell_type": "code",
   "id": "initial_id",
   "metadata": {
    "collapsed": true,
    "ExecuteTime": {
     "end_time": "2024-12-12T19:52:05.540285Z",
     "start_time": "2024-12-12T19:52:05.528528Z"
    }
   },
   "source": [
    "import pandas as pd\n",
    "import os\n",
    "import numpy as np\n",
    "import matplotlib.pyplot as plt\n",
    "import torch\n",
    "import torch.nn as nn\n",
    "from sklearn.preprocessing import StandardScaler, LabelEncoder\n",
    "from sklearn.model_selection import train_test_split\n",
    "from sklearn.neural_network import MLPRegressor\n",
    "from sklearn.metrics import mean_squared_error\n",
    "\n",
    "path = 'Salary_Data.csv'\n",
    "\n",
    "df = pd.read_csv(path)\n",
    "df.head()"
   ],
   "outputs": [
    {
     "data": {
      "text/plain": [
       "    Age  Gender Education Level          Job Title  Years of Experience  \\\n",
       "0  32.0    Male      Bachelor's  Software Engineer                  5.0   \n",
       "1  28.0  Female        Master's       Data Analyst                  3.0   \n",
       "2  45.0    Male             PhD     Senior Manager                 15.0   \n",
       "3  36.0  Female      Bachelor's    Sales Associate                  7.0   \n",
       "4  52.0    Male        Master's           Director                 20.0   \n",
       "\n",
       "     Salary  \n",
       "0   90000.0  \n",
       "1   65000.0  \n",
       "2  150000.0  \n",
       "3   60000.0  \n",
       "4  200000.0  "
      ],
      "text/html": [
       "<div>\n",
       "<style scoped>\n",
       "    .dataframe tbody tr th:only-of-type {\n",
       "        vertical-align: middle;\n",
       "    }\n",
       "\n",
       "    .dataframe tbody tr th {\n",
       "        vertical-align: top;\n",
       "    }\n",
       "\n",
       "    .dataframe thead th {\n",
       "        text-align: right;\n",
       "    }\n",
       "</style>\n",
       "<table border=\"1\" class=\"dataframe\">\n",
       "  <thead>\n",
       "    <tr style=\"text-align: right;\">\n",
       "      <th></th>\n",
       "      <th>Age</th>\n",
       "      <th>Gender</th>\n",
       "      <th>Education Level</th>\n",
       "      <th>Job Title</th>\n",
       "      <th>Years of Experience</th>\n",
       "      <th>Salary</th>\n",
       "    </tr>\n",
       "  </thead>\n",
       "  <tbody>\n",
       "    <tr>\n",
       "      <th>0</th>\n",
       "      <td>32.0</td>\n",
       "      <td>Male</td>\n",
       "      <td>Bachelor's</td>\n",
       "      <td>Software Engineer</td>\n",
       "      <td>5.0</td>\n",
       "      <td>90000.0</td>\n",
       "    </tr>\n",
       "    <tr>\n",
       "      <th>1</th>\n",
       "      <td>28.0</td>\n",
       "      <td>Female</td>\n",
       "      <td>Master's</td>\n",
       "      <td>Data Analyst</td>\n",
       "      <td>3.0</td>\n",
       "      <td>65000.0</td>\n",
       "    </tr>\n",
       "    <tr>\n",
       "      <th>2</th>\n",
       "      <td>45.0</td>\n",
       "      <td>Male</td>\n",
       "      <td>PhD</td>\n",
       "      <td>Senior Manager</td>\n",
       "      <td>15.0</td>\n",
       "      <td>150000.0</td>\n",
       "    </tr>\n",
       "    <tr>\n",
       "      <th>3</th>\n",
       "      <td>36.0</td>\n",
       "      <td>Female</td>\n",
       "      <td>Bachelor's</td>\n",
       "      <td>Sales Associate</td>\n",
       "      <td>7.0</td>\n",
       "      <td>60000.0</td>\n",
       "    </tr>\n",
       "    <tr>\n",
       "      <th>4</th>\n",
       "      <td>52.0</td>\n",
       "      <td>Male</td>\n",
       "      <td>Master's</td>\n",
       "      <td>Director</td>\n",
       "      <td>20.0</td>\n",
       "      <td>200000.0</td>\n",
       "    </tr>\n",
       "  </tbody>\n",
       "</table>\n",
       "</div>"
      ]
     },
     "execution_count": 114,
     "metadata": {},
     "output_type": "execute_result"
    }
   ],
   "execution_count": 114
  },
  {
   "cell_type": "markdown",
   "id": "f80b76410248ec02",
   "metadata": {},
   "source": [
    "# Data Cleaning"
   ]
  },
  {
   "cell_type": "code",
   "id": "3c0a0fc9cb233f41",
   "metadata": {
    "ExecuteTime": {
     "end_time": "2024-12-12T19:52:05.817501Z",
     "start_time": "2024-12-12T19:52:05.814160Z"
    }
   },
   "source": [
    "df['Education Level'].value_counts()"
   ],
   "outputs": [
    {
     "data": {
      "text/plain": [
       "Education Level\n",
       "Bachelor's Degree    2267\n",
       "Master's Degree      1573\n",
       "PhD                  1368\n",
       "Bachelor's            756\n",
       "High School           448\n",
       "Master's              288\n",
       "phD                     1\n",
       "Name: count, dtype: int64"
      ]
     },
     "execution_count": 115,
     "metadata": {},
     "output_type": "execute_result"
    }
   ],
   "execution_count": 115
  },
  {
   "cell_type": "code",
   "id": "41cbf51218714a9a",
   "metadata": {
    "ExecuteTime": {
     "end_time": "2024-12-12T19:52:06.160594Z",
     "start_time": "2024-12-12T19:52:06.158029Z"
    }
   },
   "source": [
    "print(df.columns)\n",
    "print(type(df.Salary[0]))\n",
    "print(type(df['Years of Experience'][0]))"
   ],
   "outputs": [
    {
     "name": "stdout",
     "output_type": "stream",
     "text": [
      "Index(['Age', 'Gender', 'Education Level', 'Job Title', 'Years of Experience',\n",
      "       'Salary'],\n",
      "      dtype='object')\n",
      "<class 'numpy.float64'>\n",
      "<class 'numpy.float64'>\n"
     ]
    }
   ],
   "execution_count": 116
  },
  {
   "cell_type": "code",
   "id": "60ce7d500718aaca",
   "metadata": {
    "ExecuteTime": {
     "end_time": "2024-12-12T19:52:06.619757Z",
     "start_time": "2024-12-12T19:52:06.613439Z"
    }
   },
   "source": [
    "# Combining the education level Bachelor's degree and Bachelor's\n",
    "df['Education Level'] = df['Education Level'].replace(\"Bachelor's Degree\", \"Bachelor's\")\n",
    "df['Education Level'] = df['Education Level'].replace(\"phD\", \"PhD\")\n",
    "df['Education Level'] = df['Education Level'].replace(\"Master's Degree\", \"Master's\")\n",
    "\n",
    "df['Education Level'].value_counts()"
   ],
   "outputs": [
    {
     "data": {
      "text/plain": [
       "Education Level\n",
       "Bachelor's     3023\n",
       "Master's       1861\n",
       "PhD            1369\n",
       "High School     448\n",
       "Name: count, dtype: int64"
      ]
     },
     "execution_count": 117,
     "metadata": {},
     "output_type": "execute_result"
    }
   ],
   "execution_count": 117
  },
  {
   "cell_type": "code",
   "id": "701d3c325987af11",
   "metadata": {
    "ExecuteTime": {
     "end_time": "2024-12-12T19:52:07.085519Z",
     "start_time": "2024-12-12T19:52:07.003683Z"
    }
   },
   "source": [
    "plt.scatter(df['Years of Experience'], df['Salary'])\n",
    "plt.xlabel('Years of Experience')\n",
    "plt.ylabel('Salary')"
   ],
   "outputs": [
    {
     "data": {
      "text/plain": [
       "Text(0, 0.5, 'Salary')"
      ]
     },
     "execution_count": 118,
     "metadata": {},
     "output_type": "execute_result"
    },
    {
     "data": {
      "text/plain": [
       "<Figure size 640x480 with 1 Axes>"
      ],
      "image/png": "[encoded data removed]"
     },
     "metadata": {},
     "output_type": "display_data"
    }
   ],
   "execution_count": 118
  },
  {
   "cell_type": "code",
   "id": "de4f45023ef2276b",
   "metadata": {
    "ExecuteTime": {
     "end_time": "2024-12-12T19:52:07.391986Z",
     "start_time": "2024-12-12T19:52:07.325449Z"
    }
   },
   "source": [
    "df['Education Level'] = pd.Categorical(df['Education Level'], categories=['High School', 'Bachelor\\'s', 'Master\\'s', 'PhD'], ordered=True)\n",
    "\n",
    "df.groupby('Education Level')['Salary'].mean().plot(kind='bar')"
   ],
   "outputs": [
    {
     "name": "stderr",
     "output_type": "stream",
     "text": [
      "/var/folders/v9/n514v4yd4hn8vqwrpj4cdt8c0000gn/T/ipykernel_16916/551786710.py:3: FutureWarning: The default of observed=False is deprecated and will be changed to True in a future version of pandas. Pass observed=False to retain current behavior or observed=True to adopt the future default and silence this warning.\n",
      "  df.groupby('Education Level')['Salary'].mean().plot(kind='bar')\n"
     ]
    },
    {
     "data": {
      "text/plain": [
       "<Axes: xlabel='Education Level'>"
      ]
     },
     "execution_count": 119,
     "metadata": {},
     "output_type": "execute_result"
    },
    {
     "data": {
      "text/plain": [
       "<Figure size 640x480 with 1 Axes>"
      ],
      "image/png": "[encoded data removed]"
     },
     "metadata": {},
     "output_type": "display_data"
    }
   ],
   "execution_count": 119
  },
  {
   "cell_type": "code",
   "id": "92e263d7eaaf3347",
   "metadata": {
    "ExecuteTime": {
     "end_time": "2024-12-12T19:52:07.559809Z",
     "start_time": "2024-12-12T19:52:07.555922Z"
    }
   },
   "source": [
    "# Job Title with the most data\n",
    "df['Job Title'].value_counts()"
   ],
   "outputs": [
    {
     "data": {
      "text/plain": [
       "Job Title\n",
       "Software Engineer             518\n",
       "Data Scientist                453\n",
       "Software Engineer Manager     376\n",
       "Data Analyst                  363\n",
       "Senior Project Engineer       318\n",
       "                             ... \n",
       "Account Manager                 1\n",
       "Help Desk Analyst               1\n",
       "Senior Training Specialist      1\n",
       "Junior Web Designer             1\n",
       "Supply Chain Analyst            1\n",
       "Name: count, Length: 193, dtype: int64"
      ]
     },
     "execution_count": 120,
     "metadata": {},
     "output_type": "execute_result"
    }
   ],
   "execution_count": 120
  },
  {
   "metadata": {
    "ExecuteTime": {
     "end_time": "2024-12-12T21:45:51.269009Z",
     "start_time": "2024-12-12T21:45:51.266734Z"
    }
   },
   "cell_type": "code",
   "source": "df.size",
   "id": "334d3550a34b2b39",
   "outputs": [
    {
     "data": {
      "text/plain": [
       "27168"
      ]
     },
     "execution_count": 167,
     "metadata": {},
     "output_type": "execute_result"
    }
   ],
   "execution_count": 167
  },
  {
   "cell_type": "code",
   "id": "5dbe746f14f2d034",
   "metadata": {
    "ExecuteTime": {
     "end_time": "2024-12-12T19:52:07.970386Z",
     "start_time": "2024-12-12T19:52:07.963662Z"
    }
   },
   "source": [
    "# Remove Jobs with less than 10 data points\n",
    "df = df.groupby('Job Title').filter(lambda x: len(x) > 100)\n",
    "df['Job Title'].value_counts()"
   ],
   "outputs": [
    {
     "data": {
      "text/plain": [
       "Job Title\n",
       "Software Engineer            518\n",
       "Data Scientist               453\n",
       "Software Engineer Manager    376\n",
       "Data Analyst                 363\n",
       "Senior Project Engineer      318\n",
       "Product Manager              313\n",
       "Full Stack Engineer          309\n",
       "Marketing Manager            255\n",
       "Senior Software Engineer     244\n",
       "Back end Developer           244\n",
       "Front end Developer          241\n",
       "Marketing Coordinator        158\n",
       "Junior Sales Associate       142\n",
       "Financial Manager            134\n",
       "Marketing Analyst            132\n",
       "Software Developer           125\n",
       "Operations Manager           114\n",
       "Human Resources Manager      104\n",
       "Name: count, dtype: int64"
      ]
     },
     "execution_count": 121,
     "metadata": {},
     "output_type": "execute_result"
    }
   ],
   "execution_count": 121
  },
  {
   "cell_type": "markdown",
   "id": "dd2660f746251aa6",
   "metadata": {},
   "source": [
    "# Define Model"
   ]
  },
  {
   "cell_type": "code",
   "id": "f4afc18607fe7674",
   "metadata": {
    "ExecuteTime": {
     "end_time": "2024-12-12T20:39:09.953796Z",
     "start_time": "2024-12-12T20:39:09.947690Z"
    }
   },
   "source": [
    "class SalaryPredictor(nn.Module):\n",
    "    def __init__(self, input_size):\n",
    "        super(SalaryPredictor, self).__init__()\n",
    "        self.fc1 = nn.Linear(input_size, 64)\n",
    "        self.relu = nn.ReLU()\n",
    "        self.fc2 = nn.Linear(64, 32)\n",
    "        self.fc3 = nn.Linear(32, 1)\n",
    "\n",
    "    def forward(self, x):\n",
    "        x = self.fc1(x)\n",
    "        x = self.relu(x)\n",
    "        x = self.fc2(x)\n",
    "        x = self.relu(x)\n",
    "        x = self.fc3(x)\n",
    "        return x"
   ],
   "outputs": [],
   "execution_count": 154
  },
  {
   "cell_type": "code",
   "id": "c265447e2dbf65d6",
   "metadata": {
    "ExecuteTime": {
     "end_time": "2024-12-12T20:37:14.945975Z",
     "start_time": "2024-12-12T20:37:14.943404Z"
    }
   },
   "source": [
    "class SalaryPredictor(nn.Module):\n",
    "    def __init__(self, input_size):\n",
    "        super(SalaryPredictor, self).__init__()\n",
    "        self.fc = nn.Linear(input_size, 1)  # Single-layer regression\n",
    "\n",
    "    def forward(self, x):\n",
    "        return self.fc(x)\n"
   ],
   "outputs": [],
   "execution_count": 148
  },
  {
   "metadata": {},
   "cell_type": "code",
   "outputs": [],
   "execution_count": null,
   "source": "",
   "id": "d7d1288e8f02e65b"
  },
  {
   "cell_type": "markdown",
   "id": "f46c990729a138de",
   "metadata": {},
   "source": [
    "# Prepare data"
   ]
  },
  {
   "cell_type": "code",
   "id": "4b6b09e0248b09fa",
   "metadata": {
    "ExecuteTime": {
     "end_time": "2024-12-12T20:37:20.326601Z",
     "start_time": "2024-12-12T20:37:20.302728Z"
    }
   },
   "source": [
    "import joblib\n",
    "from torch.utils.data import TensorDataset\n",
    "# Encode 'Education Level' for simplicity\n",
    "education_mapping = {'High School': 0, 'Bachelor\\'s': 1, 'Master\\'s': 2, 'PhD': 3}\n",
    "df['Education Level'] = df['Education Level'].map(lambda x: education_mapping.get(x, x)).copy()\n",
    "\n",
    "df = df[df['Gender'] != 'Other']\n",
    "gender_mapping = {'Male': 0, 'Female': 1}\n",
    "df['Gender'] = df['Gender'].map(lambda x: gender_mapping.get(x, x)).copy()\n",
    "\n",
    "df = df.dropna()\n",
    "\n",
    "train, test = train_test_split(df, test_size=0.3, random_state=42)\n",
    "train, val = train_test_split(train, test_size=0.11, random_state=42)\n",
    "\n",
    "target_column = \"Salary\"\n",
    "sensitive_feature = ['Age', 'Gender']\n",
    "features = train.columns.difference([target_column])\n",
    "\n",
    "scaler = StandardScaler()\n",
    "train[['Years of Experience', 'Age']] = scaler.fit_transform(train[['Years of Experience', 'Age']])\n",
    "val[['Years of Experience', 'Age']] = scaler.transform(val[['Years of Experience', 'Age']])\n",
    "test[['Years of Experience', 'Age']] = scaler.transform(test[['Years of Experience', 'Age']])\n",
    "\n",
    "# Create a separate scaler for 'Salary'\n",
    "salary_scaler = StandardScaler()\n",
    "\n",
    "# Fit and transform 'Salary' in train, transform in val and test\n",
    "train['Salary'] = salary_scaler.fit_transform(train[['Salary']])\n",
    "val['Salary'] = salary_scaler.transform(val[['Salary']])\n",
    "test['Salary'] = salary_scaler.transform(test[['Salary']])\n",
    "\n",
    "\n",
    "joblib.dump(scaler, \"scaler_preds\")\n",
    "\n",
    "encoder = LabelEncoder()\n",
    "train['Job Title'] = encoder.fit_transform(train['Job Title'])\n",
    "val['Job Title'] = encoder.transform(val['Job Title'])\n",
    "test['Job Title'] = encoder.transform(test['Job Title'])\n",
    "\n",
    "X_train = pd.DataFrame((train),columns = features)\n",
    "y_train = pd.DataFrame((train),columns = [target_column])\n",
    "# X_train = torch.tensor(train[features].values, dtype=torch.float32)\n",
    "# y_train = torch.tensor(train[target_column].values, dtype=torch.float32).view(-1, 1)\n",
    "X_val = pd.DataFrame((val),columns = features)\n",
    "y_val = pd.DataFrame((val),columns = [target_column])\n",
    "# X_val = torch.tensor(val[features].values, dtype=torch.float32)\n",
    "# y_val = torch.tensor(val[target_column].values, dtype=torch.float32).view(-1, 1)\n",
    "X_test = pd.DataFrame((test),columns = features)\n",
    "y_test = pd.DataFrame((test),columns = [target_column])\n",
    "# X_test = torch.tensor(test[features].values, dtype=torch.float32)\n",
    "# y_test = torch.tensor(test[target_column].values, dtype=torch.float32).view(-1, 1)\n",
    "\n",
    "# Convert features to float32 tensors\n",
    "X_train_tensor = torch.tensor(X_train.values, dtype=torch.float32)\n",
    "X_val_tensor = torch.tensor(X_val.values, dtype=torch.float32)\n",
    "X_test_tensor = torch.tensor(X_test.values, dtype=torch.float32)\n",
    "\n",
    "# Convert targets to float32 tensors for regression\n",
    "y_train_tensor = torch.tensor(y_train.squeeze().values, dtype=torch.float32).view(-1, 1)\n",
    "y_val_tensor = torch.tensor(y_val.squeeze().values, dtype=torch.float32).view(-1, 1)\n",
    "y_test_tensor = torch.tensor(y_test.squeeze().values, dtype=torch.float32).view(-1, 1)\n",
    "\n",
    "# Create TensorDatasets\n",
    "train_dataset = TensorDataset(X_train_tensor, y_train_tensor)\n",
    "val_dataset = TensorDataset(X_val_tensor, y_val_tensor)\n",
    "test_dataset = TensorDataset(X_test_tensor, y_test_tensor)"
   ],
   "outputs": [],
   "execution_count": 149
  },
  {
   "cell_type": "code",
   "id": "07b59324",
   "metadata": {
    "ExecuteTime": {
     "end_time": "2024-12-12T20:37:20.884968Z",
     "start_time": "2024-12-12T20:37:20.882565Z"
    }
   },
   "source": "print(features)",
   "outputs": [
    {
     "name": "stdout",
     "output_type": "stream",
     "text": [
      "Index(['Age', 'Education Level', 'Gender', 'Job Title', 'Years of Experience'], dtype='object')\n"
     ]
    }
   ],
   "execution_count": 150
  },
  {
   "cell_type": "code",
   "id": "ffb7bac1c6d7783e",
   "metadata": {
    "ExecuteTime": {
     "end_time": "2024-12-12T20:37:21.286082Z",
     "start_time": "2024-12-12T20:37:21.282875Z"
    }
   },
   "source": "X_train_tensor",
   "outputs": [
    {
     "data": {
      "text/plain": [
       "tensor([[-0.6115,  1.0000,  0.0000, 16.0000, -0.3790],\n",
       "        [ 0.0341,  1.0000,  1.0000,  6.0000,  0.1119],\n",
       "        [ 1.5835,  2.0000,  0.0000, 14.0000,  1.9122],\n",
       "        ...,\n",
       "        [ 0.6797,  2.0000,  1.0000, 10.0000,  0.2756],\n",
       "        [-0.9988,  2.0000,  1.0000,  4.0000, -1.0336],\n",
       "        [-0.9988,  1.0000,  0.0000, 15.0000, -1.0336]])"
      ]
     },
     "execution_count": 151,
     "metadata": {},
     "output_type": "execute_result"
    }
   ],
   "execution_count": 151
  },
  {
   "cell_type": "code",
   "id": "af63fb53e6eca038",
   "metadata": {
    "ExecuteTime": {
     "end_time": "2024-12-12T20:37:21.903878Z",
     "start_time": "2024-12-12T20:37:21.901223Z"
    }
   },
   "source": [
    "import numpy as np\n",
    "\n",
    "def evaluate_model_on_original_scale(model, data_loader, salary_scaler):\n",
    "    model.eval()\n",
    "    predictions, targets = [], []\n",
    "    with torch.no_grad():\n",
    "        for X_batch, y_batch in data_loader:\n",
    "            y_pred = model(X_batch)\n",
    "            predictions.extend(y_pred.cpu().numpy())\n",
    "            targets.extend(y_batch.cpu().numpy())\n",
    "\n",
    "    # Convert predictions and targets back to the original scale\n",
    "    predictions_original_scale = salary_scaler.inverse_transform(predictions)\n",
    "    targets_original_scale = salary_scaler.inverse_transform(targets)\n",
    "\n",
    "    # Calculate the average error (Mean Absolute Error)\n",
    "    average_error = np.mean(np.abs(predictions_original_scale - targets_original_scale))\n",
    "\n",
    "    return predictions_original_scale, targets_original_scale, average_error\n"
   ],
   "outputs": [],
   "execution_count": 152
  },
  {
   "cell_type": "markdown",
   "id": "f1f36f9ce02f34c5",
   "metadata": {},
   "source": [
    "# Training For Data Scientist Job not important for prediction"
   ]
  },
  {
   "cell_type": "code",
   "id": "13ff34fc6796df2a",
   "metadata": {
    "ExecuteTime": {
     "end_time": "2024-12-12T20:01:59.347652Z",
     "start_time": "2024-12-12T20:01:25.855039Z"
    }
   },
   "source": [
    "import torch.optim as optim\n",
    "from opacus import PrivacyEngine\n",
    "from torch.utils.data import DataLoader\n",
    "\n",
    "train_loader = DataLoader(train_dataset, batch_size=32, shuffle=True)\n",
    "val_loader = DataLoader(val_dataset, batch_size=32, shuffle=False)\n",
    "test_loader = DataLoader(test_dataset, batch_size=32, shuffle=False)\n",
    "\n",
    "model = SalaryPredictor(input_size=len(features))\n",
    "optimizer = optim.Adam(model.parameters(), lr=1e-3)\n",
    "criterion = nn.MSELoss()\n",
    "\n",
    "# enter PrivacyEngine\n",
    "privacy_engine = PrivacyEngine()\n",
    "model, optimizer, data_loader = privacy_engine.make_private(\n",
    "    module=model,\n",
    "    optimizer=optimizer,\n",
    "    data_loader=train_loader,\n",
    "    noise_multiplier=1.1,\n",
    "    max_grad_norm=1.0,\n",
    ")\n",
    "\n",
    "for epoch in range(501):  # Example: 100 epochs\n",
    "    model.train()\n",
    "    for X_batch, y_batch in train_loader:\n",
    "        optimizer.zero_grad()\n",
    "        predictions = model(X_batch)\n",
    "        loss = criterion(predictions, y_batch)\n",
    "        loss.backward()\n",
    "        optimizer.step()\n",
    "\n",
    "    # Evaluate on validation set at each epoch\n",
    "    if epoch % 100 == 0:  # Example: Print every 10 epochs\n",
    "        preds, targets, avg_error = evaluate_model_on_original_scale(model, val_loader, salary_scaler)\n",
    "        print(f\"Epoch {epoch + 1}, Validation Loss: {loss.item():.4f}\")\n",
    "        print(f\"Average Error: {avg_error:.2f}\")\n"
   ],
   "outputs": [
    {
     "name": "stderr",
     "output_type": "stream",
     "text": [
      "/Users/bastienjossen/anaconda3/envs/pytorch_mps/lib/python3.11/site-packages/opacus/privacy_engine.py:95: UserWarning: Secure RNG turned off. This is perfectly fine for experimentation as it allows for much faster training performance, but remember to turn it on and retrain one last time before production with ``secure_mode`` turned on.\n",
      "  warnings.warn(\n",
      "/Users/bastienjossen/anaconda3/envs/pytorch_mps/lib/python3.11/site-packages/torch/nn/modules/module.py:1352: UserWarning: Using a non-full backward hook when the forward contains multiple autograd Nodes is deprecated and will be removed in future versions. This hook will be missing some grad_input. Please use register_full_backward_hook to get the documented behavior.\n",
      "  warnings.warn(\"Using a non-full backward hook when the forward contains multiple autograd Nodes \"\n",
      "/Users/bastienjossen/anaconda3/envs/pytorch_mps/lib/python3.11/site-packages/torch/nn/modules/module.py:1352: UserWarning: Using a non-full backward hook when the forward contains multiple autograd Nodes is deprecated and will be removed in future versions. This hook will be missing some grad_input. Please use register_full_backward_hook to get the documented behavior.\n",
      "  warnings.warn(\"Using a non-full backward hook when the forward contains multiple autograd Nodes \"\n"
     ]
    },
    {
     "name": "stdout",
     "output_type": "stream",
     "text": [
      "Epoch 1, Validation Loss: 0.6482\n",
      "Average Error: 35827.94\n",
      "Epoch 101, Validation Loss: 0.2066\n",
      "Average Error: 16674.77\n"
     ]
    },
    {
     "name": "stderr",
     "output_type": "stream",
     "text": [
      "/Users/bastienjossen/anaconda3/envs/pytorch_mps/lib/python3.11/site-packages/torch/nn/modules/module.py:1352: UserWarning: Using a non-full backward hook when the forward contains multiple autograd Nodes is deprecated and will be removed in future versions. This hook will be missing some grad_input. Please use register_full_backward_hook to get the documented behavior.\n",
      "  warnings.warn(\"Using a non-full backward hook when the forward contains multiple autograd Nodes \"\n"
     ]
    },
    {
     "name": "stdout",
     "output_type": "stream",
     "text": [
      "Epoch 201, Validation Loss: 0.0248\n",
      "Average Error: 14298.12\n"
     ]
    },
    {
     "name": "stderr",
     "output_type": "stream",
     "text": [
      "/Users/bastienjossen/anaconda3/envs/pytorch_mps/lib/python3.11/site-packages/torch/nn/modules/module.py:1352: UserWarning: Using a non-full backward hook when the forward contains multiple autograd Nodes is deprecated and will be removed in future versions. This hook will be missing some grad_input. Please use register_full_backward_hook to get the documented behavior.\n",
      "  warnings.warn(\"Using a non-full backward hook when the forward contains multiple autograd Nodes \"\n"
     ]
    },
    {
     "name": "stdout",
     "output_type": "stream",
     "text": [
      "Epoch 301, Validation Loss: 0.2207\n",
      "Average Error: 14659.87\n"
     ]
    },
    {
     "name": "stderr",
     "output_type": "stream",
     "text": [
      "/Users/bastienjossen/anaconda3/envs/pytorch_mps/lib/python3.11/site-packages/torch/nn/modules/module.py:1352: UserWarning: Using a non-full backward hook when the forward contains multiple autograd Nodes is deprecated and will be removed in future versions. This hook will be missing some grad_input. Please use register_full_backward_hook to get the documented behavior.\n",
      "  warnings.warn(\"Using a non-full backward hook when the forward contains multiple autograd Nodes \"\n"
     ]
    },
    {
     "name": "stdout",
     "output_type": "stream",
     "text": [
      "Epoch 401, Validation Loss: 0.1195\n",
      "Average Error: 15156.51\n"
     ]
    },
    {
     "name": "stderr",
     "output_type": "stream",
     "text": [
      "/Users/bastienjossen/anaconda3/envs/pytorch_mps/lib/python3.11/site-packages/torch/nn/modules/module.py:1352: UserWarning: Using a non-full backward hook when the forward contains multiple autograd Nodes is deprecated and will be removed in future versions. This hook will be missing some grad_input. Please use register_full_backward_hook to get the documented behavior.\n",
      "  warnings.warn(\"Using a non-full backward hook when the forward contains multiple autograd Nodes \"\n"
     ]
    },
    {
     "name": "stdout",
     "output_type": "stream",
     "text": [
      "Epoch 501, Validation Loss: 0.0463\n",
      "Average Error: 13519.24\n"
     ]
    }
   ],
   "execution_count": 141
  },
  {
   "metadata": {
    "ExecuteTime": {
     "end_time": "2024-12-12T20:12:02.959232Z",
     "start_time": "2024-12-12T20:11:50.478027Z"
    }
   },
   "cell_type": "code",
   "source": [
    "# Training Without Privacy\n",
    "model_no_privacy = SalaryPredictor(input_size=len(features))\n",
    "optimizer_no_privacy = optim.Adam(model_no_privacy.parameters(), lr=1e-3)\n",
    "criterion = nn.MSELoss()\n",
    "\n",
    "\n",
    "# Training Loop Without Privacy\n",
    "for epoch in range(501):  # Example: 100 epochs\n",
    "    model_no_privacy.train()\n",
    "    for X_batch, y_batch in train_loader:\n",
    "        optimizer_no_privacy.zero_grad()\n",
    "        predictions = model_no_privacy(X_batch)\n",
    "        loss = criterion(predictions, y_batch)\n",
    "        loss.backward()\n",
    "        optimizer_no_privacy.step()\n",
    "\n",
    "    # Evaluate on validation set at each epoch\n",
    "    if epoch % 100 == 0:  # Example: Print every 10 epochs\n",
    "        preds, targets, avg_error = evaluate_model_on_original_scale(model_no_privacy, val_loader, salary_scaler)\n",
    "        print(f\"Epoch {epoch + 1}, Validation Loss: {loss.item():.4f}\")\n",
    "        print(f\"Average Error: {avg_error:.2f}\")\n"
   ],
   "id": "f4077435bc5592d1",
   "outputs": [
    {
     "name": "stdout",
     "output_type": "stream",
     "text": [
      "Epoch 1, Validation Loss: 0.2842\n",
      "Average Error: 23257.60\n",
      "Epoch 101, Validation Loss: 0.0738\n",
      "Average Error: 11617.98\n",
      "Epoch 201, Validation Loss: 0.0445\n",
      "Average Error: 9346.79\n",
      "Epoch 301, Validation Loss: 0.0082\n",
      "Average Error: 8589.14\n",
      "Epoch 401, Validation Loss: 0.0555\n",
      "Average Error: 8278.32\n",
      "Epoch 501, Validation Loss: 0.0038\n",
      "Average Error: 7201.15\n"
     ]
    }
   ],
   "execution_count": 144
  },
  {
   "cell_type": "code",
   "id": "e1f77fb1caa6b583",
   "metadata": {
    "ExecuteTime": {
     "end_time": "2024-12-12T21:55:09.954906Z",
     "start_time": "2024-12-12T21:54:39.593682Z"
    }
   },
   "source": [
    "# Initialize lists to store average errors\n",
    "avg_errors_with_dp = []\n",
    "avg_errors_without_dp = []\n",
    "\n",
    "# Training with Differential Privacy\n",
    "model = SalaryPredictor(input_size=len(features))\n",
    "optimizer = optim.Adam(model.parameters(), lr=1e-3)\n",
    "criterion = nn.MSELoss()\n",
    "\n",
    "# Enter PrivacyEngine\n",
    "privacy_engine = PrivacyEngine()\n",
    "model, optimizer, train_loader = privacy_engine.make_private(\n",
    "    module=model,\n",
    "    optimizer=optimizer,\n",
    "    data_loader=train_loader,\n",
    "    noise_multiplier=3,\n",
    "    max_grad_norm=1.0,\n",
    ")\n",
    "\n",
    "print(\"Training with Differential Privacy...\")\n",
    "for epoch in range(301):\n",
    "    model.train()\n",
    "    for X_batch, y_batch in train_loader:\n",
    "        optimizer.zero_grad()\n",
    "        predictions = model(X_batch)\n",
    "        loss = criterion(predictions, y_batch)\n",
    "        loss.backward()\n",
    "        optimizer.step()\n",
    "\n",
    "    if epoch % 10 == 0:  # Record errors every 100 epochs\n",
    "        _, _, avg_error = evaluate_model_on_original_scale(model, val_loader, salary_scaler)\n",
    "        avg_errors_with_dp.append(avg_error)\n",
    "        print(f\"Epoch {epoch + 1}, Avg Error (DP): {avg_error:.2f}\")\n",
    "\n",
    "# Training Without Differential Privacy\n",
    "model_no_privacy = SalaryPredictor(input_size=len(features))\n",
    "optimizer_no_privacy = optim.Adam(model_no_privacy.parameters(), lr=1e-3)\n",
    "\n",
    "print(\"Training without Differential Privacy...\")\n",
    "for epoch in range(301):\n",
    "    model_no_privacy.train()\n",
    "    for X_batch, y_batch in train_loader:\n",
    "        optimizer_no_privacy.zero_grad()\n",
    "        predictions = model_no_privacy(X_batch)\n",
    "        loss = criterion(predictions, y_batch)\n",
    "        loss.backward()\n",
    "        optimizer_no_privacy.step()\n",
    "\n",
    "    if epoch % 10 == 0:  # Record errors every 100 epochs\n",
    "        _, _, avg_error = evaluate_model_on_original_scale(model_no_privacy, val_loader, salary_scaler)\n",
    "        avg_errors_without_dp.append(avg_error)\n",
    "        print(f\"Epoch {epoch + 1}, Avg Error (No DP): {avg_error:.2f}\")\n",
    "\n",
    "# Plotting the Results\n",
    "epochs = range(0, 301, 10)\n",
    "\n",
    "plt.figure(figsize=(10, 6))\n",
    "plt.plot(epochs, avg_errors_with_dp, label=\"With DP\", marker=\"o\")\n",
    "plt.plot(epochs, avg_errors_without_dp, label=\"Without DP\", marker=\"o\")\n",
    "plt.xlabel(\"Epochs\")\n",
    "plt.ylabel(\"Average Salary Difference\")\n",
    "plt.title(\"Average Salary Difference with and without Differential Privacy\")\n",
    "plt.legend()\n",
    "plt.grid()\n",
    "plt.show()\n",
    "\n",
    "# Evaluate Final Models on Test Set\n",
    "print(\"Final evaluation on test set...\")\n",
    "\n",
    "# Evaluate model with DP\n",
    "_, _, avg_error_dp_test = evaluate_model_on_original_scale(model, test_loader, salary_scaler)\n",
    "print(f\"Average Test Error (With DP): {avg_error_dp_test:.2f}\")\n",
    "\n",
    "# Evaluate model without DP\n",
    "_, _, avg_error_no_dp_test = evaluate_model_on_original_scale(model_no_privacy, test_loader, salary_scaler)\n",
    "print(f\"Average Test Error (Without DP): {avg_error_no_dp_test:.2f}\")"
   ],
   "outputs": [
    {
     "name": "stderr",
     "output_type": "stream",
     "text": [
      "/Users/bastienjossen/anaconda3/envs/pytorch_mps/lib/python3.11/site-packages/opacus/privacy_engine.py:95: UserWarning: Secure RNG turned off. This is perfectly fine for experimentation as it allows for much faster training performance, but remember to turn it on and retrain one last time before production with ``secure_mode`` turned on.\n",
      "  warnings.warn(\n",
      "/Users/bastienjossen/anaconda3/envs/pytorch_mps/lib/python3.11/site-packages/torch/nn/modules/module.py:1352: UserWarning: Using a non-full backward hook when the forward contains multiple autograd Nodes is deprecated and will be removed in future versions. This hook will be missing some grad_input. Please use register_full_backward_hook to get the documented behavior.\n",
      "  hook(module, grad_output) -> tuple[Tensor] or None\n",
      "/Users/bastienjossen/anaconda3/envs/pytorch_mps/lib/python3.11/site-packages/torch/nn/modules/module.py:1352: UserWarning: Using a non-full backward hook when the forward contains multiple autograd Nodes is deprecated and will be removed in future versions. This hook will be missing some grad_input. Please use register_full_backward_hook to get the documented behavior.\n",
      "  hook(module, grad_output) -> tuple[Tensor] or None\n"
     ]
    },
    {
     "name": "stdout",
     "output_type": "stream",
     "text": [
      "Training with Differential Privacy...\n",
      "Epoch 1, Avg Error (DP): 43664.61\n",
      "Epoch 11, Avg Error (DP): 23800.79\n"
     ]
    },
    {
     "name": "stderr",
     "output_type": "stream",
     "text": [
      "/Users/bastienjossen/anaconda3/envs/pytorch_mps/lib/python3.11/site-packages/torch/nn/modules/module.py:1352: UserWarning: Using a non-full backward hook when the forward contains multiple autograd Nodes is deprecated and will be removed in future versions. This hook will be missing some grad_input. Please use register_full_backward_hook to get the documented behavior.\n",
      "  hook(module, grad_output) -> tuple[Tensor] or None\n"
     ]
    },
    {
     "name": "stdout",
     "output_type": "stream",
     "text": [
      "Epoch 21, Avg Error (DP): 22191.39\n"
     ]
    },
    {
     "name": "stderr",
     "output_type": "stream",
     "text": [
      "/Users/bastienjossen/anaconda3/envs/pytorch_mps/lib/python3.11/site-packages/torch/nn/modules/module.py:1352: UserWarning: Using a non-full backward hook when the forward contains multiple autograd Nodes is deprecated and will be removed in future versions. This hook will be missing some grad_input. Please use register_full_backward_hook to get the documented behavior.\n",
      "  hook(module, grad_output) -> tuple[Tensor] or None\n"
     ]
    },
    {
     "name": "stdout",
     "output_type": "stream",
     "text": [
      "Epoch 31, Avg Error (DP): 21736.00\n"
     ]
    },
    {
     "name": "stderr",
     "output_type": "stream",
     "text": [
      "/Users/bastienjossen/anaconda3/envs/pytorch_mps/lib/python3.11/site-packages/torch/nn/modules/module.py:1352: UserWarning: Using a non-full backward hook when the forward contains multiple autograd Nodes is deprecated and will be removed in future versions. This hook will be missing some grad_input. Please use register_full_backward_hook to get the documented behavior.\n",
      "  hook(module, grad_output) -> tuple[Tensor] or None\n"
     ]
    },
    {
     "name": "stdout",
     "output_type": "stream",
     "text": [
      "Epoch 41, Avg Error (DP): 21307.75\n"
     ]
    },
    {
     "name": "stderr",
     "output_type": "stream",
     "text": [
      "/Users/bastienjossen/anaconda3/envs/pytorch_mps/lib/python3.11/site-packages/torch/nn/modules/module.py:1352: UserWarning: Using a non-full backward hook when the forward contains multiple autograd Nodes is deprecated and will be removed in future versions. This hook will be missing some grad_input. Please use register_full_backward_hook to get the documented behavior.\n",
      "  hook(module, grad_output) -> tuple[Tensor] or None\n"
     ]
    },
    {
     "name": "stdout",
     "output_type": "stream",
     "text": [
      "Epoch 51, Avg Error (DP): 21177.56\n"
     ]
    },
    {
     "name": "stderr",
     "output_type": "stream",
     "text": [
      "/Users/bastienjossen/anaconda3/envs/pytorch_mps/lib/python3.11/site-packages/torch/nn/modules/module.py:1352: UserWarning: Using a non-full backward hook when the forward contains multiple autograd Nodes is deprecated and will be removed in future versions. This hook will be missing some grad_input. Please use register_full_backward_hook to get the documented behavior.\n",
      "  hook(module, grad_output) -> tuple[Tensor] or None\n"
     ]
    },
    {
     "name": "stdout",
     "output_type": "stream",
     "text": [
      "Epoch 61, Avg Error (DP): 19961.25\n"
     ]
    },
    {
     "name": "stderr",
     "output_type": "stream",
     "text": [
      "/Users/bastienjossen/anaconda3/envs/pytorch_mps/lib/python3.11/site-packages/torch/nn/modules/module.py:1352: UserWarning: Using a non-full backward hook when the forward contains multiple autograd Nodes is deprecated and will be removed in future versions. This hook will be missing some grad_input. Please use register_full_backward_hook to get the documented behavior.\n",
      "  hook(module, grad_output) -> tuple[Tensor] or None\n"
     ]
    },
    {
     "name": "stdout",
     "output_type": "stream",
     "text": [
      "Epoch 71, Avg Error (DP): 20266.29\n"
     ]
    },
    {
     "name": "stderr",
     "output_type": "stream",
     "text": [
      "/Users/bastienjossen/anaconda3/envs/pytorch_mps/lib/python3.11/site-packages/torch/nn/modules/module.py:1352: UserWarning: Using a non-full backward hook when the forward contains multiple autograd Nodes is deprecated and will be removed in future versions. This hook will be missing some grad_input. Please use register_full_backward_hook to get the documented behavior.\n",
      "  hook(module, grad_output) -> tuple[Tensor] or None\n"
     ]
    },
    {
     "name": "stdout",
     "output_type": "stream",
     "text": [
      "Epoch 81, Avg Error (DP): 19845.05\n"
     ]
    },
    {
     "name": "stderr",
     "output_type": "stream",
     "text": [
      "/Users/bastienjossen/anaconda3/envs/pytorch_mps/lib/python3.11/site-packages/torch/nn/modules/module.py:1352: UserWarning: Using a non-full backward hook when the forward contains multiple autograd Nodes is deprecated and will be removed in future versions. This hook will be missing some grad_input. Please use register_full_backward_hook to get the documented behavior.\n",
      "  hook(module, grad_output) -> tuple[Tensor] or None\n"
     ]
    },
    {
     "name": "stdout",
     "output_type": "stream",
     "text": [
      "Epoch 91, Avg Error (DP): 19331.32\n"
     ]
    },
    {
     "name": "stderr",
     "output_type": "stream",
     "text": [
      "/Users/bastienjossen/anaconda3/envs/pytorch_mps/lib/python3.11/site-packages/torch/nn/modules/module.py:1352: UserWarning: Using a non-full backward hook when the forward contains multiple autograd Nodes is deprecated and will be removed in future versions. This hook will be missing some grad_input. Please use register_full_backward_hook to get the documented behavior.\n",
      "  hook(module, grad_output) -> tuple[Tensor] or None\n"
     ]
    },
    {
     "name": "stdout",
     "output_type": "stream",
     "text": [
      "Epoch 101, Avg Error (DP): 19614.99\n"
     ]
    },
    {
     "name": "stderr",
     "output_type": "stream",
     "text": [
      "/Users/bastienjossen/anaconda3/envs/pytorch_mps/lib/python3.11/site-packages/torch/nn/modules/module.py:1352: UserWarning: Using a non-full backward hook when the forward contains multiple autograd Nodes is deprecated and will be removed in future versions. This hook will be missing some grad_input. Please use register_full_backward_hook to get the documented behavior.\n",
      "  hook(module, grad_output) -> tuple[Tensor] or None\n"
     ]
    },
    {
     "name": "stdout",
     "output_type": "stream",
     "text": [
      "Epoch 111, Avg Error (DP): 18477.61\n"
     ]
    },
    {
     "name": "stderr",
     "output_type": "stream",
     "text": [
      "/Users/bastienjossen/anaconda3/envs/pytorch_mps/lib/python3.11/site-packages/torch/nn/modules/module.py:1352: UserWarning: Using a non-full backward hook when the forward contains multiple autograd Nodes is deprecated and will be removed in future versions. This hook will be missing some grad_input. Please use register_full_backward_hook to get the documented behavior.\n",
      "  hook(module, grad_output) -> tuple[Tensor] or None\n"
     ]
    },
    {
     "name": "stdout",
     "output_type": "stream",
     "text": [
      "Epoch 121, Avg Error (DP): 18675.17\n"
     ]
    },
    {
     "name": "stderr",
     "output_type": "stream",
     "text": [
      "/Users/bastienjossen/anaconda3/envs/pytorch_mps/lib/python3.11/site-packages/torch/nn/modules/module.py:1352: UserWarning: Using a non-full backward hook when the forward contains multiple autograd Nodes is deprecated and will be removed in future versions. This hook will be missing some grad_input. Please use register_full_backward_hook to get the documented behavior.\n",
      "  hook(module, grad_output) -> tuple[Tensor] or None\n"
     ]
    },
    {
     "name": "stdout",
     "output_type": "stream",
     "text": [
      "Epoch 131, Avg Error (DP): 18585.80\n"
     ]
    },
    {
     "name": "stderr",
     "output_type": "stream",
     "text": [
      "/Users/bastienjossen/anaconda3/envs/pytorch_mps/lib/python3.11/site-packages/torch/nn/modules/module.py:1352: UserWarning: Using a non-full backward hook when the forward contains multiple autograd Nodes is deprecated and will be removed in future versions. This hook will be missing some grad_input. Please use register_full_backward_hook to get the documented behavior.\n",
      "  hook(module, grad_output) -> tuple[Tensor] or None\n"
     ]
    },
    {
     "name": "stdout",
     "output_type": "stream",
     "text": [
      "Epoch 141, Avg Error (DP): 18232.83\n"
     ]
    },
    {
     "name": "stderr",
     "output_type": "stream",
     "text": [
      "/Users/bastienjossen/anaconda3/envs/pytorch_mps/lib/python3.11/site-packages/torch/nn/modules/module.py:1352: UserWarning: Using a non-full backward hook when the forward contains multiple autograd Nodes is deprecated and will be removed in future versions. This hook will be missing some grad_input. Please use register_full_backward_hook to get the documented behavior.\n",
      "  hook(module, grad_output) -> tuple[Tensor] or None\n"
     ]
    },
    {
     "name": "stdout",
     "output_type": "stream",
     "text": [
      "Epoch 151, Avg Error (DP): 18475.37\n"
     ]
    },
    {
     "name": "stderr",
     "output_type": "stream",
     "text": [
      "/Users/bastienjossen/anaconda3/envs/pytorch_mps/lib/python3.11/site-packages/torch/nn/modules/module.py:1352: UserWarning: Using a non-full backward hook when the forward contains multiple autograd Nodes is deprecated and will be removed in future versions. This hook will be missing some grad_input. Please use register_full_backward_hook to get the documented behavior.\n",
      "  hook(module, grad_output) -> tuple[Tensor] or None\n"
     ]
    },
    {
     "name": "stdout",
     "output_type": "stream",
     "text": [
      "Epoch 161, Avg Error (DP): 18371.93\n"
     ]
    },
    {
     "name": "stderr",
     "output_type": "stream",
     "text": [
      "/Users/bastienjossen/anaconda3/envs/pytorch_mps/lib/python3.11/site-packages/torch/nn/modules/module.py:1352: UserWarning: Using a non-full backward hook when the forward contains multiple autograd Nodes is deprecated and will be removed in future versions. This hook will be missing some grad_input. Please use register_full_backward_hook to get the documented behavior.\n",
      "  hook(module, grad_output) -> tuple[Tensor] or None\n"
     ]
    },
    {
     "name": "stdout",
     "output_type": "stream",
     "text": [
      "Epoch 171, Avg Error (DP): 17796.92\n"
     ]
    },
    {
     "name": "stderr",
     "output_type": "stream",
     "text": [
      "/Users/bastienjossen/anaconda3/envs/pytorch_mps/lib/python3.11/site-packages/torch/nn/modules/module.py:1352: UserWarning: Using a non-full backward hook when the forward contains multiple autograd Nodes is deprecated and will be removed in future versions. This hook will be missing some grad_input. Please use register_full_backward_hook to get the documented behavior.\n",
      "  hook(module, grad_output) -> tuple[Tensor] or None\n"
     ]
    },
    {
     "name": "stdout",
     "output_type": "stream",
     "text": [
      "Epoch 181, Avg Error (DP): 19125.22\n"
     ]
    },
    {
     "name": "stderr",
     "output_type": "stream",
     "text": [
      "/Users/bastienjossen/anaconda3/envs/pytorch_mps/lib/python3.11/site-packages/torch/nn/modules/module.py:1352: UserWarning: Using a non-full backward hook when the forward contains multiple autograd Nodes is deprecated and will be removed in future versions. This hook will be missing some grad_input. Please use register_full_backward_hook to get the documented behavior.\n",
      "  hook(module, grad_output) -> tuple[Tensor] or None\n"
     ]
    },
    {
     "name": "stdout",
     "output_type": "stream",
     "text": [
      "Epoch 191, Avg Error (DP): 17685.89\n"
     ]
    },
    {
     "name": "stderr",
     "output_type": "stream",
     "text": [
      "/Users/bastienjossen/anaconda3/envs/pytorch_mps/lib/python3.11/site-packages/torch/nn/modules/module.py:1352: UserWarning: Using a non-full backward hook when the forward contains multiple autograd Nodes is deprecated and will be removed in future versions. This hook will be missing some grad_input. Please use register_full_backward_hook to get the documented behavior.\n",
      "  hook(module, grad_output) -> tuple[Tensor] or None\n"
     ]
    },
    {
     "name": "stdout",
     "output_type": "stream",
     "text": [
      "Epoch 201, Avg Error (DP): 18408.53\n"
     ]
    },
    {
     "name": "stderr",
     "output_type": "stream",
     "text": [
      "/Users/bastienjossen/anaconda3/envs/pytorch_mps/lib/python3.11/site-packages/torch/nn/modules/module.py:1352: UserWarning: Using a non-full backward hook when the forward contains multiple autograd Nodes is deprecated and will be removed in future versions. This hook will be missing some grad_input. Please use register_full_backward_hook to get the documented behavior.\n",
      "  hook(module, grad_output) -> tuple[Tensor] or None\n"
     ]
    },
    {
     "name": "stdout",
     "output_type": "stream",
     "text": [
      "Epoch 211, Avg Error (DP): 18168.79\n"
     ]
    },
    {
     "name": "stderr",
     "output_type": "stream",
     "text": [
      "/Users/bastienjossen/anaconda3/envs/pytorch_mps/lib/python3.11/site-packages/torch/nn/modules/module.py:1352: UserWarning: Using a non-full backward hook when the forward contains multiple autograd Nodes is deprecated and will be removed in future versions. This hook will be missing some grad_input. Please use register_full_backward_hook to get the documented behavior.\n",
      "  hook(module, grad_output) -> tuple[Tensor] or None\n"
     ]
    },
    {
     "name": "stdout",
     "output_type": "stream",
     "text": [
      "Epoch 221, Avg Error (DP): 17658.97\n"
     ]
    },
    {
     "name": "stderr",
     "output_type": "stream",
     "text": [
      "/Users/bastienjossen/anaconda3/envs/pytorch_mps/lib/python3.11/site-packages/torch/nn/modules/module.py:1352: UserWarning: Using a non-full backward hook when the forward contains multiple autograd Nodes is deprecated and will be removed in future versions. This hook will be missing some grad_input. Please use register_full_backward_hook to get the documented behavior.\n",
      "  hook(module, grad_output) -> tuple[Tensor] or None\n"
     ]
    },
    {
     "name": "stdout",
     "output_type": "stream",
     "text": [
      "Epoch 231, Avg Error (DP): 17368.63\n"
     ]
    },
    {
     "name": "stderr",
     "output_type": "stream",
     "text": [
      "/Users/bastienjossen/anaconda3/envs/pytorch_mps/lib/python3.11/site-packages/torch/nn/modules/module.py:1352: UserWarning: Using a non-full backward hook when the forward contains multiple autograd Nodes is deprecated and will be removed in future versions. This hook will be missing some grad_input. Please use register_full_backward_hook to get the documented behavior.\n",
      "  hook(module, grad_output) -> tuple[Tensor] or None\n"
     ]
    },
    {
     "name": "stdout",
     "output_type": "stream",
     "text": [
      "Epoch 241, Avg Error (DP): 16926.23\n"
     ]
    },
    {
     "name": "stderr",
     "output_type": "stream",
     "text": [
      "/Users/bastienjossen/anaconda3/envs/pytorch_mps/lib/python3.11/site-packages/torch/nn/modules/module.py:1352: UserWarning: Using a non-full backward hook when the forward contains multiple autograd Nodes is deprecated and will be removed in future versions. This hook will be missing some grad_input. Please use register_full_backward_hook to get the documented behavior.\n",
      "  hook(module, grad_output) -> tuple[Tensor] or None\n"
     ]
    },
    {
     "name": "stdout",
     "output_type": "stream",
     "text": [
      "Epoch 251, Avg Error (DP): 17189.70\n"
     ]
    },
    {
     "name": "stderr",
     "output_type": "stream",
     "text": [
      "/Users/bastienjossen/anaconda3/envs/pytorch_mps/lib/python3.11/site-packages/torch/nn/modules/module.py:1352: UserWarning: Using a non-full backward hook when the forward contains multiple autograd Nodes is deprecated and will be removed in future versions. This hook will be missing some grad_input. Please use register_full_backward_hook to get the documented behavior.\n",
      "  hook(module, grad_output) -> tuple[Tensor] or None\n"
     ]
    },
    {
     "name": "stdout",
     "output_type": "stream",
     "text": [
      "Epoch 261, Avg Error (DP): 17227.23\n"
     ]
    },
    {
     "name": "stderr",
     "output_type": "stream",
     "text": [
      "/Users/bastienjossen/anaconda3/envs/pytorch_mps/lib/python3.11/site-packages/torch/nn/modules/module.py:1352: UserWarning: Using a non-full backward hook when the forward contains multiple autograd Nodes is deprecated and will be removed in future versions. This hook will be missing some grad_input. Please use register_full_backward_hook to get the documented behavior.\n",
      "  hook(module, grad_output) -> tuple[Tensor] or None\n"
     ]
    },
    {
     "name": "stdout",
     "output_type": "stream",
     "text": [
      "Epoch 271, Avg Error (DP): 17916.39\n"
     ]
    },
    {
     "name": "stderr",
     "output_type": "stream",
     "text": [
      "/Users/bastienjossen/anaconda3/envs/pytorch_mps/lib/python3.11/site-packages/torch/nn/modules/module.py:1352: UserWarning: Using a non-full backward hook when the forward contains multiple autograd Nodes is deprecated and will be removed in future versions. This hook will be missing some grad_input. Please use register_full_backward_hook to get the documented behavior.\n",
      "  hook(module, grad_output) -> tuple[Tensor] or None\n"
     ]
    },
    {
     "name": "stdout",
     "output_type": "stream",
     "text": [
      "Epoch 281, Avg Error (DP): 18471.24\n"
     ]
    },
    {
     "name": "stderr",
     "output_type": "stream",
     "text": [
      "/Users/bastienjossen/anaconda3/envs/pytorch_mps/lib/python3.11/site-packages/torch/nn/modules/module.py:1352: UserWarning: Using a non-full backward hook when the forward contains multiple autograd Nodes is deprecated and will be removed in future versions. This hook will be missing some grad_input. Please use register_full_backward_hook to get the documented behavior.\n",
      "  hook(module, grad_output) -> tuple[Tensor] or None\n"
     ]
    },
    {
     "name": "stdout",
     "output_type": "stream",
     "text": [
      "Epoch 291, Avg Error (DP): 18403.83\n"
     ]
    },
    {
     "name": "stderr",
     "output_type": "stream",
     "text": [
      "/Users/bastienjossen/anaconda3/envs/pytorch_mps/lib/python3.11/site-packages/torch/nn/modules/module.py:1352: UserWarning: Using a non-full backward hook when the forward contains multiple autograd Nodes is deprecated and will be removed in future versions. This hook will be missing some grad_input. Please use register_full_backward_hook to get the documented behavior.\n",
      "  hook(module, grad_output) -> tuple[Tensor] or None\n"
     ]
    },
    {
     "name": "stdout",
     "output_type": "stream",
     "text": [
      "Epoch 301, Avg Error (DP): 18059.19\n",
      "Training without Differential Privacy...\n",
      "Epoch 1, Avg Error (No DP): 22081.88\n",
      "Epoch 11, Avg Error (No DP): 16374.58\n",
      "Epoch 21, Avg Error (No DP): 14904.70\n",
      "Epoch 31, Avg Error (No DP): 13537.07\n",
      "Epoch 41, Avg Error (No DP): 13548.78\n",
      "Epoch 51, Avg Error (No DP): 12212.96\n",
      "Epoch 61, Avg Error (No DP): 11487.94\n",
      "Epoch 71, Avg Error (No DP): 11172.37\n",
      "Epoch 81, Avg Error (No DP): 11731.29\n",
      "Epoch 91, Avg Error (No DP): 10846.50\n",
      "Epoch 101, Avg Error (No DP): 10802.40\n",
      "Epoch 111, Avg Error (No DP): 10792.68\n",
      "Epoch 121, Avg Error (No DP): 10486.46\n",
      "Epoch 131, Avg Error (No DP): 9643.45\n",
      "Epoch 141, Avg Error (No DP): 9744.81\n",
      "Epoch 151, Avg Error (No DP): 9815.55\n",
      "Epoch 161, Avg Error (No DP): 9370.68\n",
      "Epoch 171, Avg Error (No DP): 8949.13\n",
      "Epoch 181, Avg Error (No DP): 8678.64\n",
      "Epoch 191, Avg Error (No DP): 8422.21\n",
      "Epoch 201, Avg Error (No DP): 8679.71\n",
      "Epoch 211, Avg Error (No DP): 8346.47\n",
      "Epoch 221, Avg Error (No DP): 8196.84\n",
      "Epoch 231, Avg Error (No DP): 9026.63\n",
      "Epoch 241, Avg Error (No DP): 7881.81\n",
      "Epoch 251, Avg Error (No DP): 7993.46\n",
      "Epoch 261, Avg Error (No DP): 8171.36\n",
      "Epoch 271, Avg Error (No DP): 7811.82\n",
      "Epoch 281, Avg Error (No DP): 7809.81\n",
      "Epoch 291, Avg Error (No DP): 7742.45\n",
      "Epoch 301, Avg Error (No DP): 7459.53\n"
     ]
    },
    {
     "data": {
      "text/plain": [
       "<Figure size 1000x600 with 1 Axes>"
      ],
      "image/png": "[encoded data removed]"
     },
     "metadata": {},
     "output_type": "display_data"
    },
    {
     "name": "stdout",
     "output_type": "stream",
     "text": [
      "Final evaluation on test set...\n",
      "Average Test Error (With DP): 17643.52\n",
      "Average Test Error (Without DP): 7480.72\n"
     ]
    }
   ],
   "execution_count": 178
  },
  {
   "cell_type": "code",
   "id": "e44f50f61bcb06d7",
   "metadata": {
    "ExecuteTime": {
     "end_time": "2024-12-12T21:55:10.161846Z",
     "start_time": "2024-12-12T21:55:09.956219Z"
    }
   },
   "source": [
    "delta = 1 / df.size\n",
    "epsilon = privacy_engine.get_epsilon(delta)\n",
    "print(f\"ε = {epsilon:.2f} delta={delta}\")"
   ],
   "outputs": [
    {
     "name": "stdout",
     "output_type": "stream",
     "text": [
      "ε = 2.40 delta=3.680800942285041e-05\n"
     ]
    },
    {
     "name": "stderr",
     "output_type": "stream",
     "text": [
      "/Users/bastienjossen/anaconda3/envs/pytorch_mps/lib/python3.11/site-packages/opacus/accountants/analysis/rdp.py:332: UserWarning: Optimal order is the largest alpha. Please consider expanding the range of alphas to get a tighter privacy bound.\n",
      "  warnings.warn(\n"
     ]
    }
   ],
   "execution_count": 179
  },
  {
   "cell_type": "markdown",
   "id": "a5d57c583459ccb2",
   "metadata": {},
   "source": [
    "Test loss 0.18"
   ]
  },
  {
   "cell_type": "code",
   "execution_count": 19,
   "id": "c3aa3980",
   "metadata": {
    "ExecuteTime": {
     "end_time": "2024-11-11T11:44:00.134554Z",
     "start_time": "2024-11-11T11:44:00.129866Z"
    }
   },
   "outputs": [
    {
     "data": {
      "text/html": [
       "<div>\n",
       "<style scoped>\n",
       "    .dataframe tbody tr th:only-of-type {\n",
       "        vertical-align: middle;\n",
       "    }\n",
       "\n",
       "    .dataframe tbody tr th {\n",
       "        vertical-align: top;\n",
       "    }\n",
       "\n",
       "    .dataframe thead th {\n",
       "        text-align: right;\n",
       "    }\n",
       "</style>\n",
       "<table border=\"1\" class=\"dataframe\">\n",
       "  <thead>\n",
       "    <tr style=\"text-align: right;\">\n",
       "      <th></th>\n",
       "      <th>Age</th>\n",
       "      <th>Gender</th>\n",
       "      <th>Education Level</th>\n",
       "      <th>Job Title</th>\n",
       "      <th>Years of Experience</th>\n",
       "      <th>Salary</th>\n",
       "    </tr>\n",
       "  </thead>\n",
       "  <tbody>\n",
       "    <tr>\n",
       "      <th>0</th>\n",
       "      <td>32.0</td>\n",
       "      <td>0</td>\n",
       "      <td>1</td>\n",
       "      <td>Software Engineer</td>\n",
       "      <td>5.0</td>\n",
       "      <td>90000.0</td>\n",
       "    </tr>\n",
       "    <tr>\n",
       "      <th>1</th>\n",
       "      <td>28.0</td>\n",
       "      <td>1</td>\n",
       "      <td>2</td>\n",
       "      <td>Data Analyst</td>\n",
       "      <td>3.0</td>\n",
       "      <td>65000.0</td>\n",
       "    </tr>\n",
       "    <tr>\n",
       "      <th>5</th>\n",
       "      <td>29.0</td>\n",
       "      <td>0</td>\n",
       "      <td>1</td>\n",
       "      <td>Marketing Analyst</td>\n",
       "      <td>2.0</td>\n",
       "      <td>55000.0</td>\n",
       "    </tr>\n",
       "    <tr>\n",
       "      <th>6</th>\n",
       "      <td>42.0</td>\n",
       "      <td>1</td>\n",
       "      <td>2</td>\n",
       "      <td>Product Manager</td>\n",
       "      <td>12.0</td>\n",
       "      <td>120000.0</td>\n",
       "    </tr>\n",
       "    <tr>\n",
       "      <th>8</th>\n",
       "      <td>26.0</td>\n",
       "      <td>1</td>\n",
       "      <td>1</td>\n",
       "      <td>Marketing Coordinator</td>\n",
       "      <td>1.0</td>\n",
       "      <td>45000.0</td>\n",
       "    </tr>\n",
       "    <tr>\n",
       "      <th>...</th>\n",
       "      <td>...</td>\n",
       "      <td>...</td>\n",
       "      <td>...</td>\n",
       "      <td>...</td>\n",
       "      <td>...</td>\n",
       "      <td>...</td>\n",
       "    </tr>\n",
       "    <tr>\n",
       "      <th>6682</th>\n",
       "      <td>28.0</td>\n",
       "      <td>0</td>\n",
       "      <td>3</td>\n",
       "      <td>Marketing Manager</td>\n",
       "      <td>4.0</td>\n",
       "      <td>55000.0</td>\n",
       "    </tr>\n",
       "    <tr>\n",
       "      <th>6690</th>\n",
       "      <td>42.0</td>\n",
       "      <td>0</td>\n",
       "      <td>1</td>\n",
       "      <td>Financial Manager</td>\n",
       "      <td>13.0</td>\n",
       "      <td>130000.0</td>\n",
       "    </tr>\n",
       "    <tr>\n",
       "      <th>6691</th>\n",
       "      <td>36.0</td>\n",
       "      <td>1</td>\n",
       "      <td>3</td>\n",
       "      <td>Marketing Manager</td>\n",
       "      <td>9.0</td>\n",
       "      <td>95000.0</td>\n",
       "    </tr>\n",
       "    <tr>\n",
       "      <th>6701</th>\n",
       "      <td>30.0</td>\n",
       "      <td>1</td>\n",
       "      <td>1</td>\n",
       "      <td>Financial Manager</td>\n",
       "      <td>4.0</td>\n",
       "      <td>55000.0</td>\n",
       "    </tr>\n",
       "    <tr>\n",
       "      <th>6702</th>\n",
       "      <td>46.0</td>\n",
       "      <td>0</td>\n",
       "      <td>2</td>\n",
       "      <td>Marketing Manager</td>\n",
       "      <td>14.0</td>\n",
       "      <td>140000.0</td>\n",
       "    </tr>\n",
       "  </tbody>\n",
       "</table>\n",
       "<p>4529 rows × 6 columns</p>\n",
       "</div>"
      ],
      "text/plain": [
       "       Age  Gender Education Level              Job Title  \\\n",
       "0     32.0       0               1      Software Engineer   \n",
       "1     28.0       1               2           Data Analyst   \n",
       "5     29.0       0               1      Marketing Analyst   \n",
       "6     42.0       1               2        Product Manager   \n",
       "8     26.0       1               1  Marketing Coordinator   \n",
       "...    ...     ...             ...                    ...   \n",
       "6682  28.0       0               3      Marketing Manager   \n",
       "6690  42.0       0               1      Financial Manager   \n",
       "6691  36.0       1               3      Marketing Manager   \n",
       "6701  30.0       1               1      Financial Manager   \n",
       "6702  46.0       0               2      Marketing Manager   \n",
       "\n",
       "      Years of Experience    Salary  \n",
       "0                     5.0   90000.0  \n",
       "1                     3.0   65000.0  \n",
       "5                     2.0   55000.0  \n",
       "6                    12.0  120000.0  \n",
       "8                     1.0   45000.0  \n",
       "...                   ...       ...  \n",
       "6682                  4.0   55000.0  \n",
       "6690                 13.0  130000.0  \n",
       "6691                  9.0   95000.0  \n",
       "6701                  4.0   55000.0  \n",
       "6702                 14.0  140000.0  \n",
       "\n",
       "[4529 rows x 6 columns]"
      ]
     },
     "execution_count": 19,
     "metadata": {},
     "output_type": "execute_result"
    }
   ],
   "source": [
    "df"
   ]
  },
  {
   "cell_type": "markdown",
   "id": "c398da11",
   "metadata": {},
   "source": [
    "It's important to note that these values represent the increase in the model's error when the feature is permuted. A larger increase in error indicates that the feature is more important for the model's predictions"
   ]
  },
  {
   "cell_type": "markdown",
   "id": "4eae3e99c1e2fc22",
   "metadata": {},
   "source": [
    "# Is Uni worth it?"
   ]
  },
  {
   "cell_type": "code",
   "execution_count": 23,
   "id": "c2782d75213a6626",
   "metadata": {},
   "outputs": [
    {
     "name": "stdout",
     "output_type": "stream",
     "text": [
      "tensor([[ 2.0894],\n",
      "        [ 1.5285],\n",
      "        [ 0.1004],\n",
      "        [-1.3419]])\n",
      "Datapoint 1: Predicted Salary = $211993.93\n",
      "Datapoint 2: Predicted Salary = $185075.86\n",
      "Datapoint 3: Predicted Salary = $116533.76\n",
      "Datapoint 4: Predicted Salary = $47307.40\n"
     ]
    }
   ],
   "source": [
    "#Other model\n",
    "## The idea is to see if 4 years of experience is worth more than a Bachelor or 6 years more than a Master's or 10 years more than a PhD\n",
    "\n",
    "#make fake data for seeing if uni is worth it\n",
    "\n",
    "\n",
    "df_fake = pd.DataFrame([\n",
    "    [27, \"Male\", \"High School\", \"Software Engineer\", 9, 1],\n",
    "    [27, \"Male\", \"Bachelor's\", \"Software Engineer\",6 , 1],\n",
    "    [27, \"Male\", \"Master's\", \"Software Engineer\", 4, 1],\n",
    "    [27, \"Male\", \"PhD\", \"Software Engineer\", 2, 1]\n",
    "], columns=[\"Age\", \"Gender\", \"Education Level\", \"Job Title\", \"Years of Experience\", \"Salary\"])\n",
    "\n",
    "\n",
    "\n",
    "# -----------NOT NECESSARY IF ALREADY DONE -------------\n",
    "# Encode 'Education Level' for simplicity\n",
    "education_mapping = {'High School': 0, 'Bachelor\\'s': 1, 'Master\\'s': 2, 'PhD': 3}\n",
    "df_fake['Education Level'] = df_fake['Education Level'].map(education_mapping).copy()\n",
    "\n",
    "# Encode 'Gender'\n",
    "gender_mapping = {'Male': 0, 'Female': 1}\n",
    "df_fake['Gender'] = df_fake['Gender'].map(gender_mapping).copy()\n",
    "\n",
    "\n",
    "# Scale 'Years of Experience', 'Age', and 'Salary' for stability\n",
    "scaler = joblib.load(\"C:\\Master\\ML_theory\\Github\\ml_project\\Salary new dataset\\scaler_only_se\")\n",
    "df_fake[['Years of Experience', \"Salary\", 'Age']] = scaler.transform(df_fake[['Years of Experience', \"Salary\", 'Age']])\n",
    "\n",
    "\n",
    "X_train = torch.tensor(df_fake[['Years of Experience', 'Education Level', 'Gender', 'Age']].values, dtype=torch.float32)\n",
    "\n",
    "model_SE_gen_age.load_state_dict(torch.load(\"C:\\Master\\ML_theory\\Github\\ml_project\\Salary new dataset\\model_SE_gen_age.pth\")) #load the model\n",
    "model_SE_gen_age.eval()\n",
    "\n",
    "with torch.no_grad():\n",
    "    predictions = model_SE_gen_age(X_train)\n",
    "\n",
    "print(predictions)\n",
    "\n",
    "predictions_np = predictions.numpy()\n",
    "\n",
    "dummy_array = np.zeros((len(predictions_np), 3))  # 3 columns for Years of Experience, Salary, Age\n",
    "dummy_array[:, 0] = df_fake['Years of Experience']  # Scaled Years of Experience\n",
    "dummy_array[:, 1] = predictions_np.flatten()  # Predictions (to be treated as Salary)\n",
    "dummy_array[:, 2] = df_fake['Age']  # Scaled Age\n",
    "\n",
    "# Inverse transform using the scaler\n",
    "real_salaries = scaler.inverse_transform(dummy_array)[:, 1]  # Extract only the Salary column\n",
    "\n",
    "# Print the real salaries\n",
    "for i, salary in enumerate(real_salaries):\n",
    "    print(f\"Datapoint {i+1}: Predicted Salary = ${salary:.2f}\")\n"
   ]
  }
 ],
 "metadata": {
  "kernelspec": {
   "display_name": "Python 3",
   "language": "python",
   "name": "python3"
  },
  "language_info": {
   "codemirror_mode": {
    "name": "ipython",
    "version": 3
   },
   "file_extension": ".py",
   "mimetype": "text/x-python",
   "name": "python",
   "nbconvert_exporter": "python",
   "pygments_lexer": "ipython3",
   "version": "3.11.9"
  }
 },
 "nbformat": 4,
 "nbformat_minor": 5
}
