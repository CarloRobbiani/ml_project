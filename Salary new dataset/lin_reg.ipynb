{
 "cells": [
  {
   "metadata": {},
   "cell_type": "markdown",
   "source": [
    "# Linear Regression (Baseline Model)\n",
    "In this notebook we will use the linear regression to predict salaries."
   ]
  },
  {
   "metadata": {},
   "cell_type": "markdown",
   "source": "### Importing the libraries and Dataset preparation"
  },
  {
   "cell_type": "code",
   "metadata": {
    "ExecuteTime": {
     "end_time": "2025-01-09T19:05:44.275108Z",
     "start_time": "2025-01-09T19:05:44.196748Z"
    }
   },
   "source": [
    "import pandas as pd\n",
    "import numpy as np\n",
    "from sklearn.model_selection import train_test_split\n",
    "from sklearn.preprocessing import OneHotEncoder, StandardScaler\n",
    "from sklearn.compose import ColumnTransformer\n",
    "from sklearn.pipeline import Pipeline\n",
    "from sklearn.impute import SimpleImputer\n",
    "from sklearn.linear_model import LinearRegression\n",
    "from sklearn.metrics import mean_squared_error, r2_score\n",
    "\n",
    "path = 'Salary_Data.csv'\n",
    "\n",
    "df = pd.read_csv(path)\n",
    "df = df.dropna()\n",
    "df = df.dropna(subset=['Salary'])\n",
    "\n",
    "df['Education Level'] = df['Education Level'].replace(\"Bachelor's Degree\", \"Bachelor's\")\n",
    "df['Education Level'] = df['Education Level'].replace(\"phD\", \"PhD\")\n",
    "df['Education Level'] = df['Education Level'].replace(\"Master's Degree\", \"Master's\")\n",
    "\n",
    "# Remove Jobs with less than 100 data points\n",
    "df = df.groupby('Job Title').filter(lambda x: len(x) > 100)\n",
    "\n",
    "X = df.drop('Salary', axis=1)\n",
    "y = df['Salary']\n",
    "df['Job Title'].value_counts()"
   ],
   "outputs": [
    {
     "data": {
      "text/plain": [
       "Job Title\n",
       "Software Engineer            518\n",
       "Data Scientist               453\n",
       "Software Engineer Manager    376\n",
       "Data Analyst                 363\n",
       "Senior Project Engineer      318\n",
       "Product Manager              313\n",
       "Full Stack Engineer          308\n",
       "Marketing Manager            255\n",
       "Senior Software Engineer     244\n",
       "Back end Developer           244\n",
       "Front end Developer          241\n",
       "Marketing Coordinator        158\n",
       "Junior Sales Associate       142\n",
       "Financial Manager            134\n",
       "Marketing Analyst            132\n",
       "Software Developer           125\n",
       "Operations Manager           114\n",
       "Human Resources Manager      104\n",
       "Name: count, dtype: int64"
      ]
     },
     "execution_count": 17,
     "metadata": {},
     "output_type": "execute_result"
    }
   ],
   "execution_count": 17
  },
  {
   "metadata": {},
   "cell_type": "markdown",
   "source": "### Preprocessing and model definition"
  },
  {
   "cell_type": "code",
   "metadata": {
    "ExecuteTime": {
     "end_time": "2025-01-09T19:05:49.957778Z",
     "start_time": "2025-01-09T19:05:49.945748Z"
    }
   },
   "source": [
    "X_train, X_test, y_train, y_test = train_test_split(X, y, test_size=0.2, random_state=42)\n",
    "\n",
    "numeric_features = ['Age', 'Years of Experience']\n",
    "categorical_features = ['Gender', 'Education Level', 'Job Title']\n",
    "\n",
    "numeric_transformer = SimpleImputer(strategy='mean')\n",
    "categorical_transformer = Pipeline(steps=[\n",
    "    ('imputer', SimpleImputer(strategy='constant', fill_value='missing')),\n",
    "    ('onehot', OneHotEncoder(handle_unknown='ignore'))\n",
    "])\n",
    "\n",
    "preprocessor = ColumnTransformer(\n",
    "    transformers=[\n",
    "        ('num', numeric_transformer, numeric_features),\n",
    "        ('cat', categorical_transformer, categorical_features)\n",
    "    ])\n",
    "\n",
    "model = Pipeline(steps=[('preprocessor', preprocessor),\n",
    "                        ('regressor', LinearRegression())])"
   ],
   "outputs": [],
   "execution_count": 18
  },
  {
   "cell_type": "code",
   "metadata": {
    "ExecuteTime": {
     "end_time": "2025-01-09T19:05:52.225946Z",
     "start_time": "2025-01-09T19:05:52.218230Z"
    }
   },
   "source": [
    "X_train"
   ],
   "outputs": [
    {
     "data": {
      "text/plain": [
       "       Age  Gender Education Level                Job Title  \\\n",
       "6208  30.0  Female      Bachelor's    Marketing Coordinator   \n",
       "3310  24.0  Female      Bachelor's       Software Developer   \n",
       "2232  43.0  Female             PhD  Senior Project Engineer   \n",
       "1833  30.0    Male      Bachelor's       Back end Developer   \n",
       "2735  34.0    Male        Master's             Data Analyst   \n",
       "...    ...     ...             ...                      ...   \n",
       "6221  25.0    Male      Bachelor's          Product Manager   \n",
       "819   31.0    Male      Bachelor's             Data Analyst   \n",
       "3845  30.0    Male      Bachelor's       Operations Manager   \n",
       "4952  30.0    Male        Master's        Financial Manager   \n",
       "1213  37.0    Male        Master's  Senior Project Engineer   \n",
       "\n",
       "      Years of Experience  \n",
       "6208                  5.0  \n",
       "3310                  2.0  \n",
       "2232                 14.0  \n",
       "1833                  5.0  \n",
       "2735                  8.0  \n",
       "...                   ...  \n",
       "6221                  1.0  \n",
       "819                   9.0  \n",
       "3845                  5.0  \n",
       "4952                  7.0  \n",
       "1213                  9.0  \n",
       "\n",
       "[3633 rows x 5 columns]"
      ],
      "text/html": [
       "<div>\n",
       "<style scoped>\n",
       "    .dataframe tbody tr th:only-of-type {\n",
       "        vertical-align: middle;\n",
       "    }\n",
       "\n",
       "    .dataframe tbody tr th {\n",
       "        vertical-align: top;\n",
       "    }\n",
       "\n",
       "    .dataframe thead th {\n",
       "        text-align: right;\n",
       "    }\n",
       "</style>\n",
       "<table border=\"1\" class=\"dataframe\">\n",
       "  <thead>\n",
       "    <tr style=\"text-align: right;\">\n",
       "      <th></th>\n",
       "      <th>Age</th>\n",
       "      <th>Gender</th>\n",
       "      <th>Education Level</th>\n",
       "      <th>Job Title</th>\n",
       "      <th>Years of Experience</th>\n",
       "    </tr>\n",
       "  </thead>\n",
       "  <tbody>\n",
       "    <tr>\n",
       "      <th>6208</th>\n",
       "      <td>30.0</td>\n",
       "      <td>Female</td>\n",
       "      <td>Bachelor's</td>\n",
       "      <td>Marketing Coordinator</td>\n",
       "      <td>5.0</td>\n",
       "    </tr>\n",
       "    <tr>\n",
       "      <th>3310</th>\n",
       "      <td>24.0</td>\n",
       "      <td>Female</td>\n",
       "      <td>Bachelor's</td>\n",
       "      <td>Software Developer</td>\n",
       "      <td>2.0</td>\n",
       "    </tr>\n",
       "    <tr>\n",
       "      <th>2232</th>\n",
       "      <td>43.0</td>\n",
       "      <td>Female</td>\n",
       "      <td>PhD</td>\n",
       "      <td>Senior Project Engineer</td>\n",
       "      <td>14.0</td>\n",
       "    </tr>\n",
       "    <tr>\n",
       "      <th>1833</th>\n",
       "      <td>30.0</td>\n",
       "      <td>Male</td>\n",
       "      <td>Bachelor's</td>\n",
       "      <td>Back end Developer</td>\n",
       "      <td>5.0</td>\n",
       "    </tr>\n",
       "    <tr>\n",
       "      <th>2735</th>\n",
       "      <td>34.0</td>\n",
       "      <td>Male</td>\n",
       "      <td>Master's</td>\n",
       "      <td>Data Analyst</td>\n",
       "      <td>8.0</td>\n",
       "    </tr>\n",
       "    <tr>\n",
       "      <th>...</th>\n",
       "      <td>...</td>\n",
       "      <td>...</td>\n",
       "      <td>...</td>\n",
       "      <td>...</td>\n",
       "      <td>...</td>\n",
       "    </tr>\n",
       "    <tr>\n",
       "      <th>6221</th>\n",
       "      <td>25.0</td>\n",
       "      <td>Male</td>\n",
       "      <td>Bachelor's</td>\n",
       "      <td>Product Manager</td>\n",
       "      <td>1.0</td>\n",
       "    </tr>\n",
       "    <tr>\n",
       "      <th>819</th>\n",
       "      <td>31.0</td>\n",
       "      <td>Male</td>\n",
       "      <td>Bachelor's</td>\n",
       "      <td>Data Analyst</td>\n",
       "      <td>9.0</td>\n",
       "    </tr>\n",
       "    <tr>\n",
       "      <th>3845</th>\n",
       "      <td>30.0</td>\n",
       "      <td>Male</td>\n",
       "      <td>Bachelor's</td>\n",
       "      <td>Operations Manager</td>\n",
       "      <td>5.0</td>\n",
       "    </tr>\n",
       "    <tr>\n",
       "      <th>4952</th>\n",
       "      <td>30.0</td>\n",
       "      <td>Male</td>\n",
       "      <td>Master's</td>\n",
       "      <td>Financial Manager</td>\n",
       "      <td>7.0</td>\n",
       "    </tr>\n",
       "    <tr>\n",
       "      <th>1213</th>\n",
       "      <td>37.0</td>\n",
       "      <td>Male</td>\n",
       "      <td>Master's</td>\n",
       "      <td>Senior Project Engineer</td>\n",
       "      <td>9.0</td>\n",
       "    </tr>\n",
       "  </tbody>\n",
       "</table>\n",
       "<p>3633 rows × 5 columns</p>\n",
       "</div>"
      ]
     },
     "execution_count": 19,
     "metadata": {},
     "output_type": "execute_result"
    }
   ],
   "execution_count": 19
  },
  {
   "metadata": {},
   "cell_type": "markdown",
   "source": "### Model training and evaluation"
  },
  {
   "cell_type": "code",
   "metadata": {
    "ExecuteTime": {
     "end_time": "2025-01-09T19:06:39.723457Z",
     "start_time": "2025-01-09T19:06:39.700615Z"
    }
   },
   "source": [
    "model.fit(X_train, y_train)\n",
    "\n",
    "feature_names = (\n",
    "    model.named_steps['preprocessor']\n",
    "    .named_transformers_['cat']\n",
    "    .named_steps['onehot']\n",
    "    .get_feature_names_out(categorical_features)\n",
    "    .tolist()\n",
    ")\n",
    "feature_names = numeric_features + feature_names\n",
    "\n",
    "# Step 7: Make predictions on the test set\n",
    "y_pred = model.predict(X_test)\n",
    "\n",
    "# Step 8: Evaluate the model\n",
    "mse = mean_squared_error(y_test, y_pred)\n",
    "r2 = r2_score(y_test, y_pred)\n",
    "\n",
    "print(f\"Mean squared error: {mse:.2f}\")\n",
    "print(f\"Mean absolute error: {np.sqrt(mse):.2f}\")\n",
    "print(f\"R-squared score: {r2:.2f}\")\n",
    "\n",
    "# Step 9: Example of using the model for prediction\n",
    "new_data = pd.DataFrame({\n",
    "    'Age': [27, 27, 27],\n",
    "    'Gender': ['Male', 'Male', 'Male'],\n",
    "    'Education Level': [\"High School\", \"Bachelor's\", \"Master's\"],\n",
    "    'Job Title': ['Software Engineer', 'Software Engineer', 'Software Engineer'],\n",
    "    'Years of Experience': [7, 7, 7]\n",
    "})\n",
    "\n",
    "predicted_salary = model.predict(new_data)\n",
    "for i, salary in enumerate(predicted_salary):\n",
    "    print(f\"Person {i+1} predicted salary: ${salary:.2f}\")"
   ],
   "outputs": [
    {
     "name": "stdout",
     "output_type": "stream",
     "text": [
      "Mean squared error: 646118680.42\n",
      "Mean absolute error: 25418.86\n",
      "R-squared score: 0.75\n",
      "Person 1 predicted salary: $89777.25\n",
      "Person 2 predicted salary: $121727.44\n",
      "Person 3 predicted salary: $125961.04\n"
     ]
    }
   ],
   "execution_count": 21
  }
 ],
 "metadata": {
  "kernelspec": {
   "display_name": "Python 3",
   "language": "python",
   "name": "python3"
  },
  "language_info": {
   "codemirror_mode": {
    "name": "ipython",
    "version": 3
   },
   "file_extension": ".py",
   "mimetype": "text/x-python",
   "name": "python",
   "nbconvert_exporter": "python",
   "pygments_lexer": "ipython3",
   "version": "3.11.9"
  }
 },
 "nbformat": 4,
 "nbformat_minor": 2
}
